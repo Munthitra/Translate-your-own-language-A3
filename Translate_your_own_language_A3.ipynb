{
  "cells": [
    {
      "cell_type": "code",
      "execution_count": 1,
      "metadata": {
        "colab": {
          "base_uri": "https://localhost:8080/"
        },
        "id": "Kb5wHgux51nO",
        "outputId": "bed49098-28d2-4787-c6a0-c1c6d0addce4"
      },
      "outputs": [
        {
          "name": "stdout",
          "output_type": "stream",
          "text": [
            "Collecting datasets\n",
            "  Downloading datasets-2.16.1-py3-none-any.whl (507 kB)\n",
            "\u001b[2K     \u001b[90m━━━━━━━━━━━━━━━━━━━━━━━━━━━━━━━━━━━━━━━━\u001b[0m \u001b[32m507.1/507.1 kB\u001b[0m \u001b[31m8.2 MB/s\u001b[0m eta \u001b[36m0:00:00\u001b[0m\n",
            "\u001b[?25hRequirement already satisfied: filelock in /usr/local/lib/python3.10/dist-packages (from datasets) (3.13.1)\n",
            "Requirement already satisfied: numpy>=1.17 in /usr/local/lib/python3.10/dist-packages (from datasets) (1.23.5)\n",
            "Requirement already satisfied: pyarrow>=8.0.0 in /usr/local/lib/python3.10/dist-packages (from datasets) (10.0.1)\n",
            "Requirement already satisfied: pyarrow-hotfix in /usr/local/lib/python3.10/dist-packages (from datasets) (0.6)\n",
            "Collecting dill<0.3.8,>=0.3.0 (from datasets)\n",
            "  Downloading dill-0.3.7-py3-none-any.whl (115 kB)\n",
            "\u001b[2K     \u001b[90m━━━━━━━━━━━━━━━━━━━━━━━━━━━━━━━━━━━━━━━━\u001b[0m \u001b[32m115.3/115.3 kB\u001b[0m \u001b[31m11.3 MB/s\u001b[0m eta \u001b[36m0:00:00\u001b[0m\n",
            "\u001b[?25hRequirement already satisfied: pandas in /usr/local/lib/python3.10/dist-packages (from datasets) (1.5.3)\n",
            "Requirement already satisfied: requests>=2.19.0 in /usr/local/lib/python3.10/dist-packages (from datasets) (2.31.0)\n",
            "Requirement already satisfied: tqdm>=4.62.1 in /usr/local/lib/python3.10/dist-packages (from datasets) (4.66.1)\n",
            "Requirement already satisfied: xxhash in /usr/local/lib/python3.10/dist-packages (from datasets) (3.4.1)\n",
            "Collecting multiprocess (from datasets)\n",
            "  Downloading multiprocess-0.70.16-py310-none-any.whl (134 kB)\n",
            "\u001b[2K     \u001b[90m━━━━━━━━━━━━━━━━━━━━━━━━━━━━━━━━━━━━━━━━\u001b[0m \u001b[32m134.8/134.8 kB\u001b[0m \u001b[31m11.7 MB/s\u001b[0m eta \u001b[36m0:00:00\u001b[0m\n",
            "\u001b[?25hRequirement already satisfied: fsspec[http]<=2023.10.0,>=2023.1.0 in /usr/local/lib/python3.10/dist-packages (from datasets) (2023.6.0)\n",
            "Requirement already satisfied: aiohttp in /usr/local/lib/python3.10/dist-packages (from datasets) (3.9.3)\n",
            "Requirement already satisfied: huggingface-hub>=0.19.4 in /usr/local/lib/python3.10/dist-packages (from datasets) (0.20.3)\n",
            "Requirement already satisfied: packaging in /usr/local/lib/python3.10/dist-packages (from datasets) (23.2)\n",
            "Requirement already satisfied: pyyaml>=5.1 in /usr/local/lib/python3.10/dist-packages (from datasets) (6.0.1)\n",
            "Requirement already satisfied: aiosignal>=1.1.2 in /usr/local/lib/python3.10/dist-packages (from aiohttp->datasets) (1.3.1)\n",
            "Requirement already satisfied: attrs>=17.3.0 in /usr/local/lib/python3.10/dist-packages (from aiohttp->datasets) (23.2.0)\n",
            "Requirement already satisfied: frozenlist>=1.1.1 in /usr/local/lib/python3.10/dist-packages (from aiohttp->datasets) (1.4.1)\n",
            "Requirement already satisfied: multidict<7.0,>=4.5 in /usr/local/lib/python3.10/dist-packages (from aiohttp->datasets) (6.0.5)\n",
            "Requirement already satisfied: yarl<2.0,>=1.0 in /usr/local/lib/python3.10/dist-packages (from aiohttp->datasets) (1.9.4)\n",
            "Requirement already satisfied: async-timeout<5.0,>=4.0 in /usr/local/lib/python3.10/dist-packages (from aiohttp->datasets) (4.0.3)\n",
            "Requirement already satisfied: typing-extensions>=3.7.4.3 in /usr/local/lib/python3.10/dist-packages (from huggingface-hub>=0.19.4->datasets) (4.9.0)\n",
            "Requirement already satisfied: charset-normalizer<4,>=2 in /usr/local/lib/python3.10/dist-packages (from requests>=2.19.0->datasets) (3.3.2)\n",
            "Requirement already satisfied: idna<4,>=2.5 in /usr/local/lib/python3.10/dist-packages (from requests>=2.19.0->datasets) (3.6)\n",
            "Requirement already satisfied: urllib3<3,>=1.21.1 in /usr/local/lib/python3.10/dist-packages (from requests>=2.19.0->datasets) (2.0.7)\n",
            "Requirement already satisfied: certifi>=2017.4.17 in /usr/local/lib/python3.10/dist-packages (from requests>=2.19.0->datasets) (2024.2.2)\n",
            "INFO: pip is looking at multiple versions of multiprocess to determine which version is compatible with other requirements. This could take a while.\n",
            "  Downloading multiprocess-0.70.15-py310-none-any.whl (134 kB)\n",
            "\u001b[2K     \u001b[90m━━━━━━━━━━━━━━━━━━━━━━━━━━━━━━━━━━━━━━━━\u001b[0m \u001b[32m134.8/134.8 kB\u001b[0m \u001b[31m17.4 MB/s\u001b[0m eta \u001b[36m0:00:00\u001b[0m\n",
            "\u001b[?25hRequirement already satisfied: python-dateutil>=2.8.1 in /usr/local/lib/python3.10/dist-packages (from pandas->datasets) (2.8.2)\n",
            "Requirement already satisfied: pytz>=2020.1 in /usr/local/lib/python3.10/dist-packages (from pandas->datasets) (2023.4)\n",
            "Requirement already satisfied: six>=1.5 in /usr/local/lib/python3.10/dist-packages (from python-dateutil>=2.8.1->pandas->datasets) (1.16.0)\n",
            "Installing collected packages: dill, multiprocess, datasets\n",
            "Successfully installed datasets-2.16.1 dill-0.3.7 multiprocess-0.70.15\n",
            "Collecting pythainlp\n",
            "  Downloading pythainlp-4.0.2-py3-none-any.whl (13.4 MB)\n",
            "\u001b[2K     \u001b[90m━━━━━━━━━━━━━━━━━━━━━━━━━━━━━━━━━━━━━━━━\u001b[0m \u001b[32m13.4/13.4 MB\u001b[0m \u001b[31m41.0 MB/s\u001b[0m eta \u001b[36m0:00:00\u001b[0m\n",
            "\u001b[?25hRequirement already satisfied: requests>=2.22.0 in /usr/local/lib/python3.10/dist-packages (from pythainlp) (2.31.0)\n",
            "Requirement already satisfied: charset-normalizer<4,>=2 in /usr/local/lib/python3.10/dist-packages (from requests>=2.22.0->pythainlp) (3.3.2)\n",
            "Requirement already satisfied: idna<4,>=2.5 in /usr/local/lib/python3.10/dist-packages (from requests>=2.22.0->pythainlp) (3.6)\n",
            "Requirement already satisfied: urllib3<3,>=1.21.1 in /usr/local/lib/python3.10/dist-packages (from requests>=2.22.0->pythainlp) (2.0.7)\n",
            "Requirement already satisfied: certifi>=2017.4.17 in /usr/local/lib/python3.10/dist-packages (from requests>=2.22.0->pythainlp) (2024.2.2)\n",
            "Installing collected packages: pythainlp\n",
            "Successfully installed pythainlp-4.0.2\n",
            "Requirement already satisfied: spacy in /usr/local/lib/python3.10/dist-packages (3.7.2)\n",
            "Requirement already satisfied: spacy-legacy<3.1.0,>=3.0.11 in /usr/local/lib/python3.10/dist-packages (from spacy) (3.0.12)\n",
            "Requirement already satisfied: spacy-loggers<2.0.0,>=1.0.0 in /usr/local/lib/python3.10/dist-packages (from spacy) (1.0.5)\n",
            "Requirement already satisfied: murmurhash<1.1.0,>=0.28.0 in /usr/local/lib/python3.10/dist-packages (from spacy) (1.0.10)\n",
            "Requirement already satisfied: cymem<2.1.0,>=2.0.2 in /usr/local/lib/python3.10/dist-packages (from spacy) (2.0.8)\n",
            "Requirement already satisfied: preshed<3.1.0,>=3.0.2 in /usr/local/lib/python3.10/dist-packages (from spacy) (3.0.9)\n",
            "Requirement already satisfied: thinc<8.3.0,>=8.1.8 in /usr/local/lib/python3.10/dist-packages (from spacy) (8.2.2)\n",
            "Requirement already satisfied: wasabi<1.2.0,>=0.9.1 in /usr/local/lib/python3.10/dist-packages (from spacy) (1.1.2)\n",
            "Requirement already satisfied: srsly<3.0.0,>=2.4.3 in /usr/local/lib/python3.10/dist-packages (from spacy) (2.4.8)\n",
            "Requirement already satisfied: catalogue<2.1.0,>=2.0.6 in /usr/local/lib/python3.10/dist-packages (from spacy) (2.0.10)\n",
            "Requirement already satisfied: weasel<0.4.0,>=0.1.0 in /usr/local/lib/python3.10/dist-packages (from spacy) (0.3.4)\n",
            "Requirement already satisfied: typer<0.10.0,>=0.3.0 in /usr/local/lib/python3.10/dist-packages (from spacy) (0.9.0)\n",
            "Requirement already satisfied: smart-open<7.0.0,>=5.2.1 in /usr/local/lib/python3.10/dist-packages (from spacy) (6.4.0)\n",
            "Requirement already satisfied: tqdm<5.0.0,>=4.38.0 in /usr/local/lib/python3.10/dist-packages (from spacy) (4.66.1)\n",
            "Requirement already satisfied: requests<3.0.0,>=2.13.0 in /usr/local/lib/python3.10/dist-packages (from spacy) (2.31.0)\n",
            "Requirement already satisfied: pydantic!=1.8,!=1.8.1,<3.0.0,>=1.7.4 in /usr/local/lib/python3.10/dist-packages (from spacy) (2.6.0)\n",
            "Requirement already satisfied: jinja2 in /usr/local/lib/python3.10/dist-packages (from spacy) (3.1.3)\n",
            "Requirement already satisfied: setuptools in /usr/local/lib/python3.10/dist-packages (from spacy) (67.7.2)\n",
            "Requirement already satisfied: packaging>=20.0 in /usr/local/lib/python3.10/dist-packages (from spacy) (23.2)\n",
            "Requirement already satisfied: langcodes<4.0.0,>=3.2.0 in /usr/local/lib/python3.10/dist-packages (from spacy) (3.3.0)\n",
            "Requirement already satisfied: numpy>=1.19.0 in /usr/local/lib/python3.10/dist-packages (from spacy) (1.23.5)\n",
            "Requirement already satisfied: annotated-types>=0.4.0 in /usr/local/lib/python3.10/dist-packages (from pydantic!=1.8,!=1.8.1,<3.0.0,>=1.7.4->spacy) (0.6.0)\n",
            "Requirement already satisfied: pydantic-core==2.16.1 in /usr/local/lib/python3.10/dist-packages (from pydantic!=1.8,!=1.8.1,<3.0.0,>=1.7.4->spacy) (2.16.1)\n",
            "Requirement already satisfied: typing-extensions>=4.6.1 in /usr/local/lib/python3.10/dist-packages (from pydantic!=1.8,!=1.8.1,<3.0.0,>=1.7.4->spacy) (4.9.0)\n",
            "Requirement already satisfied: charset-normalizer<4,>=2 in /usr/local/lib/python3.10/dist-packages (from requests<3.0.0,>=2.13.0->spacy) (3.3.2)\n",
            "Requirement already satisfied: idna<4,>=2.5 in /usr/local/lib/python3.10/dist-packages (from requests<3.0.0,>=2.13.0->spacy) (3.6)\n",
            "Requirement already satisfied: urllib3<3,>=1.21.1 in /usr/local/lib/python3.10/dist-packages (from requests<3.0.0,>=2.13.0->spacy) (2.0.7)\n",
            "Requirement already satisfied: certifi>=2017.4.17 in /usr/local/lib/python3.10/dist-packages (from requests<3.0.0,>=2.13.0->spacy) (2024.2.2)\n",
            "Requirement already satisfied: blis<0.8.0,>=0.7.8 in /usr/local/lib/python3.10/dist-packages (from thinc<8.3.0,>=8.1.8->spacy) (0.7.11)\n",
            "Requirement already satisfied: confection<1.0.0,>=0.0.1 in /usr/local/lib/python3.10/dist-packages (from thinc<8.3.0,>=8.1.8->spacy) (0.1.4)\n",
            "Requirement already satisfied: click<9.0.0,>=7.1.1 in /usr/local/lib/python3.10/dist-packages (from typer<0.10.0,>=0.3.0->spacy) (8.1.7)\n",
            "Requirement already satisfied: cloudpathlib<0.17.0,>=0.7.0 in /usr/local/lib/python3.10/dist-packages (from weasel<0.4.0,>=0.1.0->spacy) (0.16.0)\n",
            "Requirement already satisfied: MarkupSafe>=2.0 in /usr/local/lib/python3.10/dist-packages (from jinja2->spacy) (2.1.5)\n"
          ]
        }
      ],
      "source": [
        "!pip install datasets\n",
        "!pip install pythainlp\n",
        "!pip install spacy"
      ]
    },
    {
      "cell_type": "code",
      "execution_count": 2,
      "metadata": {
        "colab": {
          "base_uri": "https://localhost:8080/"
        },
        "id": "jZfjJPTMytev",
        "outputId": "c32205ac-12a8-49f7-9b25-e2d6cf913528"
      },
      "outputs": [
        {
          "name": "stdout",
          "output_type": "stream",
          "text": [
            "Mounted at /content/drive\n"
          ]
        }
      ],
      "source": [
        "from google.colab import drive\n",
        "drive.mount('/content/drive')"
      ]
    },
    {
      "cell_type": "markdown",
      "metadata": {
        "id": "pgxVWtKBGAzS"
      },
      "source": [
        "# Machine Translation + Transformer"
      ]
    },
    {
      "cell_type": "code",
      "execution_count": 3,
      "metadata": {
        "colab": {
          "base_uri": "https://localhost:8080/"
        },
        "id": "cSCid2W2GAzU",
        "outputId": "e976e41f-30af-48eb-b1bd-204a8f456ab1"
      },
      "outputs": [
        {
          "name": "stdout",
          "output_type": "stream",
          "text": [
            "cuda\n"
          ]
        }
      ],
      "source": [
        "import torch, torchdata, torchtext\n",
        "from torch import nn\n",
        "import torch.nn.functional as F\n",
        "\n",
        "import random, math, time\n",
        "\n",
        "device = 'cuda' if torch.cuda.is_available() else 'cpu'\n",
        "print(device)\n",
        "\n",
        "#make our work comparable if restarted the kernel\n",
        "SEED = 1234\n",
        "torch.manual_seed(SEED)\n",
        "torch.backends.cudnn.deterministic = True"
      ]
    },
    {
      "cell_type": "code",
      "execution_count": 4,
      "metadata": {
        "id": "B5o8gFUlGAzV"
      },
      "outputs": [],
      "source": [
        "# !pip install -U portalocker --user"
      ]
    },
    {
      "cell_type": "code",
      "execution_count": 5,
      "metadata": {
        "id": "IjfrA0waGAzW"
      },
      "outputs": [],
      "source": [
        "# torch.cuda.get_device_name(0)"
      ]
    },
    {
      "cell_type": "code",
      "execution_count": 6,
      "metadata": {
        "colab": {
          "base_uri": "https://localhost:8080/",
          "height": 36
        },
        "id": "u8xkSMXYGAzW",
        "outputId": "ed0cf963-addf-4ac3-cec5-24570958565b"
      },
      "outputs": [
        {
          "data": {
            "application/vnd.google.colaboratory.intrinsic+json": {
              "type": "string"
            },
            "text/plain": [
              "'2.1.0+cu121'"
            ]
          },
          "execution_count": 6,
          "metadata": {},
          "output_type": "execute_result"
        }
      ],
      "source": [
        "torch.__version__"
      ]
    },
    {
      "cell_type": "code",
      "execution_count": 7,
      "metadata": {
        "colab": {
          "base_uri": "https://localhost:8080/",
          "height": 36
        },
        "id": "-MhXeNfjGAzW",
        "outputId": "ebe009db-23b6-4b26-f2c8-14a897e8b413"
      },
      "outputs": [
        {
          "data": {
            "application/vnd.google.colaboratory.intrinsic+json": {
              "type": "string"
            },
            "text/plain": [
              "'0.16.0+cpu'"
            ]
          },
          "execution_count": 7,
          "metadata": {},
          "output_type": "execute_result"
        }
      ],
      "source": [
        "torchtext.__version__"
      ]
    },
    {
      "cell_type": "markdown",
      "metadata": {
        "id": "-O41qi2-GAzX"
      },
      "source": [
        "## 1. ETL: Loading the dataset"
      ]
    },
    {
      "cell_type": "code",
      "execution_count": 8,
      "metadata": {
        "id": "tkv6jkRJGAzX"
      },
      "outputs": [],
      "source": [
        "# from torchtext.datasets import Multi30k\n",
        "\n",
        "# SRC_LANGUAGE = 'en'\n",
        "# TRG_LANGUAGE = 'de'\n",
        "\n",
        "# train = Multi30k(split=('train'), language_pair=(SRC_LANGUAGE, TRG_LANGUAGE))"
      ]
    },
    {
      "cell_type": "code",
      "execution_count": 9,
      "metadata": {
        "id": "dnwQLrzXGAzX"
      },
      "outputs": [],
      "source": [
        "#so this is a datapipe object; very similar to pytorch dataset version 2 which is better\n",
        "# train"
      ]
    },
    {
      "cell_type": "code",
      "execution_count": 9,
      "metadata": {
        "id": "sN3-yYEgGAzY"
      },
      "outputs": [],
      "source": []
    },
    {
      "cell_type": "code",
      "execution_count": 10,
      "metadata": {
        "colab": {
          "base_uri": "https://localhost:8080/",
          "height": 576,
          "referenced_widgets": [
            "e5baac0a42cb46088aed6657328ce3d8",
            "ddc39ae0b96a429db423e70e88f5476d",
            "a7fbbcaa47fd4298a8295c94c85d32f6",
            "1027317300eb4206b641e7fdec134eae",
            "6e9a544a5ec24f919a88b2be9591b43b",
            "5fcae91654cf4270b6ebc80d8be67c61",
            "486d53ca29934720bc525bf57e2fec5e",
            "7c805063c3ea48e59021138c56c3136f",
            "fef09160773043268feb8cfd503976a3",
            "2501c72f7c41462c8ca514db92b01a82",
            "759a9117d0964451b0a071d69b3505c9",
            "04574a7f832f4e219e160e0b766c073c",
            "fab2903422f547bb959b3914646d09e2",
            "4732f714f5754d1c8a4d48381ad08478",
            "a5e4e3deae554d799d985ff63f3e710e",
            "3c9a04f40e974545b4d1715db95ca9db",
            "7f54e7d044d644cf8ee8982f5b035639",
            "e4e3151557104c87bda41ef0b71113fa",
            "18df117699984f01bc8a4abd5b3ef970",
            "820b4e99ba7a4b8b9ebadda1b32667c5",
            "1250b89c8d8b48ada4ba531ba34442cc",
            "5db9f96c9c1e47738ef8095c2d2480b1",
            "2e083184458b4da1842c8ac8b81e55c4",
            "b89599be63a84d4da88a8c4c634e6150",
            "6a8db0f5162448799ac747602d9a4c0c",
            "f593b236a46a4453b9ff4b4d077084e3",
            "a5e10eb880e04b19b38983062ddb562f",
            "1b5f04883e5343dfa81a42b76199316e",
            "f32d82e6d4dd4469af477e160208274a",
            "91ffab51fd2b4f9b858d6b77fae8123d",
            "37333a312f744206970aae7080981733",
            "4e8bb82809614fc1bc3b0bef01d3b80d",
            "e47040e654874e98b4b40a59bc4f05ca",
            "b4797da275a14b2a8b8676d6b2133cea",
            "551f3ba90e1f429ab710a44a10015619",
            "c729d19b04574199bd97a07000db4a83",
            "367c6e8b352f49a0bd5eeb9875a4a9a5",
            "394b93a3adfc41fbb1ed661364f8b020",
            "328dd111c8754bf28e9e2e765e054b24",
            "978295de356744579fc1f58962d9b89c",
            "7ca61525cfbc451f8526fcd4f6601ab0",
            "30af2adc72634bf798c7d5f42b14d1f9",
            "cdd6970f3bc047159ff4caaed6668539",
            "77560fe53a3c46aa9661761491de3410",
            "e8637ad86a844d1fa258fb0c2545f55a",
            "3dcca18389444f369665c796329046d6",
            "1b2cf5674d574411867429efc06fa3ce",
            "feb789e211334d0b906fe82d839ab346",
            "b63ece7d081243c099b6d02f733a6b6a",
            "41406796ad7b478da6ad7f4752b648ea",
            "61e525baed774a2cbce62299f09d3ad6",
            "01ed6f7ee6ba4662bdf76f4fdb65ad95",
            "96df13b4e5e04c7a8fd86417f57bfe3b",
            "d6c4ea2b85f745e1a768218f992c6313",
            "5383f7fd1d2e4010ad17929048e3d030",
            "fc8a8f06abff4f679f823ba427cacd07",
            "6070020537c94d47a8df6cd15133d608",
            "9feb9c09671441bf9da2222173ee7dfa",
            "5f0015f5be1642b0b4f51c35def814cf",
            "640e2c17fb53481ab9b3669f4e17464e",
            "f63cbad2293746f4a5948f1f99ce346a",
            "2489e0a179504dc89ce61870d84b9dec",
            "6d5c5b4aad424adbb135ab3bbdbb42e6",
            "f03f296095284460b615ebb5c7ebc1c3",
            "788352c3ce984b48856fed1e502bb6a4",
            "ecab627244024e94a585046149070e89"
          ]
        },
        "id": "GajEigDLGAzY",
        "outputId": "ff6a577d-36f8-4ca3-d750-d6791a32ed47"
      },
      "outputs": [
        {
          "name": "stderr",
          "output_type": "stream",
          "text": [
            "/usr/local/lib/python3.10/dist-packages/huggingface_hub/utils/_token.py:88: UserWarning: \n",
            "The secret `HF_TOKEN` does not exist in your Colab secrets.\n",
            "To authenticate with the Hugging Face Hub, create a token in your settings tab (https://huggingface.co/settings/tokens), set it as secret in your Google Colab and restart your session.\n",
            "You will be able to reuse this secret in all of your notebooks.\n",
            "Please note that authentication is recommended but still optional to access public models or datasets.\n",
            "  warnings.warn(\n"
          ]
        },
        {
          "data": {
            "application/vnd.jupyter.widget-view+json": {
              "model_id": "e5baac0a42cb46088aed6657328ce3d8",
              "version_major": 2,
              "version_minor": 0
            },
            "text/plain": [
              "Downloading data:   0%|          | 0.00/152M [00:00<?, ?B/s]"
            ]
          },
          "metadata": {},
          "output_type": "display_data"
        },
        {
          "data": {
            "application/vnd.jupyter.widget-view+json": {
              "model_id": "04574a7f832f4e219e160e0b766c073c",
              "version_major": 2,
              "version_minor": 0
            },
            "text/plain": [
              "Downloading data:   0%|          | 0.00/26.6M [00:00<?, ?B/s]"
            ]
          },
          "metadata": {},
          "output_type": "display_data"
        },
        {
          "data": {
            "application/vnd.jupyter.widget-view+json": {
              "model_id": "2e083184458b4da1842c8ac8b81e55c4",
              "version_major": 2,
              "version_minor": 0
            },
            "text/plain": [
              "Downloading data:   0%|          | 0.00/26.5M [00:00<?, ?B/s]"
            ]
          },
          "metadata": {},
          "output_type": "display_data"
        },
        {
          "data": {
            "application/vnd.jupyter.widget-view+json": {
              "model_id": "b4797da275a14b2a8b8676d6b2133cea",
              "version_major": 2,
              "version_minor": 0
            },
            "text/plain": [
              "Generating train split:   0%|          | 0/801402 [00:00<?, ? examples/s]"
            ]
          },
          "metadata": {},
          "output_type": "display_data"
        },
        {
          "data": {
            "application/vnd.jupyter.widget-view+json": {
              "model_id": "e8637ad86a844d1fa258fb0c2545f55a",
              "version_major": 2,
              "version_minor": 0
            },
            "text/plain": [
              "Generating validation split:   0%|          | 0/100173 [00:00<?, ? examples/s]"
            ]
          },
          "metadata": {},
          "output_type": "display_data"
        },
        {
          "data": {
            "application/vnd.jupyter.widget-view+json": {
              "model_id": "fc8a8f06abff4f679f823ba427cacd07",
              "version_major": 2,
              "version_minor": 0
            },
            "text/plain": [
              "Generating test split:   0%|          | 0/100177 [00:00<?, ? examples/s]"
            ]
          },
          "metadata": {},
          "output_type": "display_data"
        },
        {
          "data": {
            "text/plain": [
              "DatasetDict({\n",
              "    train: Dataset({\n",
              "        features: ['translation', 'subdataset'],\n",
              "        num_rows: 801402\n",
              "    })\n",
              "    validation: Dataset({\n",
              "        features: ['translation', 'subdataset'],\n",
              "        num_rows: 100173\n",
              "    })\n",
              "    test: Dataset({\n",
              "        features: ['translation', 'subdataset'],\n",
              "        num_rows: 100177\n",
              "    })\n",
              "})"
            ]
          },
          "execution_count": 10,
          "metadata": {},
          "output_type": "execute_result"
        }
      ],
      "source": [
        "import datasets\n",
        "dataset = datasets.load_dataset('scb_mt_enth_2020', 'enth')\n",
        "dataset"
      ]
    },
    {
      "cell_type": "markdown",
      "metadata": {
        "id": "HtgvMM3-GAzZ"
      },
      "source": [
        "## 2. Preprocessing\n",
        "\n",
        "### Tokenizing\n",
        "\n",
        "**Note**: the models must first be downloaded using the following on the command line:\n",
        "```\n",
        "python3 -m spacy download en_core_web_sm\n",
        "python3 -m spacy download de_core_news_sm\n",
        "```\n",
        "\n",
        "First, since we have two languages, let's create some constants to represent that.  Also, let's create two dicts: one for holding our tokenizers and one for holding all the vocabs with assigned numbers for each unique word"
      ]
    },
    {
      "cell_type": "code",
      "execution_count": 11,
      "metadata": {
        "colab": {
          "base_uri": "https://localhost:8080/",
          "height": 113,
          "referenced_widgets": [
            "ef1207ed7f5341acb039d44e7ffd3ec9",
            "ca7466f98d424432afbae5a1816dac9a",
            "7d0c9ed3d1cd4ea5bc5e06203619898a",
            "43130dd1562f4201be07109970e829e2",
            "546eb83b78db40a48d206457df369f11",
            "73bfbf24abfa4112bb6dab67659b1413",
            "3c14dccb5f5546de9f5435b7db33f28b",
            "2847d00b4368405aacf2dd7cbb541528",
            "9044f4fa5e2c415cb50c6a55cd093fd8",
            "bb3ecf2ae7374440a01a8f1817976651",
            "6efd8a99a31446ca879f0cd200d1ef0b",
            "b37144eecd1049f9adcbf161574d6d00",
            "ec4e4e9442774ab2aeaaa8ba9da203b3",
            "314e2e5ab30c4cdda8d7bd79c7f43c83",
            "889b2ecdad4e40c098d8fad6309b1a5e",
            "415bbe3551ca483eabe3fab05458c154",
            "a00cef3baf404172aaa8a16371154231",
            "b35a05db520e46669303d86d416ae2f9",
            "0dc09d8dacf84058b5a125da44bf916f",
            "593814108c3d4286b81839e43cff13fb",
            "a508cb490464406fb02d5323c21d9ba3",
            "6a4615f4f5d84867952d4a6cc76b2fc6",
            "94e390ee62b1485d85ed9d442006fbca",
            "b8869524ce154399a83252e358056de7",
            "4d080e05336e44cea4e26a119492867b",
            "ab12dc0c13474f4dac2f782fcee49bce",
            "a67432ff40d44606991930761648b021",
            "ab34e41392aa40d196c27cf9edd6ff09",
            "80a91fe3f91e45059bcc6c5c04d56913",
            "bd08eade14604b7083bdaaf378175a4f",
            "877900b42ad6433eb8732614fe3757c8",
            "c1aa19c2d8ec48b6b5cd3992c5f4a3c2",
            "85ddc1c3605047de98e353f56258b35e"
          ]
        },
        "id": "2mI4hZ46GAzZ",
        "outputId": "522e0c6e-0948-4846-82fd-28c40472cdb4"
      },
      "outputs": [
        {
          "data": {
            "application/vnd.jupyter.widget-view+json": {
              "model_id": "ef1207ed7f5341acb039d44e7ffd3ec9",
              "version_major": 2,
              "version_minor": 0
            },
            "text/plain": [
              "Filter:   0%|          | 0/801402 [00:00<?, ? examples/s]"
            ]
          },
          "metadata": {},
          "output_type": "display_data"
        },
        {
          "data": {
            "application/vnd.jupyter.widget-view+json": {
              "model_id": "b37144eecd1049f9adcbf161574d6d00",
              "version_major": 2,
              "version_minor": 0
            },
            "text/plain": [
              "Filter:   0%|          | 0/100177 [00:00<?, ? examples/s]"
            ]
          },
          "metadata": {},
          "output_type": "display_data"
        },
        {
          "data": {
            "application/vnd.jupyter.widget-view+json": {
              "model_id": "94e390ee62b1485d85ed9d442006fbca",
              "version_major": 2,
              "version_minor": 0
            },
            "text/plain": [
              "Filter:   0%|          | 0/100173 [00:00<?, ? examples/s]"
            ]
          },
          "metadata": {},
          "output_type": "display_data"
        }
      ],
      "source": [
        "from numpy.random import default_rng\n",
        "\n",
        "for subset in ['train', 'test', 'validation']:\n",
        "  rng = default_rng(seed=SEED)\n",
        "  select_idx = rng.choice(len(dataset[subset]), size=10000, replace=False)\n",
        "  dataset[subset] = dataset[subset].filter(lambda example, idx: idx in select_idx, with_indices=True)"
      ]
    },
    {
      "cell_type": "code",
      "execution_count": 12,
      "metadata": {
        "colab": {
          "base_uri": "https://localhost:8080/",
          "height": 209,
          "referenced_widgets": [
            "b10569795a0a44bfbbc76ac749d5b5a6",
            "7924009cb68143fa891bf37b239f2a7e",
            "3dd1e0dd3a7640a1828acb9c991bb2a9",
            "a7b07cf0e560421391d76f416a04e840",
            "543c6b38dfab46419028d97431d4f027",
            "edd4525a1ae34a6fb83ab853c7d1661b",
            "13a615f83bb443778a6686a7a9e005e2",
            "7bdf3e7478ab4ab7a778fab5b308fd36",
            "dc266b914b554db2880509d2fcdcc9a6",
            "9dd469e48e7a4a57a14a794b9d74dcb3",
            "d6dd327f12f9499392781b0c2b500188",
            "4354d1a0d9c141d1801845aad4bdadcf",
            "ed28a29776104045b21a2842bbfc9aac",
            "7e27318919f748949963d419716c4d22",
            "3dccf5a9008449fdb6c535e6ac056665",
            "992f38cea1614d26b1535cf3c11c210f",
            "29e1c8269f9344e18c54422bb8ab0531",
            "6b31cb623d204ce1b2ce35fdd50f48e0",
            "dcb5ad035ef04e47b507bbebf03d6638",
            "b19d3cb3463543c1b4b3186f838bcc60",
            "8f1545e424864912aa366754277b0aff",
            "56a446ad6f1348bf8e612bc3bdf1768d",
            "625cfa706a0a4c748b8355ab0564fd03",
            "134c8b82947d4c11b7d9ae2d4fe54c3d",
            "95cd4de74b804b92abcee99e0ef594db",
            "aa9b130fb94c48ef82d4411ba638d299",
            "c8fbd7873c2c4dca96750813ed9cdd30",
            "a5e3e6fcfde84cfea6adfb86881faaf0",
            "7833a7e3912541aa9d531e7c4614f9a8",
            "60bcda94c1c44e3fb0c6af2c1cf77f2f",
            "009bb54e8fde496f91a2531af5598f09",
            "973628ea201447a7b254212f0f953689",
            "d6b2bd2607564fcba95afded501b7d9a",
            "416e51aa26b04f1a97ee8d17949e8823",
            "1c4f4a32d42a4884bdbd98014de7320c",
            "fac588a418a2485487d8a4f56ff28f36",
            "125b7baaebd341b6b8625fa50ba312a6",
            "788110744ec44e3a99d001244cd4cc3f",
            "264ace4844704658916c7de77bfbaaf6",
            "aff486e71e2a413ca6c890827a72d2cc",
            "3a4891327b3d49479ef70bf3924f87f2",
            "59d263b54f67449489018c701d90611a",
            "df73cb283cf540dfb88797bc77d55109",
            "6120cf27260d47bc912892395c7b68de",
            "ec11dd2a96dd4746ac841d2fc8c03edc",
            "efe39097cc644894b8b7bb411396ba2b",
            "e569903cd5d24192bd61cd46d407ed17",
            "d938601390824dfe9a2369bb0116e1db",
            "a789d98cd99347008a86d7a0aa4e36c0",
            "fb5629d282d64f7a8dcc5b8ff33e9725",
            "5206d064c1b6498387408ddb46bb00ec",
            "a1dc751c336044fa8bd6c69f87ffa81d",
            "f25a4da27f094b96a1a80523ddfa4767",
            "9979316ff2734b9a82ddc8a34d145019",
            "4ea6e51013954eca9841f6fd2de1fc76",
            "15154e1fe5244186b0008d7fd158b092",
            "8a89283c35734833be9968c349c0a30c",
            "5a160b70964d40ce8645d358529be295",
            "7dd026b47e8a4d41bbd2d2d5d48648e8",
            "c4aef137ad5c4ae5b9de7f3f29ce0edc",
            "368119c26ac1481db47d9f2309e7d70b",
            "72c19d24164247d792fb11c32876bcfc",
            "08bdb3fc9d3345b29024e5d9117bb3ce",
            "b9b8cd0dec914ff182345ea83cfe6ae8",
            "8c6eeabd9cc44dd9896c865a9dafc394",
            "e5cfce3f78d343a59457129633a4a525"
          ]
        },
        "id": "z0hHZG1TGAzZ",
        "outputId": "5e32bfec-6c30-4e7d-a962-9e5c1b3cd495"
      },
      "outputs": [
        {
          "data": {
            "application/vnd.jupyter.widget-view+json": {
              "model_id": "b10569795a0a44bfbbc76ac749d5b5a6",
              "version_major": 2,
              "version_minor": 0
            },
            "text/plain": [
              "Map:   0%|          | 0/5000 [00:00<?, ? examples/s]"
            ]
          },
          "metadata": {},
          "output_type": "display_data"
        },
        {
          "data": {
            "application/vnd.jupyter.widget-view+json": {
              "model_id": "4354d1a0d9c141d1801845aad4bdadcf",
              "version_major": 2,
              "version_minor": 0
            },
            "text/plain": [
              "Map:   0%|          | 0/5000 [00:00<?, ? examples/s]"
            ]
          },
          "metadata": {},
          "output_type": "display_data"
        },
        {
          "data": {
            "application/vnd.jupyter.widget-view+json": {
              "model_id": "625cfa706a0a4c748b8355ab0564fd03",
              "version_major": 2,
              "version_minor": 0
            },
            "text/plain": [
              "Map:   0%|          | 0/5000 [00:00<?, ? examples/s]"
            ]
          },
          "metadata": {},
          "output_type": "display_data"
        },
        {
          "data": {
            "application/vnd.jupyter.widget-view+json": {
              "model_id": "416e51aa26b04f1a97ee8d17949e8823",
              "version_major": 2,
              "version_minor": 0
            },
            "text/plain": [
              "Map:   0%|          | 0/5000 [00:00<?, ? examples/s]"
            ]
          },
          "metadata": {},
          "output_type": "display_data"
        },
        {
          "data": {
            "application/vnd.jupyter.widget-view+json": {
              "model_id": "ec11dd2a96dd4746ac841d2fc8c03edc",
              "version_major": 2,
              "version_minor": 0
            },
            "text/plain": [
              "Map:   0%|          | 0/5000 [00:00<?, ? examples/s]"
            ]
          },
          "metadata": {},
          "output_type": "display_data"
        },
        {
          "data": {
            "application/vnd.jupyter.widget-view+json": {
              "model_id": "15154e1fe5244186b0008d7fd158b092",
              "version_major": 2,
              "version_minor": 0
            },
            "text/plain": [
              "Map:   0%|          | 0/5000 [00:00<?, ? examples/s]"
            ]
          },
          "metadata": {},
          "output_type": "display_data"
        }
      ],
      "source": [
        "get_lang_col = lambda example, lang: {lang: example['translation'][lang]}\n",
        "dataset = dataset.map(get_lang_col, fn_kwargs = {'lang': \"th\"})\n",
        "dataset = dataset.map(get_lang_col, remove_columns =['translation'], fn_kwargs={'lang': \"en\"})"
      ]
    },
    {
      "cell_type": "code",
      "execution_count": 12,
      "metadata": {
        "id": "9HkB2oEFGAzZ"
      },
      "outputs": [],
      "source": []
    },
    {
      "cell_type": "code",
      "execution_count": 12,
      "metadata": {
        "id": "_PjSn3mwGAzZ"
      },
      "outputs": [],
      "source": []
    },
    {
      "cell_type": "code",
      "execution_count": 13,
      "metadata": {
        "colab": {
          "base_uri": "https://localhost:8080/"
        },
        "id": "zzr04JpGGAzZ",
        "outputId": "e36d3c1d-dd0a-49f4-bf1d-709acf0bdd4f"
      },
      "outputs": [
        {
          "name": "stdout",
          "output_type": "stream",
          "text": [
            "Collecting en-core-web-sm==3.7.1\n",
            "  Downloading https://github.com/explosion/spacy-models/releases/download/en_core_web_sm-3.7.1/en_core_web_sm-3.7.1-py3-none-any.whl (12.8 MB)\n",
            "\u001b[2K     \u001b[90m━━━━━━━━━━━━━━━━━━━━━━━━━━━━━━━━━━━━━━━━\u001b[0m \u001b[32m12.8/12.8 MB\u001b[0m \u001b[31m40.8 MB/s\u001b[0m eta \u001b[36m0:00:00\u001b[0m\n",
            "\u001b[?25hRequirement already satisfied: spacy<3.8.0,>=3.7.2 in /usr/local/lib/python3.10/dist-packages (from en-core-web-sm==3.7.1) (3.7.2)\n",
            "Requirement already satisfied: spacy-legacy<3.1.0,>=3.0.11 in /usr/local/lib/python3.10/dist-packages (from spacy<3.8.0,>=3.7.2->en-core-web-sm==3.7.1) (3.0.12)\n",
            "Requirement already satisfied: spacy-loggers<2.0.0,>=1.0.0 in /usr/local/lib/python3.10/dist-packages (from spacy<3.8.0,>=3.7.2->en-core-web-sm==3.7.1) (1.0.5)\n",
            "Requirement already satisfied: murmurhash<1.1.0,>=0.28.0 in /usr/local/lib/python3.10/dist-packages (from spacy<3.8.0,>=3.7.2->en-core-web-sm==3.7.1) (1.0.10)\n",
            "Requirement already satisfied: cymem<2.1.0,>=2.0.2 in /usr/local/lib/python3.10/dist-packages (from spacy<3.8.0,>=3.7.2->en-core-web-sm==3.7.1) (2.0.8)\n",
            "Requirement already satisfied: preshed<3.1.0,>=3.0.2 in /usr/local/lib/python3.10/dist-packages (from spacy<3.8.0,>=3.7.2->en-core-web-sm==3.7.1) (3.0.9)\n",
            "Requirement already satisfied: thinc<8.3.0,>=8.1.8 in /usr/local/lib/python3.10/dist-packages (from spacy<3.8.0,>=3.7.2->en-core-web-sm==3.7.1) (8.2.2)\n",
            "Requirement already satisfied: wasabi<1.2.0,>=0.9.1 in /usr/local/lib/python3.10/dist-packages (from spacy<3.8.0,>=3.7.2->en-core-web-sm==3.7.1) (1.1.2)\n",
            "Requirement already satisfied: srsly<3.0.0,>=2.4.3 in /usr/local/lib/python3.10/dist-packages (from spacy<3.8.0,>=3.7.2->en-core-web-sm==3.7.1) (2.4.8)\n",
            "Requirement already satisfied: catalogue<2.1.0,>=2.0.6 in /usr/local/lib/python3.10/dist-packages (from spacy<3.8.0,>=3.7.2->en-core-web-sm==3.7.1) (2.0.10)\n",
            "Requirement already satisfied: weasel<0.4.0,>=0.1.0 in /usr/local/lib/python3.10/dist-packages (from spacy<3.8.0,>=3.7.2->en-core-web-sm==3.7.1) (0.3.4)\n",
            "Requirement already satisfied: typer<0.10.0,>=0.3.0 in /usr/local/lib/python3.10/dist-packages (from spacy<3.8.0,>=3.7.2->en-core-web-sm==3.7.1) (0.9.0)\n",
            "Requirement already satisfied: smart-open<7.0.0,>=5.2.1 in /usr/local/lib/python3.10/dist-packages (from spacy<3.8.0,>=3.7.2->en-core-web-sm==3.7.1) (6.4.0)\n",
            "Requirement already satisfied: tqdm<5.0.0,>=4.38.0 in /usr/local/lib/python3.10/dist-packages (from spacy<3.8.0,>=3.7.2->en-core-web-sm==3.7.1) (4.66.1)\n",
            "Requirement already satisfied: requests<3.0.0,>=2.13.0 in /usr/local/lib/python3.10/dist-packages (from spacy<3.8.0,>=3.7.2->en-core-web-sm==3.7.1) (2.31.0)\n",
            "Requirement already satisfied: pydantic!=1.8,!=1.8.1,<3.0.0,>=1.7.4 in /usr/local/lib/python3.10/dist-packages (from spacy<3.8.0,>=3.7.2->en-core-web-sm==3.7.1) (2.6.0)\n",
            "Requirement already satisfied: jinja2 in /usr/local/lib/python3.10/dist-packages (from spacy<3.8.0,>=3.7.2->en-core-web-sm==3.7.1) (3.1.3)\n",
            "Requirement already satisfied: setuptools in /usr/local/lib/python3.10/dist-packages (from spacy<3.8.0,>=3.7.2->en-core-web-sm==3.7.1) (67.7.2)\n",
            "Requirement already satisfied: packaging>=20.0 in /usr/local/lib/python3.10/dist-packages (from spacy<3.8.0,>=3.7.2->en-core-web-sm==3.7.1) (23.2)\n",
            "Requirement already satisfied: langcodes<4.0.0,>=3.2.0 in /usr/local/lib/python3.10/dist-packages (from spacy<3.8.0,>=3.7.2->en-core-web-sm==3.7.1) (3.3.0)\n",
            "Requirement already satisfied: numpy>=1.19.0 in /usr/local/lib/python3.10/dist-packages (from spacy<3.8.0,>=3.7.2->en-core-web-sm==3.7.1) (1.23.5)\n",
            "Requirement already satisfied: annotated-types>=0.4.0 in /usr/local/lib/python3.10/dist-packages (from pydantic!=1.8,!=1.8.1,<3.0.0,>=1.7.4->spacy<3.8.0,>=3.7.2->en-core-web-sm==3.7.1) (0.6.0)\n",
            "Requirement already satisfied: pydantic-core==2.16.1 in /usr/local/lib/python3.10/dist-packages (from pydantic!=1.8,!=1.8.1,<3.0.0,>=1.7.4->spacy<3.8.0,>=3.7.2->en-core-web-sm==3.7.1) (2.16.1)\n",
            "Requirement already satisfied: typing-extensions>=4.6.1 in /usr/local/lib/python3.10/dist-packages (from pydantic!=1.8,!=1.8.1,<3.0.0,>=1.7.4->spacy<3.8.0,>=3.7.2->en-core-web-sm==3.7.1) (4.9.0)\n",
            "Requirement already satisfied: charset-normalizer<4,>=2 in /usr/local/lib/python3.10/dist-packages (from requests<3.0.0,>=2.13.0->spacy<3.8.0,>=3.7.2->en-core-web-sm==3.7.1) (3.3.2)\n",
            "Requirement already satisfied: idna<4,>=2.5 in /usr/local/lib/python3.10/dist-packages (from requests<3.0.0,>=2.13.0->spacy<3.8.0,>=3.7.2->en-core-web-sm==3.7.1) (3.6)\n",
            "Requirement already satisfied: urllib3<3,>=1.21.1 in /usr/local/lib/python3.10/dist-packages (from requests<3.0.0,>=2.13.0->spacy<3.8.0,>=3.7.2->en-core-web-sm==3.7.1) (2.0.7)\n",
            "Requirement already satisfied: certifi>=2017.4.17 in /usr/local/lib/python3.10/dist-packages (from requests<3.0.0,>=2.13.0->spacy<3.8.0,>=3.7.2->en-core-web-sm==3.7.1) (2024.2.2)\n",
            "Requirement already satisfied: blis<0.8.0,>=0.7.8 in /usr/local/lib/python3.10/dist-packages (from thinc<8.3.0,>=8.1.8->spacy<3.8.0,>=3.7.2->en-core-web-sm==3.7.1) (0.7.11)\n",
            "Requirement already satisfied: confection<1.0.0,>=0.0.1 in /usr/local/lib/python3.10/dist-packages (from thinc<8.3.0,>=8.1.8->spacy<3.8.0,>=3.7.2->en-core-web-sm==3.7.1) (0.1.4)\n",
            "Requirement already satisfied: click<9.0.0,>=7.1.1 in /usr/local/lib/python3.10/dist-packages (from typer<0.10.0,>=0.3.0->spacy<3.8.0,>=3.7.2->en-core-web-sm==3.7.1) (8.1.7)\n",
            "Requirement already satisfied: cloudpathlib<0.17.0,>=0.7.0 in /usr/local/lib/python3.10/dist-packages (from weasel<0.4.0,>=0.1.0->spacy<3.8.0,>=3.7.2->en-core-web-sm==3.7.1) (0.16.0)\n",
            "Requirement already satisfied: MarkupSafe>=2.0 in /usr/local/lib/python3.10/dist-packages (from jinja2->spacy<3.8.0,>=3.7.2->en-core-web-sm==3.7.1) (2.1.5)\n",
            "\u001b[38;5;2m✔ Download and installation successful\u001b[0m\n",
            "You can now load the package via spacy.load('en_core_web_sm')\n"
          ]
        }
      ],
      "source": [
        "!python -m spacy download en_core_web_sm"
      ]
    },
    {
      "cell_type": "code",
      "execution_count": 14,
      "metadata": {
        "id": "PqCie0ZfGAza"
      },
      "outputs": [],
      "source": [
        "# !pip install --upgrade tqdm ipywidgets"
      ]
    },
    {
      "cell_type": "code",
      "execution_count": 15,
      "metadata": {
        "id": "sCLcyYF3GAza"
      },
      "outputs": [],
      "source": [
        "from torchtext.data.utils import get_tokenizer\n",
        "from pythainlp.tokenize import Tokenizer\n",
        "\n",
        "# Create a dictionary to store tokenizers\n",
        "token_transform = {}\n",
        "vocab_transform = {}\n",
        "\n",
        "# Assign tokenizers for English and Thai\n",
        "token_transform['en'] = get_tokenizer('spacy', language='en_core_web_sm')\n",
        "token_transform['th'] = Tokenizer(engine='newmm').word_tokenize\n"
      ]
    },
    {
      "cell_type": "code",
      "execution_count": 16,
      "metadata": {
        "colab": {
          "base_uri": "https://localhost:8080/"
        },
        "id": "mwrlyfbhGAza",
        "outputId": "7b0722a0-c29a-4daa-dac4-45e7cdf9c103"
      },
      "outputs": [
        {
          "data": {
            "text/plain": [
              "Dataset({\n",
              "    features: ['subdataset', 'th', 'en'],\n",
              "    num_rows: 5000\n",
              "})"
            ]
          },
          "execution_count": 16,
          "metadata": {},
          "output_type": "execute_result"
        }
      ],
      "source": [
        "dataset['train']"
      ]
    },
    {
      "cell_type": "code",
      "execution_count": 17,
      "metadata": {
        "colab": {
          "base_uri": "https://localhost:8080/"
        },
        "id": "Ze4JoWqCGAza",
        "outputId": "a1ccfeec-78f1-4801-b161-d91c123017e0"
      },
      "outputs": [
        {
          "name": "stdout",
          "output_type": "stream",
          "text": [
            "Sentence:  การฝึกซ้อมระยะเวลาหกวันดังกล่าวมีเรือพิฆาตของญี่ปุ่นสองลํา เรือฟริเกตของออสเตรเลียสองลํา และเรือพิฆาตจากเกาหลีใต้พร้อมด้วยทหารเรือมากถึง 3,000 นายเข้าร่วม (ภาพ: เรือและอากาศยานจากออสเตรเลีย ญี่ปุ่น สาธารณรัฐเกาหลี และกองทัพเรือสหรัฐฯ เคลื่อนย้ายเป็นขบวน โดยเป็นส่วนหนึ่งของการฝึกซ้อมร่วมภายใต้รหัสแปซิฟิกแวนการ์ด)\n",
            "Tokenization:  ['การฝึกซ้อม', 'ระยะเวลา', 'หก', 'วัน', 'ดังกล่าว', 'มี', 'เรือพิฆาต', 'ของ', 'ญี่ปุ่น', 'สอง', 'ลํา', ' ', 'เรือฟริเกต', 'ของ', 'ออสเตรเลีย', 'สอง', 'ลํา', ' ', 'และ', 'เรือพิฆาต', 'จาก', 'เกาหลีใต้', 'พร้อมด้วย', 'ทหารเรือ', 'มาก', 'ถึง', ' ', '3,000', ' ', 'นาย', 'เข้าร่วม', ' ', '(', 'ภาพ', ':', ' ', 'เรือ', 'และ', 'อากาศยาน', 'จาก', 'ออสเตรเลีย', ' ', 'ญี่ปุ่น', ' ', 'สาธารณรัฐ', 'เกาหลี', ' ', 'และ', 'กองทัพเรือ', 'สหรัฐฯ', ' ', 'เคลื่อนย้าย', 'เป็น', 'ขบวน', ' ', 'โดย', 'เป็น', 'ส่วนหนึ่ง', 'ของ', 'การฝึกซ้อม', 'ร่วม', 'ภายใต้', 'รหัส', 'แปซิฟิก', 'แวน', 'การ์ด', ')']\n"
          ]
        }
      ],
      "source": [
        "print(\"Sentence: \", dataset['train']['th'][2])\n",
        "print(\"Tokenization: \", token_transform['th'](dataset['train']['th'][2]))"
      ]
    },
    {
      "cell_type": "code",
      "execution_count": 18,
      "metadata": {
        "colab": {
          "base_uri": "https://localhost:8080/"
        },
        "id": "dnJhlk7-GAzb",
        "outputId": "f244dccb-2edc-42b9-ab3c-fadc78da4502"
      },
      "outputs": [
        {
          "name": "stdout",
          "output_type": "stream",
          "text": [
            "English Sentence:  The six-day exercise involved two Japanese destroyers, two Australian frigates and a destroyer from South Korea, with as many as 3,000 Sailors participating. (Pictured: Ships and aircraft from Australia, Japan, Republic of Korea, and U.S. naval forces transit in formation as part of the Pacific Vanguard exercise.)\n",
            "Tokenization (English):  ['The', 'six', '-', 'day', 'exercise', 'involved', 'two', 'Japanese', 'destroyers', ',', 'two', 'Australian', 'frigates', 'and', 'a', 'destroyer', 'from', 'South', 'Korea', ',', 'with', 'as', 'many', 'as', '3,000', 'Sailors', 'participating', '.', '(', 'Pictured', ':', 'Ships', 'and', 'aircraft', 'from', 'Australia', ',', 'Japan', ',', 'Republic', 'of', 'Korea', ',', 'and', 'U.S.', 'naval', 'forces', 'transit', 'in', 'formation', 'as', 'part', 'of', 'the', 'Pacific', 'Vanguard', 'exercise', '.', ')']\n",
            "\n",
            "Thai Sentence:  การฝึกซ้อมระยะเวลาหกวันดังกล่าวมีเรือพิฆาตของญี่ปุ่นสองลํา เรือฟริเกตของออสเตรเลียสองลํา และเรือพิฆาตจากเกาหลีใต้พร้อมด้วยทหารเรือมากถึง 3,000 นายเข้าร่วม (ภาพ: เรือและอากาศยานจากออสเตรเลีย ญี่ปุ่น สาธารณรัฐเกาหลี และกองทัพเรือสหรัฐฯ เคลื่อนย้ายเป็นขบวน โดยเป็นส่วนหนึ่งของการฝึกซ้อมร่วมภายใต้รหัสแปซิฟิกแวนการ์ด)\n",
            "Tokenization (Thai):  ['การฝึกซ้อม', 'ระยะเวลา', 'หก', 'วัน', 'ดังกล่าว', 'มี', 'เรือพิฆาต', 'ของ', 'ญี่ปุ่น', 'สอง', 'ลํา', ' ', 'เรือฟริเกต', 'ของ', 'ออสเตรเลีย', 'สอง', 'ลํา', ' ', 'และ', 'เรือพิฆาต', 'จาก', 'เกาหลีใต้', 'พร้อมด้วย', 'ทหารเรือ', 'มาก', 'ถึง', ' ', '3,000', ' ', 'นาย', 'เข้าร่วม', ' ', '(', 'ภาพ', ':', ' ', 'เรือ', 'และ', 'อากาศยาน', 'จาก', 'ออสเตรเลีย', ' ', 'ญี่ปุ่น', ' ', 'สาธารณรัฐ', 'เกาหลี', ' ', 'และ', 'กองทัพเรือ', 'สหรัฐฯ', ' ', 'เคลื่อนย้าย', 'เป็น', 'ขบวน', ' ', 'โดย', 'เป็น', 'ส่วนหนึ่ง', 'ของ', 'การฝึกซ้อม', 'ร่วม', 'ภายใต้', 'รหัส', 'แปซิฟิก', 'แวน', 'การ์ด', ')']\n"
          ]
        }
      ],
      "source": [
        "from torchtext.data.utils import get_tokenizer\n",
        "from pythainlp.tokenize import word_tokenize\n",
        "\n",
        "def tokenize_sentence(sentence, lang):\n",
        "    if lang == 'en':\n",
        "        tokenizer = get_tokenizer('spacy', language='en_core_web_sm')\n",
        "    elif lang == 'th':\n",
        "        tokenizer = word_tokenize\n",
        "    else:\n",
        "        raise ValueError(\"Unsupported language. Supported languages: 'en', 'th'\")\n",
        "\n",
        "    return list(tokenizer(sentence))\n",
        "\n",
        "# Example usage:\n",
        "english_sentence = dataset['train']['en'][2]\n",
        "thai_sentence = dataset['train']['th'][2]\n",
        "\n",
        "print(\"English Sentence: \", english_sentence)\n",
        "print(\"Tokenization (English): \", tokenize_sentence(english_sentence, 'en'))\n",
        "\n",
        "print(\"\\nThai Sentence: \", thai_sentence)\n",
        "print(\"Tokenization (Thai): \", tokenize_sentence(thai_sentence, 'th'))\n",
        "\n"
      ]
    },
    {
      "cell_type": "markdown",
      "metadata": {
        "id": "3BpG7yUlGAzb"
      },
      "source": [
        "A function to tokenize our input."
      ]
    },
    {
      "cell_type": "code",
      "execution_count": 19,
      "metadata": {
        "id": "oIBld8TDGAzb"
      },
      "outputs": [],
      "source": [
        "#pip install transformers"
      ]
    },
    {
      "cell_type": "code",
      "execution_count": 20,
      "metadata": {
        "colab": {
          "base_uri": "https://localhost:8080/"
        },
        "id": "dP-jjDswGAzb",
        "outputId": "bd3a1064-89cd-4ff5-db41-830db5e00133"
      },
      "outputs": [
        {
          "name": "stdout",
          "output_type": "stream",
          "text": [
            "dict_keys(['subdataset', 'th', 'en'])\n"
          ]
        }
      ],
      "source": [
        "print(dataset['train'][0].keys())"
      ]
    },
    {
      "cell_type": "markdown",
      "metadata": {
        "id": "Omamb0tyGAzb"
      },
      "source": [
        "Before we tokenize, let's define some special symbols so our neural network understand the embeddings of these symbols, namely the unknown, the padding, the start of sentence, and end of sentence."
      ]
    },
    {
      "cell_type": "code",
      "execution_count": 21,
      "metadata": {
        "id": "BA0wesqJGAzb"
      },
      "outputs": [],
      "source": [
        "# Define special symbols and indices\n",
        "UNK_IDX, PAD_IDX, SOS_IDX, EOS_IDX = 0, 1, 2, 3\n",
        "# Make sure the tokens are in order of their indices to properly insert them in vocab\n",
        "special_symbols = ['<unk>', '<pad>', '<sos>', '<eos>']"
      ]
    },
    {
      "cell_type": "code",
      "execution_count": 22,
      "metadata": {
        "id": "I0Sk6mWLlW8q"
      },
      "outputs": [],
      "source": [
        "SRC_LANGUAGE = 'en'\n",
        "TRG_LANGUAGE = 'th'"
      ]
    },
    {
      "cell_type": "code",
      "execution_count": 23,
      "metadata": {
        "colab": {
          "base_uri": "https://localhost:8080/",
          "height": 264,
          "referenced_widgets": [
            "81233adc9de04a1886f0e9d285cb6949",
            "2e12dcb530e34c249f82de91b8bcf7bc",
            "8a8c4951aa7b43f6b08c0eae56478de4",
            "c9226d5ae8f4420fa46552eb921e976b",
            "6a3f68cdd81f428687e8683daba411ef",
            "c25e22716de846a18d9716ceb653b5a1",
            "3118ab1e613e472586283851fac7b5e2",
            "72229e25f4934ee0b54c9a14f9ed6ca3",
            "bc726ff04d5f4c43863f6313e1a50a4b",
            "477ef808ec96442d8af9809372a7f9a5",
            "928e440ff8f0472e9fa59f8ec1bb5ff4",
            "9c296e1954fa4a47b7dede64911cb2e6",
            "ae656308124c48738af140d56124ce00",
            "8aa5d6ddf10f439e8f44ce9b151f2803",
            "c7993c03645844788a6151969a6b40eb",
            "93d840f06e0d4023af658973ff7fffd2",
            "ffba86c118204d4d88755f6b7b7748e7",
            "1a6beadf22294732ae175763d063c186",
            "c9d3f7f656dd486ba21081e1611a2c54",
            "5ee884e9b6db49b296a885389d168e92",
            "c2cd1b92c9ac47deac05c2a1943991a5",
            "ff2e7df7f15d4306b6ea89a805e5acf3",
            "04659db4edbf4587a4d1489b810ed46f",
            "32d5201f3731427098d22aedfb3b14ef",
            "3c510b6f99374b218320ea64155988fa",
            "3b2869d14dd8459f877898eed0ff615a",
            "5cd2223b876d4c18bb1418ab68bb5893",
            "ffbbdbf15e694c23bf5893d80042043f",
            "0603815fa91746a3aa030c456a8df7ea",
            "ef321ce314924da1bd15e5c438c81587",
            "9ff4a1ccb6ad4a9db55668e57b5fce88",
            "90d7a11e8b224c49b6d975091356120a",
            "9d12785168a74bf890ff1c559a41dd07",
            "a3a37990006f4c88b4f2a58dca991113",
            "b7d320699c434557b0bb7dc3f4a71b9a",
            "d473d713a1ad46bc9fb9661c1658a83a",
            "50ddace5be4d432cac73c1c46c218122",
            "a7213e969354445e91d24111baf31636",
            "210fc4b2b52b48bbb1833e4d742282ce",
            "28b9b9c4bd3b4099842b79b49ff3299f",
            "d7c7936c36414568a6ef4beeb064900c",
            "6965e7e55cff433cb60d36ff5947fa05",
            "f1d76af7143d44a7893758b7683deeca",
            "e65a5bb75c684be3b980381f94bf246a",
            "37361fcd8bf64811b79e915de6fff882",
            "08d7001ca0af4bafa66c0c30e28c3895",
            "8f50cfe2b77845aa9a0eddced8cc2068",
            "af8107d8fd4c4fd486240649615928ac",
            "820acc9460af4d3c8b2137ccf8fea63e",
            "0b098dd9ae06486ca4dfe79004c51a15",
            "7034933f3f7b4c16b9c3ad5fdc43dfe8",
            "68983fdfdb85463fa3cfd719ec07cc94",
            "fdff2cbeba664fba96d846a5c31908de",
            "0035dfaa4808422389cdc3f16371aadc",
            "712ce1ae54424b8aacfa040dae9d0de7",
            "cf94f333606043969dacc6674fd00be9",
            "24bbc7212db8488baddbca2fa8c915a7",
            "9e9fc0402d164185be46a6917396c9e6",
            "8a429faa697748efa74cfc337e5a5824",
            "acb49a0005114060be6d8a2e73d0d494",
            "3deef61755a4408c86db8d1b0295cca4",
            "1f7630623bc2437698cf268337cca1fe",
            "9ca4d1ccbffc49c9a492c53ae554c4b8",
            "050ac3188d3446e6b9ec3c9a003dcfdd",
            "94aad668c82a4e11abf432f58abeb452",
            "25292873dda1458bbdd339d7c9c74946"
          ]
        },
        "id": "odGYefzRGAzb",
        "outputId": "57f628df-79fb-4bf1-b221-1938bacffcea"
      },
      "outputs": [
        {
          "name": "stderr",
          "output_type": "stream",
          "text": [
            "Parameter 'function'=<function tokenize_data at 0x785e2495e710> of the transform datasets.arrow_dataset.Dataset._map_single couldn't be hashed properly, a random hash was used instead. Make sure your transforms and parameters are serializable with pickle or dill for the dataset fingerprinting and caching to work. If you reuse this transform, the caching mechanism will consider it to be different from the previous calls and recompute everything. This warning is only showed once. Subsequent hashing failures won't be showed.\n",
            "WARNING:datasets.fingerprint:Parameter 'function'=<function tokenize_data at 0x785e2495e710> of the transform datasets.arrow_dataset.Dataset._map_single couldn't be hashed properly, a random hash was used instead. Make sure your transforms and parameters are serializable with pickle or dill for the dataset fingerprinting and caching to work. If you reuse this transform, the caching mechanism will consider it to be different from the previous calls and recompute everything. This warning is only showed once. Subsequent hashing failures won't be showed.\n"
          ]
        },
        {
          "data": {
            "application/vnd.jupyter.widget-view+json": {
              "model_id": "81233adc9de04a1886f0e9d285cb6949",
              "version_major": 2,
              "version_minor": 0
            },
            "text/plain": [
              "Map:   0%|          | 0/5000 [00:00<?, ? examples/s]"
            ]
          },
          "metadata": {},
          "output_type": "display_data"
        },
        {
          "data": {
            "application/vnd.jupyter.widget-view+json": {
              "model_id": "9c296e1954fa4a47b7dede64911cb2e6",
              "version_major": 2,
              "version_minor": 0
            },
            "text/plain": [
              "Map:   0%|          | 0/5000 [00:00<?, ? examples/s]"
            ]
          },
          "metadata": {},
          "output_type": "display_data"
        },
        {
          "data": {
            "application/vnd.jupyter.widget-view+json": {
              "model_id": "04659db4edbf4587a4d1489b810ed46f",
              "version_major": 2,
              "version_minor": 0
            },
            "text/plain": [
              "Map:   0%|          | 0/5000 [00:00<?, ? examples/s]"
            ]
          },
          "metadata": {},
          "output_type": "display_data"
        },
        {
          "data": {
            "application/vnd.jupyter.widget-view+json": {
              "model_id": "a3a37990006f4c88b4f2a58dca991113",
              "version_major": 2,
              "version_minor": 0
            },
            "text/plain": [
              "Map:   0%|          | 0/5000 [00:00<?, ? examples/s]"
            ]
          },
          "metadata": {},
          "output_type": "display_data"
        },
        {
          "data": {
            "application/vnd.jupyter.widget-view+json": {
              "model_id": "37361fcd8bf64811b79e915de6fff882",
              "version_major": 2,
              "version_minor": 0
            },
            "text/plain": [
              "Map:   0%|          | 0/5000 [00:00<?, ? examples/s]"
            ]
          },
          "metadata": {},
          "output_type": "display_data"
        },
        {
          "data": {
            "application/vnd.jupyter.widget-view+json": {
              "model_id": "cf94f333606043969dacc6674fd00be9",
              "version_major": 2,
              "version_minor": 0
            },
            "text/plain": [
              "Map:   0%|          | 0/5000 [00:00<?, ? examples/s]"
            ]
          },
          "metadata": {},
          "output_type": "display_data"
        }
      ],
      "source": [
        "def tokenize_data(sentence, lang):\n",
        "  try:\n",
        "    return {lang: token_transform[lang](sentence[lang].lower())}\n",
        "  except:\n",
        "    return {lang: token_transform[lang].word_tokenize(sentence[lang].lower())}\n",
        "\n",
        "tokenized_dataset = dataset.map(tokenize_data, remove_columns=[SRC_LANGUAGE], fn_kwargs={'lang': SRC_LANGUAGE})\n",
        "tokenized_dataset = tokenized_dataset.map(tokenize_data, remove_columns=[TRG_LANGUAGE], fn_kwargs={'lang': TRG_LANGUAGE})\n"
      ]
    },
    {
      "cell_type": "code",
      "execution_count": 24,
      "metadata": {
        "colab": {
          "base_uri": "https://localhost:8080/"
        },
        "id": "9kxASkRuzlRU",
        "outputId": "94cc5a5b-c604-4269-8db4-a0a9408e5c80"
      },
      "outputs": [
        {
          "name": "stdout",
          "output_type": "stream",
          "text": [
            "Max Length for Eng: 519\n",
            "Max Length for Thai: 529\n"
          ]
        }
      ],
      "source": [
        "print(f\"Max Length for Eng: {max([len(tokens) for tokens in tokenized_dataset['train']['en']])}\")\n",
        "print(f\"Max Length for Thai: {max([len(tokens) for tokens in tokenized_dataset['train']['th']])}\")"
      ]
    },
    {
      "cell_type": "code",
      "execution_count": 25,
      "metadata": {
        "colab": {
          "base_uri": "https://localhost:8080/",
          "height": 53
        },
        "id": "gKOQPAhy1uBC",
        "outputId": "bbf9b93c-d4c7-4007-8271-a8359fc95260"
      },
      "outputs": [
        {
          "data": {
            "application/vnd.google.colaboratory.intrinsic+json": {
              "type": "string"
            },
            "text/plain": [
              "'Foodnavigator-asia.com says the rice is specifically engineered for cultivation in countries such as Indonesia, the Philippines and Bangladesh to reduce vitamin A deficiencies.'"
            ]
          },
          "execution_count": 25,
          "metadata": {},
          "output_type": "execute_result"
        }
      ],
      "source": [
        "dataset['train']['en'][0]"
      ]
    },
    {
      "cell_type": "code",
      "execution_count": 26,
      "metadata": {
        "colab": {
          "base_uri": "https://localhost:8080/"
        },
        "id": "hyvEXXBC1f14",
        "outputId": "8fc94005-d8f9-4700-dde8-6a80290d046e"
      },
      "outputs": [
        {
          "data": {
            "text/plain": [
              "['foodnavigator-asia.com',\n",
              " 'says',\n",
              " 'the',\n",
              " 'rice',\n",
              " 'is',\n",
              " 'specifically',\n",
              " 'engineered',\n",
              " 'for',\n",
              " 'cultivation',\n",
              " 'in',\n",
              " 'countries',\n",
              " 'such',\n",
              " 'as',\n",
              " 'indonesia',\n",
              " ',',\n",
              " 'the',\n",
              " 'philippines',\n",
              " 'and',\n",
              " 'bangladesh',\n",
              " 'to',\n",
              " 'reduce',\n",
              " 'vitamin',\n",
              " 'a',\n",
              " 'deficiencies',\n",
              " '.']"
            ]
          },
          "execution_count": 26,
          "metadata": {},
          "output_type": "execute_result"
        }
      ],
      "source": [
        "tokenized_dataset['train']['en'][0]"
      ]
    },
    {
      "cell_type": "markdown",
      "metadata": {
        "id": "9kz6-O_wGAzc"
      },
      "source": [
        "### Text to integers (Numericalization)\n",
        "\n",
        "Next we gonna create function (torchtext called vocabs) that turn these tokens into integers.  Here we use built in factory function <code>build_vocab_from_\n",
        "\n",
        "\n",
        "\n",
        "\n",
        "ator</code> which accepts iterator that yield list or iterator of tokens."
      ]
    },
    {
      "cell_type": "code",
      "execution_count": 27,
      "metadata": {
        "colab": {
          "base_uri": "https://localhost:8080/"
        },
        "id": "L0tN_E8fQeYE",
        "outputId": "40a9ed1b-427e-4a7c-e876-4bcc8077853e"
      },
      "outputs": [
        {
          "data": {
            "text/plain": [
              "5000"
            ]
          },
          "execution_count": 27,
          "metadata": {},
          "output_type": "execute_result"
        }
      ],
      "source": [
        "len(dataset['train'])"
      ]
    },
    {
      "cell_type": "code",
      "execution_count": 28,
      "metadata": {
        "colab": {
          "base_uri": "https://localhost:8080/"
        },
        "id": "sxYSll8HGAzc",
        "outputId": "4a71b09f-eecd-4ec2-a682-d2348fb16287"
      },
      "outputs": [
        {
          "name": "stdout",
          "output_type": "stream",
          "text": [
            "English Vocabulary Size:  6327\n",
            "Thai Vocabulary Size:  6545\n"
          ]
        }
      ],
      "source": [
        "from torchtext.vocab import build_vocab_from_iterator\n",
        "\n",
        "# Function for tokenization\n",
        "def tokenize_sentence(data, lang):\n",
        "    for example in data:\n",
        "        yield example[lang]\n",
        "\n",
        "# Create torchtext's Vocab object and set UNK_IDX as the default index\n",
        "vocab_transform = {}\n",
        "\n",
        "for ln in ['en', 'th']:\n",
        "    vocab_transform[ln] = build_vocab_from_iterator(\n",
        "        tokenize_sentence(tokenized_dataset['train'], ln),\n",
        "        min_freq=2,\n",
        "        specials=special_symbols,\n",
        "        special_first=True\n",
        "    )\n",
        "    vocab_transform[ln].set_default_index(UNK_IDX)\n",
        "\n",
        "# Example usage:\n",
        "print(\"English Vocabulary Size: \", len(vocab_transform['en']))\n",
        "print(\"Thai Vocabulary Size: \", len(vocab_transform['th']))\n"
      ]
    },
    {
      "cell_type": "code",
      "execution_count": 29,
      "metadata": {
        "id": "_I2XUcFUPM5c"
      },
      "outputs": [],
      "source": [
        "SRC_LANGUAGE = \"en\""
      ]
    },
    {
      "cell_type": "code",
      "execution_count": 30,
      "metadata": {
        "colab": {
          "base_uri": "https://localhost:8080/"
        },
        "id": "zSHqfMOvGAzc",
        "outputId": "9ab756dd-5469-43d2-e532-e170fce8205b"
      },
      "outputs": [
        {
          "data": {
            "text/plain": [
              "[353, 19, 10, 0, 10]"
            ]
          },
          "execution_count": 30,
          "metadata": {},
          "output_type": "execute_result"
        }
      ],
      "source": [
        "#see some example\n",
        "vocab_transform[SRC_LANGUAGE](['here', 'is', 'a', 'unknownword', 'a'])"
      ]
    },
    {
      "cell_type": "code",
      "execution_count": 31,
      "metadata": {
        "colab": {
          "base_uri": "https://localhost:8080/",
          "height": 36
        },
        "id": "qsmPvKPWGAzc",
        "outputId": "fbe330fe-239f-4d10-86dd-55253ca76682"
      },
      "outputs": [
        {
          "data": {
            "application/vnd.google.colaboratory.intrinsic+json": {
              "type": "string"
            },
            "text/plain": [
              "'usage'"
            ]
          },
          "execution_count": 31,
          "metadata": {},
          "output_type": "execute_result"
        }
      ],
      "source": [
        "#we can reverse it....\n",
        "mapping = vocab_transform[SRC_LANGUAGE].get_itos()\n",
        "\n",
        "#print 1891, for example\n",
        "mapping[1891]"
      ]
    },
    {
      "cell_type": "code",
      "execution_count": 32,
      "metadata": {
        "colab": {
          "base_uri": "https://localhost:8080/",
          "height": 36
        },
        "id": "--UXkDA8GAzd",
        "outputId": "d6826b79-4a32-4821-e8cb-3af7c556b881"
      },
      "outputs": [
        {
          "data": {
            "application/vnd.google.colaboratory.intrinsic+json": {
              "type": "string"
            },
            "text/plain": [
              "'<unk>'"
            ]
          },
          "execution_count": 32,
          "metadata": {},
          "output_type": "execute_result"
        }
      ],
      "source": [
        "#let's try unknown vocab\n",
        "mapping[0]\n",
        "#they will all map to <unk> which has 0 as integer"
      ]
    },
    {
      "cell_type": "code",
      "execution_count": 33,
      "metadata": {
        "colab": {
          "base_uri": "https://localhost:8080/"
        },
        "id": "_WFuBGEKGAzd",
        "outputId": "fb5e7dd1-5dcc-4ce0-92af-f1c886ae09f0"
      },
      "outputs": [
        {
          "data": {
            "text/plain": [
              "('<pad>', '<sos>', '<eos>')"
            ]
          },
          "execution_count": 33,
          "metadata": {},
          "output_type": "execute_result"
        }
      ],
      "source": [
        "#let's try special symbols\n",
        "mapping[1], mapping[2], mapping[3]"
      ]
    },
    {
      "cell_type": "code",
      "execution_count": 34,
      "metadata": {
        "colab": {
          "base_uri": "https://localhost:8080/"
        },
        "id": "Hng96NsjGAzd",
        "outputId": "a2f1a6b9-a0f9-427d-bd0e-2c5659957fd5"
      },
      "outputs": [
        {
          "data": {
            "text/plain": [
              "6327"
            ]
          },
          "execution_count": 34,
          "metadata": {},
          "output_type": "execute_result"
        }
      ],
      "source": [
        "#check unique vocabularies\n",
        "len(mapping)"
      ]
    },
    {
      "cell_type": "markdown",
      "metadata": {
        "id": "LiS366j0GAzd"
      },
      "source": [
        "## 4. Preparing the dataloader\n",
        "\n",
        "One thing we change here is the <code>collate_fn</code> which now also returns the length of sentence.  This is required for <code>packed_padded_sequence</code>"
      ]
    },
    {
      "cell_type": "code",
      "execution_count": 35,
      "metadata": {
        "id": "tmNTG-ubGAzd"
      },
      "outputs": [],
      "source": [
        "from torch.nn.utils.rnn import pad_sequence\n",
        "from torch.utils.data import DataLoader\n",
        "\n",
        "BATCH_SIZE = 16\n",
        "\n",
        "# helper function to club together sequential operations\n",
        "def sequential_transforms(*transforms):\n",
        "    def func(txt_input):\n",
        "        for transform in transforms:\n",
        "            txt_input = transform(txt_input)\n",
        "        return txt_input\n",
        "    return func\n",
        "\n",
        "# function to add BOS/EOS and create tensor for input sequence indices\n",
        "def tensor_transform(token_ids):\n",
        "    return torch.cat((torch.tensor([SOS_IDX]),\n",
        "                      torch.tensor(token_ids),\n",
        "                      torch.tensor([EOS_IDX])))\n",
        "\n",
        "# src and trg language text transforms to convert raw strings into tensors indices\n",
        "text_transform = {}\n",
        "for ln in [SRC_LANGUAGE, TRG_LANGUAGE]:\n",
        "    text_transform[ln] = sequential_transforms(token_transform[ln], #Tokenization\n",
        "                                               vocab_transform[ln], #Numericalization\n",
        "                                               tensor_transform) # Add BOS/EOS and create tensor\n",
        "\n",
        "\n",
        "# function to collate data samples into batch tesors\n",
        "def collate_batch(batch):\n",
        "    global src_sample\n",
        "    src_batch, src_len_batch, trg_batch = [], [], []\n",
        "    for sample in batch:\n",
        "        src_sample = sample[SRC_LANGUAGE]\n",
        "        trg_sample = sample[TRG_LANGUAGE]\n",
        "        processed_text = text_transform[SRC_LANGUAGE](src_sample.rstrip(\"\\n\"))\n",
        "        src_batch.append(processed_text)\n",
        "        trg_batch.append(text_transform[TRG_LANGUAGE](trg_sample.rstrip(\"\\n\")))\n",
        "        src_len_batch.append(processed_text.size(0))\n",
        "\n",
        "    src_batch = pad_sequence(src_batch, padding_value=PAD_IDX, batch_first = True) #<----need this because we use linear layers mostly\n",
        "    trg_batch = pad_sequence(trg_batch, padding_value=PAD_IDX, batch_first = True)\n",
        "    return src_batch, torch.tensor(src_len_batch, dtype=torch.int64), trg_batch"
      ]
    },
    {
      "cell_type": "code",
      "execution_count": 36,
      "metadata": {
        "id": "TCKogkIBoOv5"
      },
      "outputs": [],
      "source": [
        "#train_loader = DataLoader(tokenized_dataset['train'], batch_size=batch_size, shuffle=True, collate_fn=collate_batch)"
      ]
    },
    {
      "cell_type": "code",
      "execution_count": 37,
      "metadata": {
        "id": "rHFsC12ertcm"
      },
      "outputs": [],
      "source": [
        "train = dataset['train']\n",
        "val = dataset['validation']\n",
        "test = dataset['test']"
      ]
    },
    {
      "cell_type": "markdown",
      "metadata": {
        "id": "gA1XVRmpGAzp"
      },
      "source": [
        "Create train, val, and test dataloaders"
      ]
    },
    {
      "cell_type": "code",
      "execution_count": 38,
      "metadata": {
        "id": "AmRDpo7YGAzq"
      },
      "outputs": [],
      "source": [
        "batch_size = 4\n",
        "\n",
        "train_loader = DataLoader(train, batch_size=batch_size, shuffle=True, collate_fn=collate_batch)\n",
        "valid_loader = DataLoader(val,   batch_size=batch_size, shuffle=False, collate_fn=collate_batch)\n",
        "test_loader  = DataLoader(test,  batch_size=batch_size, shuffle=False, collate_fn=collate_batch)"
      ]
    },
    {
      "cell_type": "markdown",
      "metadata": {
        "id": "AfPytdw-GAzq"
      },
      "source": [
        "Let's test the train loader."
      ]
    },
    {
      "cell_type": "code",
      "execution_count": 39,
      "metadata": {
        "id": "yn87HtTds_Vl"
      },
      "outputs": [],
      "source": [
        "for en, _, th in train_loader:\n",
        "    break"
      ]
    },
    {
      "cell_type": "code",
      "execution_count": 40,
      "metadata": {
        "colab": {
          "base_uri": "https://localhost:8080/"
        },
        "id": "xwpVgZ9wGAzq",
        "outputId": "94daa622-8b3a-4fc2-c18c-0342849a5e56"
      },
      "outputs": [
        {
          "name": "stdout",
          "output_type": "stream",
          "text": [
            "English shape:  torch.Size([4, 17])\n",
            "Thai shape:  torch.Size([4, 20])\n"
          ]
        }
      ],
      "source": [
        "print(\"English shape: \", en.shape)  # (batch_size, seq len)\n",
        "print(\"Thai shape: \", th.shape)   # (batch_size, seq len)"
      ]
    },
    {
      "cell_type": "markdown",
      "metadata": {
        "id": "cz9M6_ZDGAzr"
      },
      "source": [
        "## 5. Design the model\n",
        "\n",
        "<img src=\"../figures/transformer-encoder.png\" >"
      ]
    },
    {
      "cell_type": "markdown",
      "metadata": {
        "id": "NkmDgEUlGAzr"
      },
      "source": [
        "### Encoder Layer"
      ]
    },
    {
      "cell_type": "code",
      "execution_count": 41,
      "metadata": {
        "id": "h2dgZ_0MGAzr"
      },
      "outputs": [],
      "source": [
        "class EncoderLayer(nn.Module):\n",
        "    def __init__(self, hid_dim, n_heads, pf_dim, dropout, device, attention_module):\n",
        "        super().__init__()\n",
        "        self.self_attn_layer_norm = nn.LayerNorm(hid_dim)\n",
        "        self.ff_layer_norm        = nn.LayerNorm(hid_dim)\n",
        "        self.self_attention       = MultiHeadAttentionLayer(hid_dim, n_heads, dropout, device, attention_module)\n",
        "        self.feedforward          = PositionwiseFeedforwardLayer(hid_dim, pf_dim, dropout)\n",
        "        self.dropout              = nn.Dropout(dropout)\n",
        "\n",
        "    def forward(self, src, src_mask):\n",
        "        #src = [batch size, src len, hid dim]\n",
        "        #src_mask = [batch size, 1, 1, src len]   #if the token is padding, it will be 1, otherwise 0\n",
        "        _src, _ = self.self_attention(src, src, src, src_mask)\n",
        "        src     = self.self_attn_layer_norm(src + self.dropout(_src))\n",
        "        #src: [batch_size, src len, hid dim]\n",
        "\n",
        "        _src    = self.feedforward(src)\n",
        "        src     = self.ff_layer_norm(src + self.dropout(_src))\n",
        "        #src: [batch_size, src len, hid dim]\n",
        "\n",
        "        return src"
      ]
    },
    {
      "cell_type": "markdown",
      "metadata": {
        "id": "mSIQQCdQGAzr"
      },
      "source": [
        "### Encoder"
      ]
    },
    {
      "cell_type": "code",
      "execution_count": 42,
      "metadata": {
        "id": "KsLJ202DGAzr"
      },
      "outputs": [],
      "source": [
        "class Encoder(nn.Module):\n",
        "    def __init__(self, input_dim, hid_dim, n_layers, n_heads, pf_dim, dropout, device, attention_module, max_length = 100):\n",
        "        super().__init__()\n",
        "        self.device = device\n",
        "        self.tok_embedding = nn.Embedding(input_dim, hid_dim)\n",
        "        self.pos_embedding = nn.Embedding(max_length, hid_dim)\n",
        "        self.layers        = nn.ModuleList([EncoderLayer(hid_dim, n_heads, pf_dim, dropout, device, attention_module)\n",
        "                                           for _ in range(n_layers)])\n",
        "        self.dropout       = nn.Dropout(dropout)\n",
        "        self.scale         = torch.sqrt(torch.FloatTensor([hid_dim])).to(self.device)\n",
        "\n",
        "    def forward(self, src, src_mask):\n",
        "        global A, B\n",
        "        #src = [batch size, src len]\n",
        "        #src_mask = [batch size, 1, 1, src len]\n",
        "\n",
        "        batch_size = src.shape[0]\n",
        "        src_len    = src.shape[1]\n",
        "\n",
        "        pos        = torch.arange(0, src_len).unsqueeze(0).repeat(batch_size, 1).to(self.device)\n",
        "        #pos: [batch_size, src_len]\n",
        "        A = pos\n",
        "        B = src\n",
        "        src        = self.dropout((self.tok_embedding(src) * self.scale) + self.pos_embedding(pos))\n",
        "        #src: [batch_size, src_len, hid_dim]\n",
        "\n",
        "        for layer in self.layers:\n",
        "            src = layer(src, src_mask)\n",
        "        #src: [batch_size, src_len, hid_dim]\n",
        "\n",
        "        return src\n"
      ]
    },
    {
      "cell_type": "markdown",
      "metadata": {
        "id": "HDygFuFtGAzs"
      },
      "source": [
        "### Mutli Head Attention Layer\n",
        "\n",
        "<img src = \"../figures/transformer-attention.png\" width=\"700\">\n",
        "\n",
        "$$ \\text{Attention}(Q, K, V) = \\text{Softmax} \\big( \\frac{QK^T}{\\sqrt{d_k}} \\big)V $$"
      ]
    },
    {
      "cell_type": "code",
      "execution_count": 43,
      "metadata": {
        "id": "05mV9zOZD_9e"
      },
      "outputs": [],
      "source": [
        "class DefaultAttention(nn.Module):\n",
        "    def __init__(self, head_dim):\n",
        "        super().__init__()\n",
        "        self.scale = torch.sqrt(torch.FloatTensor([head_dim])).to(device)\n",
        "\n",
        "    def forward(self, Q, K):\n",
        "        scores = torch.matmul(Q, K.permute(0, 1, 3, 2)) / self.scale\n",
        "\n",
        "        return scores"
      ]
    },
    {
      "cell_type": "code",
      "execution_count": 44,
      "metadata": {
        "id": "ggLkX4Dd-e0t"
      },
      "outputs": [],
      "source": [
        "class GeneralAttention(nn.Module):\n",
        "    def __init__(self):\n",
        "        super().__init__()\n",
        "\n",
        "    def forward(self, Q, K):\n",
        "        scores = torch.matmul(Q, K.permute(0, 1, 3, 2))\n",
        "\n",
        "        return scores"
      ]
    },
    {
      "cell_type": "code",
      "execution_count": 45,
      "metadata": {
        "id": "pc-O74zL_Kog"
      },
      "outputs": [],
      "source": [
        "class MultiplicativeAttention(nn.Module):\n",
        "    def __init__(self, head_dim):\n",
        "        super().__init__()\n",
        "        self.W = nn.Linear(head_dim, head_dim)\n",
        "\n",
        "    def forward(self, Q, K):\n",
        "        scores = torch.matmul(self.W(Q), K.permute(0, 1, 3, 2))\n",
        "\n",
        "        return scores"
      ]
    },
    {
      "cell_type": "code",
      "execution_count": 46,
      "metadata": {
        "id": "EfmOcl2u_j44"
      },
      "outputs": [],
      "source": [
        "class AdditiveAttention(nn.Module):\n",
        "    def __init__(self, head_dim):\n",
        "        super().__init__()\n",
        "        self.W1 = nn.Linear(head_dim, head_dim)\n",
        "        self.W2 = nn.Linear(head_dim, head_dim)\n",
        "        self.V = nn.Linear(head_dim, 1)\n",
        "\n",
        "    def forward(self, Q, K):\n",
        "        Q = Q.unsqueeze(3)\n",
        "        K = K.unsqueeze(2)\n",
        "\n",
        "        scores = self.V(torch.tanh(self.W1(Q) + self.W2(K))).squeeze(-1)\n",
        "\n",
        "        return scores"
      ]
    },
    {
      "cell_type": "code",
      "execution_count": 46,
      "metadata": {
        "id": "G7V2pDKXD-n8"
      },
      "outputs": [],
      "source": []
    },
    {
      "cell_type": "code",
      "execution_count": 47,
      "metadata": {
        "id": "zHNN_EQLGAzs"
      },
      "outputs": [],
      "source": [
        "class MultiHeadAttentionLayer(nn.Module):\n",
        "    def __init__(self, hid_dim, n_heads, dropout, device, attention_module):\n",
        "        super().__init__()\n",
        "        assert hid_dim % n_heads == 0\n",
        "        self.hid_dim  = hid_dim\n",
        "        self.n_heads  = n_heads\n",
        "        self.head_dim = hid_dim // n_heads\n",
        "\n",
        "        self.fc_q     = nn.Linear(hid_dim, hid_dim)\n",
        "        self.fc_k     = nn.Linear(hid_dim, hid_dim)\n",
        "        self.fc_v     = nn.Linear(hid_dim, hid_dim)\n",
        "\n",
        "        self.fc_o     = nn.Linear(hid_dim, hid_dim)\n",
        "\n",
        "        self.dropout  = nn.Dropout(dropout)\n",
        "\n",
        "        self.scale    = torch.sqrt(torch.FloatTensor([self.head_dim])).to(device)\n",
        "        self.attention_module = attention_module\n",
        "    def forward(self, query, key, value, mask = None):\n",
        "        #src, src, src, src_mask\n",
        "        #query = [batch size, query len, hid dim]\n",
        "        #key = [batch size, key len, hid dim]\n",
        "        #value = [batch size, value len, hid dim]\n",
        "\n",
        "        batch_size = query.shape[0]\n",
        "\n",
        "        Q = self.fc_q(query)\n",
        "        K = self.fc_k(key)\n",
        "        V = self.fc_v(value)\n",
        "        #Q=K=V: [batch_size, src len, hid_dim]\n",
        "\n",
        "        Q = Q.view(batch_size, -1, self.n_heads, self.head_dim).permute(0, 2, 1, 3)\n",
        "        K = K.view(batch_size, -1, self.n_heads, self.head_dim).permute(0, 2, 1, 3)\n",
        "        V = V.view(batch_size, -1, self.n_heads, self.head_dim).permute(0, 2, 1, 3)\n",
        "        #Q = [batch_size, n heads, query len, head_dim]\n",
        "\n",
        "        energy = self.attention_module(Q, K)\n",
        "        #Q = [batch_size, n heads, query len, head_dim] @ K = [batch_size, n heads, head_dim, key len]\n",
        "        #energy = [batch_size, n heads, query len, key len]\n",
        "\n",
        "        #for making attention to padding to 0\n",
        "        if mask is not None:\n",
        "            energy = energy.masked_fill(mask == 0, -1e10)\n",
        "\n",
        "        attention = torch.softmax(energy, dim = -1)\n",
        "        #attention = [batch_size, n heads, query len, key len]\n",
        "\n",
        "        x = torch.matmul(self.dropout(attention), V)\n",
        "        #[batch_size, n heads, query len, key len] @ [batch_size, n heads, value len, head_dim]\n",
        "        #x = [batch_size, n heads, query len, head dim]\n",
        "\n",
        "        x = x.permute(0, 2, 1, 3).contiguous()  #we can perform .view\n",
        "        #x = [batch_size, query len, n heads, head dim]\n",
        "\n",
        "        x = x.view(batch_size, -1, self.hid_dim)\n",
        "        #x = [batch_size, query len, hid dim]\n",
        "\n",
        "        x = self.fc_o(x)\n",
        "        #x = [batch_size, query len, hid dim]\n",
        "\n",
        "        return x, attention\n"
      ]
    },
    {
      "cell_type": "markdown",
      "metadata": {
        "id": "hZ-ceDUbGAzw"
      },
      "source": [
        "### Position-wise Feedforward Layer"
      ]
    },
    {
      "cell_type": "code",
      "execution_count": 48,
      "metadata": {
        "id": "hGF9Lvb7GAzw"
      },
      "outputs": [],
      "source": [
        "class PositionwiseFeedforwardLayer(nn.Module):\n",
        "    def __init__(self, hid_dim, pf_dim, dropout):\n",
        "        super().__init__()\n",
        "        self.fc1 = nn.Linear(hid_dim, pf_dim)\n",
        "        self.fc2 = nn.Linear(pf_dim, hid_dim)\n",
        "        self.dropout = nn.Dropout(dropout)\n",
        "\n",
        "    def forward(self, x):\n",
        "        #x = [batch size, src len, hid dim]\n",
        "        x = self.dropout(torch.relu(self.fc1(x)))\n",
        "        x = self.fc2(x)\n",
        "\n",
        "        return x"
      ]
    },
    {
      "cell_type": "markdown",
      "metadata": {
        "id": "JhbvJ0LtGAzw"
      },
      "source": [
        "### Decoder Layer\n",
        "\n",
        "<img src = \"../figures/transformer-decoder.png\" >"
      ]
    },
    {
      "cell_type": "code",
      "execution_count": 49,
      "metadata": {
        "id": "ndaj4eRCGAzx"
      },
      "outputs": [],
      "source": [
        "class DecoderLayer(nn.Module):\n",
        "    def __init__(self, hid_dim, n_heads, pf_dim, dropout, device, attention_module):\n",
        "        super().__init__()\n",
        "        self.self_attn_layer_norm = nn.LayerNorm(hid_dim)\n",
        "        self.enc_attn_layer_norm  = nn.LayerNorm(hid_dim)\n",
        "        self.ff_layer_norm        = nn.LayerNorm(hid_dim)\n",
        "        self.self_attention       = MultiHeadAttentionLayer(hid_dim, n_heads, dropout, device, attention_module)\n",
        "        self.encoder_attention    = MultiHeadAttentionLayer(hid_dim, n_heads, dropout, device, attention_module)\n",
        "        self.feedforward          = PositionwiseFeedforwardLayer(hid_dim, pf_dim, dropout)\n",
        "        self.dropout              = nn.Dropout(dropout)\n",
        "\n",
        "    def forward(self, trg, enc_src, trg_mask, src_mask):\n",
        "\n",
        "        #trg = [batch size, trg len, hid dim]\n",
        "        #enc_src = [batch size, src len, hid dim]\n",
        "        #trg_mask = [batch size, 1, trg len, trg len]\n",
        "        #src_mask = [batch size, 1, 1, src len]\n",
        "\n",
        "        _trg, _ = self.self_attention(trg, trg, trg, trg_mask)\n",
        "        trg     = self.self_attn_layer_norm(trg + self.dropout(_trg))\n",
        "        #trg = [batch_size, trg len, hid dim]\n",
        "\n",
        "        _trg, attention = self.encoder_attention(trg, enc_src, enc_src, src_mask)\n",
        "        trg             = self.enc_attn_layer_norm(trg + self.dropout(_trg))\n",
        "        #trg = [batch_size, trg len, hid dim]\n",
        "        #attention = [batch_size, n heads, trg len, src len]\n",
        "\n",
        "        _trg = self.feedforward(trg)\n",
        "        trg  = self.ff_layer_norm(trg + self.dropout(_trg))\n",
        "        #trg = [batch_size, trg len, hid dim]\n",
        "\n",
        "        return trg, attention"
      ]
    },
    {
      "cell_type": "markdown",
      "metadata": {
        "id": "AkiyA0OxGAzx"
      },
      "source": [
        "### Decoder"
      ]
    },
    {
      "cell_type": "code",
      "execution_count": 50,
      "metadata": {
        "id": "cJjR-lHRGAzx"
      },
      "outputs": [],
      "source": [
        "class Decoder(nn.Module):\n",
        "    def __init__(self, output_dim, hid_dim, n_layers, n_heads,\n",
        "                 pf_dim, dropout, device, attention_module, max_length = 100):\n",
        "        super().__init__()\n",
        "        self.device = device\n",
        "        self.tok_embedding = nn.Embedding(output_dim, hid_dim)\n",
        "        self.pos_embedding = nn.Embedding(max_length, hid_dim)\n",
        "        self.layers        = nn.ModuleList([DecoderLayer(hid_dim, n_heads, pf_dim, dropout, device, attention_module)\n",
        "                                            for _ in range(n_layers)])\n",
        "        self.fc_out        = nn.Linear(hid_dim, output_dim)\n",
        "        self.dropout       = nn.Dropout(dropout)\n",
        "        self.scale         = torch.sqrt(torch.FloatTensor([hid_dim])).to(device)\n",
        "\n",
        "    def forward(self, trg, enc_src, trg_mask, src_mask):\n",
        "\n",
        "        #trg = [batch size, trg len]\n",
        "        #enc_src = [batch size, src len, hid dim]\n",
        "        #trg_mask = [batch size, 1, trg len, trg len]\n",
        "        #src_mask = [batch size, 1, 1, src len]\n",
        "\n",
        "        batch_size = trg.shape[0]\n",
        "        trg_len    = trg.shape[1]\n",
        "\n",
        "        pos = torch.arange(0, trg_len).unsqueeze(0).repeat(batch_size, 1).to(self.device)\n",
        "        #pos: [batch_size, trg len]\n",
        "\n",
        "        trg = self.dropout((self.tok_embedding(trg) * self.scale) + self.pos_embedding(pos))\n",
        "        #trg: [batch_size, trg len, hid dim]\n",
        "\n",
        "        for layer in self.layers:\n",
        "            trg, attention = layer(trg, enc_src, trg_mask, src_mask)\n",
        "\n",
        "        #trg: [batch_size, trg len, hid dim]\n",
        "        #attention: [batch_size, n heads, trg len, src len]\n",
        "\n",
        "        output = self.fc_out(trg)\n",
        "        #output = [batch_size, trg len, output_dim]\n",
        "\n",
        "        return output, attention"
      ]
    },
    {
      "cell_type": "markdown",
      "metadata": {
        "id": "NX7i2Do_GAzy"
      },
      "source": [
        "### Putting them together (become Seq2Seq!)\n",
        "\n",
        "Our `trg_sub_mask` will look something like this (for a target with 5 tokens):\n",
        "\n",
        "$$\\begin{matrix}\n",
        "1 & 0 & 0 & 0 & 0\\\\\n",
        "1 & 1 & 0 & 0 & 0\\\\\n",
        "1 & 1 & 1 & 0 & 0\\\\\n",
        "1 & 1 & 1 & 1 & 0\\\\\n",
        "1 & 1 & 1 & 1 & 1\\\\\n",
        "\\end{matrix}$$\n",
        "\n",
        "The \"subsequent\" mask is then logically anded with the padding mask, this combines the two masks ensuring both the subsequent tokens and the padding tokens cannot be attended to. For example if the last two tokens were `<pad>` tokens the mask would look like:\n",
        "\n",
        "$$\\begin{matrix}\n",
        "1 & 0 & 0 & 0 & 0\\\\\n",
        "1 & 1 & 0 & 0 & 0\\\\\n",
        "1 & 1 & 1 & 0 & 0\\\\\n",
        "1 & 1 & 1 & 0 & 0\\\\\n",
        "1 & 1 & 1 & 0 & 0\\\\\n",
        "\\end{matrix}$$"
      ]
    },
    {
      "cell_type": "code",
      "execution_count": 51,
      "metadata": {
        "id": "2r8AumR_GAzy"
      },
      "outputs": [],
      "source": [
        "class Seq2SeqTransformer(nn.Module):\n",
        "    def __init__(self, encoder, decoder, src_pad_idx, trg_pad_idx, device):\n",
        "        super().__init__()\n",
        "\n",
        "        self.encoder = encoder\n",
        "        self.decoder = decoder\n",
        "        self.src_pad_idx = src_pad_idx\n",
        "        self.trg_pad_idx = trg_pad_idx\n",
        "        self.device = device\n",
        "\n",
        "    def make_src_mask(self, src):\n",
        "\n",
        "        #src = [batch size, src len]\n",
        "\n",
        "        src_mask = (src != self.src_pad_idx).unsqueeze(1).unsqueeze(2)\n",
        "        #src_mask = [batch size, 1, 1, src len]\n",
        "\n",
        "        return src_mask\n",
        "\n",
        "    def make_trg_mask(self, trg):\n",
        "\n",
        "        #trg = [batch size, trg len]\n",
        "\n",
        "        trg_pad_mask = (trg != self.trg_pad_idx).unsqueeze(1).unsqueeze(2)\n",
        "        #trg_pad_mask = [batch size, 1, 1, trg len]\n",
        "\n",
        "        trg_len = trg.shape[1]\n",
        "\n",
        "        trg_sub_mask = torch.tril(torch.ones((trg_len, trg_len), device = self.device)).bool()\n",
        "        #trg_sub_mask = [trg len, trg len]\n",
        "\n",
        "        trg_mask = trg_pad_mask & trg_sub_mask\n",
        "        #trg_mask = [batch size, 1, trg len, trg len]\n",
        "\n",
        "        return trg_mask\n",
        "\n",
        "    def forward(self, src, trg):\n",
        "\n",
        "        #src = [batch size, src len]\n",
        "        #trg = [batch size, trg len]\n",
        "\n",
        "        src_mask = self.make_src_mask(src)\n",
        "        trg_mask = self.make_trg_mask(trg)\n",
        "\n",
        "        #src_mask = [batch size, 1, 1, src len]\n",
        "        #trg_mask = [batch size, 1, trg len, trg len]\n",
        "\n",
        "        enc_src = self.encoder(src, src_mask)\n",
        "        #enc_src = [batch size, src len, hid dim]\n",
        "\n",
        "        output, attention = self.decoder(trg, enc_src, trg_mask, src_mask)\n",
        "\n",
        "        #output = [batch size, trg len, output dim]\n",
        "        #attention = [batch size, n heads, trg len, src len]\n",
        "\n",
        "        return output, attention"
      ]
    },
    {
      "cell_type": "markdown",
      "metadata": {
        "id": "bULON2lXGAzy"
      },
      "source": [
        "## 6. Training"
      ]
    },
    {
      "cell_type": "code",
      "execution_count": 52,
      "metadata": {
        "id": "mXz3cgt0GAzz"
      },
      "outputs": [],
      "source": [
        "def initialize_weights(m):\n",
        "    if hasattr(m, 'weight') and m.weight.dim() > 1:\n",
        "        nn.init.xavier_uniform_(m.weight.data)"
      ]
    },
    {
      "cell_type": "code",
      "execution_count": 53,
      "metadata": {
        "id": "mmAT8la9GAzz"
      },
      "outputs": [],
      "source": [
        "# INPUT_DIM = len(vocab_transform[SRC_LANGUAGE])\n",
        "# OUTPUT_DIM = len(vocab_transform[TRG_LANGUAGE])\n",
        "# HID_DIM = 256\n",
        "# ENC_LAYERS = 3\n",
        "# DEC_LAYERS = 3\n",
        "# ENC_HEADS = 8\n",
        "# DEC_HEADS = 8\n",
        "# ENC_PF_DIM = 512\n",
        "# DEC_PF_DIM = 512\n",
        "# ENC_DROPOUT = 0.1\n",
        "# DEC_DROPOUT = 0.1\n",
        "\n",
        "# enc = Encoder(INPUT_DIM,\n",
        "#               HID_DIM,\n",
        "#               ENC_LAYERS,\n",
        "#               ENC_HEADS,\n",
        "#               ENC_PF_DIM,\n",
        "#               ENC_DROPOUT,\n",
        "#               device)\n",
        "\n",
        "# dec = Decoder(OUTPUT_DIM,\n",
        "#               HID_DIM,\n",
        "#               DEC_LAYERS,\n",
        "#               DEC_HEADS,\n",
        "#               DEC_PF_DIM,\n",
        "#               DEC_DROPOUT,\n",
        "#               device)\n",
        "\n",
        "# SRC_PAD_IDX = PAD_IDX\n",
        "# TRG_PAD_IDX = PAD_IDX"
      ]
    },
    {
      "cell_type": "code",
      "execution_count": 54,
      "metadata": {
        "colab": {
          "base_uri": "https://localhost:8080/"
        },
        "id": "GjIrtBeiGAzz",
        "outputId": "3e91ac05-56b3-4407-97e4-314c63869b34"
      },
      "outputs": [
        {
          "data": {
            "text/plain": [
              "Seq2SeqTransformer(\n",
              "  (encoder): Encoder(\n",
              "    (tok_embedding): Embedding(6327, 256)\n",
              "    (pos_embedding): Embedding(1000, 256)\n",
              "    (layers): ModuleList(\n",
              "      (0-2): 3 x EncoderLayer(\n",
              "        (self_attn_layer_norm): LayerNorm((256,), eps=1e-05, elementwise_affine=True)\n",
              "        (ff_layer_norm): LayerNorm((256,), eps=1e-05, elementwise_affine=True)\n",
              "        (self_attention): MultiHeadAttentionLayer(\n",
              "          (fc_q): Linear(in_features=256, out_features=256, bias=True)\n",
              "          (fc_k): Linear(in_features=256, out_features=256, bias=True)\n",
              "          (fc_v): Linear(in_features=256, out_features=256, bias=True)\n",
              "          (fc_o): Linear(in_features=256, out_features=256, bias=True)\n",
              "          (dropout): Dropout(p=0.1, inplace=False)\n",
              "          (attention_module): AdditiveAttention(\n",
              "            (W1): Linear(in_features=32, out_features=32, bias=True)\n",
              "            (W2): Linear(in_features=32, out_features=32, bias=True)\n",
              "            (V): Linear(in_features=32, out_features=1, bias=True)\n",
              "          )\n",
              "        )\n",
              "        (feedforward): PositionwiseFeedforwardLayer(\n",
              "          (fc1): Linear(in_features=256, out_features=512, bias=True)\n",
              "          (fc2): Linear(in_features=512, out_features=256, bias=True)\n",
              "          (dropout): Dropout(p=0.1, inplace=False)\n",
              "        )\n",
              "        (dropout): Dropout(p=0.1, inplace=False)\n",
              "      )\n",
              "    )\n",
              "    (dropout): Dropout(p=0.1, inplace=False)\n",
              "  )\n",
              "  (decoder): Decoder(\n",
              "    (tok_embedding): Embedding(6545, 256)\n",
              "    (pos_embedding): Embedding(1000, 256)\n",
              "    (layers): ModuleList(\n",
              "      (0-2): 3 x DecoderLayer(\n",
              "        (self_attn_layer_norm): LayerNorm((256,), eps=1e-05, elementwise_affine=True)\n",
              "        (enc_attn_layer_norm): LayerNorm((256,), eps=1e-05, elementwise_affine=True)\n",
              "        (ff_layer_norm): LayerNorm((256,), eps=1e-05, elementwise_affine=True)\n",
              "        (self_attention): MultiHeadAttentionLayer(\n",
              "          (fc_q): Linear(in_features=256, out_features=256, bias=True)\n",
              "          (fc_k): Linear(in_features=256, out_features=256, bias=True)\n",
              "          (fc_v): Linear(in_features=256, out_features=256, bias=True)\n",
              "          (fc_o): Linear(in_features=256, out_features=256, bias=True)\n",
              "          (dropout): Dropout(p=0.1, inplace=False)\n",
              "          (attention_module): AdditiveAttention(\n",
              "            (W1): Linear(in_features=32, out_features=32, bias=True)\n",
              "            (W2): Linear(in_features=32, out_features=32, bias=True)\n",
              "            (V): Linear(in_features=32, out_features=1, bias=True)\n",
              "          )\n",
              "        )\n",
              "        (encoder_attention): MultiHeadAttentionLayer(\n",
              "          (fc_q): Linear(in_features=256, out_features=256, bias=True)\n",
              "          (fc_k): Linear(in_features=256, out_features=256, bias=True)\n",
              "          (fc_v): Linear(in_features=256, out_features=256, bias=True)\n",
              "          (fc_o): Linear(in_features=256, out_features=256, bias=True)\n",
              "          (dropout): Dropout(p=0.1, inplace=False)\n",
              "          (attention_module): AdditiveAttention(\n",
              "            (W1): Linear(in_features=32, out_features=32, bias=True)\n",
              "            (W2): Linear(in_features=32, out_features=32, bias=True)\n",
              "            (V): Linear(in_features=32, out_features=1, bias=True)\n",
              "          )\n",
              "        )\n",
              "        (feedforward): PositionwiseFeedforwardLayer(\n",
              "          (fc1): Linear(in_features=256, out_features=512, bias=True)\n",
              "          (fc2): Linear(in_features=512, out_features=256, bias=True)\n",
              "          (dropout): Dropout(p=0.1, inplace=False)\n",
              "        )\n",
              "        (dropout): Dropout(p=0.1, inplace=False)\n",
              "      )\n",
              "    )\n",
              "    (fc_out): Linear(in_features=256, out_features=6545, bias=True)\n",
              "    (dropout): Dropout(p=0.1, inplace=False)\n",
              "  )\n",
              ")"
            ]
          },
          "execution_count": 54,
          "metadata": {},
          "output_type": "execute_result"
        }
      ],
      "source": [
        "input_dim   = len(vocab_transform[SRC_LANGUAGE])\n",
        "output_dim  = len(vocab_transform[TRG_LANGUAGE])\n",
        "hid_dim = 256\n",
        "enc_layers = 3\n",
        "dec_layers = 3\n",
        "enc_heads = 8\n",
        "dec_heads = 8\n",
        "enc_pf_dim = 512\n",
        "dec_pf_dim = 512\n",
        "enc_dropout = 0.1\n",
        "dec_dropout = 0.1\n",
        "\n",
        "SRC_PAD_IDX = PAD_IDX\n",
        "TRG_PAD_IDX = PAD_IDX\n",
        "\n",
        "\n",
        "default_attention = DefaultAttention(head_dim=hid_dim // enc_heads)\n",
        "general_attention = GeneralAttention()\n",
        "multiplicative_attention = MultiplicativeAttention(head_dim=hid_dim // enc_heads)\n",
        "additive_attention = AdditiveAttention(head_dim=hid_dim // enc_heads)\n",
        "\n",
        "\n",
        "enc = Encoder(input_dim,\n",
        "              hid_dim,\n",
        "              enc_layers,\n",
        "              enc_heads,\n",
        "              enc_pf_dim,\n",
        "              enc_dropout,\n",
        "              device,\n",
        "              additive_attention,\n",
        "              max_length=1000\n",
        "              # max_length=len(mapping),\n",
        "              )\n",
        "\n",
        "dec = Decoder(output_dim,\n",
        "              hid_dim,\n",
        "              dec_layers,\n",
        "              dec_heads,\n",
        "              dec_pf_dim,\n",
        "              enc_dropout,\n",
        "              device,\n",
        "              additive_attention,\n",
        "              max_length=1000\n",
        "              # max_length=len(mapping),\n",
        "              )\n",
        "model = Seq2SeqTransformer(enc, dec, SRC_PAD_IDX, TRG_PAD_IDX, device).to(device)\n",
        "model.apply(initialize_weights)"
      ]
    },
    {
      "cell_type": "code",
      "execution_count": 55,
      "metadata": {
        "colab": {
          "base_uri": "https://localhost:8080/"
        },
        "id": "WYut5NinGAz0",
        "outputId": "28e5d873-4cb2-48c1-8d7b-41b81f4a9b7b"
      },
      "outputs": [
        {
          "name": "stdout",
          "output_type": "stream",
          "text": [
            "1619712\n",
            "256000\n",
            "   256\n",
            "   256\n",
            "   256\n",
            "   256\n",
            " 65536\n",
            "   256\n",
            " 65536\n",
            "   256\n",
            " 65536\n",
            "   256\n",
            " 65536\n",
            "   256\n",
            "  1024\n",
            "    32\n",
            "  1024\n",
            "    32\n",
            "    32\n",
            "     1\n",
            "131072\n",
            "   512\n",
            "131072\n",
            "   256\n",
            "   256\n",
            "   256\n",
            "   256\n",
            "   256\n",
            " 65536\n",
            "   256\n",
            " 65536\n",
            "   256\n",
            " 65536\n",
            "   256\n",
            " 65536\n",
            "   256\n",
            "131072\n",
            "   512\n",
            "131072\n",
            "   256\n",
            "   256\n",
            "   256\n",
            "   256\n",
            "   256\n",
            " 65536\n",
            "   256\n",
            " 65536\n",
            "   256\n",
            " 65536\n",
            "   256\n",
            " 65536\n",
            "   256\n",
            "131072\n",
            "   512\n",
            "131072\n",
            "   256\n",
            "1675520\n",
            "256000\n",
            "   256\n",
            "   256\n",
            "   256\n",
            "   256\n",
            "   256\n",
            "   256\n",
            " 65536\n",
            "   256\n",
            " 65536\n",
            "   256\n",
            " 65536\n",
            "   256\n",
            " 65536\n",
            "   256\n",
            " 65536\n",
            "   256\n",
            " 65536\n",
            "   256\n",
            " 65536\n",
            "   256\n",
            " 65536\n",
            "   256\n",
            "131072\n",
            "   512\n",
            "131072\n",
            "   256\n",
            "   256\n",
            "   256\n",
            "   256\n",
            "   256\n",
            "   256\n",
            "   256\n",
            " 65536\n",
            "   256\n",
            " 65536\n",
            "   256\n",
            " 65536\n",
            "   256\n",
            " 65536\n",
            "   256\n",
            " 65536\n",
            "   256\n",
            " 65536\n",
            "   256\n",
            " 65536\n",
            "   256\n",
            " 65536\n",
            "   256\n",
            "131072\n",
            "   512\n",
            "131072\n",
            "   256\n",
            "   256\n",
            "   256\n",
            "   256\n",
            "   256\n",
            "   256\n",
            "   256\n",
            " 65536\n",
            "   256\n",
            " 65536\n",
            "   256\n",
            " 65536\n",
            "   256\n",
            " 65536\n",
            "   256\n",
            " 65536\n",
            "   256\n",
            " 65536\n",
            "   256\n",
            " 65536\n",
            "   256\n",
            " 65536\n",
            "   256\n",
            "131072\n",
            "   512\n",
            "131072\n",
            "   256\n",
            "1675520\n",
            "  6545\n",
            "______\n",
            "9445106\n"
          ]
        }
      ],
      "source": [
        "#we can print the complexity by the number of parameters\n",
        "def count_parameters(model):\n",
        "    params = [p.numel() for p in model.parameters() if p.requires_grad]\n",
        "    for item in params:\n",
        "        print(f'{item:>6}')\n",
        "    print(f'______\\n{sum(params):>6}')\n",
        "\n",
        "count_parameters(model)"
      ]
    },
    {
      "cell_type": "code",
      "execution_count": 56,
      "metadata": {
        "id": "cCpYp-7tGAz0"
      },
      "outputs": [],
      "source": [
        "import torch.optim as optim\n",
        "\n",
        "lr = 0.0005\n",
        "\n",
        "#training hyperparameters\n",
        "optimizer = optim.Adam(model.parameters(), lr=lr)\n",
        "criterion = nn.CrossEntropyLoss(ignore_index = TRG_PAD_IDX) #combine softmax with cross entropy"
      ]
    },
    {
      "cell_type": "markdown",
      "metadata": {
        "id": "2Wud7dr5GAz0"
      },
      "source": [
        "Then, we'll define our training loop. This is the exact same as the one used in the previous tutorial.\n",
        "\n",
        "As we want our model to predict the `<eos>` token but not have it be an input into our model we simply slice the `<eos>` token off the end of the sequence. Thus:\n",
        "\n",
        "$$\\begin{align*}\n",
        "\\text{trg} &= [sos, x_1, x_2, x_3, eos]\\\\\n",
        "\\text{trg[:-1]} &= [sos, x_1, x_2, x_3]\n",
        "\\end{align*}$$\n",
        "\n",
        "$x_i$ denotes actual target sequence element. We then feed this into the model to get a predicted sequence that should hopefully predict the `<eos>` token:\n",
        "\n",
        "$$\\begin{align*}\n",
        "\\text{output} &= [y_1, y_2, y_3, eos]\n",
        "\\end{align*}$$\n",
        "\n",
        "$y_i$ denotes predicted target sequence element. We then calculate our loss using the original `trg` tensor with the `<sos>` token sliced off the front, leaving the `<eos>` token:\n",
        "\n",
        "$$\\begin{align*}\n",
        "\\text{output} &= [y_1, y_2, y_3, eos]\\\\\n",
        "\\text{trg[1:]} &= [x_1, x_2, x_3, eos]\n",
        "\\end{align*}$$\n",
        "\n",
        "We then calculate our losses and update our parameters as is standard."
      ]
    },
    {
      "cell_type": "code",
      "execution_count": 57,
      "metadata": {
        "id": "4b-LdofVGAz0"
      },
      "outputs": [],
      "source": [
        "def train(model, loader, optimizer, criterion, clip, loader_length):\n",
        "\n",
        "    model.train()\n",
        "\n",
        "    epoch_loss = 0\n",
        "\n",
        "    for src, src_len, trg in loader:\n",
        "\n",
        "        src = src.to(device)\n",
        "        trg = trg.to(device)\n",
        "\n",
        "        optimizer.zero_grad()\n",
        "\n",
        "        #trg[:, :-1] remove the eos, e.g., \"<sos> I love sushi\" since teaching forcing, the input does not need to have eos\n",
        "        output, _ = model(src, trg[:,:-1])\n",
        "\n",
        "        #output = [batch size, trg len - 1, output dim]\n",
        "        #trg    = [batch size, trg len]\n",
        "\n",
        "        output_dim = output.shape[-1]\n",
        "\n",
        "        output = output.reshape(-1, output_dim)\n",
        "        trg = trg[:,1:].reshape(-1) #trg[:, 1:] remove the sos, e.g., \"i love sushi <eos>\" since in teaching forcing, the output does not have sos\n",
        "\n",
        "        #output = [batch size * trg len - 1, output dim]\n",
        "        #trg    = [batch size * trg len - 1]\n",
        "\n",
        "        loss = criterion(output, trg)\n",
        "\n",
        "        loss.backward()\n",
        "\n",
        "        torch.nn.utils.clip_grad_norm_(model.parameters(), clip)\n",
        "\n",
        "        optimizer.step()\n",
        "\n",
        "        epoch_loss += loss.item()\n",
        "\n",
        "    return epoch_loss / loader_length"
      ]
    },
    {
      "cell_type": "markdown",
      "metadata": {
        "id": "tKnZs0EPGAz0"
      },
      "source": [
        "Our evaluation loop is similar to our training loop, however as we aren't updating any parameters we don't need to pass an optimizer or a clip value."
      ]
    },
    {
      "cell_type": "code",
      "execution_count": 58,
      "metadata": {
        "id": "86upe25AGAz1"
      },
      "outputs": [],
      "source": [
        "def evaluate(model, loader, criterion, loader_length):\n",
        "\n",
        "    model.eval()\n",
        "\n",
        "    epoch_loss = 0\n",
        "\n",
        "    with torch.no_grad():\n",
        "\n",
        "        for src, src_len, trg in loader:\n",
        "\n",
        "            src = src.to(device)\n",
        "            trg = trg.to(device)\n",
        "\n",
        "            output, _ = model(src, trg[:,:-1])\n",
        "\n",
        "            #output = [batch size, trg len - 1, output dim]\n",
        "            #trg = [batch size, trg len]\n",
        "\n",
        "            output_dim = output.shape[-1]\n",
        "\n",
        "            output = output.contiguous().view(-1, output_dim)\n",
        "            trg = trg[:,1:].contiguous().view(-1)\n",
        "\n",
        "            #output = [batch size * trg len - 1, output dim]\n",
        "            #trg = [batch size * trg len - 1]\n",
        "\n",
        "            loss = criterion(output, trg)\n",
        "\n",
        "            epoch_loss += loss.item()\n",
        "\n",
        "    return epoch_loss / loader_length"
      ]
    },
    {
      "cell_type": "markdown",
      "metadata": {
        "id": "Gtwt4HUAGAz1"
      },
      "source": [
        "### Putting everything together\n",
        "\n",
        "Finally, we train our actual model. This model is almost 3x faster than the convolutional sequence-to-sequence model and also achieves a lower validation perplexity!\n",
        "\n",
        "**Note: similar to CNN, this model always has a teacher forcing ratio of 1, i.e. it will always use the ground truth next token from the target sequence (this is simply because CNN do everything in parallel so we cannot have the next token). This means we cannot compare perplexity values against the previous models when they are using a teacher forcing ratio that is not 1. To understand this, try run previous tutorials with teaching forcing ratio of 1, you will get very low perplexity.  **   "
      ]
    },
    {
      "cell_type": "code",
      "execution_count": 59,
      "metadata": {
        "id": "K-ookagiGAz1"
      },
      "outputs": [],
      "source": [
        "train_loader_length = len(train_loader)\n",
        "val_loader_length   = len(valid_loader)\n",
        "test_loader_length  = len(test_loader)"
      ]
    },
    {
      "cell_type": "code",
      "execution_count": 60,
      "metadata": {
        "id": "1LUe8D_FGAz1"
      },
      "outputs": [],
      "source": [
        "def epoch_time(start_time, end_time):\n",
        "    elapsed_time = end_time - start_time\n",
        "    elapsed_mins = int(elapsed_time / 60)\n",
        "    elapsed_secs = int(elapsed_time - (elapsed_mins * 60))\n",
        "    return elapsed_mins, elapsed_secs"
      ]
    },
    {
      "cell_type": "code",
      "execution_count": 61,
      "metadata": {
        "id": "L72_cCF0G_RV"
      },
      "outputs": [],
      "source": [
        "!mkdir models"
      ]
    },
    {
      "cell_type": "code",
      "execution_count": 62,
      "metadata": {
        "id": "yiiCY2mSGAz2"
      },
      "outputs": [],
      "source": [
        "\n",
        "# best_valid_loss = float('inf')\n",
        "# num_epochs = 10\n",
        "# clip       = 1\n",
        "\n",
        "# save_path = f'models/{model.__class__.__name__}.pt'\n",
        "\n",
        "# train_losses = []\n",
        "# valid_losses = []\n",
        "\n",
        "# for epoch in range(num_epochs):\n",
        "\n",
        "#     start_time = time.time()\n",
        "\n",
        "#     train_loss = train(model, train_loader, optimizer, criterion, clip, train_loader_length)\n",
        "#     valid_loss = evaluate(model, valid_loader, criterion, val_loader_length)\n",
        "\n",
        "#     #for plotting\n",
        "#     train_losses.append(train_loss)\n",
        "#     valid_losses.append(valid_loss)\n",
        "\n",
        "#     end_time = time.time()\n",
        "\n",
        "#     epoch_mins, epoch_secs = epoch_time(start_time, end_time)\n",
        "\n",
        "\n",
        "#     if valid_loss < best_valid_loss:\n",
        "#         best_valid_loss = valid_loss\n",
        "#         torch.save(model.state_dict(), save_path)\n",
        "\n",
        "#     print(f'Epoch: {epoch+1:02} | Time: {epoch_mins}m {epoch_secs}s')\n",
        "#     print(f'\\tTrain Loss: {train_loss:.3f} | Train PPL: {math.exp(train_loss):7.3f}')\n",
        "#     print(f'\\t Val. Loss: {valid_loss:.3f} |  Val. PPL: {math.exp(valid_loss):7.3f}')\n",
        "\n",
        "#     #lower perplexity is better"
      ]
    },
    {
      "cell_type": "code",
      "execution_count": 63,
      "metadata": {
        "id": "JqbIOEkhGAz2"
      },
      "outputs": [],
      "source": [
        "# import matplotlib.pyplot as plt\n",
        "# fig = plt.figure(figsize=(5, 3))\n",
        "# ax = fig.add_subplot(1, 1, 1)\n",
        "# ax.plot(train_losses, label = 'train loss')\n",
        "# ax.plot(valid_losses, label = 'valid loss')\n",
        "# plt.legend()\n",
        "# ax.set_xlabel('updates')\n",
        "# ax.set_ylabel('loss')"
      ]
    },
    {
      "cell_type": "code",
      "execution_count": 64,
      "metadata": {
        "id": "fZVgYJyIGAz2"
      },
      "outputs": [],
      "source": [
        "# model.load_state_dict(torch.load(save_path))\n",
        "# test_loss = evaluate(model, test_loader, criterion, test_loader_length)\n",
        "\n",
        "# print(f'| Test Loss: {test_loss:.3f} | Test PPL: {math.exp(test_loss):7.3f} |')"
      ]
    },
    {
      "cell_type": "markdown",
      "metadata": {
        "id": "D_lDTs3bH4QK"
      },
      "source": [
        "### Default Attention"
      ]
    },
    {
      "cell_type": "code",
      "execution_count": 65,
      "metadata": {
        "colab": {
          "base_uri": "https://localhost:8080/"
        },
        "id": "jUfOGbtsH1FP",
        "outputId": "c7636888-a3ec-4383-c46c-0b3e3e10e9c7"
      },
      "outputs": [
        {
          "data": {
            "text/plain": [
              "Seq2SeqTransformer(\n",
              "  (encoder): Encoder(\n",
              "    (tok_embedding): Embedding(6327, 256)\n",
              "    (pos_embedding): Embedding(1000, 256)\n",
              "    (layers): ModuleList(\n",
              "      (0-2): 3 x EncoderLayer(\n",
              "        (self_attn_layer_norm): LayerNorm((256,), eps=1e-05, elementwise_affine=True)\n",
              "        (ff_layer_norm): LayerNorm((256,), eps=1e-05, elementwise_affine=True)\n",
              "        (self_attention): MultiHeadAttentionLayer(\n",
              "          (fc_q): Linear(in_features=256, out_features=256, bias=True)\n",
              "          (fc_k): Linear(in_features=256, out_features=256, bias=True)\n",
              "          (fc_v): Linear(in_features=256, out_features=256, bias=True)\n",
              "          (fc_o): Linear(in_features=256, out_features=256, bias=True)\n",
              "          (dropout): Dropout(p=0.1, inplace=False)\n",
              "          (attention_module): DefaultAttention()\n",
              "        )\n",
              "        (feedforward): PositionwiseFeedforwardLayer(\n",
              "          (fc1): Linear(in_features=256, out_features=512, bias=True)\n",
              "          (fc2): Linear(in_features=512, out_features=256, bias=True)\n",
              "          (dropout): Dropout(p=0.1, inplace=False)\n",
              "        )\n",
              "        (dropout): Dropout(p=0.1, inplace=False)\n",
              "      )\n",
              "    )\n",
              "    (dropout): Dropout(p=0.1, inplace=False)\n",
              "  )\n",
              "  (decoder): Decoder(\n",
              "    (tok_embedding): Embedding(6545, 256)\n",
              "    (pos_embedding): Embedding(1000, 256)\n",
              "    (layers): ModuleList(\n",
              "      (0-2): 3 x DecoderLayer(\n",
              "        (self_attn_layer_norm): LayerNorm((256,), eps=1e-05, elementwise_affine=True)\n",
              "        (enc_attn_layer_norm): LayerNorm((256,), eps=1e-05, elementwise_affine=True)\n",
              "        (ff_layer_norm): LayerNorm((256,), eps=1e-05, elementwise_affine=True)\n",
              "        (self_attention): MultiHeadAttentionLayer(\n",
              "          (fc_q): Linear(in_features=256, out_features=256, bias=True)\n",
              "          (fc_k): Linear(in_features=256, out_features=256, bias=True)\n",
              "          (fc_v): Linear(in_features=256, out_features=256, bias=True)\n",
              "          (fc_o): Linear(in_features=256, out_features=256, bias=True)\n",
              "          (dropout): Dropout(p=0.1, inplace=False)\n",
              "          (attention_module): DefaultAttention()\n",
              "        )\n",
              "        (encoder_attention): MultiHeadAttentionLayer(\n",
              "          (fc_q): Linear(in_features=256, out_features=256, bias=True)\n",
              "          (fc_k): Linear(in_features=256, out_features=256, bias=True)\n",
              "          (fc_v): Linear(in_features=256, out_features=256, bias=True)\n",
              "          (fc_o): Linear(in_features=256, out_features=256, bias=True)\n",
              "          (dropout): Dropout(p=0.1, inplace=False)\n",
              "          (attention_module): DefaultAttention()\n",
              "        )\n",
              "        (feedforward): PositionwiseFeedforwardLayer(\n",
              "          (fc1): Linear(in_features=256, out_features=512, bias=True)\n",
              "          (fc2): Linear(in_features=512, out_features=256, bias=True)\n",
              "          (dropout): Dropout(p=0.1, inplace=False)\n",
              "        )\n",
              "        (dropout): Dropout(p=0.1, inplace=False)\n",
              "      )\n",
              "    )\n",
              "    (fc_out): Linear(in_features=256, out_features=6545, bias=True)\n",
              "    (dropout): Dropout(p=0.1, inplace=False)\n",
              "  )\n",
              ")"
            ]
          },
          "execution_count": 65,
          "metadata": {},
          "output_type": "execute_result"
        }
      ],
      "source": [
        "input_dim   = len(vocab_transform[SRC_LANGUAGE])\n",
        "output_dim  = len(vocab_transform[TRG_LANGUAGE])\n",
        "hid_dim = 256\n",
        "enc_layers = 3\n",
        "dec_layers = 3\n",
        "enc_heads = 8\n",
        "dec_heads = 8\n",
        "enc_pf_dim = 512\n",
        "dec_pf_dim = 512\n",
        "enc_dropout = 0.1\n",
        "dec_dropout = 0.1\n",
        "\n",
        "SRC_PAD_IDX = PAD_IDX\n",
        "TRG_PAD_IDX = PAD_IDX\n",
        "\n",
        "\n",
        "default_attention = DefaultAttention(head_dim=hid_dim // enc_heads)\n",
        "general_attention = GeneralAttention()\n",
        "multiplicative_attention = MultiplicativeAttention(head_dim=hid_dim // enc_heads)\n",
        "additive_attention = AdditiveAttention(head_dim=hid_dim // enc_heads)\n",
        "\n",
        "\n",
        "enc = Encoder(input_dim,\n",
        "              hid_dim,\n",
        "              enc_layers,\n",
        "              enc_heads,\n",
        "              enc_pf_dim,\n",
        "              enc_dropout,\n",
        "              device,\n",
        "              default_attention,\n",
        "              max_length=1000\n",
        "              # max_length=len(mapping),\n",
        "              )\n",
        "\n",
        "dec = Decoder(output_dim,\n",
        "              hid_dim,\n",
        "              dec_layers,\n",
        "              dec_heads,\n",
        "              dec_pf_dim,\n",
        "              enc_dropout,\n",
        "              device,\n",
        "              default_attention,\n",
        "              max_length=1000\n",
        "              # max_length=len(mapping),\n",
        "              )\n",
        "model = Seq2SeqTransformer(enc, dec, SRC_PAD_IDX, TRG_PAD_IDX, device).to(device)\n",
        "model.apply(initialize_weights)"
      ]
    },
    {
      "cell_type": "code",
      "execution_count": 66,
      "metadata": {
        "colab": {
          "base_uri": "https://localhost:8080/"
        },
        "id": "NvY_iw4vH1FQ",
        "outputId": "97493c1b-3235-43db-82e0-19616a269bf8"
      },
      "outputs": [
        {
          "name": "stdout",
          "output_type": "stream",
          "text": [
            "1619712\n",
            "256000\n",
            "   256\n",
            "   256\n",
            "   256\n",
            "   256\n",
            " 65536\n",
            "   256\n",
            " 65536\n",
            "   256\n",
            " 65536\n",
            "   256\n",
            " 65536\n",
            "   256\n",
            "131072\n",
            "   512\n",
            "131072\n",
            "   256\n",
            "   256\n",
            "   256\n",
            "   256\n",
            "   256\n",
            " 65536\n",
            "   256\n",
            " 65536\n",
            "   256\n",
            " 65536\n",
            "   256\n",
            " 65536\n",
            "   256\n",
            "131072\n",
            "   512\n",
            "131072\n",
            "   256\n",
            "   256\n",
            "   256\n",
            "   256\n",
            "   256\n",
            " 65536\n",
            "   256\n",
            " 65536\n",
            "   256\n",
            " 65536\n",
            "   256\n",
            " 65536\n",
            "   256\n",
            "131072\n",
            "   512\n",
            "131072\n",
            "   256\n",
            "1675520\n",
            "256000\n",
            "   256\n",
            "   256\n",
            "   256\n",
            "   256\n",
            "   256\n",
            "   256\n",
            " 65536\n",
            "   256\n",
            " 65536\n",
            "   256\n",
            " 65536\n",
            "   256\n",
            " 65536\n",
            "   256\n",
            " 65536\n",
            "   256\n",
            " 65536\n",
            "   256\n",
            " 65536\n",
            "   256\n",
            " 65536\n",
            "   256\n",
            "131072\n",
            "   512\n",
            "131072\n",
            "   256\n",
            "   256\n",
            "   256\n",
            "   256\n",
            "   256\n",
            "   256\n",
            "   256\n",
            " 65536\n",
            "   256\n",
            " 65536\n",
            "   256\n",
            " 65536\n",
            "   256\n",
            " 65536\n",
            "   256\n",
            " 65536\n",
            "   256\n",
            " 65536\n",
            "   256\n",
            " 65536\n",
            "   256\n",
            " 65536\n",
            "   256\n",
            "131072\n",
            "   512\n",
            "131072\n",
            "   256\n",
            "   256\n",
            "   256\n",
            "   256\n",
            "   256\n",
            "   256\n",
            "   256\n",
            " 65536\n",
            "   256\n",
            " 65536\n",
            "   256\n",
            " 65536\n",
            "   256\n",
            " 65536\n",
            "   256\n",
            " 65536\n",
            "   256\n",
            " 65536\n",
            "   256\n",
            " 65536\n",
            "   256\n",
            " 65536\n",
            "   256\n",
            "131072\n",
            "   512\n",
            "131072\n",
            "   256\n",
            "1675520\n",
            "  6545\n",
            "______\n",
            "9442961\n"
          ]
        }
      ],
      "source": [
        "#we can print the complexity by the number of parameters\n",
        "def count_parameters(model):\n",
        "    params = [p.numel() for p in model.parameters() if p.requires_grad]\n",
        "    for item in params:\n",
        "        print(f'{item:>6}')\n",
        "    print(f'______\\n{sum(params):>6}')\n",
        "\n",
        "count_parameters(model)"
      ]
    },
    {
      "cell_type": "code",
      "execution_count": 67,
      "metadata": {
        "id": "gILP4LEfH1FQ"
      },
      "outputs": [],
      "source": [
        "import torch.optim as optim\n",
        "\n",
        "lr = 0.0005\n",
        "\n",
        "#training hyperparameters\n",
        "optimizer = optim.Adam(model.parameters(), lr=lr)\n",
        "criterion = nn.CrossEntropyLoss(ignore_index = TRG_PAD_IDX) #combine softmax with cross entropy"
      ]
    },
    {
      "cell_type": "code",
      "execution_count": 68,
      "metadata": {
        "id": "8vb6bOIwH1FQ"
      },
      "outputs": [],
      "source": [
        "def train(model, loader, optimizer, criterion, clip, loader_length):\n",
        "\n",
        "    model.train()\n",
        "\n",
        "    epoch_loss = 0\n",
        "\n",
        "    for src, src_len, trg in loader:\n",
        "\n",
        "        src = src.to(device)\n",
        "        trg = trg.to(device)\n",
        "\n",
        "        optimizer.zero_grad()\n",
        "\n",
        "        #trg[:, :-1] remove the eos, e.g., \"<sos> I love sushi\" since teaching forcing, the input does not need to have eos\n",
        "        output, _ = model(src, trg[:,:-1])\n",
        "\n",
        "        #output = [batch size, trg len - 1, output dim]\n",
        "        #trg    = [batch size, trg len]\n",
        "\n",
        "        output_dim = output.shape[-1]\n",
        "\n",
        "        output = output.reshape(-1, output_dim)\n",
        "        trg = trg[:,1:].reshape(-1) #trg[:, 1:] remove the sos, e.g., \"i love sushi <eos>\" since in teaching forcing, the output does not have sos\n",
        "\n",
        "        #output = [batch size * trg len - 1, output dim]\n",
        "        #trg    = [batch size * trg len - 1]\n",
        "\n",
        "        loss = criterion(output, trg)\n",
        "\n",
        "        loss.backward()\n",
        "\n",
        "        torch.nn.utils.clip_grad_norm_(model.parameters(), clip)\n",
        "\n",
        "        optimizer.step()\n",
        "\n",
        "        epoch_loss += loss.item()\n",
        "\n",
        "    return epoch_loss / loader_length"
      ]
    },
    {
      "cell_type": "code",
      "execution_count": 69,
      "metadata": {
        "id": "GjK3CKaiH1FQ"
      },
      "outputs": [],
      "source": [
        "def evaluate(model, loader, criterion, loader_length):\n",
        "\n",
        "    model.eval()\n",
        "\n",
        "    epoch_loss = 0\n",
        "\n",
        "    with torch.no_grad():\n",
        "\n",
        "        for src, src_len, trg in loader:\n",
        "\n",
        "            src = src.to(device)\n",
        "            trg = trg.to(device)\n",
        "\n",
        "            output, _ = model(src, trg[:,:-1])\n",
        "\n",
        "            #output = [batch size, trg len - 1, output dim]\n",
        "            #trg = [batch size, trg len]\n",
        "\n",
        "            output_dim = output.shape[-1]\n",
        "\n",
        "            output = output.contiguous().view(-1, output_dim)\n",
        "            trg = trg[:,1:].contiguous().view(-1)\n",
        "\n",
        "            #output = [batch size * trg len - 1, output dim]\n",
        "            #trg = [batch size * trg len - 1]\n",
        "\n",
        "            loss = criterion(output, trg)\n",
        "\n",
        "            epoch_loss += loss.item()\n",
        "\n",
        "    return epoch_loss / loader_length"
      ]
    },
    {
      "cell_type": "code",
      "execution_count": 70,
      "metadata": {
        "id": "63_EVBvIH1FQ"
      },
      "outputs": [],
      "source": [
        "train_loader_length = len(train_loader)\n",
        "val_loader_length   = len(valid_loader)\n",
        "test_loader_length  = len(test_loader)"
      ]
    },
    {
      "cell_type": "code",
      "execution_count": 71,
      "metadata": {
        "id": "uJH108HlH1FQ"
      },
      "outputs": [],
      "source": [
        "def epoch_time(start_time, end_time):\n",
        "    elapsed_time = end_time - start_time\n",
        "    elapsed_mins = int(elapsed_time / 60)\n",
        "    elapsed_secs = int(elapsed_time - (elapsed_mins * 60))\n",
        "    return elapsed_mins, elapsed_secs"
      ]
    },
    {
      "cell_type": "code",
      "execution_count": 72,
      "metadata": {
        "colab": {
          "base_uri": "https://localhost:8080/"
        },
        "id": "x6o2Htg0H1FR",
        "outputId": "25a760de-1864-437d-c7fd-d1ff262f86f2"
      },
      "outputs": [
        {
          "name": "stdout",
          "output_type": "stream",
          "text": [
            "Epoch: 01 | Time: 0m 58s\n",
            "\tTrain Loss: 5.953 | Train PPL: 384.881\n",
            "\t Val. Loss: 5.534 |  Val. PPL: 253.263\n",
            "Epoch: 02 | Time: 0m 54s\n",
            "\tTrain Loss: 5.597 | Train PPL: 269.641\n",
            "\t Val. Loss: 5.687 |  Val. PPL: 294.900\n",
            "Epoch: 03 | Time: 0m 58s\n",
            "\tTrain Loss: 5.554 | Train PPL: 258.383\n",
            "\t Val. Loss: 5.422 |  Val. PPL: 226.357\n",
            "Epoch: 04 | Time: 0m 53s\n",
            "\tTrain Loss: 5.445 | Train PPL: 231.687\n",
            "\t Val. Loss: 5.327 |  Val. PPL: 205.725\n",
            "Epoch: 05 | Time: 0m 54s\n",
            "\tTrain Loss: 5.329 | Train PPL: 206.243\n",
            "\t Val. Loss: 5.279 |  Val. PPL: 196.179\n",
            "Epoch: 06 | Time: 0m 54s\n",
            "\tTrain Loss: 5.228 | Train PPL: 186.469\n",
            "\t Val. Loss: 5.188 |  Val. PPL: 179.034\n",
            "Epoch: 07 | Time: 0m 54s\n",
            "\tTrain Loss: 5.144 | Train PPL: 171.426\n",
            "\t Val. Loss: 5.165 |  Val. PPL: 174.962\n",
            "Epoch: 08 | Time: 0m 53s\n",
            "\tTrain Loss: 5.066 | Train PPL: 158.529\n",
            "\t Val. Loss: 5.158 |  Val. PPL: 173.883\n",
            "Epoch: 09 | Time: 0m 53s\n",
            "\tTrain Loss: 5.018 | Train PPL: 151.084\n",
            "\t Val. Loss: 5.118 |  Val. PPL: 166.928\n",
            "Epoch: 10 | Time: 0m 53s\n",
            "\tTrain Loss: 4.961 | Train PPL: 142.723\n",
            "\t Val. Loss: 5.109 |  Val. PPL: 165.575\n"
          ]
        }
      ],
      "source": [
        "best_valid_loss = float('inf')\n",
        "num_epochs = 10\n",
        "clip       = 1\n",
        "\n",
        "save_path = f'/content/drive/My Drive/models/{model.__class__.__name__}.pt'\n",
        "\n",
        "train_losses = []\n",
        "valid_losses = []\n",
        "\n",
        "for epoch in range(num_epochs):\n",
        "\n",
        "    start_time = time.time()\n",
        "\n",
        "    train_loss = train(model, train_loader, optimizer, criterion, clip, train_loader_length)\n",
        "    valid_loss = evaluate(model, valid_loader, criterion, val_loader_length)\n",
        "\n",
        "    #for plotting\n",
        "    train_losses.append(train_loss)\n",
        "    valid_losses.append(valid_loss)\n",
        "\n",
        "    end_time = time.time()\n",
        "\n",
        "    epoch_mins, epoch_secs = epoch_time(start_time, end_time)\n",
        "\n",
        "\n",
        "    if valid_loss < best_valid_loss:\n",
        "        best_valid_loss = valid_loss\n",
        "        torch.save(model.state_dict(), save_path)\n",
        "\n",
        "    print(f'Epoch: {epoch+1:02} | Time: {epoch_mins}m {epoch_secs}s')\n",
        "    print(f'\\tTrain Loss: {train_loss:.3f} | Train PPL: {math.exp(train_loss):7.3f}')\n",
        "    print(f'\\t Val. Loss: {valid_loss:.3f} |  Val. PPL: {math.exp(valid_loss):7.3f}')\n",
        "\n",
        "    #lower perplexity is better"
      ]
    },
    {
      "cell_type": "code",
      "execution_count": 73,
      "metadata": {
        "colab": {
          "base_uri": "https://localhost:8080/",
          "height": 333
        },
        "id": "qJXrGVuyH1FR",
        "outputId": "94afdb70-f5ae-4604-bdba-91a08a8b72b0"
      },
      "outputs": [
        {
          "data": {
            "text/plain": [
              "Text(0, 0.5, 'loss')"
            ]
          },
          "execution_count": 73,
          "metadata": {},
          "output_type": "execute_result"
        },
        {
          "data": {
            "image/png": "[encoded data removed]",
            "text/plain": [
              "<Figure size 500x300 with 1 Axes>"
            ]
          },
          "metadata": {},
          "output_type": "display_data"
        }
      ],
      "source": [
        "import matplotlib.pyplot as plt\n",
        "fig = plt.figure(figsize=(5, 3))\n",
        "ax = fig.add_subplot(1, 1, 1)\n",
        "ax.plot(train_losses, label = 'train loss')\n",
        "ax.plot(valid_losses, label = 'valid loss')\n",
        "plt.legend()\n",
        "ax.set_xlabel('updates')\n",
        "ax.set_ylabel('loss')"
      ]
    },
    {
      "cell_type": "code",
      "execution_count": 74,
      "metadata": {
        "id": "WZyF_55Z3ZuB"
      },
      "outputs": [],
      "source": [
        "import matplotlib.ticker as ticker\n",
        "\n",
        "def display_attention(sentence, translation, attention):\n",
        "\n",
        "    fig = plt.figure(figsize=(10,10))\n",
        "    ax = fig.add_subplot(111)\n",
        "\n",
        "    attention = attention.squeeze(1).cpu().detach().numpy()\n",
        "\n",
        "    cax = ax.matshow(attention, cmap='bone')\n",
        "\n",
        "    ax.tick_params(labelsize=10)\n",
        "\n",
        "    y_ticks =  [''] + translation\n",
        "    x_ticks =  [''] + sentence\n",
        "\n",
        "    ax.set_xticklabels(x_ticks, rotation=45)\n",
        "    ax.set_yticklabels(y_ticks)\n",
        "\n",
        "    ax.xaxis.set_major_locator(ticker.MultipleLocator(1))\n",
        "    ax.yaxis.set_major_locator(ticker.MultipleLocator(1))\n",
        "\n",
        "    plt.show()\n",
        "    plt.close()"
      ]
    },
    {
      "cell_type": "code",
      "execution_count": 75,
      "metadata": {
        "colab": {
          "base_uri": "https://localhost:8080/"
        },
        "id": "FKjHytpZH1FR",
        "outputId": "ca4534d7-ddf1-4f2c-ffba-1d05428052e9"
      },
      "outputs": [
        {
          "name": "stdout",
          "output_type": "stream",
          "text": [
            "| Test Loss: 5.104 | Test PPL: 164.669 |\n"
          ]
        }
      ],
      "source": [
        "model.load_state_dict(torch.load(save_path))\n",
        "test_loss = evaluate(model, test_loader, criterion, test_loader_length)\n",
        "\n",
        "print(f'| Test Loss: {test_loss:.3f} | Test PPL: {math.exp(test_loss):7.3f} |')"
      ]
    },
    {
      "cell_type": "markdown",
      "metadata": {
        "id": "xcoTqyM7H8qv"
      },
      "source": [
        "### General Attention"
      ]
    },
    {
      "cell_type": "code",
      "execution_count": 76,
      "metadata": {
        "colab": {
          "base_uri": "https://localhost:8080/"
        },
        "id": "z23UM1a8H8qw",
        "outputId": "cc7f15c1-cdd6-47ba-e5b1-0872bac049a7"
      },
      "outputs": [
        {
          "data": {
            "text/plain": [
              "Seq2SeqTransformer(\n",
              "  (encoder): Encoder(\n",
              "    (tok_embedding): Embedding(6327, 256)\n",
              "    (pos_embedding): Embedding(1000, 256)\n",
              "    (layers): ModuleList(\n",
              "      (0-2): 3 x EncoderLayer(\n",
              "        (self_attn_layer_norm): LayerNorm((256,), eps=1e-05, elementwise_affine=True)\n",
              "        (ff_layer_norm): LayerNorm((256,), eps=1e-05, elementwise_affine=True)\n",
              "        (self_attention): MultiHeadAttentionLayer(\n",
              "          (fc_q): Linear(in_features=256, out_features=256, bias=True)\n",
              "          (fc_k): Linear(in_features=256, out_features=256, bias=True)\n",
              "          (fc_v): Linear(in_features=256, out_features=256, bias=True)\n",
              "          (fc_o): Linear(in_features=256, out_features=256, bias=True)\n",
              "          (dropout): Dropout(p=0.1, inplace=False)\n",
              "          (attention_module): GeneralAttention()\n",
              "        )\n",
              "        (feedforward): PositionwiseFeedforwardLayer(\n",
              "          (fc1): Linear(in_features=256, out_features=512, bias=True)\n",
              "          (fc2): Linear(in_features=512, out_features=256, bias=True)\n",
              "          (dropout): Dropout(p=0.1, inplace=False)\n",
              "        )\n",
              "        (dropout): Dropout(p=0.1, inplace=False)\n",
              "      )\n",
              "    )\n",
              "    (dropout): Dropout(p=0.1, inplace=False)\n",
              "  )\n",
              "  (decoder): Decoder(\n",
              "    (tok_embedding): Embedding(6545, 256)\n",
              "    (pos_embedding): Embedding(1000, 256)\n",
              "    (layers): ModuleList(\n",
              "      (0-2): 3 x DecoderLayer(\n",
              "        (self_attn_layer_norm): LayerNorm((256,), eps=1e-05, elementwise_affine=True)\n",
              "        (enc_attn_layer_norm): LayerNorm((256,), eps=1e-05, elementwise_affine=True)\n",
              "        (ff_layer_norm): LayerNorm((256,), eps=1e-05, elementwise_affine=True)\n",
              "        (self_attention): MultiHeadAttentionLayer(\n",
              "          (fc_q): Linear(in_features=256, out_features=256, bias=True)\n",
              "          (fc_k): Linear(in_features=256, out_features=256, bias=True)\n",
              "          (fc_v): Linear(in_features=256, out_features=256, bias=True)\n",
              "          (fc_o): Linear(in_features=256, out_features=256, bias=True)\n",
              "          (dropout): Dropout(p=0.1, inplace=False)\n",
              "          (attention_module): GeneralAttention()\n",
              "        )\n",
              "        (encoder_attention): MultiHeadAttentionLayer(\n",
              "          (fc_q): Linear(in_features=256, out_features=256, bias=True)\n",
              "          (fc_k): Linear(in_features=256, out_features=256, bias=True)\n",
              "          (fc_v): Linear(in_features=256, out_features=256, bias=True)\n",
              "          (fc_o): Linear(in_features=256, out_features=256, bias=True)\n",
              "          (dropout): Dropout(p=0.1, inplace=False)\n",
              "          (attention_module): GeneralAttention()\n",
              "        )\n",
              "        (feedforward): PositionwiseFeedforwardLayer(\n",
              "          (fc1): Linear(in_features=256, out_features=512, bias=True)\n",
              "          (fc2): Linear(in_features=512, out_features=256, bias=True)\n",
              "          (dropout): Dropout(p=0.1, inplace=False)\n",
              "        )\n",
              "        (dropout): Dropout(p=0.1, inplace=False)\n",
              "      )\n",
              "    )\n",
              "    (fc_out): Linear(in_features=256, out_features=6545, bias=True)\n",
              "    (dropout): Dropout(p=0.1, inplace=False)\n",
              "  )\n",
              ")"
            ]
          },
          "execution_count": 76,
          "metadata": {},
          "output_type": "execute_result"
        }
      ],
      "source": [
        "input_dim   = len(vocab_transform[SRC_LANGUAGE])\n",
        "output_dim  = len(vocab_transform[TRG_LANGUAGE])\n",
        "hid_dim = 256\n",
        "enc_layers = 3\n",
        "dec_layers = 3\n",
        "enc_heads = 8\n",
        "dec_heads = 8\n",
        "enc_pf_dim = 512\n",
        "dec_pf_dim = 512\n",
        "enc_dropout = 0.1\n",
        "dec_dropout = 0.1\n",
        "\n",
        "SRC_PAD_IDX = PAD_IDX\n",
        "TRG_PAD_IDX = PAD_IDX\n",
        "\n",
        "\n",
        "default_attention = DefaultAttention(head_dim=hid_dim // enc_heads)\n",
        "general_attention = GeneralAttention()\n",
        "multiplicative_attention = MultiplicativeAttention(head_dim=hid_dim // enc_heads)\n",
        "additive_attention = AdditiveAttention(head_dim=hid_dim // enc_heads)\n",
        "\n",
        "\n",
        "enc = Encoder(input_dim,\n",
        "              hid_dim,\n",
        "              enc_layers,\n",
        "              enc_heads,\n",
        "              enc_pf_dim,\n",
        "              enc_dropout,\n",
        "              device,\n",
        "              general_attention,\n",
        "              max_length=1000\n",
        "              # max_length=len(mapping),\n",
        "              )\n",
        "\n",
        "dec = Decoder(output_dim,\n",
        "              hid_dim,\n",
        "              dec_layers,\n",
        "              dec_heads,\n",
        "              dec_pf_dim,\n",
        "              enc_dropout,\n",
        "              device,\n",
        "              general_attention,\n",
        "              max_length=1000\n",
        "              # max_length=len(mapping),\n",
        "              )\n",
        "model = Seq2SeqTransformer(enc, dec, SRC_PAD_IDX, TRG_PAD_IDX, device).to(device)\n",
        "model.apply(initialize_weights)"
      ]
    },
    {
      "cell_type": "code",
      "execution_count": 77,
      "metadata": {
        "colab": {
          "base_uri": "https://localhost:8080/"
        },
        "id": "zCGhKXNyH8qw",
        "outputId": "46f4010a-f867-4e1b-be1e-8c07747adf8f"
      },
      "outputs": [
        {
          "name": "stdout",
          "output_type": "stream",
          "text": [
            "1619712\n",
            "256000\n",
            "   256\n",
            "   256\n",
            "   256\n",
            "   256\n",
            " 65536\n",
            "   256\n",
            " 65536\n",
            "   256\n",
            " 65536\n",
            "   256\n",
            " 65536\n",
            "   256\n",
            "131072\n",
            "   512\n",
            "131072\n",
            "   256\n",
            "   256\n",
            "   256\n",
            "   256\n",
            "   256\n",
            " 65536\n",
            "   256\n",
            " 65536\n",
            "   256\n",
            " 65536\n",
            "   256\n",
            " 65536\n",
            "   256\n",
            "131072\n",
            "   512\n",
            "131072\n",
            "   256\n",
            "   256\n",
            "   256\n",
            "   256\n",
            "   256\n",
            " 65536\n",
            "   256\n",
            " 65536\n",
            "   256\n",
            " 65536\n",
            "   256\n",
            " 65536\n",
            "   256\n",
            "131072\n",
            "   512\n",
            "131072\n",
            "   256\n",
            "1675520\n",
            "256000\n",
            "   256\n",
            "   256\n",
            "   256\n",
            "   256\n",
            "   256\n",
            "   256\n",
            " 65536\n",
            "   256\n",
            " 65536\n",
            "   256\n",
            " 65536\n",
            "   256\n",
            " 65536\n",
            "   256\n",
            " 65536\n",
            "   256\n",
            " 65536\n",
            "   256\n",
            " 65536\n",
            "   256\n",
            " 65536\n",
            "   256\n",
            "131072\n",
            "   512\n",
            "131072\n",
            "   256\n",
            "   256\n",
            "   256\n",
            "   256\n",
            "   256\n",
            "   256\n",
            "   256\n",
            " 65536\n",
            "   256\n",
            " 65536\n",
            "   256\n",
            " 65536\n",
            "   256\n",
            " 65536\n",
            "   256\n",
            " 65536\n",
            "   256\n",
            " 65536\n",
            "   256\n",
            " 65536\n",
            "   256\n",
            " 65536\n",
            "   256\n",
            "131072\n",
            "   512\n",
            "131072\n",
            "   256\n",
            "   256\n",
            "   256\n",
            "   256\n",
            "   256\n",
            "   256\n",
            "   256\n",
            " 65536\n",
            "   256\n",
            " 65536\n",
            "   256\n",
            " 65536\n",
            "   256\n",
            " 65536\n",
            "   256\n",
            " 65536\n",
            "   256\n",
            " 65536\n",
            "   256\n",
            " 65536\n",
            "   256\n",
            " 65536\n",
            "   256\n",
            "131072\n",
            "   512\n",
            "131072\n",
            "   256\n",
            "1675520\n",
            "  6545\n",
            "______\n",
            "9442961\n"
          ]
        }
      ],
      "source": [
        "#we can print the complexity by the number of parameters\n",
        "def count_parameters(model):\n",
        "    params = [p.numel() for p in model.parameters() if p.requires_grad]\n",
        "    for item in params:\n",
        "        print(f'{item:>6}')\n",
        "    print(f'______\\n{sum(params):>6}')\n",
        "\n",
        "count_parameters(model)"
      ]
    },
    {
      "cell_type": "code",
      "execution_count": 78,
      "metadata": {
        "id": "bx88-SjJH8qw"
      },
      "outputs": [],
      "source": [
        "import torch.optim as optim\n",
        "\n",
        "lr = 0.0005\n",
        "\n",
        "#training hyperparameters\n",
        "optimizer = optim.Adam(model.parameters(), lr=lr)\n",
        "criterion = nn.CrossEntropyLoss(ignore_index = TRG_PAD_IDX) #combine softmax with cross entropy"
      ]
    },
    {
      "cell_type": "code",
      "execution_count": 79,
      "metadata": {
        "id": "EZDc7HlgH8qw"
      },
      "outputs": [],
      "source": [
        "def train(model, loader, optimizer, criterion, clip, loader_length):\n",
        "\n",
        "    model.train()\n",
        "\n",
        "    epoch_loss = 0\n",
        "\n",
        "    for src, src_len, trg in loader:\n",
        "\n",
        "        src = src.to(device)\n",
        "        trg = trg.to(device)\n",
        "\n",
        "        optimizer.zero_grad()\n",
        "\n",
        "        #trg[:, :-1] remove the eos, e.g., \"<sos> I love sushi\" since teaching forcing, the input does not need to have eos\n",
        "        output, _ = model(src, trg[:,:-1])\n",
        "\n",
        "        #output = [batch size, trg len - 1, output dim]\n",
        "        #trg    = [batch size, trg len]\n",
        "\n",
        "        output_dim = output.shape[-1]\n",
        "\n",
        "        output = output.reshape(-1, output_dim)\n",
        "        trg = trg[:,1:].reshape(-1) #trg[:, 1:] remove the sos, e.g., \"i love sushi <eos>\" since in teaching forcing, the output does not have sos\n",
        "\n",
        "        #output = [batch size * trg len - 1, output dim]\n",
        "        #trg    = [batch size * trg len - 1]\n",
        "\n",
        "        loss = criterion(output, trg)\n",
        "\n",
        "        loss.backward()\n",
        "\n",
        "        torch.nn.utils.clip_grad_norm_(model.parameters(), clip)\n",
        "\n",
        "        optimizer.step()\n",
        "\n",
        "        epoch_loss += loss.item()\n",
        "\n",
        "    return epoch_loss / loader_length"
      ]
    },
    {
      "cell_type": "code",
      "execution_count": 80,
      "metadata": {
        "id": "98nO6h53H8qw"
      },
      "outputs": [],
      "source": [
        "def evaluate(model, loader, criterion, loader_length):\n",
        "\n",
        "    model.eval()\n",
        "\n",
        "    epoch_loss = 0\n",
        "\n",
        "    with torch.no_grad():\n",
        "\n",
        "        for src, src_len, trg in loader:\n",
        "\n",
        "            src = src.to(device)\n",
        "            trg = trg.to(device)\n",
        "\n",
        "            output, _ = model(src, trg[:,:-1])\n",
        "\n",
        "            #output = [batch size, trg len - 1, output dim]\n",
        "            #trg = [batch size, trg len]\n",
        "\n",
        "            output_dim = output.shape[-1]\n",
        "\n",
        "            output = output.contiguous().view(-1, output_dim)\n",
        "            trg = trg[:,1:].contiguous().view(-1)\n",
        "\n",
        "            #output = [batch size * trg len - 1, output dim]\n",
        "            #trg = [batch size * trg len - 1]\n",
        "\n",
        "            loss = criterion(output, trg)\n",
        "\n",
        "            epoch_loss += loss.item()\n",
        "\n",
        "    return epoch_loss / loader_length"
      ]
    },
    {
      "cell_type": "code",
      "execution_count": 81,
      "metadata": {
        "id": "xb8M_tgIH8qw"
      },
      "outputs": [],
      "source": [
        "train_loader_length = len(train_loader)\n",
        "val_loader_length   = len(valid_loader)\n",
        "test_loader_length  = len(test_loader)"
      ]
    },
    {
      "cell_type": "code",
      "execution_count": 82,
      "metadata": {
        "id": "nFZvrzIpH8qw"
      },
      "outputs": [],
      "source": [
        "def epoch_time(start_time, end_time):\n",
        "    elapsed_time = end_time - start_time\n",
        "    elapsed_mins = int(elapsed_time / 60)\n",
        "    elapsed_secs = int(elapsed_time - (elapsed_mins * 60))\n",
        "    return elapsed_mins, elapsed_secs"
      ]
    },
    {
      "cell_type": "code",
      "execution_count": 83,
      "metadata": {
        "colab": {
          "base_uri": "https://localhost:8080/"
        },
        "id": "2bF1GB1zH8qx",
        "outputId": "b953b729-013f-476b-9e2d-09c8bf59d946"
      },
      "outputs": [
        {
          "name": "stdout",
          "output_type": "stream",
          "text": [
            "Epoch: 01 | Time: 0m 54s\n",
            "\tTrain Loss: 6.161 | Train PPL: 473.943\n",
            "\t Val. Loss: 5.815 |  Val. PPL: 335.199\n",
            "Epoch: 02 | Time: 0m 53s\n",
            "\tTrain Loss: 5.974 | Train PPL: 393.145\n",
            "\t Val. Loss: 5.780 |  Val. PPL: 323.874\n",
            "Epoch: 03 | Time: 0m 53s\n",
            "\tTrain Loss: 5.950 | Train PPL: 383.752\n",
            "\t Val. Loss: 5.832 |  Val. PPL: 340.980\n",
            "Epoch: 04 | Time: 0m 53s\n",
            "\tTrain Loss: 5.976 | Train PPL: 393.979\n",
            "\t Val. Loss: 5.893 |  Val. PPL: 362.547\n",
            "Epoch: 05 | Time: 0m 53s\n",
            "\tTrain Loss: 5.972 | Train PPL: 392.309\n",
            "\t Val. Loss: 5.912 |  Val. PPL: 369.303\n",
            "Epoch: 06 | Time: 0m 56s\n",
            "\tTrain Loss: 5.990 | Train PPL: 399.225\n",
            "\t Val. Loss: 5.929 |  Val. PPL: 375.760\n",
            "Epoch: 07 | Time: 0m 55s\n",
            "\tTrain Loss: 6.045 | Train PPL: 422.107\n",
            "\t Val. Loss: 6.157 |  Val. PPL: 471.924\n",
            "Epoch: 08 | Time: 0m 57s\n",
            "\tTrain Loss: 6.005 | Train PPL: 405.453\n",
            "\t Val. Loss: 6.110 |  Val. PPL: 450.295\n",
            "Epoch: 09 | Time: 0m 56s\n",
            "\tTrain Loss: 5.986 | Train PPL: 397.687\n",
            "\t Val. Loss: 6.008 |  Val. PPL: 406.644\n",
            "Epoch: 10 | Time: 0m 55s\n",
            "\tTrain Loss: 5.996 | Train PPL: 401.697\n",
            "\t Val. Loss: 6.528 |  Val. PPL: 683.801\n"
          ]
        }
      ],
      "source": [
        "best_valid_loss = float('inf')\n",
        "num_epochs = 10\n",
        "clip       = 1\n",
        "\n",
        "save_path = f'/content/drive/My Drive/models/{model.__class__.__name__}.pt'\n",
        "\n",
        "train_losses = []\n",
        "valid_losses = []\n",
        "\n",
        "for epoch in range(num_epochs):\n",
        "\n",
        "    start_time = time.time()\n",
        "\n",
        "    train_loss = train(model, train_loader, optimizer, criterion, clip, train_loader_length)\n",
        "    valid_loss = evaluate(model, valid_loader, criterion, val_loader_length)\n",
        "\n",
        "    #for plotting\n",
        "    train_losses.append(train_loss)\n",
        "    valid_losses.append(valid_loss)\n",
        "\n",
        "    end_time = time.time()\n",
        "\n",
        "    epoch_mins, epoch_secs = epoch_time(start_time, end_time)\n",
        "\n",
        "\n",
        "    if valid_loss < best_valid_loss:\n",
        "        best_valid_loss = valid_loss\n",
        "        torch.save(model.state_dict(), save_path)\n",
        "\n",
        "    print(f'Epoch: {epoch+1:02} | Time: {epoch_mins}m {epoch_secs}s')\n",
        "    print(f'\\tTrain Loss: {train_loss:.3f} | Train PPL: {math.exp(train_loss):7.3f}')\n",
        "    print(f'\\t Val. Loss: {valid_loss:.3f} |  Val. PPL: {math.exp(valid_loss):7.3f}')\n",
        "\n",
        "    #lower perplexity is better"
      ]
    },
    {
      "cell_type": "code",
      "execution_count": 84,
      "metadata": {
        "colab": {
          "base_uri": "https://localhost:8080/",
          "height": 328
        },
        "id": "mNYLNBFHH8qx",
        "outputId": "221001ec-9b51-409d-d273-123d74b0d2c2"
      },
      "outputs": [
        {
          "data": {
            "text/plain": [
              "Text(0, 0.5, 'loss')"
            ]
          },
          "execution_count": 84,
          "metadata": {},
          "output_type": "execute_result"
        },
        {
          "data": {
            "image/png": "[encoded data removed]",
            "text/plain": [
              "<Figure size 500x300 with 1 Axes>"
            ]
          },
          "metadata": {},
          "output_type": "display_data"
        }
      ],
      "source": [
        "import matplotlib.pyplot as plt\n",
        "fig = plt.figure(figsize=(5, 3))\n",
        "ax = fig.add_subplot(1, 1, 1)\n",
        "ax.plot(train_losses, label = 'train loss')\n",
        "ax.plot(valid_losses, label = 'valid loss')\n",
        "plt.legend()\n",
        "ax.set_xlabel('updates')\n",
        "ax.set_ylabel('loss')"
      ]
    },
    {
      "cell_type": "code",
      "execution_count": 85,
      "metadata": {
        "colab": {
          "base_uri": "https://localhost:8080/"
        },
        "id": "KjAtzYYOhRzj",
        "outputId": "e3826e54-d77a-4ffc-b75e-5caeff3d9001"
      },
      "outputs": [
        {
          "name": "stdout",
          "output_type": "stream",
          "text": [
            "--2024-02-08 12:33:54--  https://github.com/google/fonts/raw/main/ofl/sarabun/Sarabun-Regular.ttf\n",
            "Resolving github.com (github.com)... 192.30.255.112\n",
            "Connecting to github.com (github.com)|192.30.255.112|:443... connected.\n",
            "HTTP request sent, awaiting response... 302 Found\n",
            "Location: https://raw.githubusercontent.com/google/fonts/main/ofl/sarabun/Sarabun-Regular.ttf [following]\n",
            "--2024-02-08 12:33:54--  https://raw.githubusercontent.com/google/fonts/main/ofl/sarabun/Sarabun-Regular.ttf\n",
            "Resolving raw.githubusercontent.com (raw.githubusercontent.com)... 185.199.108.133, 185.199.110.133, 185.199.111.133, ...\n",
            "Connecting to raw.githubusercontent.com (raw.githubusercontent.com)|185.199.108.133|:443... connected.\n",
            "HTTP request sent, awaiting response... 200 OK\n",
            "Length: 90220 (88K) [application/octet-stream]\n",
            "Saving to: ‘Sarabun-Regular.ttf’\n",
            "\n",
            "Sarabun-Regular.ttf 100%[===================>]  88.11K  --.-KB/s    in 0.007s  \n",
            "\n",
            "2024-02-08 12:33:55 (12.1 MB/s) - ‘Sarabun-Regular.ttf’ saved [90220/90220]\n",
            "\n"
          ]
        }
      ],
      "source": [
        "!wget https://github.com/google/fonts/raw/main/ofl/sarabun/Sarabun-Regular.ttf -O Sarabun-Regular.ttf"
      ]
    },
    {
      "cell_type": "code",
      "execution_count": 86,
      "metadata": {
        "id": "O-5Z7q0N3gfi"
      },
      "outputs": [],
      "source": [
        "import matplotlib.ticker as ticker\n",
        "import matplotlib\n",
        "\n",
        "def display_attention(sentence, translation, attention):\n",
        "    matplotlib.font_manager.fontManager.addfont('Sarabun-Regular.ttf')\n",
        "    matplotlib.rc('font',family='Sarabun')\n",
        "\n",
        "    fig = plt.figure(figsize=(10,10))\n",
        "    ax = fig.add_subplot(111)\n",
        "\n",
        "    attention = attention.squeeze(1).cpu().detach().numpy()\n",
        "\n",
        "    cax = ax.matshow(attention, cmap='bone')\n",
        "\n",
        "    ax.tick_params(labelsize=10)\n",
        "\n",
        "    y_ticks =  [''] + translation\n",
        "    x_ticks =  [''] + sentence\n",
        "\n",
        "    ax.set_xticklabels(x_ticks, rotation=45)\n",
        "    ax.set_yticklabels(y_ticks)\n",
        "\n",
        "    ax.xaxis.set_major_locator(ticker.MultipleLocator(1))\n",
        "    ax.yaxis.set_major_locator(ticker.MultipleLocator(1))\n",
        "\n",
        "    plt.show()\n",
        "    plt.close()"
      ]
    },
    {
      "cell_type": "code",
      "execution_count": 87,
      "metadata": {
        "colab": {
          "base_uri": "https://localhost:8080/"
        },
        "id": "hTmdlksKH9L_",
        "outputId": "f2a62792-5f5b-4270-ba9b-e6fec89474e8"
      },
      "outputs": [
        {
          "name": "stdout",
          "output_type": "stream",
          "text": [
            "ที่\n",
            " \n",
            " \n",
            " \n",
            " \n",
            " \n",
            " \n",
            " \n",
            " \n",
            " \n",
            " \n",
            " \n",
            " \n",
            " \n",
            " \n",
            " \n"
          ]
        },
        {
          "data": {
            "text/plain": [
              "['<sos>',\n",
              " 'ที่',\n",
              " ' ',\n",
              " ' ',\n",
              " ' ',\n",
              " ' ',\n",
              " ' ',\n",
              " ' ',\n",
              " ' ',\n",
              " ' ',\n",
              " ' ',\n",
              " ' ',\n",
              " ' ',\n",
              " ' ',\n",
              " ' ',\n",
              " ' ',\n",
              " ' ']"
            ]
          },
          "execution_count": 87,
          "metadata": {},
          "output_type": "execute_result"
        }
      ],
      "source": [
        "src_text = text_transform[SRC_LANGUAGE](dataset['test'][0]['en']).to(device)\n",
        "src_text\n",
        "trg_text = text_transform[TRG_LANGUAGE](dataset['test'][0]['th']).to(device)\n",
        "trg_text\n",
        "src_text = src_text.reshape(1, -1)\n",
        "trg_text = trg_text.reshape(1, -1)\n",
        "text_length = torch.tensor([src_text.size(0)]).to(dtype=torch.int64)\n",
        "model.load_state_dict(torch.load(save_path))\n",
        "\n",
        "model.eval()\n",
        "with torch.no_grad():\n",
        "    output, attentions = model(src_text, trg_text)\n",
        "output = output.squeeze(0)\n",
        "output = output[1:]\n",
        "output.shape\n",
        "output_max = output.argmax(1)\n",
        "mapping = vocab_transform[TRG_LANGUAGE].get_itos()\n",
        "for token in output_max:\n",
        "    print(mapping[token.item()])\n",
        "attentions.shape\n",
        "attention = attentions[0, 0, :, :]\n",
        "attention.shape\n",
        "src_tokens = ['<sos>'] + token_transform[SRC_LANGUAGE](dataset['test'][0]['en']) + ['<eos>']\n",
        "src_tokens\n",
        "trg_tokens = ['<sos>'] + [mapping[token.item()] for token in output_max]\n",
        "trg_tokens\n"
      ]
    },
    {
      "cell_type": "code",
      "execution_count": 88,
      "metadata": {
        "colab": {
          "base_uri": "https://localhost:8080/",
          "height": 935
        },
        "id": "WxYt8X_PH_o0",
        "outputId": "763894f3-0fec-412f-fd51-babf32db69f9"
      },
      "outputs": [
        {
          "name": "stderr",
          "output_type": "stream",
          "text": [
            "<ipython-input-86-f482a0e690f4>:20: UserWarning: FixedFormatter should only be used together with FixedLocator\n",
            "  ax.set_xticklabels(x_ticks, rotation=45)\n",
            "<ipython-input-86-f482a0e690f4>:21: UserWarning: FixedFormatter should only be used together with FixedLocator\n",
            "  ax.set_yticklabels(y_ticks)\n"
          ]
        },
        {
          "data": {
            "image/png": "[encoded data removed]",
            "text/plain": [
              "<Figure size 1000x1000 with 1 Axes>"
            ]
          },
          "metadata": {},
          "output_type": "display_data"
        }
      ],
      "source": [
        "display_attention(src_tokens, trg_tokens, attention)"
      ]
    },
    {
      "cell_type": "code",
      "execution_count": 89,
      "metadata": {
        "colab": {
          "base_uri": "https://localhost:8080/"
        },
        "id": "RgBoreKyH8qx",
        "outputId": "933740f7-271d-456b-bdcd-ea6cf8650595"
      },
      "outputs": [
        {
          "name": "stdout",
          "output_type": "stream",
          "text": [
            "| Test Loss: 5.761 | Test PPL: 317.800 |\n"
          ]
        }
      ],
      "source": [
        "model.load_state_dict(torch.load(save_path))\n",
        "test_loss = evaluate(model, test_loader, criterion, test_loader_length)\n",
        "\n",
        "print(f'| Test Loss: {test_loss:.3f} | Test PPL: {math.exp(test_loss):7.3f} |')"
      ]
    },
    {
      "cell_type": "markdown",
      "metadata": {
        "id": "BYedof0wH-dH"
      },
      "source": [
        "### Multiplicative Attention"
      ]
    },
    {
      "cell_type": "code",
      "execution_count": 90,
      "metadata": {
        "colab": {
          "base_uri": "https://localhost:8080/"
        },
        "id": "Rwf-m7U-H-dP",
        "outputId": "1d41ed7a-1b58-49a7-f7cc-84927890234d"
      },
      "outputs": [
        {
          "data": {
            "text/plain": [
              "Seq2SeqTransformer(\n",
              "  (encoder): Encoder(\n",
              "    (tok_embedding): Embedding(6327, 256)\n",
              "    (pos_embedding): Embedding(1000, 256)\n",
              "    (layers): ModuleList(\n",
              "      (0-2): 3 x EncoderLayer(\n",
              "        (self_attn_layer_norm): LayerNorm((256,), eps=1e-05, elementwise_affine=True)\n",
              "        (ff_layer_norm): LayerNorm((256,), eps=1e-05, elementwise_affine=True)\n",
              "        (self_attention): MultiHeadAttentionLayer(\n",
              "          (fc_q): Linear(in_features=256, out_features=256, bias=True)\n",
              "          (fc_k): Linear(in_features=256, out_features=256, bias=True)\n",
              "          (fc_v): Linear(in_features=256, out_features=256, bias=True)\n",
              "          (fc_o): Linear(in_features=256, out_features=256, bias=True)\n",
              "          (dropout): Dropout(p=0.1, inplace=False)\n",
              "          (attention_module): MultiplicativeAttention(\n",
              "            (W): Linear(in_features=32, out_features=32, bias=True)\n",
              "          )\n",
              "        )\n",
              "        (feedforward): PositionwiseFeedforwardLayer(\n",
              "          (fc1): Linear(in_features=256, out_features=512, bias=True)\n",
              "          (fc2): Linear(in_features=512, out_features=256, bias=True)\n",
              "          (dropout): Dropout(p=0.1, inplace=False)\n",
              "        )\n",
              "        (dropout): Dropout(p=0.1, inplace=False)\n",
              "      )\n",
              "    )\n",
              "    (dropout): Dropout(p=0.1, inplace=False)\n",
              "  )\n",
              "  (decoder): Decoder(\n",
              "    (tok_embedding): Embedding(6545, 256)\n",
              "    (pos_embedding): Embedding(1000, 256)\n",
              "    (layers): ModuleList(\n",
              "      (0-2): 3 x DecoderLayer(\n",
              "        (self_attn_layer_norm): LayerNorm((256,), eps=1e-05, elementwise_affine=True)\n",
              "        (enc_attn_layer_norm): LayerNorm((256,), eps=1e-05, elementwise_affine=True)\n",
              "        (ff_layer_norm): LayerNorm((256,), eps=1e-05, elementwise_affine=True)\n",
              "        (self_attention): MultiHeadAttentionLayer(\n",
              "          (fc_q): Linear(in_features=256, out_features=256, bias=True)\n",
              "          (fc_k): Linear(in_features=256, out_features=256, bias=True)\n",
              "          (fc_v): Linear(in_features=256, out_features=256, bias=True)\n",
              "          (fc_o): Linear(in_features=256, out_features=256, bias=True)\n",
              "          (dropout): Dropout(p=0.1, inplace=False)\n",
              "          (attention_module): MultiplicativeAttention(\n",
              "            (W): Linear(in_features=32, out_features=32, bias=True)\n",
              "          )\n",
              "        )\n",
              "        (encoder_attention): MultiHeadAttentionLayer(\n",
              "          (fc_q): Linear(in_features=256, out_features=256, bias=True)\n",
              "          (fc_k): Linear(in_features=256, out_features=256, bias=True)\n",
              "          (fc_v): Linear(in_features=256, out_features=256, bias=True)\n",
              "          (fc_o): Linear(in_features=256, out_features=256, bias=True)\n",
              "          (dropout): Dropout(p=0.1, inplace=False)\n",
              "          (attention_module): MultiplicativeAttention(\n",
              "            (W): Linear(in_features=32, out_features=32, bias=True)\n",
              "          )\n",
              "        )\n",
              "        (feedforward): PositionwiseFeedforwardLayer(\n",
              "          (fc1): Linear(in_features=256, out_features=512, bias=True)\n",
              "          (fc2): Linear(in_features=512, out_features=256, bias=True)\n",
              "          (dropout): Dropout(p=0.1, inplace=False)\n",
              "        )\n",
              "        (dropout): Dropout(p=0.1, inplace=False)\n",
              "      )\n",
              "    )\n",
              "    (fc_out): Linear(in_features=256, out_features=6545, bias=True)\n",
              "    (dropout): Dropout(p=0.1, inplace=False)\n",
              "  )\n",
              ")"
            ]
          },
          "execution_count": 90,
          "metadata": {},
          "output_type": "execute_result"
        }
      ],
      "source": [
        "input_dim   = len(vocab_transform[SRC_LANGUAGE])\n",
        "output_dim  = len(vocab_transform[TRG_LANGUAGE])\n",
        "hid_dim = 256\n",
        "enc_layers = 3\n",
        "dec_layers = 3\n",
        "enc_heads = 8\n",
        "dec_heads = 8\n",
        "enc_pf_dim = 512\n",
        "dec_pf_dim = 512\n",
        "enc_dropout = 0.1\n",
        "dec_dropout = 0.1\n",
        "\n",
        "SRC_PAD_IDX = PAD_IDX\n",
        "TRG_PAD_IDX = PAD_IDX\n",
        "\n",
        "\n",
        "default_attention = DefaultAttention(head_dim=hid_dim // enc_heads)\n",
        "general_attention = GeneralAttention()\n",
        "multiplicative_attention = MultiplicativeAttention(head_dim=hid_dim // enc_heads)\n",
        "additive_attention = AdditiveAttention(head_dim=hid_dim // enc_heads)\n",
        "\n",
        "\n",
        "enc = Encoder(input_dim,\n",
        "              hid_dim,\n",
        "              enc_layers,\n",
        "              enc_heads,\n",
        "              enc_pf_dim,\n",
        "              enc_dropout,\n",
        "              device,\n",
        "              multiplicative_attention,\n",
        "              max_length=1000\n",
        "              # max_length=len(mapping),\n",
        "              )\n",
        "\n",
        "dec = Decoder(output_dim,\n",
        "              hid_dim,\n",
        "              dec_layers,\n",
        "              dec_heads,\n",
        "              dec_pf_dim,\n",
        "              enc_dropout,\n",
        "              device,\n",
        "              multiplicative_attention,\n",
        "              max_length=1000\n",
        "              # max_length=len(mapping),\n",
        "              )\n",
        "model = Seq2SeqTransformer(enc, dec, SRC_PAD_IDX, TRG_PAD_IDX, device).to(device)\n",
        "model.apply(initialize_weights)"
      ]
    },
    {
      "cell_type": "code",
      "execution_count": 91,
      "metadata": {
        "colab": {
          "base_uri": "https://localhost:8080/"
        },
        "id": "4I9PbCz-H-dP",
        "outputId": "179c12e9-c85c-414a-de31-5fb5e8fed1de"
      },
      "outputs": [
        {
          "name": "stdout",
          "output_type": "stream",
          "text": [
            "1619712\n",
            "256000\n",
            "   256\n",
            "   256\n",
            "   256\n",
            "   256\n",
            " 65536\n",
            "   256\n",
            " 65536\n",
            "   256\n",
            " 65536\n",
            "   256\n",
            " 65536\n",
            "   256\n",
            "  1024\n",
            "    32\n",
            "131072\n",
            "   512\n",
            "131072\n",
            "   256\n",
            "   256\n",
            "   256\n",
            "   256\n",
            "   256\n",
            " 65536\n",
            "   256\n",
            " 65536\n",
            "   256\n",
            " 65536\n",
            "   256\n",
            " 65536\n",
            "   256\n",
            "131072\n",
            "   512\n",
            "131072\n",
            "   256\n",
            "   256\n",
            "   256\n",
            "   256\n",
            "   256\n",
            " 65536\n",
            "   256\n",
            " 65536\n",
            "   256\n",
            " 65536\n",
            "   256\n",
            " 65536\n",
            "   256\n",
            "131072\n",
            "   512\n",
            "131072\n",
            "   256\n",
            "1675520\n",
            "256000\n",
            "   256\n",
            "   256\n",
            "   256\n",
            "   256\n",
            "   256\n",
            "   256\n",
            " 65536\n",
            "   256\n",
            " 65536\n",
            "   256\n",
            " 65536\n",
            "   256\n",
            " 65536\n",
            "   256\n",
            " 65536\n",
            "   256\n",
            " 65536\n",
            "   256\n",
            " 65536\n",
            "   256\n",
            " 65536\n",
            "   256\n",
            "131072\n",
            "   512\n",
            "131072\n",
            "   256\n",
            "   256\n",
            "   256\n",
            "   256\n",
            "   256\n",
            "   256\n",
            "   256\n",
            " 65536\n",
            "   256\n",
            " 65536\n",
            "   256\n",
            " 65536\n",
            "   256\n",
            " 65536\n",
            "   256\n",
            " 65536\n",
            "   256\n",
            " 65536\n",
            "   256\n",
            " 65536\n",
            "   256\n",
            " 65536\n",
            "   256\n",
            "131072\n",
            "   512\n",
            "131072\n",
            "   256\n",
            "   256\n",
            "   256\n",
            "   256\n",
            "   256\n",
            "   256\n",
            "   256\n",
            " 65536\n",
            "   256\n",
            " 65536\n",
            "   256\n",
            " 65536\n",
            "   256\n",
            " 65536\n",
            "   256\n",
            " 65536\n",
            "   256\n",
            " 65536\n",
            "   256\n",
            " 65536\n",
            "   256\n",
            " 65536\n",
            "   256\n",
            "131072\n",
            "   512\n",
            "131072\n",
            "   256\n",
            "1675520\n",
            "  6545\n",
            "______\n",
            "9444017\n"
          ]
        }
      ],
      "source": [
        "#we can print the complexity by the number of parameters\n",
        "def count_parameters(model):\n",
        "    params = [p.numel() for p in model.parameters() if p.requires_grad]\n",
        "    for item in params:\n",
        "        print(f'{item:>6}')\n",
        "    print(f'______\\n{sum(params):>6}')\n",
        "\n",
        "count_parameters(model)"
      ]
    },
    {
      "cell_type": "code",
      "execution_count": 92,
      "metadata": {
        "id": "eohd4tjlH-dP"
      },
      "outputs": [],
      "source": [
        "import torch.optim as optim\n",
        "\n",
        "lr = 0.0005\n",
        "\n",
        "#training hyperparameters\n",
        "optimizer = optim.Adam(model.parameters(), lr=lr)\n",
        "criterion = nn.CrossEntropyLoss(ignore_index = TRG_PAD_IDX) #combine softmax with cross entropy"
      ]
    },
    {
      "cell_type": "code",
      "execution_count": 93,
      "metadata": {
        "id": "9YPQYtllH-dP"
      },
      "outputs": [],
      "source": [
        "def train(model, loader, optimizer, criterion, clip, loader_length):\n",
        "\n",
        "    model.train()\n",
        "\n",
        "    epoch_loss = 0\n",
        "\n",
        "    for src, src_len, trg in loader:\n",
        "\n",
        "        src = src.to(device)\n",
        "        trg = trg.to(device)\n",
        "\n",
        "        optimizer.zero_grad()\n",
        "\n",
        "        #trg[:, :-1] remove the eos, e.g., \"<sos> I love sushi\" since teaching forcing, the input does not need to have eos\n",
        "        output, _ = model(src, trg[:,:-1])\n",
        "\n",
        "        #output = [batch size, trg len - 1, output dim]\n",
        "        #trg    = [batch size, trg len]\n",
        "\n",
        "        output_dim = output.shape[-1]\n",
        "\n",
        "        output = output.reshape(-1, output_dim)\n",
        "        trg = trg[:,1:].reshape(-1) #trg[:, 1:] remove the sos, e.g., \"i love sushi <eos>\" since in teaching forcing, the output does not have sos\n",
        "\n",
        "        #output = [batch size * trg len - 1, output dim]\n",
        "        #trg    = [batch size * trg len - 1]\n",
        "\n",
        "        loss = criterion(output, trg)\n",
        "\n",
        "        loss.backward()\n",
        "\n",
        "        torch.nn.utils.clip_grad_norm_(model.parameters(), clip)\n",
        "\n",
        "        optimizer.step()\n",
        "\n",
        "        epoch_loss += loss.item()\n",
        "\n",
        "    return epoch_loss / loader_length"
      ]
    },
    {
      "cell_type": "code",
      "execution_count": 94,
      "metadata": {
        "id": "vImh3aFkH-dQ"
      },
      "outputs": [],
      "source": [
        "def evaluate(model, loader, criterion, loader_length):\n",
        "\n",
        "    model.eval()\n",
        "\n",
        "    epoch_loss = 0\n",
        "\n",
        "    with torch.no_grad():\n",
        "\n",
        "        for src, src_len, trg in loader:\n",
        "\n",
        "            src = src.to(device)\n",
        "            trg = trg.to(device)\n",
        "\n",
        "            output, _ = model(src, trg[:,:-1])\n",
        "\n",
        "            #output = [batch size, trg len - 1, output dim]\n",
        "            #trg = [batch size, trg len]\n",
        "\n",
        "            output_dim = output.shape[-1]\n",
        "\n",
        "            output = output.contiguous().view(-1, output_dim)\n",
        "            trg = trg[:,1:].contiguous().view(-1)\n",
        "\n",
        "            #output = [batch size * trg len - 1, output dim]\n",
        "            #trg = [batch size * trg len - 1]\n",
        "\n",
        "            loss = criterion(output, trg)\n",
        "\n",
        "            epoch_loss += loss.item()\n",
        "\n",
        "    return epoch_loss / loader_length"
      ]
    },
    {
      "cell_type": "code",
      "execution_count": 95,
      "metadata": {
        "id": "FFHZ7aXPH-dQ"
      },
      "outputs": [],
      "source": [
        "train_loader_length = len(train_loader)\n",
        "val_loader_length   = len(valid_loader)\n",
        "test_loader_length  = len(test_loader)"
      ]
    },
    {
      "cell_type": "code",
      "execution_count": 96,
      "metadata": {
        "id": "Crtik8YbH-dQ"
      },
      "outputs": [],
      "source": [
        "def epoch_time(start_time, end_time):\n",
        "    elapsed_time = end_time - start_time\n",
        "    elapsed_mins = int(elapsed_time / 60)\n",
        "    elapsed_secs = int(elapsed_time - (elapsed_mins * 60))\n",
        "    return elapsed_mins, elapsed_secs"
      ]
    },
    {
      "cell_type": "code",
      "execution_count": 97,
      "metadata": {
        "colab": {
          "base_uri": "https://localhost:8080/"
        },
        "id": "53bEwPT6H-dQ",
        "outputId": "ee5de776-37bb-4beb-d9fe-e384f1848a48"
      },
      "outputs": [
        {
          "name": "stdout",
          "output_type": "stream",
          "text": [
            "Epoch: 01 | Time: 1m 0s\n",
            "\tTrain Loss: 6.158 | Train PPL: 472.691\n",
            "\t Val. Loss: 5.842 |  Val. PPL: 344.574\n",
            "Epoch: 02 | Time: 0m 57s\n",
            "\tTrain Loss: 6.012 | Train PPL: 408.210\n",
            "\t Val. Loss: 5.875 |  Val. PPL: 356.116\n",
            "Epoch: 03 | Time: 0m 56s\n",
            "\tTrain Loss: 5.980 | Train PPL: 395.383\n",
            "\t Val. Loss: 5.888 |  Val. PPL: 360.656\n",
            "Epoch: 04 | Time: 0m 57s\n",
            "\tTrain Loss: 5.966 | Train PPL: 390.047\n",
            "\t Val. Loss: 5.924 |  Val. PPL: 373.924\n",
            "Epoch: 05 | Time: 0m 57s\n",
            "\tTrain Loss: 5.956 | Train PPL: 385.944\n",
            "\t Val. Loss: 5.835 |  Val. PPL: 341.990\n",
            "Epoch: 06 | Time: 0m 57s\n",
            "\tTrain Loss: 5.962 | Train PPL: 388.497\n",
            "\t Val. Loss: 5.841 |  Val. PPL: 344.198\n",
            "Epoch: 07 | Time: 0m 56s\n",
            "\tTrain Loss: 5.944 | Train PPL: 381.334\n",
            "\t Val. Loss: 5.901 |  Val. PPL: 365.328\n",
            "Epoch: 08 | Time: 0m 57s\n",
            "\tTrain Loss: 5.947 | Train PPL: 382.739\n",
            "\t Val. Loss: 5.826 |  Val. PPL: 338.885\n",
            "Epoch: 09 | Time: 0m 56s\n",
            "\tTrain Loss: 5.956 | Train PPL: 386.022\n",
            "\t Val. Loss: 5.841 |  Val. PPL: 344.161\n",
            "Epoch: 10 | Time: 0m 57s\n",
            "\tTrain Loss: 5.920 | Train PPL: 372.362\n",
            "\t Val. Loss: 5.855 |  Val. PPL: 349.094\n"
          ]
        }
      ],
      "source": [
        "best_valid_loss = float('inf')\n",
        "num_epochs = 10\n",
        "clip       = 1\n",
        "\n",
        "save_path = f'/content/drive/My Drive/models/{model.__class__.__name__}.pt'\n",
        "\n",
        "train_losses = []\n",
        "valid_losses = []\n",
        "\n",
        "for epoch in range(num_epochs):\n",
        "\n",
        "    start_time = time.time()\n",
        "\n",
        "    train_loss = train(model, train_loader, optimizer, criterion, clip, train_loader_length)\n",
        "    valid_loss = evaluate(model, valid_loader, criterion, val_loader_length)\n",
        "\n",
        "    #for plotting\n",
        "    train_losses.append(train_loss)\n",
        "    valid_losses.append(valid_loss)\n",
        "\n",
        "    end_time = time.time()\n",
        "\n",
        "    epoch_mins, epoch_secs = epoch_time(start_time, end_time)\n",
        "\n",
        "\n",
        "    if valid_loss < best_valid_loss:\n",
        "        best_valid_loss = valid_loss\n",
        "        torch.save(model.state_dict(), save_path)\n",
        "\n",
        "    print(f'Epoch: {epoch+1:02} | Time: {epoch_mins}m {epoch_secs}s')\n",
        "    print(f'\\tTrain Loss: {train_loss:.3f} | Train PPL: {math.exp(train_loss):7.3f}')\n",
        "    print(f'\\t Val. Loss: {valid_loss:.3f} |  Val. PPL: {math.exp(valid_loss):7.3f}')\n",
        "\n",
        "    #lower perplexity is better"
      ]
    },
    {
      "cell_type": "code",
      "execution_count": 98,
      "metadata": {
        "colab": {
          "base_uri": "https://localhost:8080/",
          "height": 326
        },
        "id": "L7UYONoAH-dQ",
        "outputId": "8b00874c-1615-4f6d-8f82-6689bc26761a"
      },
      "outputs": [
        {
          "data": {
            "text/plain": [
              "Text(0, 0.5, 'loss')"
            ]
          },
          "execution_count": 98,
          "metadata": {},
          "output_type": "execute_result"
        },
        {
          "data": {
            "image/png": "[encoded data removed]",
            "text/plain": [
              "<Figure size 500x300 with 1 Axes>"
            ]
          },
          "metadata": {},
          "output_type": "display_data"
        }
      ],
      "source": [
        "import matplotlib.pyplot as plt\n",
        "fig = plt.figure(figsize=(5, 3))\n",
        "ax = fig.add_subplot(1, 1, 1)\n",
        "ax.plot(train_losses, label = 'train loss')\n",
        "ax.plot(valid_losses, label = 'valid loss')\n",
        "plt.legend()\n",
        "ax.set_xlabel('updates')\n",
        "ax.set_ylabel('loss')"
      ]
    },
    {
      "cell_type": "code",
      "execution_count": 99,
      "metadata": {
        "id": "VqNZtFRE3i1j"
      },
      "outputs": [],
      "source": [
        "import matplotlib.ticker as ticker\n",
        "import matplotlib\n",
        "\n",
        "def display_attention(sentence, translation, attention):\n",
        "    matplotlib.font_manager.fontManager.addfont('Sarabun-Regular.ttf')\n",
        "    matplotlib.rc('font',family='Sarabun')\n",
        "\n",
        "    fig = plt.figure(figsize=(10,10))\n",
        "    ax = fig.add_subplot(111)\n",
        "\n",
        "    attention = attention.squeeze(1).cpu().detach().numpy()\n",
        "\n",
        "    cax = ax.matshow(attention, cmap='bone')\n",
        "\n",
        "    ax.tick_params(labelsize=10)\n",
        "\n",
        "    y_ticks =  [''] + translation\n",
        "    x_ticks =  [''] + sentence\n",
        "\n",
        "    ax.set_xticklabels(x_ticks, rotation=45)\n",
        "    ax.set_yticklabels(y_ticks)\n",
        "\n",
        "    ax.xaxis.set_major_locator(ticker.MultipleLocator(1))\n",
        "    ax.yaxis.set_major_locator(ticker.MultipleLocator(1))\n",
        "\n",
        "    plt.show()\n",
        "    plt.close()"
      ]
    },
    {
      "cell_type": "code",
      "execution_count": 100,
      "metadata": {
        "colab": {
          "base_uri": "https://localhost:8080/"
        },
        "id": "vJ5943ouH1J9",
        "outputId": "cb689cb6-b194-401b-81aa-34741ff00821"
      },
      "outputs": [
        {
          "name": "stdout",
          "output_type": "stream",
          "text": [
            "<eos>\n",
            "<eos>\n",
            "<eos>\n",
            "<eos>\n",
            "<eos>\n",
            "<eos>\n",
            "<eos>\n",
            "<eos>\n",
            "<eos>\n",
            "<eos>\n",
            "<eos>\n",
            "<eos>\n",
            "<eos>\n",
            "<eos>\n",
            "<eos>\n",
            "<eos>\n"
          ]
        },
        {
          "data": {
            "text/plain": [
              "['<sos>',\n",
              " '<eos>',\n",
              " '<eos>',\n",
              " '<eos>',\n",
              " '<eos>',\n",
              " '<eos>',\n",
              " '<eos>',\n",
              " '<eos>',\n",
              " '<eos>',\n",
              " '<eos>',\n",
              " '<eos>',\n",
              " '<eos>',\n",
              " '<eos>',\n",
              " '<eos>',\n",
              " '<eos>',\n",
              " '<eos>',\n",
              " '<eos>']"
            ]
          },
          "execution_count": 100,
          "metadata": {},
          "output_type": "execute_result"
        }
      ],
      "source": [
        "src_text = text_transform[SRC_LANGUAGE](dataset['test'][0]['en']).to(device)\n",
        "src_text\n",
        "trg_text = text_transform[TRG_LANGUAGE](dataset['test'][0]['th']).to(device)\n",
        "trg_text\n",
        "src_text = src_text.reshape(1, -1)\n",
        "trg_text = trg_text.reshape(1, -1)\n",
        "text_length = torch.tensor([src_text.size(0)]).to(dtype=torch.int64)\n",
        "model.load_state_dict(torch.load(save_path))\n",
        "\n",
        "model.eval()\n",
        "with torch.no_grad():\n",
        "    output, attentions = model(src_text, trg_text)\n",
        "output = output.squeeze(0)\n",
        "output = output[1:]\n",
        "output.shape\n",
        "output_max = output.argmax(1)\n",
        "mapping = vocab_transform[TRG_LANGUAGE].get_itos()\n",
        "for token in output_max:\n",
        "    print(mapping[token.item()])\n",
        "attentions.shape\n",
        "attention = attentions[0, 0, :, :]\n",
        "attention.shape\n",
        "src_tokens = ['<sos>'] + token_transform[SRC_LANGUAGE](dataset['test'][0]['en']) + ['<eos>']\n",
        "src_tokens\n",
        "trg_tokens = ['<sos>'] + [mapping[token.item()] for token in output_max]\n",
        "trg_tokens\n"
      ]
    },
    {
      "cell_type": "code",
      "execution_count": 101,
      "metadata": {
        "colab": {
          "base_uri": "https://localhost:8080/",
          "height": 935
        },
        "id": "d47TeNXx3kbU",
        "outputId": "522d4e77-2e1a-479b-aff8-f3f7ba01a782"
      },
      "outputs": [
        {
          "name": "stderr",
          "output_type": "stream",
          "text": [
            "<ipython-input-99-f482a0e690f4>:20: UserWarning: FixedFormatter should only be used together with FixedLocator\n",
            "  ax.set_xticklabels(x_ticks, rotation=45)\n",
            "<ipython-input-99-f482a0e690f4>:21: UserWarning: FixedFormatter should only be used together with FixedLocator\n",
            "  ax.set_yticklabels(y_ticks)\n"
          ]
        },
        {
          "data": {
            "image/png": "[encoded data removed]",
            "text/plain": [
              "<Figure size 1000x1000 with 1 Axes>"
            ]
          },
          "metadata": {},
          "output_type": "display_data"
        }
      ],
      "source": [
        "display_attention(src_tokens, trg_tokens, attention)"
      ]
    },
    {
      "cell_type": "code",
      "execution_count": 102,
      "metadata": {
        "colab": {
          "base_uri": "https://localhost:8080/"
        },
        "id": "up_LPOgyH-dQ",
        "outputId": "c16466b0-f966-4dba-e32d-e1cbdd589138"
      },
      "outputs": [
        {
          "name": "stdout",
          "output_type": "stream",
          "text": [
            "| Test Loss: 5.817 | Test PPL: 335.976 |\n"
          ]
        }
      ],
      "source": [
        "model.load_state_dict(torch.load(save_path))\n",
        "test_loss = evaluate(model, test_loader, criterion, test_loader_length)\n",
        "\n",
        "print(f'| Test Loss: {test_loss:.3f} | Test PPL: {math.exp(test_loss):7.3f} |')"
      ]
    },
    {
      "cell_type": "markdown",
      "metadata": {
        "id": "tCeJUQtaH-oU"
      },
      "source": [
        "### Additive Attention"
      ]
    },
    {
      "cell_type": "code",
      "execution_count": 103,
      "metadata": {
        "colab": {
          "base_uri": "https://localhost:8080/"
        },
        "id": "Ww2mijYbH-oU",
        "outputId": "cf51cad7-83d2-4b55-856f-9ebc69e00c01"
      },
      "outputs": [
        {
          "data": {
            "text/plain": [
              "Seq2SeqTransformer(\n",
              "  (encoder): Encoder(\n",
              "    (tok_embedding): Embedding(6327, 256)\n",
              "    (pos_embedding): Embedding(1000, 256)\n",
              "    (layers): ModuleList(\n",
              "      (0-2): 3 x EncoderLayer(\n",
              "        (self_attn_layer_norm): LayerNorm((256,), eps=1e-05, elementwise_affine=True)\n",
              "        (ff_layer_norm): LayerNorm((256,), eps=1e-05, elementwise_affine=True)\n",
              "        (self_attention): MultiHeadAttentionLayer(\n",
              "          (fc_q): Linear(in_features=256, out_features=256, bias=True)\n",
              "          (fc_k): Linear(in_features=256, out_features=256, bias=True)\n",
              "          (fc_v): Linear(in_features=256, out_features=256, bias=True)\n",
              "          (fc_o): Linear(in_features=256, out_features=256, bias=True)\n",
              "          (dropout): Dropout(p=0.1, inplace=False)\n",
              "          (attention_module): AdditiveAttention(\n",
              "            (W1): Linear(in_features=32, out_features=32, bias=True)\n",
              "            (W2): Linear(in_features=32, out_features=32, bias=True)\n",
              "            (V): Linear(in_features=32, out_features=1, bias=True)\n",
              "          )\n",
              "        )\n",
              "        (feedforward): PositionwiseFeedforwardLayer(\n",
              "          (fc1): Linear(in_features=256, out_features=512, bias=True)\n",
              "          (fc2): Linear(in_features=512, out_features=256, bias=True)\n",
              "          (dropout): Dropout(p=0.1, inplace=False)\n",
              "        )\n",
              "        (dropout): Dropout(p=0.1, inplace=False)\n",
              "      )\n",
              "    )\n",
              "    (dropout): Dropout(p=0.1, inplace=False)\n",
              "  )\n",
              "  (decoder): Decoder(\n",
              "    (tok_embedding): Embedding(6545, 256)\n",
              "    (pos_embedding): Embedding(1000, 256)\n",
              "    (layers): ModuleList(\n",
              "      (0-2): 3 x DecoderLayer(\n",
              "        (self_attn_layer_norm): LayerNorm((256,), eps=1e-05, elementwise_affine=True)\n",
              "        (enc_attn_layer_norm): LayerNorm((256,), eps=1e-05, elementwise_affine=True)\n",
              "        (ff_layer_norm): LayerNorm((256,), eps=1e-05, elementwise_affine=True)\n",
              "        (self_attention): MultiHeadAttentionLayer(\n",
              "          (fc_q): Linear(in_features=256, out_features=256, bias=True)\n",
              "          (fc_k): Linear(in_features=256, out_features=256, bias=True)\n",
              "          (fc_v): Linear(in_features=256, out_features=256, bias=True)\n",
              "          (fc_o): Linear(in_features=256, out_features=256, bias=True)\n",
              "          (dropout): Dropout(p=0.1, inplace=False)\n",
              "          (attention_module): AdditiveAttention(\n",
              "            (W1): Linear(in_features=32, out_features=32, bias=True)\n",
              "            (W2): Linear(in_features=32, out_features=32, bias=True)\n",
              "            (V): Linear(in_features=32, out_features=1, bias=True)\n",
              "          )\n",
              "        )\n",
              "        (encoder_attention): MultiHeadAttentionLayer(\n",
              "          (fc_q): Linear(in_features=256, out_features=256, bias=True)\n",
              "          (fc_k): Linear(in_features=256, out_features=256, bias=True)\n",
              "          (fc_v): Linear(in_features=256, out_features=256, bias=True)\n",
              "          (fc_o): Linear(in_features=256, out_features=256, bias=True)\n",
              "          (dropout): Dropout(p=0.1, inplace=False)\n",
              "          (attention_module): AdditiveAttention(\n",
              "            (W1): Linear(in_features=32, out_features=32, bias=True)\n",
              "            (W2): Linear(in_features=32, out_features=32, bias=True)\n",
              "            (V): Linear(in_features=32, out_features=1, bias=True)\n",
              "          )\n",
              "        )\n",
              "        (feedforward): PositionwiseFeedforwardLayer(\n",
              "          (fc1): Linear(in_features=256, out_features=512, bias=True)\n",
              "          (fc2): Linear(in_features=512, out_features=256, bias=True)\n",
              "          (dropout): Dropout(p=0.1, inplace=False)\n",
              "        )\n",
              "        (dropout): Dropout(p=0.1, inplace=False)\n",
              "      )\n",
              "    )\n",
              "    (fc_out): Linear(in_features=256, out_features=6545, bias=True)\n",
              "    (dropout): Dropout(p=0.1, inplace=False)\n",
              "  )\n",
              ")"
            ]
          },
          "execution_count": 103,
          "metadata": {},
          "output_type": "execute_result"
        }
      ],
      "source": [
        "input_dim   = len(vocab_transform[SRC_LANGUAGE])\n",
        "output_dim  = len(vocab_transform[TRG_LANGUAGE])\n",
        "hid_dim = 256\n",
        "enc_layers = 3\n",
        "dec_layers = 3\n",
        "enc_heads = 8\n",
        "dec_heads = 8\n",
        "enc_pf_dim = 512\n",
        "dec_pf_dim = 512\n",
        "enc_dropout = 0.1\n",
        "dec_dropout = 0.1\n",
        "\n",
        "SRC_PAD_IDX = PAD_IDX\n",
        "TRG_PAD_IDX = PAD_IDX\n",
        "\n",
        "\n",
        "default_attention = DefaultAttention(head_dim=hid_dim // enc_heads)\n",
        "general_attention = GeneralAttention()\n",
        "multiplicative_attention = MultiplicativeAttention(head_dim=hid_dim // enc_heads)\n",
        "additive_attention = AdditiveAttention(head_dim=hid_dim // enc_heads)\n",
        "\n",
        "\n",
        "enc = Encoder(input_dim,\n",
        "              hid_dim,\n",
        "              enc_layers,\n",
        "              enc_heads,\n",
        "              enc_pf_dim,\n",
        "              enc_dropout,\n",
        "              device,\n",
        "              additive_attention,\n",
        "              max_length=1000\n",
        "              # max_length=len(mapping),\n",
        "              )\n",
        "\n",
        "dec = Decoder(output_dim,\n",
        "              hid_dim,\n",
        "              dec_layers,\n",
        "              dec_heads,\n",
        "              dec_pf_dim,\n",
        "              enc_dropout,\n",
        "              device,\n",
        "              additive_attention,\n",
        "              max_length=1000\n",
        "              # max_length=len(mapping),\n",
        "              )\n",
        "model = Seq2SeqTransformer(enc, dec, SRC_PAD_IDX, TRG_PAD_IDX, device).to(device)\n",
        "model.apply(initialize_weights)"
      ]
    },
    {
      "cell_type": "code",
      "execution_count": 104,
      "metadata": {
        "colab": {
          "base_uri": "https://localhost:8080/"
        },
        "id": "TaG0PpLzH-oV",
        "outputId": "9ef7d56c-36fe-4bc7-837c-5f2c0c6bd406"
      },
      "outputs": [
        {
          "name": "stdout",
          "output_type": "stream",
          "text": [
            "1619712\n",
            "256000\n",
            "   256\n",
            "   256\n",
            "   256\n",
            "   256\n",
            " 65536\n",
            "   256\n",
            " 65536\n",
            "   256\n",
            " 65536\n",
            "   256\n",
            " 65536\n",
            "   256\n",
            "  1024\n",
            "    32\n",
            "  1024\n",
            "    32\n",
            "    32\n",
            "     1\n",
            "131072\n",
            "   512\n",
            "131072\n",
            "   256\n",
            "   256\n",
            "   256\n",
            "   256\n",
            "   256\n",
            " 65536\n",
            "   256\n",
            " 65536\n",
            "   256\n",
            " 65536\n",
            "   256\n",
            " 65536\n",
            "   256\n",
            "131072\n",
            "   512\n",
            "131072\n",
            "   256\n",
            "   256\n",
            "   256\n",
            "   256\n",
            "   256\n",
            " 65536\n",
            "   256\n",
            " 65536\n",
            "   256\n",
            " 65536\n",
            "   256\n",
            " 65536\n",
            "   256\n",
            "131072\n",
            "   512\n",
            "131072\n",
            "   256\n",
            "1675520\n",
            "256000\n",
            "   256\n",
            "   256\n",
            "   256\n",
            "   256\n",
            "   256\n",
            "   256\n",
            " 65536\n",
            "   256\n",
            " 65536\n",
            "   256\n",
            " 65536\n",
            "   256\n",
            " 65536\n",
            "   256\n",
            " 65536\n",
            "   256\n",
            " 65536\n",
            "   256\n",
            " 65536\n",
            "   256\n",
            " 65536\n",
            "   256\n",
            "131072\n",
            "   512\n",
            "131072\n",
            "   256\n",
            "   256\n",
            "   256\n",
            "   256\n",
            "   256\n",
            "   256\n",
            "   256\n",
            " 65536\n",
            "   256\n",
            " 65536\n",
            "   256\n",
            " 65536\n",
            "   256\n",
            " 65536\n",
            "   256\n",
            " 65536\n",
            "   256\n",
            " 65536\n",
            "   256\n",
            " 65536\n",
            "   256\n",
            " 65536\n",
            "   256\n",
            "131072\n",
            "   512\n",
            "131072\n",
            "   256\n",
            "   256\n",
            "   256\n",
            "   256\n",
            "   256\n",
            "   256\n",
            "   256\n",
            " 65536\n",
            "   256\n",
            " 65536\n",
            "   256\n",
            " 65536\n",
            "   256\n",
            " 65536\n",
            "   256\n",
            " 65536\n",
            "   256\n",
            " 65536\n",
            "   256\n",
            " 65536\n",
            "   256\n",
            " 65536\n",
            "   256\n",
            "131072\n",
            "   512\n",
            "131072\n",
            "   256\n",
            "1675520\n",
            "  6545\n",
            "______\n",
            "9445106\n"
          ]
        }
      ],
      "source": [
        "#we can print the complexity by the number of parameters\n",
        "def count_parameters(model):\n",
        "    params = [p.numel() for p in model.parameters() if p.requires_grad]\n",
        "    for item in params:\n",
        "        print(f'{item:>6}')\n",
        "    print(f'______\\n{sum(params):>6}')\n",
        "\n",
        "count_parameters(model)"
      ]
    },
    {
      "cell_type": "code",
      "execution_count": 105,
      "metadata": {
        "id": "eMtQ3YOwH-oV"
      },
      "outputs": [],
      "source": [
        "import torch.optim as optim\n",
        "\n",
        "lr = 0.0005\n",
        "\n",
        "#training hyperparameters\n",
        "optimizer = optim.Adam(model.parameters(), lr=lr)\n",
        "criterion = nn.CrossEntropyLoss(ignore_index = TRG_PAD_IDX) #combine softmax with cross entropy"
      ]
    },
    {
      "cell_type": "code",
      "execution_count": 106,
      "metadata": {
        "id": "5B5SljR_H-oV"
      },
      "outputs": [],
      "source": [
        "def train(model, loader, optimizer, criterion, clip, loader_length):\n",
        "\n",
        "    model.train()\n",
        "\n",
        "    epoch_loss = 0\n",
        "\n",
        "    for src, src_len, trg in loader:\n",
        "\n",
        "        src = src.to(device)\n",
        "        trg = trg.to(device)\n",
        "\n",
        "        optimizer.zero_grad()\n",
        "\n",
        "        #trg[:, :-1] remove the eos, e.g., \"<sos> I love sushi\" since teaching forcing, the input does not need to have eos\n",
        "        output, _ = model(src, trg[:,:-1])\n",
        "\n",
        "        #output = [batch size, trg len - 1, output dim]\n",
        "        #trg    = [batch size, trg len]\n",
        "\n",
        "        output_dim = output.shape[-1]\n",
        "\n",
        "        output = output.reshape(-1, output_dim)\n",
        "        trg = trg[:,1:].reshape(-1) #trg[:, 1:] remove the sos, e.g., \"i love sushi <eos>\" since in teaching forcing, the output does not have sos\n",
        "\n",
        "        #output = [batch size * trg len - 1, output dim]\n",
        "        #trg    = [batch size * trg len - 1]\n",
        "\n",
        "        loss = criterion(output, trg)\n",
        "\n",
        "        loss.backward()\n",
        "\n",
        "        torch.nn.utils.clip_grad_norm_(model.parameters(), clip)\n",
        "\n",
        "        optimizer.step()\n",
        "\n",
        "        epoch_loss += loss.item()\n",
        "\n",
        "    return epoch_loss / loader_length"
      ]
    },
    {
      "cell_type": "code",
      "execution_count": 107,
      "metadata": {
        "id": "tDxdAznSH-oV"
      },
      "outputs": [],
      "source": [
        "def evaluate(model, loader, criterion, loader_length):\n",
        "\n",
        "    model.eval()\n",
        "\n",
        "    epoch_loss = 0\n",
        "\n",
        "    with torch.no_grad():\n",
        "\n",
        "        for src, src_len, trg in loader:\n",
        "\n",
        "            src = src.to(device)\n",
        "            trg = trg.to(device)\n",
        "\n",
        "            output, _ = model(src, trg[:,:-1])\n",
        "\n",
        "            #output = [batch size, trg len - 1, output dim]\n",
        "            #trg = [batch size, trg len]\n",
        "\n",
        "            output_dim = output.shape[-1]\n",
        "\n",
        "            output = output.contiguous().view(-1, output_dim)\n",
        "            trg = trg[:,1:].contiguous().view(-1)\n",
        "\n",
        "            #output = [batch size * trg len - 1, output dim]\n",
        "            #trg = [batch size * trg len - 1]\n",
        "\n",
        "            loss = criterion(output, trg)\n",
        "\n",
        "            epoch_loss += loss.item()\n",
        "\n",
        "    return epoch_loss / loader_length"
      ]
    },
    {
      "cell_type": "code",
      "execution_count": 108,
      "metadata": {
        "id": "j6WEUFi7H-oV"
      },
      "outputs": [],
      "source": [
        "train_loader_length = len(train_loader)\n",
        "val_loader_length   = len(valid_loader)\n",
        "test_loader_length  = len(test_loader)"
      ]
    },
    {
      "cell_type": "code",
      "execution_count": 109,
      "metadata": {
        "id": "9SMjEpTbH-oV"
      },
      "outputs": [],
      "source": [
        "def epoch_time(start_time, end_time):\n",
        "    elapsed_time = end_time - start_time\n",
        "    elapsed_mins = int(elapsed_time / 60)\n",
        "    elapsed_secs = int(elapsed_time - (elapsed_mins * 60))\n",
        "    return elapsed_mins, elapsed_secs"
      ]
    },
    {
      "cell_type": "code",
      "execution_count": 110,
      "metadata": {
        "colab": {
          "base_uri": "https://localhost:8080/"
        },
        "id": "nfEvQznoH-oV",
        "outputId": "c8678a9d-758b-46a6-b0cf-4bf1226a2688"
      },
      "outputs": [
        {
          "name": "stdout",
          "output_type": "stream",
          "text": [
            "Epoch: 01 | Time: 1m 26s\n",
            "\tTrain Loss: 6.086 | Train PPL: 439.460\n",
            "\t Val. Loss: 5.666 |  Val. PPL: 288.972\n",
            "Epoch: 02 | Time: 1m 25s\n",
            "\tTrain Loss: 5.644 | Train PPL: 282.457\n",
            "\t Val. Loss: 5.347 |  Val. PPL: 210.068\n",
            "Epoch: 03 | Time: 1m 25s\n",
            "\tTrain Loss: 5.383 | Train PPL: 217.767\n",
            "\t Val. Loss: 5.222 |  Val. PPL: 185.264\n",
            "Epoch: 04 | Time: 1m 25s\n",
            "\tTrain Loss: 5.215 | Train PPL: 184.037\n",
            "\t Val. Loss: 5.110 |  Val. PPL: 165.676\n",
            "Epoch: 05 | Time: 1m 25s\n",
            "\tTrain Loss: 5.075 | Train PPL: 159.943\n",
            "\t Val. Loss: 5.048 |  Val. PPL: 155.678\n",
            "Epoch: 06 | Time: 1m 25s\n",
            "\tTrain Loss: 4.928 | Train PPL: 138.159\n",
            "\t Val. Loss: 4.921 |  Val. PPL: 137.134\n",
            "Epoch: 07 | Time: 1m 25s\n",
            "\tTrain Loss: 4.791 | Train PPL: 120.458\n",
            "\t Val. Loss: 4.885 |  Val. PPL: 132.227\n",
            "Epoch: 08 | Time: 1m 25s\n",
            "\tTrain Loss: 4.673 | Train PPL: 107.006\n",
            "\t Val. Loss: 4.844 |  Val. PPL: 126.942\n",
            "Epoch: 09 | Time: 1m 24s\n",
            "\tTrain Loss: 4.570 | Train PPL:  96.523\n",
            "\t Val. Loss: 4.784 |  Val. PPL: 119.553\n",
            "Epoch: 10 | Time: 1m 25s\n",
            "\tTrain Loss: 4.451 | Train PPL:  85.741\n",
            "\t Val. Loss: 4.791 |  Val. PPL: 120.391\n"
          ]
        }
      ],
      "source": [
        "best_valid_loss = float('inf')\n",
        "num_epochs = 10\n",
        "clip       = 1\n",
        "\n",
        "save_path = f'/content/drive/My Drive/models/{model.__class__.__name__}.pt'\n",
        "\n",
        "train_losses = []\n",
        "valid_losses = []\n",
        "\n",
        "for epoch in range(num_epochs):\n",
        "\n",
        "    start_time = time.time()\n",
        "\n",
        "    train_loss = train(model, train_loader, optimizer, criterion, clip, train_loader_length)\n",
        "    valid_loss = evaluate(model, valid_loader, criterion, val_loader_length)\n",
        "\n",
        "    #for plotting\n",
        "    train_losses.append(train_loss)\n",
        "    valid_losses.append(valid_loss)\n",
        "\n",
        "    end_time = time.time()\n",
        "\n",
        "    epoch_mins, epoch_secs = epoch_time(start_time, end_time)\n",
        "\n",
        "\n",
        "    if valid_loss < best_valid_loss:\n",
        "        best_valid_loss = valid_loss\n",
        "        torch.save(model.state_dict(), save_path)\n",
        "\n",
        "    print(f'Epoch: {epoch+1:02} | Time: {epoch_mins}m {epoch_secs}s')\n",
        "    print(f'\\tTrain Loss: {train_loss:.3f} | Train PPL: {math.exp(train_loss):7.3f}')\n",
        "    print(f'\\t Val. Loss: {valid_loss:.3f} |  Val. PPL: {math.exp(valid_loss):7.3f}')\n",
        "\n",
        "    #lower perplexity is better"
      ]
    },
    {
      "cell_type": "code",
      "execution_count": 111,
      "metadata": {
        "colab": {
          "base_uri": "https://localhost:8080/",
          "height": 326
        },
        "id": "vCBKCezeH-oV",
        "outputId": "355a4df2-b7fa-4d20-c5f5-5e03ed07b643"
      },
      "outputs": [
        {
          "data": {
            "text/plain": [
              "Text(0, 0.5, 'loss')"
            ]
          },
          "execution_count": 111,
          "metadata": {},
          "output_type": "execute_result"
        },
        {
          "data": {
            "image/png": "[encoded data removed]",
            "text/plain": [
              "<Figure size 500x300 with 1 Axes>"
            ]
          },
          "metadata": {},
          "output_type": "display_data"
        }
      ],
      "source": [
        "import matplotlib.pyplot as plt\n",
        "fig = plt.figure(figsize=(5, 3))\n",
        "ax = fig.add_subplot(1, 1, 1)\n",
        "ax.plot(train_losses, label = 'train loss')\n",
        "ax.plot(valid_losses, label = 'valid loss')\n",
        "plt.legend()\n",
        "ax.set_xlabel('updates')\n",
        "ax.set_ylabel('loss')"
      ]
    },
    {
      "cell_type": "code",
      "execution_count": 112,
      "metadata": {
        "id": "EPa-viE73q6-"
      },
      "outputs": [],
      "source": [
        "import matplotlib.ticker as ticker\n",
        "import matplotlib\n",
        "\n",
        "def display_attention(sentence, translation, attention):\n",
        "    matplotlib.font_manager.fontManager.addfont('Sarabun-Regular.ttf')\n",
        "    matplotlib.rc('font',family='Sarabun')\n",
        "\n",
        "    fig = plt.figure(figsize=(10,10))\n",
        "    ax = fig.add_subplot(111)\n",
        "\n",
        "    attention = attention.squeeze(1).cpu().detach().numpy()\n",
        "\n",
        "    cax = ax.matshow(attention, cmap='bone')\n",
        "\n",
        "    ax.tick_params(labelsize=10)\n",
        "\n",
        "    y_ticks =  [''] + translation\n",
        "    x_ticks =  [''] + sentence\n",
        "\n",
        "    ax.set_xticklabels(x_ticks, rotation=45)\n",
        "    ax.set_yticklabels(y_ticks)\n",
        "\n",
        "    ax.xaxis.set_major_locator(ticker.MultipleLocator(1))\n",
        "    ax.yaxis.set_major_locator(ticker.MultipleLocator(1))\n",
        "\n",
        "    plt.show()\n",
        "    plt.close()"
      ]
    },
    {
      "cell_type": "code",
      "execution_count": 113,
      "metadata": {
        "colab": {
          "base_uri": "https://localhost:8080/"
        },
        "id": "-MkEdvndIKD9",
        "outputId": "ee7eec17-e504-4e16-ea41-d3d5332eb954"
      },
      "outputs": [
        {
          "name": "stdout",
          "output_type": "stream",
          "text": [
            " \n",
            "<unk>\n",
            " \n",
            "หรับ\n",
            " \n",
            "ของ\n",
            "หรับ\n",
            "การ\n",
            " \n",
            "<unk>\n",
            " \n",
            "<unk>\n",
            " \n",
            "<unk>\n",
            " \n",
            " \n"
          ]
        },
        {
          "data": {
            "text/plain": [
              "['<sos>',\n",
              " ' ',\n",
              " '<unk>',\n",
              " ' ',\n",
              " 'หรับ',\n",
              " ' ',\n",
              " 'ของ',\n",
              " 'หรับ',\n",
              " 'การ',\n",
              " ' ',\n",
              " '<unk>',\n",
              " ' ',\n",
              " '<unk>',\n",
              " ' ',\n",
              " '<unk>',\n",
              " ' ',\n",
              " ' ']"
            ]
          },
          "execution_count": 113,
          "metadata": {},
          "output_type": "execute_result"
        }
      ],
      "source": [
        "src_text = text_transform[SRC_LANGUAGE](dataset['test'][0]['en']).to(device)\n",
        "src_text\n",
        "trg_text = text_transform[TRG_LANGUAGE](dataset['test'][0]['th']).to(device)\n",
        "trg_text\n",
        "src_text = src_text.reshape(1, -1)\n",
        "trg_text = trg_text.reshape(1, -1)\n",
        "text_length = torch.tensor([src_text.size(0)]).to(dtype=torch.int64)\n",
        "model.load_state_dict(torch.load(save_path))\n",
        "\n",
        "model.eval()\n",
        "with torch.no_grad():\n",
        "    output, attentions = model(src_text, trg_text)\n",
        "output = output.squeeze(0)\n",
        "output = output[1:]\n",
        "output.shape\n",
        "output_max = output.argmax(1)\n",
        "mapping = vocab_transform[TRG_LANGUAGE].get_itos()\n",
        "for token in output_max:\n",
        "    print(mapping[token.item()])\n",
        "attentions.shape\n",
        "attention = attentions[0, 0, :, :]\n",
        "attention.shape\n",
        "src_tokens = ['<sos>'] + token_transform[SRC_LANGUAGE](dataset['test'][0]['en']) + ['<eos>']\n",
        "src_tokens\n",
        "trg_tokens = ['<sos>'] + [mapping[token.item()] for token in output_max]\n",
        "trg_tokens\n"
      ]
    },
    {
      "cell_type": "code",
      "execution_count": 114,
      "metadata": {
        "colab": {
          "base_uri": "https://localhost:8080/",
          "height": 935
        },
        "id": "IlbaViJgIMjl",
        "outputId": "902cfcdd-b428-444a-804a-4975ffb012ed"
      },
      "outputs": [
        {
          "name": "stderr",
          "output_type": "stream",
          "text": [
            "<ipython-input-112-f482a0e690f4>:20: UserWarning: FixedFormatter should only be used together with FixedLocator\n",
            "  ax.set_xticklabels(x_ticks, rotation=45)\n",
            "<ipython-input-112-f482a0e690f4>:21: UserWarning: FixedFormatter should only be used together with FixedLocator\n",
            "  ax.set_yticklabels(y_ticks)\n"
          ]
        },
        {
          "data": {
            "image/png": "[encoded data removed]",
            "text/plain": [
              "<Figure size 1000x1000 with 1 Axes>"
            ]
          },
          "metadata": {},
          "output_type": "display_data"
        }
      ],
      "source": [
        "display_attention(src_tokens, trg_tokens, attention)"
      ]
    },
    {
      "cell_type": "code",
      "execution_count": 115,
      "metadata": {
        "colab": {
          "base_uri": "https://localhost:8080/"
        },
        "id": "hqu7TS8_H-oW",
        "outputId": "1493dcdc-9dfb-416e-dd37-9943dce678ca"
      },
      "outputs": [
        {
          "name": "stdout",
          "output_type": "stream",
          "text": [
            "| Test Loss: 4.786 | Test PPL: 119.762 |\n"
          ]
        }
      ],
      "source": [
        "model.load_state_dict(torch.load(save_path))\n",
        "test_loss = evaluate(model, test_loader, criterion, test_loader_length)\n",
        "\n",
        "print(f'| Test Loss: {test_loss:.3f} | Test PPL: {math.exp(test_loss):7.3f} |')"
      ]
    },
    {
      "cell_type": "markdown",
      "metadata": {
        "id": "lx3T4qNHGAz3"
      },
      "source": [
        "## 7. Test on some random news"
      ]
    },
    {
      "cell_type": "code",
      "execution_count": 116,
      "metadata": {
        "colab": {
          "base_uri": "https://localhost:8080/",
          "height": 36
        },
        "id": "H06VU5xaGAz3",
        "outputId": "fac241c7-f3dd-40a3-f9c1-bac453144db4"
      },
      "outputs": [
        {
          "data": {
            "application/vnd.google.colaboratory.intrinsic+json": {
              "type": "string"
            },
            "text/plain": [
              "'Coupon Detail 500 units for coupons for any joybuy order!'"
            ]
          },
          "execution_count": 116,
          "metadata": {},
          "output_type": "execute_result"
        }
      ],
      "source": [
        "dataset['test'][0]['en']"
      ]
    },
    {
      "cell_type": "code",
      "execution_count": 117,
      "metadata": {
        "colab": {
          "base_uri": "https://localhost:8080/",
          "height": 36
        },
        "id": "rqZ8ymQNGAz3",
        "outputId": "80b522e8-4afe-45e4-d38c-9a1b18149920"
      },
      "outputs": [
        {
          "data": {
            "application/vnd.google.colaboratory.intrinsic+json": {
              "type": "string"
            },
            "text/plain": [
              "'500 หน่วยสําหรับคูปองสําหรับการสั่งซื้อ joybuy ใด ๆ!'"
            ]
          },
          "execution_count": 117,
          "metadata": {},
          "output_type": "execute_result"
        }
      ],
      "source": [
        "dataset['test'][0]['th']"
      ]
    },
    {
      "cell_type": "code",
      "execution_count": 118,
      "metadata": {
        "colab": {
          "base_uri": "https://localhost:8080/"
        },
        "id": "njm0wqwBGAz3",
        "outputId": "30350120-44b3-4bd0-9458-5e035be0e8be"
      },
      "outputs": [
        {
          "data": {
            "text/plain": [
              "tensor([   2,    0,    0,  686, 4360,   14,    0,   14,  100,    0,  152,   43,\n",
              "           3], device='cuda:0')"
            ]
          },
          "execution_count": 118,
          "metadata": {},
          "output_type": "execute_result"
        }
      ],
      "source": [
        "src_text = text_transform[SRC_LANGUAGE](dataset['test'][0]['en']).to(device)\n",
        "src_text"
      ]
    },
    {
      "cell_type": "code",
      "execution_count": 119,
      "metadata": {
        "colab": {
          "base_uri": "https://localhost:8080/"
        },
        "id": "Dfpv66xsGAz4",
        "outputId": "3368e2ba-81bf-4537-e1b3-1796ec088993"
      },
      "outputs": [
        {
          "data": {
            "text/plain": [
              "tensor([   2,  929,    4,  810,   28,   29, 2235,   28,   29, 1503,    4,    0,\n",
              "           4,  476,    4, 6536,    3], device='cuda:0')"
            ]
          },
          "execution_count": 119,
          "metadata": {},
          "output_type": "execute_result"
        }
      ],
      "source": [
        "trg_text = text_transform[TRG_LANGUAGE](dataset['test'][0]['th']).to(device)\n",
        "trg_text"
      ]
    },
    {
      "cell_type": "code",
      "execution_count": 120,
      "metadata": {
        "id": "A3qbdcxMGAz4"
      },
      "outputs": [],
      "source": [
        "src_text = src_text.reshape(1, -1)  #because batch_size is 1"
      ]
    },
    {
      "cell_type": "code",
      "execution_count": 121,
      "metadata": {
        "id": "viYiCgX4GAz4"
      },
      "outputs": [],
      "source": [
        "trg_text = trg_text.reshape(1, -1)"
      ]
    },
    {
      "cell_type": "code",
      "execution_count": 122,
      "metadata": {
        "colab": {
          "base_uri": "https://localhost:8080/"
        },
        "id": "tYWB5PCZGAz4",
        "outputId": "3c0cac22-7531-47aa-a547-743c305d80f4"
      },
      "outputs": [
        {
          "data": {
            "text/plain": [
              "(torch.Size([1, 13]), torch.Size([1, 17]))"
            ]
          },
          "execution_count": 122,
          "metadata": {},
          "output_type": "execute_result"
        }
      ],
      "source": [
        "src_text.shape, trg_text.shape"
      ]
    },
    {
      "cell_type": "code",
      "execution_count": 123,
      "metadata": {
        "id": "TnHQjcYmGAz4"
      },
      "outputs": [],
      "source": [
        "text_length = torch.tensor([src_text.size(0)]).to(dtype=torch.int64)"
      ]
    },
    {
      "cell_type": "code",
      "execution_count": 124,
      "metadata": {
        "id": "ZdY_NA9MGAz4"
      },
      "outputs": [],
      "source": [
        "model.load_state_dict(torch.load(save_path))\n",
        "\n",
        "model.eval()\n",
        "with torch.no_grad():\n",
        "    output, attentions = model(src_text, trg_text) #turn off teacher forcing"
      ]
    },
    {
      "cell_type": "code",
      "execution_count": 125,
      "metadata": {
        "colab": {
          "base_uri": "https://localhost:8080/"
        },
        "id": "-3RaXx4cGAz5",
        "outputId": "e249fa95-bad0-4483-b8f4-1fc861702b6e"
      },
      "outputs": [
        {
          "data": {
            "text/plain": [
              "torch.Size([1, 17, 6545])"
            ]
          },
          "execution_count": 125,
          "metadata": {},
          "output_type": "execute_result"
        }
      ],
      "source": [
        "output.shape #batch_size, trg_len, trg_output_dim"
      ]
    },
    {
      "cell_type": "markdown",
      "metadata": {
        "id": "00C3ulLeGAz5"
      },
      "source": [
        "Since batch size is 1, we just take off that dimension"
      ]
    },
    {
      "cell_type": "code",
      "execution_count": 126,
      "metadata": {
        "id": "LHrk6MrVGAz5"
      },
      "outputs": [],
      "source": [
        "output = output.squeeze(0)"
      ]
    },
    {
      "cell_type": "code",
      "execution_count": 127,
      "metadata": {
        "colab": {
          "base_uri": "https://localhost:8080/"
        },
        "id": "sH593JgDGAz5",
        "outputId": "209b5886-63a9-4560-a1bd-8f4b8eddc723"
      },
      "outputs": [
        {
          "data": {
            "text/plain": [
              "torch.Size([17, 6545])"
            ]
          },
          "execution_count": 127,
          "metadata": {},
          "output_type": "execute_result"
        }
      ],
      "source": [
        "output.shape"
      ]
    },
    {
      "cell_type": "markdown",
      "metadata": {
        "id": "IXOczzabGAz6"
      },
      "source": [
        "We shall remove the first token since it's zeroes anyway"
      ]
    },
    {
      "cell_type": "code",
      "execution_count": 128,
      "metadata": {
        "colab": {
          "base_uri": "https://localhost:8080/"
        },
        "id": "KKkiMGuaGAz6",
        "outputId": "14b63aa5-ea90-4112-e57a-d3c902139356"
      },
      "outputs": [
        {
          "data": {
            "text/plain": [
              "torch.Size([16, 6545])"
            ]
          },
          "execution_count": 128,
          "metadata": {},
          "output_type": "execute_result"
        }
      ],
      "source": [
        "output = output[1:]\n",
        "output.shape #trg_len, trg_output_dim"
      ]
    },
    {
      "cell_type": "markdown",
      "metadata": {
        "id": "JovqTa-GGAz6"
      },
      "source": [
        "Then we just take the top token with highest probabilities"
      ]
    },
    {
      "cell_type": "code",
      "execution_count": 129,
      "metadata": {
        "id": "wy5eN778GAz6"
      },
      "outputs": [],
      "source": [
        "output_max = output.argmax(1) #returns max indices"
      ]
    },
    {
      "cell_type": "code",
      "execution_count": 130,
      "metadata": {
        "colab": {
          "base_uri": "https://localhost:8080/"
        },
        "id": "C6cuc0h1GAz6",
        "outputId": "851340e2-ebde-45d1-c805-8a6c12d0a247"
      },
      "outputs": [
        {
          "data": {
            "text/plain": [
              "tensor([ 4,  0,  4, 29,  4,  6, 29,  9,  4,  0,  4,  0,  4,  0,  4,  4],\n",
              "       device='cuda:0')"
            ]
          },
          "execution_count": 130,
          "metadata": {},
          "output_type": "execute_result"
        }
      ],
      "source": [
        "output_max"
      ]
    },
    {
      "cell_type": "markdown",
      "metadata": {
        "id": "fbNtLb0gGAz6"
      },
      "source": [
        "Get the mapping of the target language"
      ]
    },
    {
      "cell_type": "code",
      "execution_count": 131,
      "metadata": {
        "id": "3exgCFcsGAz7"
      },
      "outputs": [],
      "source": [
        "mapping = vocab_transform[TRG_LANGUAGE].get_itos()"
      ]
    },
    {
      "cell_type": "code",
      "execution_count": 132,
      "metadata": {
        "colab": {
          "base_uri": "https://localhost:8080/"
        },
        "id": "Vokx-YURGAz7",
        "outputId": "0e37216a-b251-45f7-cd0d-7ca9c597fd4b"
      },
      "outputs": [
        {
          "name": "stdout",
          "output_type": "stream",
          "text": [
            " \n",
            "<unk>\n",
            " \n",
            "หรับ\n",
            " \n",
            "ของ\n",
            "หรับ\n",
            "การ\n",
            " \n",
            "<unk>\n",
            " \n",
            "<unk>\n",
            " \n",
            "<unk>\n",
            " \n",
            " \n"
          ]
        }
      ],
      "source": [
        "for token in output_max:\n",
        "    print(mapping[token.item()])"
      ]
    },
    {
      "cell_type": "markdown",
      "metadata": {
        "id": "0mj-oP3dGAz7"
      },
      "source": [
        "## 8. Attention\n",
        "\n",
        "Let's display the attentions to understand how the source text links with the generated text"
      ]
    },
    {
      "cell_type": "code",
      "execution_count": 133,
      "metadata": {
        "colab": {
          "base_uri": "https://localhost:8080/"
        },
        "id": "MNNRiXzaGAz7",
        "outputId": "931e6506-e6ba-485b-addb-f5a361b0fd74"
      },
      "outputs": [
        {
          "data": {
            "text/plain": [
              "torch.Size([1, 8, 17, 13])"
            ]
          },
          "execution_count": 133,
          "metadata": {},
          "output_type": "execute_result"
        }
      ],
      "source": [
        "attentions.shape"
      ]
    },
    {
      "cell_type": "markdown",
      "metadata": {
        "id": "Q09b6B_0GAz7"
      },
      "source": [
        "Since there are 8 heads, we can look at just 1 head for sake of simplicity."
      ]
    },
    {
      "cell_type": "code",
      "execution_count": 134,
      "metadata": {
        "colab": {
          "base_uri": "https://localhost:8080/"
        },
        "id": "_1Bl0JAOGAz7",
        "outputId": "5806e9cf-1664-4f23-9f6b-6d581a2c6720"
      },
      "outputs": [
        {
          "data": {
            "text/plain": [
              "torch.Size([17, 13])"
            ]
          },
          "execution_count": 134,
          "metadata": {},
          "output_type": "execute_result"
        }
      ],
      "source": [
        "attention = attentions[0, 0, :, :]\n",
        "attention.shape"
      ]
    },
    {
      "cell_type": "code",
      "execution_count": 135,
      "metadata": {
        "colab": {
          "base_uri": "https://localhost:8080/"
        },
        "id": "pJWD0e2DGAz8",
        "outputId": "ea252ee4-6509-41e5-f7ed-4ea7e07bbca3"
      },
      "outputs": [
        {
          "data": {
            "text/plain": [
              "['<sos>',\n",
              " 'Coupon',\n",
              " 'Detail',\n",
              " '500',\n",
              " 'units',\n",
              " 'for',\n",
              " 'coupons',\n",
              " 'for',\n",
              " 'any',\n",
              " 'joybuy',\n",
              " 'order',\n",
              " '!',\n",
              " '<eos>']"
            ]
          },
          "execution_count": 135,
          "metadata": {},
          "output_type": "execute_result"
        }
      ],
      "source": [
        "src_tokens = ['<sos>'] + token_transform[SRC_LANGUAGE](dataset['test'][0]['en']) + ['<eos>']\n",
        "src_tokens"
      ]
    },
    {
      "cell_type": "code",
      "execution_count": 136,
      "metadata": {
        "colab": {
          "base_uri": "https://localhost:8080/"
        },
        "id": "r-5faaqEGAz8",
        "outputId": "2de615a4-4894-4897-e7e8-1a742a96256a"
      },
      "outputs": [
        {
          "data": {
            "text/plain": [
              "['<sos>',\n",
              " ' ',\n",
              " '<unk>',\n",
              " ' ',\n",
              " 'หรับ',\n",
              " ' ',\n",
              " 'ของ',\n",
              " 'หรับ',\n",
              " 'การ',\n",
              " ' ',\n",
              " '<unk>',\n",
              " ' ',\n",
              " '<unk>',\n",
              " ' ',\n",
              " '<unk>',\n",
              " ' ',\n",
              " ' ']"
            ]
          },
          "execution_count": 136,
          "metadata": {},
          "output_type": "execute_result"
        }
      ],
      "source": [
        "trg_tokens = ['<sos>'] + [mapping[token.item()] for token in output_max]\n",
        "trg_tokens"
      ]
    },
    {
      "cell_type": "code",
      "execution_count": 137,
      "metadata": {
        "id": "-NnnYAs7GAz8"
      },
      "outputs": [],
      "source": [
        "import matplotlib.ticker as ticker\n",
        "\n",
        "def display_attention(sentence, translation, attention):\n",
        "\n",
        "    fig = plt.figure(figsize=(10,10))\n",
        "    ax = fig.add_subplot(111)\n",
        "\n",
        "    attention = attention.squeeze(1).cpu().detach().numpy()\n",
        "\n",
        "    cax = ax.matshow(attention, cmap='bone')\n",
        "\n",
        "    ax.tick_params(labelsize=10)\n",
        "\n",
        "    y_ticks =  [''] + translation\n",
        "    x_ticks =  [''] + sentence\n",
        "\n",
        "    ax.set_xticklabels(x_ticks, rotation=45)\n",
        "    ax.set_yticklabels(y_ticks)\n",
        "\n",
        "    ax.xaxis.set_major_locator(ticker.MultipleLocator(1))\n",
        "    ax.yaxis.set_major_locator(ticker.MultipleLocator(1))\n",
        "\n",
        "    plt.show()\n",
        "    plt.close()"
      ]
    },
    {
      "cell_type": "code",
      "execution_count": 138,
      "metadata": {
        "colab": {
          "base_uri": "https://localhost:8080/",
          "height": 935
        },
        "id": "cRQMDyTyGAz8",
        "outputId": "45faae98-2009-4d94-cc35-a6ebcff05a79"
      },
      "outputs": [
        {
          "name": "stderr",
          "output_type": "stream",
          "text": [
            "<ipython-input-137-08ff35c238c4>:17: UserWarning: FixedFormatter should only be used together with FixedLocator\n",
            "  ax.set_xticklabels(x_ticks, rotation=45)\n",
            "<ipython-input-137-08ff35c238c4>:18: UserWarning: FixedFormatter should only be used together with FixedLocator\n",
            "  ax.set_yticklabels(y_ticks)\n"
          ]
        },
        {
          "data": {
            "image/png": "[encoded data removed]",
            "text/plain": [
              "<Figure size 1000x1000 with 1 Axes>"
            ]
          },
          "metadata": {},
          "output_type": "display_data"
        }
      ],
      "source": [
        "display_attention(src_tokens, trg_tokens, attention)"
      ]
    },
    {
      "cell_type": "code",
      "execution_count": 139,
      "metadata": {
        "id": "A_5KANp5WOof"
      },
      "outputs": [],
      "source": [
        "# save vocab_transform\n",
        "torch.save(vocab_transform, '/content/drive/My Drive/models/vocab')"
      ]
    },
    {
      "cell_type": "markdown",
      "metadata": {
        "id": "p990chTlcZ7o"
      },
      "source": [
        "|        **Attentions**        | **Training Loss** | **Training PPL** | **Validation Loss** | **Validation PPL** |\n",
        "|:----------------------------:|-------------------|:----------------:|:-------------------:|--------------------|\n",
        "| **General Attention**        |       5.974       |      393.145     |        5.780        |       323.874      |\n",
        "| **Multiplicative Attention** |       5.947       |      382.739     |        5.826        |       338.885      |\n",
        "| **Additive Attention**       |       4.673       |      107.006     |        4.844        |       126.942      |![1.png](data:image/png;base64,iVBORw0KGgoAAAANSUhEUgAAAkQAAAFzCAYAAADfdxbSAAAAAXNSR0IArs4c6QAAAARnQU1BAACxjwv8YQUAAAAJcEhZcwAAEnQAABJ0Ad5mH3gAAHIdSURBVHhe7Z0HgB1luf7fZGu2ZEuy6b2HJCSU0FtC712RJiiiF7FcFbCggIoX/XMRvaiAICiigtKU3nsJJSEJ6b1nN2Vrtib85/eemc1J2IQkbDm75/nBl5kzbc+ZOWe+Z972dfo4wIQQQgghkpjO4VQIIYQQImmRIBJCCCFE0iNBJIQQQoikR4JICCGEEEmPBJEQQgghkh4JIiGEEEIkPRJEQgghhEh6JIiEEEIIkfSoMONuwumqrKy0LVu2WFpaWrhUCCGEEG3B5s2braGhwbp27WopKSnh0t1Hgmg34FRVVVXZQw89ZLNnz7bU1NRwjRBCCCHaAgwUmZmZdtlll1mPHj32uG+WINoNOFXr1q2zr371q/bee+/Z8OHDP5MaFUIIIcSegxgqLi62kpISe+aZZ2zkyJGWkZERrt09JIh2A04V7rIvfelLVlhYaD/96U8tKysrXCuEEEKI1qS2ttb+85//2I9+9CN75ZVXbPDgwbIQtQacKlxmCCLMcjfddJMEkRBCCNFGIIgeeeQR+973vidB1JpsL4h++ctfWnZ2drhWCCGEEK1JJIi+853vfGZBpLR7IYQQQiQ9EkRCCCGESHokiIQQQrQqhB+oqX1aa20UQ7QbcKoUQySEELtP1MlRRI9UaSF2RqdOnbysTefOnX1+RzRnDJEE0W4gQSSEELsPIoiSJZs2bbL6+vpwqRA7B0FEwcXc3FwfGaIpYSRB1Ea0tCDiSmwO/knp3Ml2rIeFEKL9wH1z48aNfu/EMrQrT/0iueE7Q4usiV26dLH8/PwmCy5KELURnKqWEES1DVtsfWWtlQSNqzGqV65lpqkCthCifRN1asuXL/fXOTk5fs9EFEkQiZ3B96ampsYqKiqsurraevfu7d8fxHQ8EkRtREsJolWl1fbMR2vsqZmrLTs91W44baz1L8wKbhjhBkII0Q7h6Z4Oa9WqVe724Ck/PT09XCvEzkEU4WZdvXq1de/e3Qdv3V7sNKcgUpZZApCW0tnKqutt+ooye39pqS1aV2lVdQ3hWiGEaP9gEZJVSOwurfmdkSBKALp2SbMBhVnWvyDLNgVC6NX5JbZyY3W4VgghhBAtjQRRApCR2tmG98i1Awd3sy0ff2xvLlhvi9dVWV2DUlOFEEKI1kCCKEEgZujAIYWWnZFqi0qqbO6aciupqA3XCiGESHZKSkrs7bfftqVLl3rsTHNA4PJbb71l8+bNs/Ly8nBpciJBlCDkZ6XZyF65NqZPnqWmdLIPlpfazFVlpoh3IYRIfKivFNVaaqnCk1OmTLGrr77aHnvsMVu/fn249LOxZs0au/zyy+2OO+5wUZTMSBAlEIXZ6Xba+D7WNTPNpi8vsxkryqyufnO4VgghRKKCleUb3/iG3XzzzZ5V1xIccsgh9vvf/97OPfdcz7oSzYsEUQKBEDpkWDfrV9DF6jZvsXlrK2zGyrJwrRBCiEQlSg/HcrMr1bgp44IlaXcq35B2PmLECCsqKvLKzaJ5Sbk+IJwXuwBfdMyV1B869thjm7WmBhWqs9JTbcn6KltRWm3l1fWWnZFiEwcXKl1VCNHuoLOnlgzF9agyzDAMFGWM2LwlWB80kkkSpfEfYwXszi33o48+smeeecZef/11Kysr81if999/39atW2c9e/b06UMPPWTFxcU+z7YvvviinxNq5qxYscJeeOEFr6Pz5ptv2ocffujbUaGZ+k3R/X/hwoX25JNPWkNDg+Xl5fn+s2bNsgceeMCPM23aND8G72P+/PneP9FX7Uw8lZaW2t///ncbOnSojRs3zvr06eNCDfcfVq/offF5Vq5c6cURs7Ky/DpybTds2GCvvfaaf55XX33V3n33XX9P/E3+Nu+dz8L6l19+2bd97733bMGCBf7+OdaO3h/fHz4r3x+2Y/vtCzPyHubMmePn9NJLL7WCgoJPbLOrSBDtJi0piIDvPcJo/tpKW1hS5TFEhw3rbhlpKdZZokgI0Y7YmSBCCM1dW2GzVpXZsg2bEqatq6yzXl0zvSPf1VsuQoQOf/r06S4ksBItWrTIP/OYMWNs8eLF9pOf/MSDoRnGBNHDPlh76Ojp0P/zn//4MuZnz57t1b3pb9gGscP7QUxQEBhL0fDhw3363HPP2TXXXOPbIEQ++OADFxwzZszwQsIUKkQ87eihuilBhLULUfXggw/63+S4vK+ZM2f6NezWrZsX2WS7559/3h599FEXT3PnznWhw+flOL169fKgbY7x17/+1T8f2yDWsKYhFqlAzTloitYWRKpUvRtwqlpyLLOI2votduOTs+yRqSutW06G/ffRI2zSqCKvVySEEO2F+ErVdN50opE1oKZ+s1376Ez71/sr/HWiQHLLv752sGf87upDKJ3+E088Yb/73e9cWHz1q1+1/v37u3igc546dap9/etf9479xBNPtAsvvNCFANYf+hSEEsHNY8eO9U4f4YBFCQGCWBk2bJgfC+Fxww032Pnnn29f+MIXrF+/fva3v/3NLrnkEuvbt6/913/9lx1xxBGeLcb+//znP+3ee++1Y445ZoeiY8mSJXbqqafacccd58fcd999XdBcfPHF/sB/xhln+DGxbv3617/29/uVr3zFPwPXlXgmPgvbHXzwwS5QEEX0kYgxArVvvPFG/1vsx2eMvhP0nwhGvhdNwbEYtoNtVak6SUlP7Wz7Diiwvfrk2YbKWnt02gqvZC2EECLxQMTg3kLsIVywUtCBI3jirRWHHnqofe5zn3PRgWAqLCx0IXPAAQfYSSed5FafgQMH2gknnGCnnXaa7481CSvOzsCNxf6IrQkTJthBBx3kognrCm623clIwwWGewwrznnnnWdnn3227bXXXn7Ma6+91kUKljAsWBwfoTRkyBDfZtCgQT4/adIk23vvvf3zIRZxI7J+5MiRvg1Wr8MOO8zPAyInUZDLbDdpaZcZ8FCCi2xteY19sKw0EEMNtu/AAuuWk24ZqRr0VQjRPtiZy4z7XPecDDtwSDc7fkyvhGmTR/WwYT1yLKUTI/L7W/1UcEchPN555x0PeMZSghhgOX0G7iFif/bff38XLbicOA+IJc4RVhosTLioHn74YXv88cc93oaYHYQTIgcrCq4hrCC4tmiICVxjxPmcddZZfnzEGP0SQgQ3FcIEIbKjrLTtXWa8Lz4HVi0sT1hwOB6Nz4RrD+E3evRo/6xYk3CpYQni/WKdwkWHSGM7LEp8ftxmiCjipVjGej7TztxbnJvWdJnJQpSg9MnvYqN7dbW+BVm2YVOdvb1ova0pqwnXCiFE+yYl6LQmDMj3UiOJ1I4cUWSpnXcvqHpXweKzvUWEmBrE0tNPP+1iAncPD9w0xAkxSXT6OwMBgBCIXEUIMeYRJAgyRMWuwrYIFsQrIiRycfI3eP+IEo5J/BCvL7jgArf2IJgILkfM3XbbbW7ZwtqEWy9yuyFwEHAYFe68804XXolUDFKCKEFhOI9hPXPswMGFnvnw+vx1PpxH/WYN5yGE6BikBp0sg1snWttRAPLOYB8anf6OQOBsH99CAPRLL73k+xHD861vfcuLL5555pkuOHYlNZ+/y7Gbet/s+2n7x8NxEEN1dXVuZYrEGMdABCGG+AyRm/Coo47y+ktf/OIX3QXG+8XShcULyxdC7cgjj7Qf/vCHLp6wdiG4iPshxonYqURBgiiBGdw92zPMUoIv+ezV5Z6RsaGqLlwrhBAiUcCCEllkIhGzK0Jk7dq1vj1xN7jaiCPCNYUQIV19d8RMc4Ari7gmXGm4t8iK470Q3IxbjNdYucgQ430jmnB9HXjggXbZZZfZj3/8YxdAuBBxp7Ev54RtiKGiKva3v/1t34ZMNj5joiBBlMDkZKTakKJsmzio0Lqkp9jUpaU2fYUKNQohRKKBewmLDvE0y5Yt81pEWFQ+TdAgFBAMxNhEKen333+/W1laWwwBYoxYJIQZ9Y2IaaIMAO6tn//85y78iEsis4zP+Nvf/tZT/3nfWIQIuOYcIKyIJWI52Xd8PkoR0GbOnOnbkJqPlSlRkCBKYEj5LMrNsJPG9bbczDT7aFWZV67eVLfr/mAhhBAtz4ABA2zy5Mkeg3PLLbd4CjxCAIvKzoQN2VvE12ApIouLPCfEAlYa2p647z4LuMMQKt/73vc8df7f//63/ehHP/KUe6xEZJ5FMUN8VkTQX/7yF3/vV111ld11110eN0QqPwHZpMUjgogZ+v73v+8NkcVnIwiaoPFEQVlmuwlKvqWzzOIh8DAvK83eWbzBVpVWe22MwUU51jsvM9xCCCESE4QALpOmssw6Gnw+rCv0DbiUaKSgk43F56ZNnDjR087jzwFWJfbDosK+WF722Wcfj7Wh/hB1e8gSwwKFAGH7/fbbz9PzOSbL+Fu4o3BjRX0S556GG473wfGbItqOY0bFHnH9IVR4P+zHMl4zlho1jRB/fAb2w20WbUP2HHWAEHiIJt4P27AtliC2IduNv8N6tttZphn78vlUmDEgKshE46REoJj5IlDLgC/SjuBCUSOBxgnlNReaExYVxdod9c2pIhispQszbg+B1L98ao49/dEa65KWYmfs09f+66ihqlwthEhouOfuqDCjEJ9GFLukwowBnATMbKTsnXzyyV6oinb66ad7xUtKlO8IxAv+W6w5mPsuuugir6iJgvzVr37lfk5OZHuAoTwmj+5hA7tl2fKNm+zNheusqnZzcLNJWC0rhBBCtCsSPoYI0xfmuf/5n/9xkxjtqaeesj//+c8e+LUjqMxJbYfbb7/d9//FL37h+6AiqZXAPHUS2gNYgsb3y7ehRTlemHF1WY29OLfYKmsVSySEEEI0BwkviCL3GD5HahxEjWAtzGc7AhcZIwbjt8SHSrAbwWv4P/HNkupHJkB7gVHwJ/TP93F21lfW2RPTV/lwHrIRCSGEEJ+dhBdEuL4QN6T1EclOIadXX33Vx0bBP70jEFL4qtkffyLCiHgfxBUwjeZ3RFQ/gQJV8W1nf7elIFxo7375Nq5vntU1bLFpy0ptYUmlVdbISiSEEEJ8VhJaECFksAIROM24Kozey5grjN6LQKLC5Y7ECfsRNY8IItYIVxvVQJ999llPEyQgm7YjOC5Fqai9wDgxUWN8GdIj2wJiiEb37mrdczNsfVWdvbNog60p13AeQgghxGcloQURqXyIGuJ+brrpJvvpT3/q5cwJtv7JT37iMUA7Cowmk+zoo4/2mglYlMgMY/C7b37zm76O0YTHjx8fbv1JyGojVum73/2uB2PTGKX44osvtrfffjvcqnWhpDyDDh4ytJsP5/HS3GJbur7KglkhhBBCfAYSWhCRokndA4QN4oXqmAgiAqRxd2H5WbBgQbj1tuBmmzJlilf8ZL+bb77Z/vSnP9l1113nFiKqgLJ+R+BuQ0CxD1ahqBGoTcnxtmJQOJwHYwAxthlDeqwprw7XCiGEEGJPSGhBRDEnrETUCyIGiIb7jADrXr16+Ui6OxoHZfXq1S56qBeENYi0fQKrSdlnnjFZEEQ7KsNEDBJ1DyiIhRiLBNm4ceNcqLUVueFwHvsPLPB0fGKJZq1KnNGChRBCiPZIwgdVbw9ChYaQiVpTYCGi1hCCaOjQoV4mnCqapOAjbCorKz0GaUf7Ayn/xDFhLYpve1oFszlABPXIzbTjx/Ty4TxmrS734TyqlIIvhBBC7DEJLYioUMlouViCKLJIlWhEDOn0BDYTC4TIYR2D4jFeCtsA1iUCqqlHRKVqstLYjmMRLI2oaY0q0y1BXpc0O2pkkQ/fwej3s1dXuPtMCCFEx4E+8L333vO+jYd4oB974403vGwM63cED/vE2E6bNs33Z1T6ncHwFzT6yGQloQURF/yOO+7wUXK5UIy4+/TTT3sMEV8ExnthrBdEE8t+//vf28KFC31fxNKBBx7oWWIER+Me4xivv/66xxXhfsNy1JbWnj0lPbWz9SvMsn0G5Fv3nAwXQ6/NX6eaREII0YFYuXKlJ/L84Q9/8FHjgQd6Rm8g45rQkB1BYhCGgyuuuMJuu+22T82OJmmJ0ezbKmkoEUhoNUDNH0QRY4Z98YtftMsuu8xT7hmH7H//93/tqKOOcmGDCsZyRDwR+wCj9X75y1/2ITuwHjHC7iWXXOL7MSgexyJYu73SuZPZ0aN62oBwOI+3F62z8up626zhPIQQosPCSPIMSXX++ed7Pyeaj4QWRFz4r371q3bVVVf5eGQ/+MEP7Hvf+54rXkbJLSoqcgsPAofliBxGEgZG/CVuiLT7//7v//Z9f/jDH9rVV19tV155pY+0i7utvUIc1V59utqIHjk+4OvyjdVuJVIskRBCdFwwAjBaA4YBRn8XzUdCj3afaHCq2mK0+53xr/dX2D+mLLMFxZV26LDuds2Jo6x/QRcXTEII0ZYky2j3fD5CMjZu3OiZzPGjrZPgQy08lo0ePdozpPFmUGy4pKTEwz84Jzzgk80cL3QoK8OA5mRGYxEiTIS/8be//c0mTpzoxYU5p7jHiJd9//33/b1w3snI7t+/v3396193A8K3vvUtNx7sCI6PgYHpSSed5MuIVyIjGy8L75l+pWfPnj50FqPKR++TGF22wa3HPJAhPmrUKM/UJlOcvpP4X8recE6A/pPMbY7VVPa2RrsXu8Xe/fJsXL98q2nYYm8tWm/L1m+yTfWbw7VCCJHAfLwlaMH9KqHa7g/NhLAhVvWWW25xYYJAAYQJ4Ry//vWv3c21fPlyD25GFDz66KM+FNUDDzzgca0MOP7www97XBBCYEcQC3TNNdf4aA2IFB7Uo+GtqJtH+8c//uEiIRrmak9hIHRGiLjrrrv8PdKY/89//tMYrwsEbv/rX/+ye+65x/82n4lGPBLng1AWBCBxT3xOtom2e/fddxMmkFuCqJ0zrCjHxvQJnry6pPlgr4ii1aUazkMIkeDgnKjbZFZdmlitpny3RRGWGhJ86PzJCosywhACCBg6fawqWGgQO1gwKDr84x//2BOHCOcgROSGG27w/aNs6V0B8YXAuvbaa/3vfe1rX3PvxXHHHWf33XefW1d2F0QWx73zzjt9yCqsOARm33rrrW4hQtwhaKKhs/g7WH+Iy0Uw3X333fbtb3/bLV5kfCPKSHoi2+3UU0/1z/zHP/7RrVacu0SxGkoQtXM6d+5kQwNRdPiIIh/O48U5xbZ0nYbzEEIkOJtrzV672exPJyRWe/RrMaG2G6II1xFiB1H0/PPPW2lpIKwCsPYghnAZjR071sUEbh8EBpliCAbiXg8++GC78MIL/Ri43sgk21UQPGRiMxA5GWm41/hbFCLmmPzN3QU3FCNBkNl9wAEH2OWXX2577bWXHxcX3JAhQ9wqhEsPgYcbj8zuCRMm+Geg3h+faf/99/fAb7ah/A1xvbgNcWvxuRGFuP5wIyYCEkQdADLNDh7azTJSU2z5hk02e02FrS7TcB5CiASGp7bKtWbr5iVW27g0eG87dlk1BbE3WHgo+ssQT1iKsJ4gVnAVUQKGuNPIEoIFCRcXQ0qR6MOYmbjbEFC41crLd330AbYlGxvhgRAhdojAa5KGEDMIsN0FcYVLDEsRx0TAMFwWx0UYEefEZ+DvInaIbcIKRBY4liDch3wWYo74zOxLItPSpUvtL3/5i91+++3++XE1YkGShUg0G7jLRvbMddfZ5uAL/OHyUpsTiCIhhEhYOqeaDT7CbOJlidXGnmWWkh68wd1LTEEkkP2FdQfXEBYRBAOBxsccc4wLFSCmCDHw4IMPuoUF9xjiKRIPBDJH5WN2BcQL++Tl5Xl2dZRQg9BAFLFsd+H9ILRw7WVlZW2TzUYgNMsQS2zD9Pjjj7dJkyb5ulmzZtmzzz7r4ojPyedlOcHhhx56qB+L2CRqCuI6Q0B+Wo2k1kKCqAMQG84jw04c29vyMtPso1XlNmNFmVUruFoIkaggiMaeY3bcjYnVDvmmWWomtU3CN7pr4DLCHYQImTFjhruUKBqM4ME6EllqEEsEPGM9IubmG9/4hscQUU4GKxLWJkTGroLwQfSQjUXcT7QvogYrzs4CtHcEogprEPsizqIgccCdxrJoG6a4vXCrffOb37TDDz/cBRNWIgKtGUILEYT7jLgiSungTuNzEliOMMQ1lwhIEHUQ8rPSAkHUywqz021tRY3NXlNuSzSchxAiUUFwpKSZpQXiI5FaasZuiyGggyd1nILB0agKCCLibQgcRjwA8UW4k7AaHXnkke5mw92FaMBSsjvWISC9nRgc/haxPFiMEEMIpJkzZzYGeO8OWKqIBUL88F4jFyANCxjvE+sRaf18boQTcVJ8FoohE9R99tlnu+UKlyEiDVHFNvvtt58XSb7uuus8xR83GpayRECCqIOQGnwpu+dm2IGDC61X10xbXFJlr84rCdcKIYRoaejwcR/hKnvmmWfcbYZ1CCtOBO4jrEWkxGNJos4P4uk3v/mNC5DdBVcdVhlEzF//+ld78skn3W2FK4o0eVxWuwviDOGCxYugcDLCCPbG1RVlixFAzfBXCB3S6UnP5+8imPhciDGEElYvXGtRbBHHQQQhGqmbhFDE3ZcISBB1EHigSUvpZEeOLLL+hVm2srTa3l2ywdZX1mk4DyGEaAXo3AmgxmqDEMGdhCDCihKBiKB4I5DWzhhiiCdcbQQwx8fr7AoELA8fPtxHYKAeEeLlxhtvdJFFFheuvN2F98tnuOCCCzwjjnpCP/nJT7wsAAUYiQU688wz/W/zGRlzjdpE/F1GlsBChKUKaxnbIoywNCGafvazn/nIEaTx83dIwycoOxFIuT4gnBe7ABeZGgyo/GOPPXaPAtZaCr6YuV1SbX5xpVeupljjkKJs65XXxTJSpX2FEK0LrhI6QzpqOno60HhrSUeDz4aQwNKDywkxQJXoSDgAoomq1NH5wDqCS424GvZBgFDhmSBszh19DtYaRA+WJZbhVsMqhDuOvoh+CDEVZXRxTLanFhGCiP3j3XZNgWuNsgFkkfH+gJR93IAcHxdZdCxin3CP8ff4XLjG+Ox8Jv4GViGEIS5B3gfwOTgGx+I9Y9k66KCDvDwA772p70XkauP7EwV3x4tL4HxgdUJUXnrppf4et99mV9HQHbsBpyrRhu5oigffW27/mLLcR8E/Ynh3++7xIzWchxCi1SHmBHFAADGdeUcdukO0DIgdDd0hPhP7Diiw8f3yrLym3l6YU2xryqqtbvPul6MXQgghkgUJog4I1qDRfbp6cHVN/WYfBX/FRhVqFEIIIXaEBFEHJCMtxcc4O3BIoRdqfGXeOk/BZ14IIYQQn0SCqIMSDeeRFYijhSWVXrm6pGL3UzqFEEKIZECCqINCgcYxffJ84NctWz626SvKbM5qDechhBBCNIUEUQelc6dO1j0nw04d38e6dkmzqcs22rTlG1WTSAghhGgCCaIODIO+HrtXTysKhFF5TYPNW1tpczXoqxBCCPEJJIg6MGkpna13XqbtP6jAXWiLSirtzYXrwrVCCNGyUPuMmjBMKbAXP0ioEJ8GdawoQkkNQAo37mnBxV1FgqgDQx3G9NQUO3x4dxtQmGWry2psyuKNtqFKw3kIIVoehBAdGdWJ6dgobEshPYQRRffU1JpqfD/4vlCUke8MxTwjYd2SqFL1btBeKlVvz8ZNdXbzM3PtsWmrrEduhl178l42cXCh5WbuWTVPIYTYHRjhvayszO+hDMGAQFLlfLEj+J4gimpqarwxFAmN7832NGelagmi3aC9CiJ44N3l9vcpy2zp+k12xIjudtXxo6xfwY7HtRFCiOaCeyeCiMa4V0LsCliGGK6DgW+bGusMJIjaiPYsiOatrbD731lm97+91PKy0uy2L+xjEwYUWJe0jjvQohAicYhcIZG7TIidQbwQwoaGGNqRRVGCqI1oz4JoU12D/efD1XbbiwtsVVm1XTlpmJ0+oa+Phi+EEK0FgbLqdsSngQCK2s7Q4K5it8lKT7VhPXJsv4EFXqjx9QXrbMn6KmtQcLUQohXhyZ8nfjW1nTW+J60dZyZBlESQaXbIsG4+1tmsVWXuRivdVBeuFUIIIZIXCaIkoig3w/bum2cDA2GEYejD5aU2a3V5uFYIIYRIXiSIkgwKNJ6xT1/Lz0q3aStKbdqyUmvYLLeZEEKI5EaCKMlgXLPJo3pYz64ZVl5d724zmhBCCJHMSBAlGRmpKTake7bt3S/PcjPTbGFJlb29aH24VgghhEhOJIiSDIL2U1M62xHDe3iQ9crSahdEFTX1Gs5DCCFE0iJBlIQgisg2w1JUW7/ZFpRU2tRlpVYdzAshhBDJiARRkpKVnmLj++fb6N5dbWNVvT06baWVbaoP1wohhBDJhQRRktK5UyebEAiicX3zvIo1bjMKNW6qk5VICCFE8iFBlMQQQ7RXn67WLSfDVpfV2AdLN1pxeU24VgghhEgeJIiSmOyMVBveI9eH87CPzV6bv84Wr6tScLUQQoikQ4IoyRncPcuOHNEdPWTvL9to84srrbK2IbZSCCGESBIkiJKcvKx0G9mrq43t29XSUzvbtOWlNn1FWbhWCCGESA4kiJKc1M6drEduhp0wppflZqbazJVl9uGKUqtt2BJuIYQQQnR8JIhE43Aevbtm2rrKWpuzutyWrq8K1wohhBAdHwkiYV3SUtxtNqp3V8vJSLVFJVX21sL19rFiq4UQQiQJEkTC6dy5k1uJBnbL8npEr8wrsYYtWySKhBBCJAUSRMLpFDTS74cU5XjRxuUbN9kbC9Yp40wIIURSIEEkGinISre9++UHoijb1lXU2RPTV1tZdV24VgghhOi4SBCJRlI6d7Lx/fJcFDHQ65sL19uyDZusWsN5CCGE6OBIEIltGNYjx8b2iQVXryqr9lHwiytqw7VCCCFEx0SCSGxDZlqKDQ1E0YGDC304j5fmFHuQtRBCCNGRkSASn2BQt2w7YkSRdepkNntNhc0N2oYqxRIJIYTouEgQiU+Qn5Vmo3rl2l598mzLlo9t+opSm726PFwrhBBCdDwkiMQnSEvpbL3yMu2Y0T18OI+PVpW7KNJwHkIIIToqEkSiSfK6pNnxY3pZj9xMW1la7aJodTAVQgghOiISRKJJCK4e6W6zrpaXmWaL11XZawvWhWuFEEKIjoUEkdghnTp1skkje9jA7tm2fMMme31+idcn2qLxPIQQQnQwJIjEDmE4j30G5Nuwomx/jZXovSUbbFOtCjUKIYToWEgQiZ3Ss2uGjemTZ/0Ls2xdZZ09OWONlVbXUaJICCGE6DAktCCqq6uzNWvW2KxZs2zGjBmNbebMmTZ37lyrqKgIt9wxW7ZssQ0bNtjixYtt9uzZ9tFHH/m+xcXFVlurCsyfBm6z8f3zbXy/fKuqbbAX5xTbqtIaq1PGmRBCiA5EQguiFStW2G9/+1ubNGmS7b///o3tgAMOsNNPP93eeuutcMum+fjjj62qqsoeeugh+/rXv25HH320HXLIIXbaaafZ3XffbUuWLAm3FDuDmkTj+uV5oHVxRY29v3SjrS2vCdcKIYQQ7Z+EFkQIGlrPnj3txz/+sQsb2oMPPmi///3vbZ999gm3/CTshwXppz/9qT3//PM2ZswYu+mmm+yee+6xH/zgBy6ssrKywq3FzqAu0dCiHDtkaPfgvJq9PLfY44mEEEKIjkLCxxDhssnOzrYJEybY5MmTG9vBBx9shYWF4VafpKyszN5880179913bezYsXbOOefYCSecYMccc4wdf/zxNn78+J3uL7bCEB4Du2XZYcO7W2rnTjZ3bYXNW1Nh6yvlchRCCNExSHhBFLm9pkyZYk8++aS98MILNm3aNKuurvZ1O2L9+vX20ksvWefOna2goMA2btxor776qr3yyiu2evVqS09P/1QLEfFHDQ0NVl9fv01jebJRmJ1uY/t2tSFF2VZTv9lmriqz+cWV4VohhBCifZPQgiglJcW6dOliaWlp9sQTT9ivf/1ru/XWW+0Pf/iDvf766y56diSKysvL7YMPPnDR884779jtt99u//u//2u/+c1vPH5o6tSpVlm54w6d4xJ4TUA3x4kaYgxxlWz4cB5dM716ddfMNJu+osw+XF5q9ZsVXC2EEKL9k9CCKCcnx/bdd1+76qqrXMz84he/sDPPPNMWLFhgV199tbvEyERrCjLIli1bZq+99ppnqhGYfeONN9oXvvAFe/nll+3ee+91q9OOwBL08MMP25e+9CU76qijvHGME0880fdPRvKz0u20CX0tPzvdlq6vspmryhVcLYQQokOQ0IIoLy/PDj30UDv22GNdGNHOOOMMu/7669169P7779vChQvDrbcFCw8NUXX22Wfbueee64HUxBGdd955LpJI4d8Rqampdsopp9j//d//2WOPPdbYHnjgAX9PyUhaSifrX9DF9umfb91zMmzJuip7dV5JuFYIIYRovyS0IMJVRvxPt27drGvXrpabm2t9+vTx7LIePXpYSUmJt6ZA0LBP7969bciQIT7lNfsRUI0FCZfY5s1NV10m9qhv374uoiIL0ZFHHmmHH364HyMZ6dypk6feHz68uxdqXLGx2t5YsN4qa+tt8xaVahRCCNF+Sfig6u0h6wzrEA0xQ9BzU2RmZtrAgQMtIyPD96FFsC+vdxaUDWyHKCMAO74hlpKZfQcU2LAeOR4/RMbZzJXlHmgthBBCtFcSumcnPggrDsHPWHRoBDQTQ7R27Vq3GOXn5/vyVatW+TLmAWsQliSCq8kqY7+amhp/TaVqhFL37t1d9Ijdo09+F9urd1frV9DFNlYxnEdwfjfVazgPIYQQ7ZaEFkRLly612267zYOnFy1a5ELo6aeftp/85CcucBA8I0aM8Dii6667zjPI5s+f7/vi1qIiNVYggqMff/xxmzdvnqfd33fffb5+77339m3F7rPvgHwf+LWsut6eCARRSUWNbU7CcgRCCCE6BgktiLD2MAbZzTffbJdffrldccUVLmaIKSJjjJge0urZjmE+CJTGCgRYgAYPHmzXXnutF2Ak1Z7hO+68806bOHGinX/++R4fJPaMwUU5PuhrflaalW2qt3cWb/AxzoQQQoj2SMr1pGwlKMTq4BIjKHrUqFE2btw422+//TywmUwvrDwET+P2wv0VWYzILCNGiPifXr16eRs0aJCNHj3a9yd9nsBqArbjY4t2BdLxyTajejbZb8QUJSPUJaqu32xrymq8QOPHwX/De+TYgMLs4JyGGwkhhBAtCLHEc+bMsWeeecYuvfRS79f3NM6308efFlksGuFUUTWb2kSIsV/+8pcujJKV1WXV9vystfazJ2ZbVnqKfWPScDtr375WkJ2cIlEIIUTrgofokUcese985zseEoNnCEPJnpDc6VLiM9EjN9P2GVBgffIybVPdZpuxUsN5CCGEaJ9IEIk9JqVzJy/QeNK43pbfJc2mLt9oHyzb+KnlDIQQQohEQ4JIfCbystJcEBXmpFtxea3NWVNhS9dvCtcKIYQQ7QMJIvGZyEjtbEOLcmxc33zLyUy1RSWV9vai9eFaIYQQon0gQSQ+Ewzn0SU9xQ4b1s36F8SG83h5XonNWV2h6tVCCCHaDRJEolk4cEg3G9kr12rrt9i7izfY36css4XFlVZdJ1EkhBAi8ZEgEs1Cz9xMmzyqRyCMCm3Dpjr7WyCI7np9sc1aVaYgayGEEAmPBJFoFijGOHFQoV1w4AA7de/ePvDrq/NK7N43l9rzs4utQaPhCyGESGAkiESzwTAejIR/9n797Yx9+vpgr+8sXm8Pf7DSnpm5xuoatpiMRUIIIRIRCSLRrFClGkvRRQcNtEkjiyw1pbOLogfeW26vzCu2DVW1tkXWIiGEEAmGBJFodhjGY7+BBfalw4bYkSOKvIDje0s22C3Pzbd3l2z0GKMtMhUJIYRIICSIRIsxqleuXXbYYPvc/v1cFM1bW2E3PzvXxz+rqGkItxJCCCHaHgki0WIggvoVdLHTxve1rx81zAqy0mx1WY3d/84y+1vQiitqwy2FEEKItkWCSLQoGWkpNqh7th03pqdddvgQF0jLNmyyJ6avsn9MWWYrN1Zb3eYt4dZCCCFE2yBBJFochvcY2C3bPjexv502vo8NDgQSouihD1bYYx+utMXrqqxaVa2FEEK0IRJEolXAfVaYlW5fPGSQnT4hJooYDPb/XlhgT81YbUsCUVTbIEuREEKItkGCSLQq2empds5+/T0DbXjPHKtp2Gx/fG2R/ePdZTZ/bUW4lRBCCNG6NIsgmjZtmr3yyis2Z86ccInZs88+a1dddZV9/vOft2uuucbmzZtntbUKok12qGidnZFihw7rZldOHmYHDenmA8Q+PXOt3fvmEh8pXxn5QgghWptmEUSIoSlTptimTZts8+bNtnLlSnvqqads1qxZ/nrmzJn22GOP2YoVK8I9RDKDAOqWnW4HDC60Sw8dHIij7l6X6PX56zzQ+tX5JVZeUx9uLYQQQrQ8zSKIZsyYYatXr7acnBxraGhwi9GSJUts+PDh9rnPfc7Gjh3rFiOEkhDQKRBF+V3S7ZjRPezsffvaIUO7+VAfL84p8ZHypyzaYOsra32ZEEII0dI0iyCqrKz0Di4vL8/q6ursnXfesV69etmkSZPspJNOstNPP91WrVpl5eXl4R5CxMBadMzonvb5if3t8OHdA6Vk9vTMNXbf20ttyuINVlFdL1EkhBCixWkWQZSRkWFbtmyxqqoqtxB98MEH1r17d+vfv7917tzZ0tLSXCixjRDbg5g+YFA3u+SQQXbufrGq1m8uXG93v77Ynpyx2hpUp0gIIUQL0yyCaOjQobZ06VK7+eab7bbbbrPZs2fbgAEDvFVXV7t1qKCgwIWTEE2RmtLJhhTl2NmBILpi0jAryk23uWsr7J/vr/Bg6021DRr/TAghRIvRLILo6KOPtnHjxllxcbGLIV6PHz/eXWhYjRBLrC8sLAz3EOKTMCjs0EAUnT6+j6fm983vYvOLK+0/H66yv74Tq2rdoJHyhRBCtADNIoj2339/O+WUU+yYY46xAw44wL70pS/ZyJEj3VWWnp5uvXv3tpNPPtn69u0b7iFE01DVeliPHDtrn7520rje1r+giy0IRNH97yy1pz9a41WtNdSHEEKI5qZZBBGQSYYQ+va3v20HHXSQi6GSkhKPGyK4+tRTT3VhJMSuwPhn5+7fz87Zr5/17Jrh1iFiiqhqLUuREEKI5qZZBNHcuXPt3XfftUWLFoVLzN5880372c9+Zl/+8pft5z//uafcE3AtxK7Ss2umnTq+j333uJHWIxBFG6vq7K9vL7V731hsa8qqlX0mhBCi2WgWQUQRxtdee62xMOPy5cvtwQcftPnz51u3bt28gvU999yzjWAS4tMgJT8/K90OHNzNrjtljO3dL8/HO3thTrH95oX5Nm9NhdVoUFghhBDNQLMIIoblWL9+veXm5lp9fb2n3ZeWltree+9t5557rh1yyCH2+uuv25o1a8I9hNg1Ujt3sm456Xbo8O524UEDbf9BBbapbrO9MrfE7nptkU1dXmrl1apqLYQQ4rPRLIKI1HpqyVCpGkHEMB5FRUV22GGH2eTJk71RybqiQoN3it0HS1FORqodt1cvO3OfvjZxUKHHED324Sp7dOpKF0WlmySKEgXKI2wOrk/95i1W17DFrXiI2KraBquoaXABy/XaUFVn6yvrrKSi1orLa21NWY2tKq22lUFbvnGTrQha6aY6P4YQQrQ0zSKIMjMzvfDi2rVr3VI0depU69GjR2NhRjLNiB9SYUbxWeiSnuKi6KKDBtq+AwosLaWzPfLBCnvwveWBKNrona4wFyMxEdLgIqSSFggRFyM19S5IykJRQtsYiA7EiQsUFym1ti5oCBUXK0FbW17jbQ0tEC6rQ/ESCZgVG2mbbPmGTbZ0/SZbVFLpJRPmrCm3WavLbebKMvswEK4fLNto7y7ZYO8sXu/FN1+bX2KvzCuxF+estedmrbVnPlpjT85YZY8HYvfx6at9sN8FxRX+t3mv1cE15vMpfkwI0dx0+jggnN9jCJ4mqBqrEMUYb7/9dl929tlnuwgivugXv/iFB1cfd9xx4V7tD04VdZXIpkPw/fKXv7Ts7OxwrWgtauu32MKgw73tpfneqdJJ7jeowC4+aJAdN6anW5SSFcRCSUVNcH6qYtaVzR9bQ/AbbAimWGwap6EFp571TIPXPo1eb7cf67fdP26+cRn7fLy1gGYwiW4ujTcZX9b4KvhNhTMBjdvGLaRqOWPeDe6eZeP759uEoI3pk2fdczK8mKcQIrmpra21Rx55xL7zne/4QPODBw+21NTUcO3u0SyCiMFcH3/8cXvjjTfcdcagrpdccokXY6Qo41//+lcPqL7yyitt4sSJ4V7tDwmixIAvbE0ggpasr/KBYF+aW+zWg9G9u9q5+/W3yaOKrFvQYSYLVXUNtmRdlVthZq4s97pNFbUNLlIQJ/zCYw2xwvmLLYvW+TQ4TvwytmXZ1m3CZcyH+zcej+W+f+z19iBq0C4pnTu7iOE1sWFbp8Hy6HW4PiW4j+AqW1VWbdWBAKY+VdcuaZaXmWb5WWletHNojxwb0TPHhvfItR65mZaR1iwGbyFEOyLhBBHZZaTeU6WaGKK99trLRowY4ZWqIxcaf4bq1QiJ9gqfQYIoceCbO235Rntq5hp7aU6xrSittr0CUXTGPn3siOFFNqAwOxDo4cYdCKxApdX1thzXVCCEEIZLg7ZsA3E31e72yg/EA3FXaYHAwGKGyOgcCg2fd4ESt25Hy4PGPttObdtjNa4L9v3EtmwTiwOL385f+7rYNJhsnfepueUJlx2iKOaai7npcAPiPu0ZiKBeeZnWmxYIJEQSrU9+ppdsyEhN6ZDXXwixlYQTRBE1NTW2bt06Fw0clrHLunbt6kN2YDlq70gQJR5ck49WldszH631gWAXrau08f3y7bTxfWzSqB42sFuWd7LtGX6guLE2bqr32J7i8hqP0yE+h89O9W7EAxaUopx0656b4WKwICvN0lM7u9DY1iITzcfWbd+23Ybp1u2aWhe/bPttImG0p1CVvKS81j8j13ZhcZWtDgTSuso6j33CMlhRU2/ZgfjrV9DFx8MbWpRtg7plW1FwHgqy04PzkO4CMTNNAkmIjkbCCSJqD5FBhlvsnXfe8Ywygqjz8/PdUoSbjNHvCa5uz8JIgihxWbphkz09c7VXs6aA4+DuOXbq+N72+Yn9Pd6kPYoiXF7UXSJYfENVrU1fUWZTFm+wD5ZutOUbq32bzLTOlpma4laRMX3z7MDBhXZA0PjMBJ13NPgNEuQ9b22FzQjOx4yVZT5PwDjnCjcbIgohNqRHto3tk2fjgvMypk9XtyJ1CUQRIpGWFog5CSQh2jcJJ4jILiNO6M9//rNbiBizLCUlxcrKytxqREwRQdW40rKyssK92h8SRIkLbiSypIgnuv2VhbZ8Q7X1yct0K9F/HzvCcjJTvZNsL/B55gcd/btLNnqm1TTqLdXUe2ePNQhrx4DCLnbI0O7ehvfMscLsdBdBkZuso0JcE+cnCuYmi27OmopAMJbah0EjjorvAmcgJTgXWMKIQeoTCKKxgTAiOBuRxDlLD+5TEkVCtF8SThBRhfq5557z8cvOPPNMr06NIKqsrLSZM2fak08+6WLoK1/5igdat1ckiBIbMpywDiGKHnp/hQcZE1x9eFjUkZH0sQwkIny36MQXlVS51YNGvAyuIZYTN5OVkeIxUnTmo4IpgqgwO8OFUHZ6atJmXSGOEEVRSQG+A8ST4V6bX1zhJQCIP0oPxGJuIIw9ODtoFPzkOzG8Rywwe0C3LF8uhGg/JJwgInuMytRnnXWWnXTSSR47hGsMt9nChQvt4Ycf9jeMlYgR8dsrEkTtA4r8vTKv2J6Ysdpr3iAWThjby07Zu4+N65fnbpNEAPcOAdAERS8OOm3ignD9LQumFCbEAoLriziowd2zfUojPohAYjp28UmwIFFnidpF1EtaTTB2WXUwjQVmUzeJWksI6B65GWFgdhc/p1iRYoHZsdcIJGKhhBCJSXMKopTrA8L5Pea+++7zwOkzzjjDhUIUJxQVZWTK2GZUrB45cqSva6+QRffYY4+5EDr22GP984nEggBbOjiyrKiEjMhAdNAB0sFhVWmL+BoePeo2b3bBRpAwFqx3Fq23F+cW27MfrbW3gnneJ0HI/QqyvN7OIUO72eTRPey4Mb3syBE9bHjPXBdJGQki6hIR7j+IXs4TQnIvd5PleVwZYoeBgrsF3wEEJeKJ6zF7TblNW1Zqc1ZXeHwWgweT4Ubgdll1g9U0UPRza7C4ECIxIIaZ8VKfeeYZu/TSS62goMA1x57QLIIIlxjWE8QOgog3w02JN7phwwabNWuWvf3223bCCSd4PFF7RoKofUBadt+CLjawW7YH3dK5zVtb6VlJWFkKs9KDjq3lg2r5XVAckarR/G3E2avzSuyRD1baA+8t98rMiCNig3Iz0mxYjxw7cmQPO2fffvaFAwfY5FE9bESvXM+U+izZWskM8VSk4PfomumuRmKujhhRZPv0z7c+wXcE4cypxSJHzSNKF0wNxNGr89bZGwvWeRFQXJfEKwEmdbZlyn2uI8drCZHoNKcgahaX2c0332wvvPCCB1N/85vfdGGEUGAw1+eff97uvPNO6927t1111VUqzChaDb7ZDGGxbEOV/b9n5rn7jHgTMo6uOXGUjQyEBu60loQhMwj4xRLEcBWzg/nq4D3VN2zx90JwNG68g4d0s4mDCjxtHAsX8S7EBKmzbRn4bmwO/omqciNYca99tCo2xMiHK8psRSBeEUhcBzLSmBKvRdzR+OCaEZw9qneuW5tkNRKibUi4GCLUGW+IwGrGNCPdHoVGwUZeE2T91a9+1Q444AB3rbVXJIjaH3y7sb7MWFFq/3p/hb08r8QDlKlqfckhgxpT1JsLhrRYV1Frs1dXuEsMMUT8Cq473C8E//bLz/KOlJRwpsSwdAs62vysdMtKT5EIagNwnZG2XxGO8xbFIC1Zv8nHZFuwtsKWbax2gY07DtcrjVpPfQuy3LJHcPawnjnWPRBIiRq8L0RHI+EEEW4kqlTjFsM9Rro9Y5h16dLF+vTp4xWqjzjiCC/SSPZZe0WCqP1CAPPUZbGq1s/NXutxIwcP7Wan7t3bDh3W3YNo94SY4NrsgbseHL2OqtEMcBqrHI3VAesBVZUHdScoOlY0ELdd/8IsD9wlHkgSKPHAaoSQ9cBsr5YdDmgbN49AwqLXqyvVsmPB2dSE6uPT2HxRcO2x+EnnCtH8tLkgKi4u9rY9vLGSkhJfh18vNzfXhUNkFWLgV0RRe0WCqH2D9WbWqnJ7eOpKe+6jtZ5ptO/AAs8+mzSqKOjUuuxSp8UvprK23jZUxSpH01lSM4iq0ViEiFfCQoDlidTu/gVZbj0gSJoAX8bi6ohFEzs6DCq8tqLG0/gZPJcx4xj5n7IIpdWxqtlYAPO6UDU7y4YV5bgLdFAgfin/wHV3y1IwxcokS6AQn502F0RPPfWUPfHEE+GrXYPgw8suu8ytRe0VCaL2D64ROrG7Xltsz89e60//uDvOm9jfTp/Qx3Izm06zJt4nqhzN6PoEar+/dKO9s2SDu8ZYhhWAAUbp9LACHTik0A4a3M0YhJRlomOxJfhOrC6vsXlhUcgZPrBuhQ+sG1XMJviaQplku+GmxU1KDBvZblkZjDUXVs1WvJgQe0SbC6KoKvXugCC67rrr7NBDDw2XtD8kiDoGiJuqmgb7y9tL7d8frvIxsnB1fH7/fnbWvv0+4T7jumP1+Wh1ub29cL2nxyOqqgIR5CPKB8dDSBGPhBtuQv98G1iY5R0dDYGlzq5jwneJcg4EZyOAyjbVx6pmryy16cvLPEi7PPiucfVTA/GD8EEEMc7aqJ65NrZvno3tl+cFNykaqe+JELtHmwuilStX2ooVK8JXuw4p9wqqFokA3/oVGze5leiJ6as9q4h4npP37m2nBI2aNQyiOjPo0Bgzi1HlsSbhHomGhehf0MX2Cp746dRwiTGoKsHRWINI+xfJB25ZxlUrr26wstCNRho/sWWk7zOl6CbDyJDuTy2kqHI236fBRdmexYZFCSsSIkoSSYgd0+aCKFmRIOp4EPz82vx19nggikjLJ9j5gEGFnvmFFYjAaDKNyBDD2kOn5YHRhbEA6YFBxzWgIMuL/Sn1WmwP1sPS6noX12vCytl8r2jEnvGawWoZsZ9aU9RK4rtHkHav4DvFgLQIdSyYWJXkehViWySI2ggJoo4J6dUU4Lv/nWUeG0QnRnR1bf1mf3onILYoJ90GBCKIOBCCo4f1yLaumWkqlih2C+4hxKEtD4Q2VkcsRkuCxnAijMMWS/lvsKq6Bnef8Z0bUpTtFiOCsxFGjcHZQSPDTQH6IpmRIGojJIg6LtQmwkJ0+yuLPGOMH0XXzFQb1y/fDhxcaPsPKrDB3bI1ZIZodohD27CpzjMgP1pZ5qP1LyipdKtkfUMsmJ+GQCrITosFZveNBWfjXivITm+MTaJhqZRMF8mCBFEbIUHUceFXQFDsrFVlnlZNx0J8EKnzHhxNRxN0OupoRHPDDZh7CxWzY5WzY3FISzdU2cwV5TYjEEmzVpd7LBJB3JH4SQ2mBPMP7p4VC84Ovq9YMBmyhu+rEMmABFEbIUHU8aEYH9ljPI1jIZI7QrQFCJ9NwfcwcqNR54hiohT9JCuSOkgkBSCcstNTGoOz84NGrBFJAUOLst3d1jc/y6iNRKZvRwcxyXkjJotzQ10ohs+h3AbnhxhABnfmIUd0DCSI2ggJIiFEW0CHTlXskoo6YyT+WPXsWKB2fJB2eSAEEPMEZ/eOD9D2wOxYcHbPYIpwSnRRQM9E1h41vhj/j+mmYFoTTuOXf3La4MKopj62P0PxMiwOFt+oIRy756T7PAVUGVdQZQ/aH0kjiBAfy5Yts6VLl/rwIBE86TAsyLhx41yY7AqVlZVeLmDBggU+ttqIESN2uwSABJEQIlEgOJsSEARm4+ZdVEJw9iYfmT+yLFEDKbhzeQYb1qL4lH6SBaLgbGogZQQCqSWtSNw/qdmEFacujI3CTc1Axz7d/LEXtGQ5jc+HCHRLDxaf2oZwPpjWbrUANS4LtqkJ9uHvpHSO1XzCdZiG8At6uZqGzVZVuzkQPp19KB1ci/0Kg5af5fOUzMCKRDkEb8E5QSSlKnEioUkaQbRw4UIfKf9Pf/qTDwXCCPrAeGj9+vWzm266ySZNmuTLdgbjqn344Yd2//332x/+8AcvDvnjH//YDj/88HCLXUOCSAiRqHB/QgRRJoLq6bTZa8ptbVmtW05iQuNjd8d17ZJqQ7rn2Ni+serZI3vlWs+umV4/Kxac3elTC4rScfA3g9urW7BiLTbvy8P5aD2ih+QFilcSME6Npo1BKw3mN1bXbbOcUgV8Fqw7vAOEWqBx/P3EWmyet7fNsuAfRFB2RooPkVLQJVYXjPda7MOuVLnViHMRFdTknHCcHu5qzPbK9VFjTDrEYixmK2jB8TkvKrGROCSVILrrrrvs2Weftcsvv9wOOuigcI25OEIUMV7ap7F+/XqvrH3vvfe6gOnevbtdffXVEkRCiA4FwgPBE4kfBAWutLlrKjx7jUKjpPtjUaFzj8QPlhAGpyUoe5xnsXX14WcQA01Zjeg1+BtlNTFB4yIGYbPNNFoXtEDcYMnB6hMJp4+DfxpFU7iMabyYCv53yxWWmwIvN5DuZQeYzw/n87PTY6+zgteN1i7cX5Foir3/zYEyQwxRe8zHoiuptAVrK21+cYW/X/4e5yQ1UF6pwTlhHjGF9SheJA0KRBPWJLYTbU9SCaK7777bXnrpJbfoHH300eGa2BMDH7rzp3wpsQ4hhGbMmOFWptWrV1tDQ4OfPAkiIURHhk6eQWlxN7kLLWgMSExANtYSr4UUTBEt3FOxHCE+8jLTvPI6rjVij7CIIGgiN1XUXHiFbq66QIBtdX/hFotbHkwZ1w2IXUK00HBNxaYxIePN3VVbXyPWEDixbM+t5QV47VOW+brYa8QMQqgpOB/EFkXB1tGUc7KqtNqWb6z2c0NGH3FZWJFwscW70cjsI/aIYPX+uNwKsoLWxZdlpe9ZRyz2nKSzED322GN25JFH2siRIz12qE+fPjZx4kSPBUpL23HlVoTPe++9Z3//+99dwBBz9NBDD1lFRYX993//twSRECLpQKjgmvJAbIKySwnOjgmAKFCbjDY6BiwkhdlpLjCioOVYsPJmt/ZghUGs4GpjBP9PnUbzQcsK5xE88a9j26SG05jI2ZHAaS7ILiUei6B1xBGN8Qtj89Gy2JSgbsRYYXZ6GJgdBmcH80XRvE8zfBtEVEu//2QmaQQRwdQPPPCAPf/88x43lJGR4aIkMzPTjjvuOLcYDRgwoEkrEUHYxcXFduutt/rrY4891vr37+9xR7sqiLAu8feiU8QUQcSo/b169ZIgEkK0e7iv4dLCKhIFZxOoXRJ0/o1xPEF/Hllg4q0xGamdvFo2VpOt1p3wdeP81texytpb3ViJDFatdYEooop4zHIUsx4hlDgvjZaymlhGW3A63JWGxah/YcxqxEDRPQOhlBsIy0YrU9CygtYRgrXpGnFF1m+JxWNhBWyMzfIpr2PL68MpsVrEqzVXlmPSCKINGzbY1KlTrbq62nr27Ok/opkzZ9o//vEPzxb72c9+ZqeddtonRAkfad26dX5yfvvb39o3vvENO/nkk11g7aog4hhlZWVWXl7uJzxi06ZN9v3vf9+GDh0qQSSE6JAgBhjHj9gjhACddyx2J4zbCabM52SkBEKA7LRwxw4O/QLxRgy9sqCY+KNYDBL1obyyeNDhb45EQCAIOC0IwiFFsfgjBoH2OKRu2e6a9Jglj1eKVRhvi2BtFIDHa/l8GN/Fa5YHS5nGWrguXMYQR3xO6rbF3KmBSPRp0MIswGh5RQ1uytiyk8b1tjP36evWteYgaQQRFpq6ujq/EFiIAHGEK+3iiy+2E044wS688EKbMGGCr4vAOvTWW2/ZNddcYxdddJGddNJJNnDgQJszZ84uCyL+7l//+lfPTJs9e3a4NPalKC0ttS9/+csSREKIDgmdQhSczZRumgdS+msyuXABMc+y1u/C2xbEQ+zcbLV+MPYcYyJiXUMkLVhb4YHbDOpLDFVM9CB+OltaMMU1SHzW0FAgIZSGdM+2XnldWlUUYckh0NzFTC1CJhIwMcsXryORE3sdrvPl9S6GOBfB/1uFUvDPzqbnHdDfLj10kBcPbQ6SRhA1BW+XrLEvfOEL/sHPO+88mzx5crg2xsaNG+2JJ56wK664wusNEe+Dmw0hNG/ePI8tGjZsmH3+85/3/ZuqR4QYwwqF+MJSBPztmpoau+OOO2z//feXIBJCCOGdPcIiEgouLKpjcUnEZEWB2jSEE6ICUYSFLT6gnCy5fqG7jfpIkdstI63pOCqsNASx47KjVQfCzOcpUBm8BwQLLk9eb7PeW0OsHENDTNi5wGt0dW3r5orqR8Xmt26LGEJAkAkYxX8RWE4RzFhL9eXxr/cdkG/7DSzwOljNQVILIoQKgujcc8+14cOH2/nnn/+JWkQIn6juULyvGqGECw4L0t57723nnHOOnXLKKZaXlxdusS1kpdGiU8SUGCJKAPTu3VuCSAghRJPQbdQ2bPbyA8RjEY8UBWuXVNbZeg/UjrX1wWtKGKQE/RVCgeDsotytwdkEbBODhXWuNgxo9xY3T+FJMgr5m9E6ClVuu2zrPIHxCBvEHFYpRA0B8oivxnmfbruc2B8Guc6M5sPtYtmA4fbh/NZlW/fH1UqwvmKIdhPEx4oVK9yCQ3YZbxV31fTp0+2qq66y008/3QURJ2DRokVem6hv376WlZXlrjWEUzxYfCjMyHFxeSGk8vPzG91xn0YkiJRlJoQQYk/A0lJe3eBWo+VYjjYQtL3JM/yoLF7l7qtYaQCsOGxflBsbbgXhEll3mCJqPFYpeO5PIw5pO9dcVLE75rLbWl8pfj4KlGdMPCw4Ps3A2hObJ+OP19nbWH6iFrMAcbwmDFitQtIIorlz53odItxTpNpjHSKe55///KfXE7r++uuNYGnEEOIEkfLFL37RrT9Nwb67k2W2PRJEQgghmhusNLivlq+vtgXFFWGwNhl/lW5dwlXFNhDFbeFCQ4QEmsaFTeOwI2FGHy445hmkujHTLzPmousazEcZgOyD5Sbem9KeSBpBRDHFG2+80ebPn+9xPFhyqD1E/A8xRAglqk7jBiOAGtF05ZVXeo2ippAgEkIIkYjQE28fy4Pbi/pHCCOy2CBe2ERp/MTuYB2KAt+j6VbRtHW6dX3QguO5wAqWtVeSRhCR8k5mGGKID82Fw3WGm2vIkCGWk5PjHxw32kcffeSB0ywvKCgIj7AtCCHEFUHVpM0jrnYHCSIhhBCtBb0zQdMEajMF3FMxN1hsbLWocGV7FjWfhaQRRImGBJEQQgiRODSnIGqeMG8hhBBCiHaMBJEQQgghkh4JIiGEEEIkPRJEQgghhEh6JIiEEEIIkfRIEAkhhBAi6ZEgEkIIIUTSI0EkhBBCiKRHgkgIIYQQSY8EkRBCCCGSHgkiIYQQQiQ9EkRCCCGESHokiIQQQgiR9EgQCSGEECLpkSASQgghRNIjQSSEEEKIpEeCSAghhBBJjwSREEIIIZIeCSIhhBBCJD0SREIIIYRIeiSIhBBCCJH0SBAJIYQQIumRIBJCCCFE0iNBJIQQQoikR4JICCGEEEmPBJEQQgghkh4JIiGEEEIkPRJEQgghhEh6JIiEEEIIkfRIEAkhhBAi6ZEgEkIIIUTSI0EkhBBCiKRHgkgIIYQQSY8EkRBCCCGSHgkiIYQQQiQ9EkRCCCGESHokiIQQQgiR9EgQCSGEECLpkSASQgghRNIjQSSEEEKIpEeCSAghhBBJjwSREEIIIZIeCSIhhBBCJD0SREIIIYRIeiSIhBBCCJH0SBAJIYQQIumRIBJCCCFE0iNBJIQQQoikR4JICCGEEEmPBJEQQgghkh4JIiGEEEIkPRJEQgghhEh6JIiEEEIIkfRIEAkhhBAi6ZEgEkIIIUTSk9CCqKamxpYuXWpTpkyxN998s7G99dZb9sEHH1hpaWm45Sepq6uzNWvW2OzZs+3999/3YzDl9caNG62hoSHcUgghhBDJTkILopUrV9rvf/97O+GEE+zII4+0o446ytvkyZPt/PPPd5GzI0pKSuxf//qXXXXVVfb5z3/eTjnlFDv33HP99RtvvLFTMdUmfPxx0LbEpkIIIYRoVRLeZda5c2cbMGCA3XTTTfbMM894e+qpp+zee++1/fffP9zqk1RUVNjMmTPtgAMOsB//+Mf2xz/+0a699lrLzc21n/3sZ/biiy9aZWVluHUCsH6+2dynzDYuNttcFy4UQgghRGuQ8IKoU6dO1qVLFxs1apQddNBB3g488ECbMGGC5eXlhVt9kl69etkFF1xgZ599th177LF2xBFH2PHHH28XX3yxlZWV2axZs2z16tXh1m1MZbHZwpfN3rzN7Pmfms34l1npspjFSAghhBAtTsILoo8//tgtOS+//LI9+OCD9u9//9tjiFjGuh2Rn59vhx9+uI0ZM8b69OljBQUF1rt3b7cqpaWluQVp06ZN4dZNs3nzZquvr/d4pPi2ZUszCxUsQrUVMevQnMfNpt5n9uE/zJa+ZVa9MdxICCGEEC1FQguilJQUy8nJcTcXIugvf/mL3XPPPXb33Xe7y6u4uHi3xEl1dbUtWrTI9yksLLSuXbuGaz4J26xatcqDt1977TVvr7/+ugd1E5/UrGTmm/WZYDbsmEDJ9TdbNdXs3bvM3rvbbMlrZmUrzBpqgw0VXySEEEK0BAktiBBD++23n33ve9+zX/3qV/bzn//czjzzTFuyZIn94Ac/8OBoLDa7AtakZcuWeSwRFiIsR/37B+JjB5CFhjXqv/7rv+zEE09sbPx9hFGzkpETiKGjzY653mzSD8y6D49ZjD56xOypa8ym3GlWvtJsc32wsUSREEKI9kbiJw51CoRCwr47RAluLd5iamqqL8NVNmfOHLviiivstNNO8zihsWPH+rqdMWPGDPvnP/9pDz30kH33u9+14447zvr27esxSk3B3yRtf+3atY2uNZZhZfrFL35he+21l/3yl7+07OxsX9csbGmICaENi81mPWY27+lgfqFZZoFZj1Fm4841GzrZLK9fuIMQQgiRwCAxGmrMSpcH/dkis4KBZkUjA/XRPPaY2tpae+SRR+w73/mOvfLKKzZ48OBGvbC7JLSFiA+FW4vgaYQHraioyMUIQdMbNmywdevWhVvvmA8//NCF0PTp0+2SSy7xtP0ePXrsUAwB63r27Olia+LEiY0NixXuthahc3ARuwTip1cg8MZ/wezgK81Gnx6LMVo1LeZCe+t3ZvOfi33BElfLCiGESDZ4qK8pM1s7K9ZPvX+v2Uu/MHvyKrMXrjd787dmi14x25SYsbEJH1S9PQiVSMgQ57OzGCKCoskme/TRR23evHk2fvx4O++886xfv36Wnp4ebrVjSPlHlOFii28sb1FSgveGRWjUyWb7Xmw24YKYGw3LEW60D/5iNv1Bs5K5ZnVV4U5CCCFEK9EQPKhXrTNbN89s2dtmc540m/Z3s3eDB/f3/hQTQ+//eWuS0PznzdYvCPYpCfqtBCp5E0dCCyIqVS9fvtyLKOKqohHQ/NFHH7krC8sR1pooWJoYoci9hRmN1w888IDHGg0aNMjda1iWcH0hlhLYWxgjq9Bs8GFmR11jts9FZgMOii1fEHyxXgxU94x/xgKw+YJt2RxbJ4QQQjQXxP3gpcDyU7E65vZaM9Ns+TsxK9D0oB+a8kezV39l9vz1Qd/005gIWvqGWeUas/Ss4AF/dNB/HWg24oTYfEpaePDEIqFjiLDqkFV22GGHeXFG3uq0adO8KOP8+fO9WOMZZ5zhQdYEXeMGo87QuHHjfMgP9r3jjju8qjX1iAYOHBge2by2ES64jIyMcMmnw9+vqqqyL33pS/63mj2G6NPAIoQImnZ/7IvJpesffMlwr405M/hQ1GXasRtQCCGE2DlBv+KqIJQGZDgjbIrnmK39KNaKg0ZMUD0GiKDP8W4n7HsQO/lBX4vw6TkmaGNj83n9Y2EhOwlV2ROaM4YooQURgdCIHqxECBFcVaTgU0/o9NNPt0MPPdTnEUk//OEP3fpz5ZVXeq2hd9991y6//HIPwI7ikOLdZARVn3POOXbIIYeESz6dNhdEfDExUa6dEVPlWIrIPMvtZdZ3X7N9Lwqm+wWKPCfcQQghhNgFkAIk9ZDRvH6h2YYFMRfXxqUxL0R9dSx2NZoSrpLWxaxgsFm3oVtb/iCzrILYutTMoAXTtGDaORBKzSyGIGkEEUHTU6dOtfXr17v7DEGUlZXlgdWjR4/24ot8cAKrEUBYfUinZz0uNYo54kJrKs6IkzZy5EjPNNtV2lwQAeZLvrRYizBJzn82UOuzgy9bSkyJDz4ylsLffWTsSyiEEELEQ4gFRX/xNCCAaGWrzCrXmm1aH1sXtdry2PZd8s26Bv2ltz6xlhM8jBPaQTKQt2CbzLzQJdb84qcpkkYQJRoJIYgaCS5befBlXvyq2aKXzVa+H1P1KHRE0ZCgUewRM6UQQojkBM8C8T/VG2ICZ1MwRfQgflwQBULIWzBfG2xHaDHhF10CoeNiJ2jZ3QPx08MsNxRCXXvHxBAiiIfxNkSCqI1ILEEUgnLHQjTnCbPZ/45VtSb1sde4WFwRdYv48qZlBVe73SUVCiGE2BXoygl+xqXlbi2mm8yqAvHD2JgEQ0etdGksQ5mYHlxb9A/RFPFTMMisMHi4LhwSa3mBCMrY8cgObYkEURuRkIIogi8+brRXfhWL/ucpIDP4AhN0fdh3YgKJithCCCE6CEH37T04Yih4EEbo8IAcBT/TKlbFYn6cTv6//5MW9F15fWOhFh78HLSiUbEHaEq/tBMkiNqIhBZExBZhGsUXvPClmLVoWSCMUjNi46ONPDlW16j3+OCqt45vVwghRDPDvb4ueABmMHDCJDwAmrYo5hrj4Tg+ABqPAa4tMr8IqcDyw5RwClxiUfAzMadMWyj4uaWQIGojEloQRfBjQRStnmG2+DWzeU/FfMX4fclEI75oxPGh73fPvjQigeDnS5Ez4gMqS2LZIFHhM250WUVmOUHL7hEzhWMSb2OfvxCiCaKH2ngx426vcL6mNHYvJ96H2J8o6Jmqz0xZj+UHkeNxPmHwcy7xPsHvP6tb7L7vsUHBlGxkHpjbORJEbUS7EEQR/ICobE0WGtloa6bHfmxUvKY41oCDY+ZRfiCyGCU2/EQpr1BXHtz0wkbmh88TLMlNcd1WMURpBuIDeOLLCkRQdpwg4maZSSZI11g2CNOMYIo7tR2ZyRMeOjeumbsqgt8X8XtUuO8UiFGfD6eiY8BvFEsMMTxcd59u16jsvM26+Png3sx6vi+NIihunml1IHiqigMxtCb2e+eBh99yJHB8Gogegp1dEIWNsiwZuR32AViCqI1oV4IogqBrstAY8mPpW8ETRvBj4oc7+tRY67NfzILQAZ4U2j1+Q6UT5eYYNL9JcmPk6TAQPxUrzUpJkV1hVkaabDBl3odvCTrd1EDQcB1TgsbN7+Pg2kfHovEaEUSmCAME40pliumcp0hSZtnfj4H5PJoPjivRvC2R4NlRB8d1ozwGnRjnjutBKjLuCKac00ZRhGAKRZOf5+3nm1jX5PL4deHy+H0+dT58nYxwPblX8htpnAbLtnkdN91+GfE7fs0rg99r8Htkyu8SS+020ybma8Mpoof34deB70bQ+I749yRoKXyHgt+ju7YCMYTQIfg53g3Gbxuh5Nc0OZAgaiPapSCKIM1y7tOxAWJXfhAsCC57/gCzvc4w2++S2I9JtAHhz4+fIZ0nIsdjAsgGCeMDSpcEYmjt1m0bCW96dGJYgaKbY7chgbgJnhSxHmElpLja+vkxSxKdtrPdsRA+HKPbsPDmGky9BfOIJjrxxpts8txstxJ3vrYE8wjMytVbhWnZ8pg4jQQrT/Gc/09cszi8k0McITwDgdQ4jZ8PprxuFLvbrd/hMlpw7Gi9HyvoSBvnw239dbjcW7BPS4/VmEj45Qn+4aEDAcs1i6yvjVZY5oPljcvCed+W+WA/RBBCeJf4lN8P1wx3VmS9dWtu0Ph9Fg4OKz+PiVl7uV5JjgRRG9GuBRHWB37AdI7R+DO4VzClUlYdYTTyJLOc7sG3IkmfElsafmo8RVLvw608YfOiaMGUzEBurJFFxy1ETIMbLU+iXCviAtyqE7autN4x07kHR9LRBQ2LBPtEx8HsTpwRHTWdN2X3mXpHHrwfnlDZJ+pMo+PQWaYH3/H4v+uWpaDxt7lRd7SbMufN4zWC30dlccxNQeyGN+aDxgNGZA3yFlmHwumWYMqdlXNIB8hrfoNYABoJlm9vndn+deM8y8P1n5hnGr9vE8fZ2brtt+uEJSIURy6QgtbUto3zQdtmPjpO3DRa3+R20fLw9Se2jdvfl2+/X/zyHWzLuee3t42FJs5S49cs2MYtPk1Zi3a2nIY1KbjgiFzG7kLQ8Lv5xDRuHjd1U9t4YHNwDSLLEALVLUVcl+D7FAVB89o/Y3IjQdRGtGtBFEHHWLbMbNkUswWBMFrxbkwoYQ0grmjEcWa9J8SePsTu46InECB0qI0xPWGjg6UjjX8C9fngCZMpN2VueNndYk+D27RAqBIj4E+N4RMjU2/BjZQO7NNujrwvOoH4J15/2g0aYszfYygAoveLiOJmz806/m/jemOe9+RB27QeseBNpl66n9pXCXbDjkSpf/YwGJWgVJ8Prln0ui64JlFn6S4Q5oNzxzwZPrg3EAp+LojfCBufu/F1cI44b94h02GGHWjU8fp0Zy3YBoEVbftxuBz3TLS+cdsdtbhtfL8m9nGRFtcNuDAJO2Km8ULF1+9s3mfCRUyZCZdvsz5u3idM4+d9JlwUrmtynkk49eXMxy8P57nuiNJ4t2b8POvZnt+RC46gRa4pppEI+cS6uHlfH7TIOhdvdcMa1zloqdstb5yPe434id63+FQkiNqIDiGIIvBxU6+IFP1lb8bqVdDBDTzEbOgks34TzYpG6se5I+hI6CzjxU0kbLxTDYRPvBjyti7YJuh0uenRUbqYyQ3FRTjF0tMoMOIawZIZfNda4FrQSdLZ8/62EURMw/fs7oHws0bziGs6AN7b9oLIBVwoClxE8dn4vEHjs/v3qgXgszRaAkIRs72w8WvEZ0IEhQIoXhAxRSTQiVGrxZ/mg5YWvG9/kqdx/YLmQa2RAApavCDi89JJRh02t1q3MiBEdlHM7FAQ7cr+tLjtdiiIWBY0n4bCzd9nOPXXUTfBZwinkYjyzxXOR8v9ZbjM1zU1H/0TtG3m/UU4H06d7dc1NR8Q/Y349fxu3MISJzyiaeQ69HlEzfaiJ1rW1Lq4edZzLLdSidZCgqiN6FCCKAJXzeJXzKb+LRazQoeAW2TkiWZjzjYrGBDrxLh5JBt0Bv4UWRuzrkTuK7cABZ2qp8Di7sL1hPuL+JGgYW3haXR791M0T2dJELO7oHBFhcHNLEM4tJRY2F24NfA5sBRF7jU+Z+RuQ/QhOKJz4+cnnCIC+N7w2SIXG1PcbHxORIV3JJyTYBqdm526AXg/Qefs14TWxJM+sSBegiC4NhUIujg3VyT2EEd8Nu8Qo86RFtdR0sG5OA3EXW7PUOiF05xwmkjX6rPg3/NAGEXnMrKkNFpUgnWGMKLRXQTNp+HraHn8OpY1zrO8iW18ut0xfb+mjsd8/LZN7cfLaD6Y+hiW4WssXXy/ELGIXAQuotbFbe7W7yPfP9GukCBqIzqkIAJueAiht24zm/1YLBCXTopO+oirzIYcFXQKvcKNkwR+FnTsVHltLH4Wlr1n3qu/BusbifsZ8YSIu2ibDBBK4IfzWBEaBWYLWHxalLjPWV0WE0YetM05ikbHXhKIpXWxc9hI+DkRO7iaEEdR8DalIKLzhGWJjqspEENYp6jD4rFXiFAEWjiPGMWyheVqG7a7xXF96ABzEaPxMVmhOEW0IXi4hp3jr097u1YiBtdf166jIkHURnRYQcQNg86GJ2gGiWVctHnPxFwM1LQYfLjZqFNjA8ZiIu4o4C5ACLr1AIvCmth8NOAhryMLSLyViMbTMx0mHacHHIcdqwc5B/O4kNIxowede7yViEbQ6g6tIO0It9bUheckECHROSLGBitNfAaWTxEtwXllO7fCcG4iK1HY4q1nnFtcu/GuvMbrsZ1lqNG6EVxTBI+78bDmRC2y7gSNa4N1xy1T8ZaheEtR0OT6ECLhkSBqIzquIIqDjqxkntnSN2NFHSnoSHwLqZ4DD4250kj9pDNJZPha00l6LZjgM3lsSNC8qmv0ujS23uNMwubBs8QChUG1PFkSYB7F8mDBiKZRkUOPkQlaFCvD+UIsdQTRsyfgokC0RGnMHmPFNGhYlbYpIkmsEtNA7BDbw/nGrUG6MVYcriECi2vDkASIHrJ4PHYnjN/xmJ24WB6/BrhDIpfI9tNgf0Rqsl4fIToQEkRtRFIIIuApm45q0StmC1+MWY14QkcIDD82ZjEiEw03Wlv53PnaYqWJAmejLKAogJZ5DwAmUDYQQPFCiBgf5umAOQ6Wicbg2bAj9U45FDiNYiiuEfjMdo2uL7FLuNsruCbxQogp3y+EEus8eDsQUwggzi8CpjGgeTsx1FTjunWE2B4hxKciQdRGJI0giqdkjtmMh8wWPG+2cVEgJIIOi/T8MWcFwuiImGsD8dDcuOAJhBmih5L2HuAZukWYYoGIApsb3V1xbi/msUiQIdPoEgmmXik4zjVCJ0sn6i6VQOARQIvQ82rOfWMuFmXatQ5YghBIkYsN0YTodAEaurxwgxH8KneWECJAgqiNSEpBBMSHLJ9i9v5fzGb+K7YMt9CQSWYTvxQLum5uED7Ejnj13ygGZVls6kG0K2PWBCf8Cjd+k8MZOk1ce4ib+GEqGucHBB1s90+6txpnJYLahu2up66HEGIHSBC1EUkriPiK4IJCjKx4z2zqfTHLESKiYHBsBP3x55kVDom5n3YF0qNxXbk1J86qEzXEEK4vtwrVxqxEPh/XcL9ELi23IESBs1h4QmsChQOxKGARiq834i14r4wPJGuDEEK0SySI2oikFUQRuLAQMSsDUcSAsYtfi6Wh42KikOPQo80GHmw+RhoCxmN2iOGJD2QOmxf3CwOafSDEMP4nmid+BCKXlrdA3DTO0/IDQdQ12CY35raLgmbj56kno+BZIYTokEgQtRFJL4gisMysnRkTRbTV02ICqPf4WKVrstAQNx68HBfEHE1ZRrwIhdZwV0XiZZsWihoCaMnmQgAx9flIGAVTVYYVQoikRYKojZAg2g6sPKTlv3dPIIo+jNWYwYpE5hkWHoKRG4OY46fhPJlduLs8iDlouLzip4geYoBk4RFCCNEEEkRthARRE1BzhkrXMx4w++C+WIo+oggQNF3J1ooLaG4cwqGvefE8LDyNhMLHJxJBQgghdk5zCiL5GsRnA3cVFh8KNp5wk9m595qdfZfZxY+ZXfiw2VnB/PE3mh36rVjg9bBJZj3HxIKfCcBm/8YWiCC3BkkMCSGEaF0kiMRnBxGT1d2s17jY8B7DCK4+xKzPPoH42Ss2XhWB1u4GK4zFCCGi5AoTQgiRIEgQieYDkUOVYEQPMUISPEIIIdoJEkRCCCGESHokiIQQQgiR9EgQCSGEECLpkSASQgghRNIjQSSEEEKIpEeCSAghhBBJjwSREEIIIZIeCSIhhBBCJD0ay2w3iB/LrFu3bvbzn/9cY5kJIYQQbQRjmT322GP2/e9/X4O7tiacqtLSUvvKV75i69evtzPPPNMyMjLCtUIIIYRoTerr623atGn25JNP2vPPP2/Dhg2z9PT4QcN3HQmi3YBThRC6/vrr7YUXXrBOzTg0BcfetGmTLV++3AYOHGhdunQJ14jWhOuwdu1a27x5s/Xu3ds6d5ZXuS2oq6uzpUuXWs+ePS03N7dZf2ti19F9KTHQfenTKSwstDvvvNOGDh26x4YKCaLdZMuWLVZcXOyqtDmtQxzvjTfesIsvvtgeeeQR23vvvS0tLS1cK1oLbv433HCDWwJvueUWuUTbgIaGBlu2bJmdccYZ9tOf/tROOumkPX7iE58N7ktvvvmmXXDBBfboo4/a+PHjdV9qA7gv8VvggfzWW2/VfWk7uGfwENWnTx//fu7pA5QE0R7Ayee0NadK52Li/6QTePHFF23ffffVjacNIEbsmmuusQ0bNvjTBjceWSdaF35fixcvtsmTJ9vNN9/svwm5ptsG7kuvvvqqnXbaaX5f2m+//XRfagO4LxEjs27dOvvjH/+o+9J20B9jrPgsYggkiBIEbjwvv/yynX766T6VIGobuPFcddVVtnHjRt142ohIEB155JH261//WoKoDYke1E455RSfShC1DdyXrr76ahdEd999t+5LLYQckUIIIYRIeiSIEgjiJLp3777HKYPis8NTF0G8CuRtW1JSUry0hSxDbQu/Ad2X2p7ovtS1a1fdl1qQlOtJmRIJAT5QOoLDDz/cv/jKJGh98CDjJujfv7+NGTNGnUAbwXXAdXbggQdajx499FtoQ8hs4r50xBFH6L7UhnBf6tevn40dO1b3pRZCMUQJApeBAlNksJFqzFOZngRaH64D8UOIUywUugZtA2KINOOCggJP9dZ1aBt0X0oMdF9qHSSIhBBCCJH0yPYphBBCiKRHgkgIIYQQSY8EkRBCCCGSHgkiIYQQQiQ9CqpOAObNm2cffPCBzZkzx8esKSoqsoMOOsjTK8myES3L6tWr/fzPnz/fh+wgzZj04sGDB3sJBGqwqDpv2/Dhhx/aW2+95RV6qZJ81FFHaYDRVqCystLef/99mz59uv8+yPrjXnTooYfauHHjdF9qBeiauQ58/2fNmuW/AZYxiCklQQ444ACfF82H6hC1IXy5udk89thjPno+A1qSWknHTJorN/4BAwZ4DRDRciBEH3roIVu0aJGnenMNVq5c6deBGxI1iXJycpTq2oqQXswAu1yXBx54wAUrwxXQCWRmZoZbieaGe1JNTY09++yzPnYZHTH3Iq4Fv4tevXr5AJo8MIiWpayszL/3f/7zn23JkiU+sCttxYoVNmPGDK/PhSDSA0LzIUHUhmCJePrpp/2Gz5f68ssvt3PPPdeXP/fcc34TYkyzvLy8cA/REiBEZ8+ebccdd5yPm8WUmiszZ860v//97/5UTEE0FUNrHeiUqX3DKOv8DhCp1F5BmB5yyCESRC0I553O94YbbvD7EL+FCy+80Ad33WuvvWzgwIGNtaFEyzJ37lz729/+Zi+99JJddNFF3rCQ8mBw3333eYFMfhN9+/YN9xCfFcUQtSHccB5//HFX+XTERx99tA0bNsyuuOIKF0LLly+3119/PdxatBRYHf7nf/7HB9bFTck1oCP46le/6i60yJUmWgesQyUlJfarX/3K9t57b78W6oBbB6xB999/v1ulzzvvPLvgggts1KhR3unishw5cqTl5+eHW4uWBIscfQAPZIcddpiNHj3a26RJkzykIrIYieZDgqiN4CmYUux0tjz9Eq+CBQLVzxMwnTKdAOtFy8LNn3NOnBDz0dAECFauU7ROtA64Lv/0pz+5NYKhO3Aby13ZOuCmefXVV90d89prr9m3v/1t+9znPmdf+9rX3JKNK1nXonXAM4AQ/eijj9yKzYj3tMWLF7tFG+sQlmzRfEgQtRF0tsSnlJeX+6B92wcpIpLohHlSFq0LImjp0qX28ssvu6uMDpkYItHyrFmzxt59912bOnWqnXrqqW6dkIus9aiurvYkj6gTZqgOHs54WHvwwQfdxc9y0fIgeE488UQbMmSIu+5/+MMf2o9+9CO7++673VJ35JFH+kODaD4kiNoI3ALcfBBG3HRo8URjBhHgKFoXbvivvPKKTZkyxd1oQ4cOlcumFSB+hSBSBNGIESPcTcCDgWg9uB8Ru0jgLh0yrvxLLrnEp2TAYjUi80y0PDwIkHHMlOtBTBENNxrLaEq4aV4kiNoIxA5fZqaII1o80WuNLN264Lcnw+b555/32K4rr7xSQYutBHFauGvocCdPnuzW0YULF3pQNa4C1vMay6poObgv4cI/9thj3QqBlY74xuOPP96vAZlnouXBPfnMM8+4te6ss86yn//8596I66IkwpNPPum/B9F8qLdtI7jp4CPGLcaTFzf8eLjp87SmDLPWhawOXAMEjnLzwWW2vfVOtAw8+dKwQhDQSzApAe9kPCGUcBXQMePKxK0pmh/uR1glcMVs7ybmwYAHNdz8ouWhHMi///1v+/znP2+nnHKKB7WTbIMr+fzzz3dRhFgSzYcEURuB5ScjI8OfxMgUoCOI4GZP6itCCf+xaHm4Br/73e/8BjRhwgT7yle+4i4DmaRbD34LnPc77rjDbr31Vrvlllu8feELX/DsP7LNbrzxRs88U2Bvy5CVleVF/xA93H/iIQON3wMxj6Llqa+v9wdl+oko4YPGPMsolkkTzYfqELUxuAPIGODmQ9EzxBBPyE888YQHWp955pleCE20HMQMUf4A69Dw4cPdVUCnwM2HTEBAwKoTblm4yWOdIGaLoNGoIVZxH+C64cmY34OEasuAVZqO+I033vB6N1hKsQoRaM3vg4KMUQq4aFmIGyK5ACGKdY44xoqKCrcK/fOf/3TxyrXgNyKaBwmiNoQOlpsOaZRYhBBH+ISpEMuNiWEjjjnmGLlsWhiCeH/zm9/YtGnT/EaP+OGaUA2WFl0nBVa3LJHVlBt9fOOBgQ4Zix0uM66FaBnIJiOQPapQjRClDALB7tyjiCnivqQhI1oerD8k3hBTxwMzXgTEENeC3wMPbgcffLA/RIjmQYKoDaGjxSrEUxjj1BAn8fbbb3uncPbZZ3vKJeNoiZaFG86jjz7qrgCsRfjmGT8oatxwSL1XJ9A2IE7pnLkGxFHw+xAtA4KI7zniEzFEtfD33nvPYxrJNCOWRW781oF+AWspVmoezLgXUT0fCx4B7oxqwHpZrpsPDe6aAPAkwJecxuXAHYBVKCrUKFoWzvv28RLx0AFzPXQt2gY6BH4jkQVJHUDLE92TmHJP4twTu0LT76D1wF0Zff/jM4/pG3RPan4kiIQQQgiR9EheCiGEECLpkSASQgghRNIjQSSEEEKIpEeCSAghhBBJjwSREEIIIZIeCSIhhBBCJD0SREIIIYRIeiSIhBAdForZMf5TNFhyVNxOCCG2R4JICNFhYcgJBkqePHmyD0PBayGEaAoJIiFEhwWLUG1trZWWljYOjbM7YFn61a9+ZTfccIMPrCmE6LhIEAkhxA6oqqpyIfThhx9aWVlZuFQI0RHRWGZCiFbn/fff9wErGVW9T58+4VKzRYsW2apVq6xHjx4+qvqUKVPcqlNQUGDr1q2zjRs3+sCWvXr1soEDB1r37t3DPc2qq6tt7dq1Nn/+fBcymZmZ1rVrV5s2bZpde+21dv/999shhxxieXl5Lm7mzZvnx6upqfFBMtm2X79+/p4YxJS/9+qrr9pvf/tbP/Zpp51mI0eO9Pcyfvx4n27evNlWr15tS5cu9WMx8Gxubq4fg2PxHqC8vNxWrFjhjVgmtsvKyvLtBg0a1LidEKLtkCASQrQ6X/7yl120nH/++S40Iu644w575JFH7JhjjrHLL7/cLrroIo/72X///W3OnDkuYhAvBxxwgJ111ll2wgknuEAChBDxQn/729/cRVZUVGQTJ0707f/85z83CiIEC1afW2+91Y+3YcMG32bAgAF2+OGH28UXX+yCbOrUqb7fvffe66KM/Rhtf9y4cXbdddf5dOXKlfb000/bk08+6WKO4/Tu3dvf/+mnn26jRo3y9/b222/bY489Zi+//LL/vZSUFH9/bHPhhRdaz549fTshRNshl5kQIqF577333FJ0yimn2F133WVf+cpX3NJy++2327Jly9xKQ5wQYui+++6zsWPH2m233WY/+MEPXMg8+uij4ZG2ggUIC9MPf/hDu+eeezxOiP045lNPPWXFxcU2ZswY+9znPufiBiF1yy23uPj5v//7P1+HqOH9IIb22Wcfn7/77rvt0EMPtVdeecUtS1jBeH9/+ctf7N1337UzzjjD/v73v7vIuvLKK11UYS0SQrQ9EkRCiIQGl9phhx1mJ598sruqzjnnHDvqqKOsrq7OxQguqBkzZtjs2bPd0vKtb33LDjzwQBcmxx57rFuT4kGA4KrCMnPQQQe5uGF6/PHH23777efCBdcbbqz8/HzLycmx7Oxs69u3r7vxcIVhlUKk4SpD1Fx66aX+3pjnuMxjfeJ9Ya1av369u+R4X6NHj3bxNWnSJLd88TeEEG2PBJEQIqFBECE0mCJOECS4ohASBDuTPUY2GK413F5sy7rCwsJG8REPgoh9iFX617/+Zb/73e/covTwww+7CwzXG7WLcH9hBaIxj1UJlxlTstdmzZply5cvd9calqmbb77Z/t//+38+/8EHH7gIwo0GxAkRh/Tvf//b/w5WL2KXEFrp6em+jRCibZEgEkK0OpGbaPsQRl5vv4zYnfjgaWAZFhficXBJIWCAQGcETATbdevWLXwVgwBnhBRurOeee87jewjyJkaJwGgagmln8B6xIkWB3IiiqHFsRA7xS/z9Ll262NFHH2177bWXC6QXXnjB44kQRliZeD9CiLZHgkgI0epEoiW+cjQiAyGCKyweBM/2AoVlNKw1iKvoeMTsxAsqtmFZPFiTiAUi5ojYoO9+97seQ0Q8Ea4z3GHxx2hKvDHPe0dsnX322R6g/Zvf/KaxYXG6/vrr3W2HIMIdx/GvvvpqjzciRukPf/iDxxwtWLAgPKoQoi2RIBJCtDq4ihAV8dYRXEhYfGjxIB4QMfGwDMsMLjIEDLFDHI9gawRVJF7YbvHixT4fwTLavvvua2eeeabHGA0dOtStObjREFERiCGOv/2QHwgw9uFv8b7JGCMuKb6RbcbnxN0GuPD4W5dddpm76ciu4/NjJRJCtD0SREKIVgcxQTD0a6+95inwuJJIi3/jjTfCLbaCGMLNRGOeLDBcXWSWnXjiiW6B2XvvvT3gmeNgecH9NX36dHv22Wc94yse6v8QC8S2xAGRqYbb7D//+Y8HQsdbo9gOKxBCie0QUpQLQCgR6E2mGvFAlAvgbyLSsPjwdykfQBwRy7BI8Z4JwkYEMSVeCaGFm08I0fakXI9dVwghWhGsLhQ+nDt3rjfibhAKWIcQCQRNk/GFqED4YAlCkCCYGJMMy8zBBx9sp556qlthEDlYdtifOB6EDhlexBZxPPbFtYXlhm05JgKG5RRujIo0InQ4NtlpCCwsTTTEFQKGYOmFCxd6gDfFIYkVIpibz8Dfe+utt1wg8RrINkNgUeDx9ddf93VMyWTjvfEZiS/aPs5JCNH6SBAJIVod3EdYdhAfWF0QM7iTBg8e7EKDAOQRI0Z4FhgWlCjNHksN+xH7c9JJJ7lQQsTglmI7hAVWGcQN8UUTJkxw1xjbUE+IgotsR7Vq9kFAYfFhP7LR2J51pMdHgoeAbtxiCLaSkhJ3l2GRYh+yx/gsUXB15ALEhUc6P1lukfjjfdFIw+cYpNzzntiO9yeEaFtUqVoIkbBQyZl6QN/+9rfdIiSEEC2FYoiEEEIIkfRIEAkhhBAi6ZHLTAiRsDzwwAMeC0R8ERWqhRCipZAgEkIIIUTSI5eZEEIIIZIeCSIhhBBCJD0SREIIIYRIeiSIhBBCCJH0SBAJIYQQIumRIBJCCCFE0iNBJIQQQoikR4JICCGEEEmPBJEQQgghkh4JIiGEEEIkPRJEQgghhEh6JIiEEEIIkfRIEAkhhBAi6ZEgEkIIIUTSI0EkhBBCiKRHgkgIIYQQSY7Z/wf7sLTogiAbzAAAAABJRU5ErkJggg==)"
      ]
    },
    {
      "cell_type": "markdown",
      "metadata": {},
      "source": [
        "|        **Attentions**        | **Test Loss** | **Test PPL** |\n",
        "|:----------------------------:|---------------|:------------:|\n",
        "| **General Attention**        |     5.761     |    317.800   |\n",
        "| **Multiplicative Attention** |     5.817     |    335.976   |\n",
        "| **Additive Attention**       |     4.786     |    119.762   |"
      ]
    },
    {
      "cell_type": "markdown",
      "metadata": {},
      "source": [
        "According from performance of these attention mechanisms I choose additive attention for my model."
      ]
    }
  ],
  "metadata": {
    "accelerator": "GPU",
    "colab": {
      "gpuType": "T4",
      "provenance": [],
      "toc_visible": true
    },
    "kernelspec": {
      "display_name": "Python 3",
      "name": "python3"
    },
    "language_info": {
      "codemirror_mode": {
        "name": "ipython",
        "version": 3
      },
      "file_extension": ".py",
      "mimetype": "text/x-python",
      "name": "python",
      "nbconvert_exporter": "python",
      "pygments_lexer": "ipython3",
      "version": "3.10.13"
    },
    "vscode": {
      "interpreter": {
        "hash": "0f2c79af21be9d001248940c049b6176cf8bfb45cabf7aa85848f5cea0f590f6"
      }
    },
    "widgets": {
      "application/vnd.jupyter.widget-state+json": {
        "0035dfaa4808422389cdc3f16371aadc": {
          "model_module": "@jupyter-widgets/base",
          "model_module_version": "1.2.0",
          "model_name": "LayoutModel",
          "state": {
            "_model_module": "@jupyter-widgets/base",
            "_model_module_version": "1.2.0",
            "_model_name": "LayoutModel",
            "_view_count": null,
            "_view_module": "@jupyter-widgets/base",
            "_view_module_version": "1.2.0",
            "_view_name": "LayoutView",
            "align_content": null,
            "align_items": null,
            "align_self": null,
            "border": null,
            "bottom": null,
            "display": null,
            "flex": null,
            "flex_flow": null,
            "grid_area": null,
            "grid_auto_columns": null,
            "grid_auto_flow": null,
            "grid_auto_rows": null,
            "grid_column": null,
            "grid_gap": null,
            "grid_row": null,
            "grid_template_areas": null,
            "grid_template_columns": null,
            "grid_template_rows": null,
            "height": null,
            "justify_content": null,
            "justify_items": null,
            "left": null,
            "margin": null,
            "max_height": null,
            "max_width": null,
            "min_height": null,
            "min_width": null,
            "object_fit": null,
            "object_position": null,
            "order": null,
            "overflow": null,
            "overflow_x": null,
            "overflow_y": null,
            "padding": null,
            "right": null,
            "top": null,
            "visibility": null,
            "width": null
          }
        },
        "009bb54e8fde496f91a2531af5598f09": {
          "model_module": "@jupyter-widgets/controls",
          "model_module_version": "1.5.0",
          "model_name": "ProgressStyleModel",
          "state": {
            "_model_module": "@jupyter-widgets/controls",
            "_model_module_version": "1.5.0",
            "_model_name": "ProgressStyleModel",
            "_view_count": null,
            "_view_module": "@jupyter-widgets/base",
            "_view_module_version": "1.2.0",
            "_view_name": "StyleView",
            "bar_color": null,
            "description_width": ""
          }
        },
        "01ed6f7ee6ba4662bdf76f4fdb65ad95": {
          "model_module": "@jupyter-widgets/base",
          "model_module_version": "1.2.0",
          "model_name": "LayoutModel",
          "state": {
            "_model_module": "@jupyter-widgets/base",
            "_model_module_version": "1.2.0",
            "_model_name": "LayoutModel",
            "_view_count": null,
            "_view_module": "@jupyter-widgets/base",
            "_view_module_version": "1.2.0",
            "_view_name": "LayoutView",
            "align_content": null,
            "align_items": null,
            "align_self": null,
            "border": null,
            "bottom": null,
            "display": null,
            "flex": null,
            "flex_flow": null,
            "grid_area": null,
            "grid_auto_columns": null,
            "grid_auto_flow": null,
            "grid_auto_rows": null,
            "grid_column": null,
            "grid_gap": null,
            "grid_row": null,
            "grid_template_areas": null,
            "grid_template_columns": null,
            "grid_template_rows": null,
            "height": null,
            "justify_content": null,
            "justify_items": null,
            "left": null,
            "margin": null,
            "max_height": null,
            "max_width": null,
            "min_height": null,
            "min_width": null,
            "object_fit": null,
            "object_position": null,
            "order": null,
            "overflow": null,
            "overflow_x": null,
            "overflow_y": null,
            "padding": null,
            "right": null,
            "top": null,
            "visibility": null,
            "width": null
          }
        },
        "04574a7f832f4e219e160e0b766c073c": {
          "model_module": "@jupyter-widgets/controls",
          "model_module_version": "1.5.0",
          "model_name": "HBoxModel",
          "state": {
            "_dom_classes": [],
            "_model_module": "@jupyter-widgets/controls",
            "_model_module_version": "1.5.0",
            "_model_name": "HBoxModel",
            "_view_count": null,
            "_view_module": "@jupyter-widgets/controls",
            "_view_module_version": "1.5.0",
            "_view_name": "HBoxView",
            "box_style": "",
            "children": [
              "IPY_MODEL_fab2903422f547bb959b3914646d09e2",
              "IPY_MODEL_4732f714f5754d1c8a4d48381ad08478",
              "IPY_MODEL_a5e4e3deae554d799d985ff63f3e710e"
            ],
            "layout": "IPY_MODEL_3c9a04f40e974545b4d1715db95ca9db"
          }
        },
        "04659db4edbf4587a4d1489b810ed46f": {
          "model_module": "@jupyter-widgets/controls",
          "model_module_version": "1.5.0",
          "model_name": "HBoxModel",
          "state": {
            "_dom_classes": [],
            "_model_module": "@jupyter-widgets/controls",
            "_model_module_version": "1.5.0",
            "_model_name": "HBoxModel",
            "_view_count": null,
            "_view_module": "@jupyter-widgets/controls",
            "_view_module_version": "1.5.0",
            "_view_name": "HBoxView",
            "box_style": "",
            "children": [
              "IPY_MODEL_32d5201f3731427098d22aedfb3b14ef",
              "IPY_MODEL_3c510b6f99374b218320ea64155988fa",
              "IPY_MODEL_3b2869d14dd8459f877898eed0ff615a"
            ],
            "layout": "IPY_MODEL_5cd2223b876d4c18bb1418ab68bb5893"
          }
        },
        "050ac3188d3446e6b9ec3c9a003dcfdd": {
          "model_module": "@jupyter-widgets/controls",
          "model_module_version": "1.5.0",
          "model_name": "ProgressStyleModel",
          "state": {
            "_model_module": "@jupyter-widgets/controls",
            "_model_module_version": "1.5.0",
            "_model_name": "ProgressStyleModel",
            "_view_count": null,
            "_view_module": "@jupyter-widgets/base",
            "_view_module_version": "1.2.0",
            "_view_name": "StyleView",
            "bar_color": null,
            "description_width": ""
          }
        },
        "0603815fa91746a3aa030c456a8df7ea": {
          "model_module": "@jupyter-widgets/controls",
          "model_module_version": "1.5.0",
          "model_name": "DescriptionStyleModel",
          "state": {
            "_model_module": "@jupyter-widgets/controls",
            "_model_module_version": "1.5.0",
            "_model_name": "DescriptionStyleModel",
            "_view_count": null,
            "_view_module": "@jupyter-widgets/base",
            "_view_module_version": "1.2.0",
            "_view_name": "StyleView",
            "description_width": ""
          }
        },
        "08bdb3fc9d3345b29024e5d9117bb3ce": {
          "model_module": "@jupyter-widgets/base",
          "model_module_version": "1.2.0",
          "model_name": "LayoutModel",
          "state": {
            "_model_module": "@jupyter-widgets/base",
            "_model_module_version": "1.2.0",
            "_model_name": "LayoutModel",
            "_view_count": null,
            "_view_module": "@jupyter-widgets/base",
            "_view_module_version": "1.2.0",
            "_view_name": "LayoutView",
            "align_content": null,
            "align_items": null,
            "align_self": null,
            "border": null,
            "bottom": null,
            "display": null,
            "flex": null,
            "flex_flow": null,
            "grid_area": null,
            "grid_auto_columns": null,
            "grid_auto_flow": null,
            "grid_auto_rows": null,
            "grid_column": null,
            "grid_gap": null,
            "grid_row": null,
            "grid_template_areas": null,
            "grid_template_columns": null,
            "grid_template_rows": null,
            "height": null,
            "justify_content": null,
            "justify_items": null,
            "left": null,
            "margin": null,
            "max_height": null,
            "max_width": null,
            "min_height": null,
            "min_width": null,
            "object_fit": null,
            "object_position": null,
            "order": null,
            "overflow": null,
            "overflow_x": null,
            "overflow_y": null,
            "padding": null,
            "right": null,
            "top": null,
            "visibility": null,
            "width": null
          }
        },
        "08d7001ca0af4bafa66c0c30e28c3895": {
          "model_module": "@jupyter-widgets/controls",
          "model_module_version": "1.5.0",
          "model_name": "HTMLModel",
          "state": {
            "_dom_classes": [],
            "_model_module": "@jupyter-widgets/controls",
            "_model_module_version": "1.5.0",
            "_model_name": "HTMLModel",
            "_view_count": null,
            "_view_module": "@jupyter-widgets/controls",
            "_view_module_version": "1.5.0",
            "_view_name": "HTMLView",
            "description": "",
            "description_tooltip": null,
            "layout": "IPY_MODEL_0b098dd9ae06486ca4dfe79004c51a15",
            "placeholder": "​",
            "style": "IPY_MODEL_7034933f3f7b4c16b9c3ad5fdc43dfe8",
            "value": "Map: 100%"
          }
        },
        "0b098dd9ae06486ca4dfe79004c51a15": {
          "model_module": "@jupyter-widgets/base",
          "model_module_version": "1.2.0",
          "model_name": "LayoutModel",
          "state": {
            "_model_module": "@jupyter-widgets/base",
            "_model_module_version": "1.2.0",
            "_model_name": "LayoutModel",
            "_view_count": null,
            "_view_module": "@jupyter-widgets/base",
            "_view_module_version": "1.2.0",
            "_view_name": "LayoutView",
            "align_content": null,
            "align_items": null,
            "align_self": null,
            "border": null,
            "bottom": null,
            "display": null,
            "flex": null,
            "flex_flow": null,
            "grid_area": null,
            "grid_auto_columns": null,
            "grid_auto_flow": null,
            "grid_auto_rows": null,
            "grid_column": null,
            "grid_gap": null,
            "grid_row": null,
            "grid_template_areas": null,
            "grid_template_columns": null,
            "grid_template_rows": null,
            "height": null,
            "justify_content": null,
            "justify_items": null,
            "left": null,
            "margin": null,
            "max_height": null,
            "max_width": null,
            "min_height": null,
            "min_width": null,
            "object_fit": null,
            "object_position": null,
            "order": null,
            "overflow": null,
            "overflow_x": null,
            "overflow_y": null,
            "padding": null,
            "right": null,
            "top": null,
            "visibility": null,
            "width": null
          }
        },
        "0dc09d8dacf84058b5a125da44bf916f": {
          "model_module": "@jupyter-widgets/base",
          "model_module_version": "1.2.0",
          "model_name": "LayoutModel",
          "state": {
            "_model_module": "@jupyter-widgets/base",
            "_model_module_version": "1.2.0",
            "_model_name": "LayoutModel",
            "_view_count": null,
            "_view_module": "@jupyter-widgets/base",
            "_view_module_version": "1.2.0",
            "_view_name": "LayoutView",
            "align_content": null,
            "align_items": null,
            "align_self": null,
            "border": null,
            "bottom": null,
            "display": null,
            "flex": null,
            "flex_flow": null,
            "grid_area": null,
            "grid_auto_columns": null,
            "grid_auto_flow": null,
            "grid_auto_rows": null,
            "grid_column": null,
            "grid_gap": null,
            "grid_row": null,
            "grid_template_areas": null,
            "grid_template_columns": null,
            "grid_template_rows": null,
            "height": null,
            "justify_content": null,
            "justify_items": null,
            "left": null,
            "margin": null,
            "max_height": null,
            "max_width": null,
            "min_height": null,
            "min_width": null,
            "object_fit": null,
            "object_position": null,
            "order": null,
            "overflow": null,
            "overflow_x": null,
            "overflow_y": null,
            "padding": null,
            "right": null,
            "top": null,
            "visibility": null,
            "width": null
          }
        },
        "1027317300eb4206b641e7fdec134eae": {
          "model_module": "@jupyter-widgets/controls",
          "model_module_version": "1.5.0",
          "model_name": "HTMLModel",
          "state": {
            "_dom_classes": [],
            "_model_module": "@jupyter-widgets/controls",
            "_model_module_version": "1.5.0",
            "_model_name": "HTMLModel",
            "_view_count": null,
            "_view_module": "@jupyter-widgets/controls",
            "_view_module_version": "1.5.0",
            "_view_name": "HTMLView",
            "description": "",
            "description_tooltip": null,
            "layout": "IPY_MODEL_2501c72f7c41462c8ca514db92b01a82",
            "placeholder": "​",
            "style": "IPY_MODEL_759a9117d0964451b0a071d69b3505c9",
            "value": " 152M/152M [00:05&lt;00:00, 27.0MB/s]"
          }
        },
        "1250b89c8d8b48ada4ba531ba34442cc": {
          "model_module": "@jupyter-widgets/base",
          "model_module_version": "1.2.0",
          "model_name": "LayoutModel",
          "state": {
            "_model_module": "@jupyter-widgets/base",
            "_model_module_version": "1.2.0",
            "_model_name": "LayoutModel",
            "_view_count": null,
            "_view_module": "@jupyter-widgets/base",
            "_view_module_version": "1.2.0",
            "_view_name": "LayoutView",
            "align_content": null,
            "align_items": null,
            "align_self": null,
            "border": null,
            "bottom": null,
            "display": null,
            "flex": null,
            "flex_flow": null,
            "grid_area": null,
            "grid_auto_columns": null,
            "grid_auto_flow": null,
            "grid_auto_rows": null,
            "grid_column": null,
            "grid_gap": null,
            "grid_row": null,
            "grid_template_areas": null,
            "grid_template_columns": null,
            "grid_template_rows": null,
            "height": null,
            "justify_content": null,
            "justify_items": null,
            "left": null,
            "margin": null,
            "max_height": null,
            "max_width": null,
            "min_height": null,
            "min_width": null,
            "object_fit": null,
            "object_position": null,
            "order": null,
            "overflow": null,
            "overflow_x": null,
            "overflow_y": null,
            "padding": null,
            "right": null,
            "top": null,
            "visibility": null,
            "width": null
          }
        },
        "125b7baaebd341b6b8625fa50ba312a6": {
          "model_module": "@jupyter-widgets/controls",
          "model_module_version": "1.5.0",
          "model_name": "HTMLModel",
          "state": {
            "_dom_classes": [],
            "_model_module": "@jupyter-widgets/controls",
            "_model_module_version": "1.5.0",
            "_model_name": "HTMLModel",
            "_view_count": null,
            "_view_module": "@jupyter-widgets/controls",
            "_view_module_version": "1.5.0",
            "_view_name": "HTMLView",
            "description": "",
            "description_tooltip": null,
            "layout": "IPY_MODEL_df73cb283cf540dfb88797bc77d55109",
            "placeholder": "​",
            "style": "IPY_MODEL_6120cf27260d47bc912892395c7b68de",
            "value": " 5000/5000 [00:00&lt;00:00, 16073.30 examples/s]"
          }
        },
        "134c8b82947d4c11b7d9ae2d4fe54c3d": {
          "model_module": "@jupyter-widgets/controls",
          "model_module_version": "1.5.0",
          "model_name": "HTMLModel",
          "state": {
            "_dom_classes": [],
            "_model_module": "@jupyter-widgets/controls",
            "_model_module_version": "1.5.0",
            "_model_name": "HTMLModel",
            "_view_count": null,
            "_view_module": "@jupyter-widgets/controls",
            "_view_module_version": "1.5.0",
            "_view_name": "HTMLView",
            "description": "",
            "description_tooltip": null,
            "layout": "IPY_MODEL_a5e3e6fcfde84cfea6adfb86881faaf0",
            "placeholder": "​",
            "style": "IPY_MODEL_7833a7e3912541aa9d531e7c4614f9a8",
            "value": "Map: 100%"
          }
        },
        "13a615f83bb443778a6686a7a9e005e2": {
          "model_module": "@jupyter-widgets/controls",
          "model_module_version": "1.5.0",
          "model_name": "DescriptionStyleModel",
          "state": {
            "_model_module": "@jupyter-widgets/controls",
            "_model_module_version": "1.5.0",
            "_model_name": "DescriptionStyleModel",
            "_view_count": null,
            "_view_module": "@jupyter-widgets/base",
            "_view_module_version": "1.2.0",
            "_view_name": "StyleView",
            "description_width": ""
          }
        },
        "15154e1fe5244186b0008d7fd158b092": {
          "model_module": "@jupyter-widgets/controls",
          "model_module_version": "1.5.0",
          "model_name": "HBoxModel",
          "state": {
            "_dom_classes": [],
            "_model_module": "@jupyter-widgets/controls",
            "_model_module_version": "1.5.0",
            "_model_name": "HBoxModel",
            "_view_count": null,
            "_view_module": "@jupyter-widgets/controls",
            "_view_module_version": "1.5.0",
            "_view_name": "HBoxView",
            "box_style": "",
            "children": [
              "IPY_MODEL_8a89283c35734833be9968c349c0a30c",
              "IPY_MODEL_5a160b70964d40ce8645d358529be295",
              "IPY_MODEL_7dd026b47e8a4d41bbd2d2d5d48648e8"
            ],
            "layout": "IPY_MODEL_c4aef137ad5c4ae5b9de7f3f29ce0edc"
          }
        },
        "18df117699984f01bc8a4abd5b3ef970": {
          "model_module": "@jupyter-widgets/base",
          "model_module_version": "1.2.0",
          "model_name": "LayoutModel",
          "state": {
            "_model_module": "@jupyter-widgets/base",
            "_model_module_version": "1.2.0",
            "_model_name": "LayoutModel",
            "_view_count": null,
            "_view_module": "@jupyter-widgets/base",
            "_view_module_version": "1.2.0",
            "_view_name": "LayoutView",
            "align_content": null,
            "align_items": null,
            "align_self": null,
            "border": null,
            "bottom": null,
            "display": null,
            "flex": null,
            "flex_flow": null,
            "grid_area": null,
            "grid_auto_columns": null,
            "grid_auto_flow": null,
            "grid_auto_rows": null,
            "grid_column": null,
            "grid_gap": null,
            "grid_row": null,
            "grid_template_areas": null,
            "grid_template_columns": null,
            "grid_template_rows": null,
            "height": null,
            "justify_content": null,
            "justify_items": null,
            "left": null,
            "margin": null,
            "max_height": null,
            "max_width": null,
            "min_height": null,
            "min_width": null,
            "object_fit": null,
            "object_position": null,
            "order": null,
            "overflow": null,
            "overflow_x": null,
            "overflow_y": null,
            "padding": null,
            "right": null,
            "top": null,
            "visibility": null,
            "width": null
          }
        },
        "1a6beadf22294732ae175763d063c186": {
          "model_module": "@jupyter-widgets/controls",
          "model_module_version": "1.5.0",
          "model_name": "DescriptionStyleModel",
          "state": {
            "_model_module": "@jupyter-widgets/controls",
            "_model_module_version": "1.5.0",
            "_model_name": "DescriptionStyleModel",
            "_view_count": null,
            "_view_module": "@jupyter-widgets/base",
            "_view_module_version": "1.2.0",
            "_view_name": "StyleView",
            "description_width": ""
          }
        },
        "1b2cf5674d574411867429efc06fa3ce": {
          "model_module": "@jupyter-widgets/controls",
          "model_module_version": "1.5.0",
          "model_name": "FloatProgressModel",
          "state": {
            "_dom_classes": [],
            "_model_module": "@jupyter-widgets/controls",
            "_model_module_version": "1.5.0",
            "_model_name": "FloatProgressModel",
            "_view_count": null,
            "_view_module": "@jupyter-widgets/controls",
            "_view_module_version": "1.5.0",
            "_view_name": "ProgressView",
            "bar_style": "success",
            "description": "",
            "description_tooltip": null,
            "layout": "IPY_MODEL_01ed6f7ee6ba4662bdf76f4fdb65ad95",
            "max": 100173,
            "min": 0,
            "orientation": "horizontal",
            "style": "IPY_MODEL_96df13b4e5e04c7a8fd86417f57bfe3b",
            "value": 100173
          }
        },
        "1b5f04883e5343dfa81a42b76199316e": {
          "model_module": "@jupyter-widgets/base",
          "model_module_version": "1.2.0",
          "model_name": "LayoutModel",
          "state": {
            "_model_module": "@jupyter-widgets/base",
            "_model_module_version": "1.2.0",
            "_model_name": "LayoutModel",
            "_view_count": null,
            "_view_module": "@jupyter-widgets/base",
            "_view_module_version": "1.2.0",
            "_view_name": "LayoutView",
            "align_content": null,
            "align_items": null,
            "align_self": null,
            "border": null,
            "bottom": null,
            "display": null,
            "flex": null,
            "flex_flow": null,
            "grid_area": null,
            "grid_auto_columns": null,
            "grid_auto_flow": null,
            "grid_auto_rows": null,
            "grid_column": null,
            "grid_gap": null,
            "grid_row": null,
            "grid_template_areas": null,
            "grid_template_columns": null,
            "grid_template_rows": null,
            "height": null,
            "justify_content": null,
            "justify_items": null,
            "left": null,
            "margin": null,
            "max_height": null,
            "max_width": null,
            "min_height": null,
            "min_width": null,
            "object_fit": null,
            "object_position": null,
            "order": null,
            "overflow": null,
            "overflow_x": null,
            "overflow_y": null,
            "padding": null,
            "right": null,
            "top": null,
            "visibility": null,
            "width": null
          }
        },
        "1c4f4a32d42a4884bdbd98014de7320c": {
          "model_module": "@jupyter-widgets/controls",
          "model_module_version": "1.5.0",
          "model_name": "HTMLModel",
          "state": {
            "_dom_classes": [],
            "_model_module": "@jupyter-widgets/controls",
            "_model_module_version": "1.5.0",
            "_model_name": "HTMLModel",
            "_view_count": null,
            "_view_module": "@jupyter-widgets/controls",
            "_view_module_version": "1.5.0",
            "_view_name": "HTMLView",
            "description": "",
            "description_tooltip": null,
            "layout": "IPY_MODEL_264ace4844704658916c7de77bfbaaf6",
            "placeholder": "​",
            "style": "IPY_MODEL_aff486e71e2a413ca6c890827a72d2cc",
            "value": "Map: 100%"
          }
        },
        "1f7630623bc2437698cf268337cca1fe": {
          "model_module": "@jupyter-widgets/controls",
          "model_module_version": "1.5.0",
          "model_name": "DescriptionStyleModel",
          "state": {
            "_model_module": "@jupyter-widgets/controls",
            "_model_module_version": "1.5.0",
            "_model_name": "DescriptionStyleModel",
            "_view_count": null,
            "_view_module": "@jupyter-widgets/base",
            "_view_module_version": "1.2.0",
            "_view_name": "StyleView",
            "description_width": ""
          }
        },
        "210fc4b2b52b48bbb1833e4d742282ce": {
          "model_module": "@jupyter-widgets/base",
          "model_module_version": "1.2.0",
          "model_name": "LayoutModel",
          "state": {
            "_model_module": "@jupyter-widgets/base",
            "_model_module_version": "1.2.0",
            "_model_name": "LayoutModel",
            "_view_count": null,
            "_view_module": "@jupyter-widgets/base",
            "_view_module_version": "1.2.0",
            "_view_name": "LayoutView",
            "align_content": null,
            "align_items": null,
            "align_self": null,
            "border": null,
            "bottom": null,
            "display": null,
            "flex": null,
            "flex_flow": null,
            "grid_area": null,
            "grid_auto_columns": null,
            "grid_auto_flow": null,
            "grid_auto_rows": null,
            "grid_column": null,
            "grid_gap": null,
            "grid_row": null,
            "grid_template_areas": null,
            "grid_template_columns": null,
            "grid_template_rows": null,
            "height": null,
            "justify_content": null,
            "justify_items": null,
            "left": null,
            "margin": null,
            "max_height": null,
            "max_width": null,
            "min_height": null,
            "min_width": null,
            "object_fit": null,
            "object_position": null,
            "order": null,
            "overflow": null,
            "overflow_x": null,
            "overflow_y": null,
            "padding": null,
            "right": null,
            "top": null,
            "visibility": null,
            "width": null
          }
        },
        "2489e0a179504dc89ce61870d84b9dec": {
          "model_module": "@jupyter-widgets/controls",
          "model_module_version": "1.5.0",
          "model_name": "DescriptionStyleModel",
          "state": {
            "_model_module": "@jupyter-widgets/controls",
            "_model_module_version": "1.5.0",
            "_model_name": "DescriptionStyleModel",
            "_view_count": null,
            "_view_module": "@jupyter-widgets/base",
            "_view_module_version": "1.2.0",
            "_view_name": "StyleView",
            "description_width": ""
          }
        },
        "24bbc7212db8488baddbca2fa8c915a7": {
          "model_module": "@jupyter-widgets/controls",
          "model_module_version": "1.5.0",
          "model_name": "HTMLModel",
          "state": {
            "_dom_classes": [],
            "_model_module": "@jupyter-widgets/controls",
            "_model_module_version": "1.5.0",
            "_model_name": "HTMLModel",
            "_view_count": null,
            "_view_module": "@jupyter-widgets/controls",
            "_view_module_version": "1.5.0",
            "_view_name": "HTMLView",
            "description": "",
            "description_tooltip": null,
            "layout": "IPY_MODEL_3deef61755a4408c86db8d1b0295cca4",
            "placeholder": "​",
            "style": "IPY_MODEL_1f7630623bc2437698cf268337cca1fe",
            "value": "Map: 100%"
          }
        },
        "2501c72f7c41462c8ca514db92b01a82": {
          "model_module": "@jupyter-widgets/base",
          "model_module_version": "1.2.0",
          "model_name": "LayoutModel",
          "state": {
            "_model_module": "@jupyter-widgets/base",
            "_model_module_version": "1.2.0",
            "_model_name": "LayoutModel",
            "_view_count": null,
            "_view_module": "@jupyter-widgets/base",
            "_view_module_version": "1.2.0",
            "_view_name": "LayoutView",
            "align_content": null,
            "align_items": null,
            "align_self": null,
            "border": null,
            "bottom": null,
            "display": null,
            "flex": null,
            "flex_flow": null,
            "grid_area": null,
            "grid_auto_columns": null,
            "grid_auto_flow": null,
            "grid_auto_rows": null,
            "grid_column": null,
            "grid_gap": null,
            "grid_row": null,
            "grid_template_areas": null,
            "grid_template_columns": null,
            "grid_template_rows": null,
            "height": null,
            "justify_content": null,
            "justify_items": null,
            "left": null,
            "margin": null,
            "max_height": null,
            "max_width": null,
            "min_height": null,
            "min_width": null,
            "object_fit": null,
            "object_position": null,
            "order": null,
            "overflow": null,
            "overflow_x": null,
            "overflow_y": null,
            "padding": null,
            "right": null,
            "top": null,
            "visibility": null,
            "width": null
          }
        },
        "25292873dda1458bbdd339d7c9c74946": {
          "model_module": "@jupyter-widgets/controls",
          "model_module_version": "1.5.0",
          "model_name": "DescriptionStyleModel",
          "state": {
            "_model_module": "@jupyter-widgets/controls",
            "_model_module_version": "1.5.0",
            "_model_name": "DescriptionStyleModel",
            "_view_count": null,
            "_view_module": "@jupyter-widgets/base",
            "_view_module_version": "1.2.0",
            "_view_name": "StyleView",
            "description_width": ""
          }
        },
        "264ace4844704658916c7de77bfbaaf6": {
          "model_module": "@jupyter-widgets/base",
          "model_module_version": "1.2.0",
          "model_name": "LayoutModel",
          "state": {
            "_model_module": "@jupyter-widgets/base",
            "_model_module_version": "1.2.0",
            "_model_name": "LayoutModel",
            "_view_count": null,
            "_view_module": "@jupyter-widgets/base",
            "_view_module_version": "1.2.0",
            "_view_name": "LayoutView",
            "align_content": null,
            "align_items": null,
            "align_self": null,
            "border": null,
            "bottom": null,
            "display": null,
            "flex": null,
            "flex_flow": null,
            "grid_area": null,
            "grid_auto_columns": null,
            "grid_auto_flow": null,
            "grid_auto_rows": null,
            "grid_column": null,
            "grid_gap": null,
            "grid_row": null,
            "grid_template_areas": null,
            "grid_template_columns": null,
            "grid_template_rows": null,
            "height": null,
            "justify_content": null,
            "justify_items": null,
            "left": null,
            "margin": null,
            "max_height": null,
            "max_width": null,
            "min_height": null,
            "min_width": null,
            "object_fit": null,
            "object_position": null,
            "order": null,
            "overflow": null,
            "overflow_x": null,
            "overflow_y": null,
            "padding": null,
            "right": null,
            "top": null,
            "visibility": null,
            "width": null
          }
        },
        "2847d00b4368405aacf2dd7cbb541528": {
          "model_module": "@jupyter-widgets/base",
          "model_module_version": "1.2.0",
          "model_name": "LayoutModel",
          "state": {
            "_model_module": "@jupyter-widgets/base",
            "_model_module_version": "1.2.0",
            "_model_name": "LayoutModel",
            "_view_count": null,
            "_view_module": "@jupyter-widgets/base",
            "_view_module_version": "1.2.0",
            "_view_name": "LayoutView",
            "align_content": null,
            "align_items": null,
            "align_self": null,
            "border": null,
            "bottom": null,
            "display": null,
            "flex": null,
            "flex_flow": null,
            "grid_area": null,
            "grid_auto_columns": null,
            "grid_auto_flow": null,
            "grid_auto_rows": null,
            "grid_column": null,
            "grid_gap": null,
            "grid_row": null,
            "grid_template_areas": null,
            "grid_template_columns": null,
            "grid_template_rows": null,
            "height": null,
            "justify_content": null,
            "justify_items": null,
            "left": null,
            "margin": null,
            "max_height": null,
            "max_width": null,
            "min_height": null,
            "min_width": null,
            "object_fit": null,
            "object_position": null,
            "order": null,
            "overflow": null,
            "overflow_x": null,
            "overflow_y": null,
            "padding": null,
            "right": null,
            "top": null,
            "visibility": null,
            "width": null
          }
        },
        "28b9b9c4bd3b4099842b79b49ff3299f": {
          "model_module": "@jupyter-widgets/controls",
          "model_module_version": "1.5.0",
          "model_name": "DescriptionStyleModel",
          "state": {
            "_model_module": "@jupyter-widgets/controls",
            "_model_module_version": "1.5.0",
            "_model_name": "DescriptionStyleModel",
            "_view_count": null,
            "_view_module": "@jupyter-widgets/base",
            "_view_module_version": "1.2.0",
            "_view_name": "StyleView",
            "description_width": ""
          }
        },
        "29e1c8269f9344e18c54422bb8ab0531": {
          "model_module": "@jupyter-widgets/base",
          "model_module_version": "1.2.0",
          "model_name": "LayoutModel",
          "state": {
            "_model_module": "@jupyter-widgets/base",
            "_model_module_version": "1.2.0",
            "_model_name": "LayoutModel",
            "_view_count": null,
            "_view_module": "@jupyter-widgets/base",
            "_view_module_version": "1.2.0",
            "_view_name": "LayoutView",
            "align_content": null,
            "align_items": null,
            "align_self": null,
            "border": null,
            "bottom": null,
            "display": null,
            "flex": null,
            "flex_flow": null,
            "grid_area": null,
            "grid_auto_columns": null,
            "grid_auto_flow": null,
            "grid_auto_rows": null,
            "grid_column": null,
            "grid_gap": null,
            "grid_row": null,
            "grid_template_areas": null,
            "grid_template_columns": null,
            "grid_template_rows": null,
            "height": null,
            "justify_content": null,
            "justify_items": null,
            "left": null,
            "margin": null,
            "max_height": null,
            "max_width": null,
            "min_height": null,
            "min_width": null,
            "object_fit": null,
            "object_position": null,
            "order": null,
            "overflow": null,
            "overflow_x": null,
            "overflow_y": null,
            "padding": null,
            "right": null,
            "top": null,
            "visibility": null,
            "width": null
          }
        },
        "2e083184458b4da1842c8ac8b81e55c4": {
          "model_module": "@jupyter-widgets/controls",
          "model_module_version": "1.5.0",
          "model_name": "HBoxModel",
          "state": {
            "_dom_classes": [],
            "_model_module": "@jupyter-widgets/controls",
            "_model_module_version": "1.5.0",
            "_model_name": "HBoxModel",
            "_view_count": null,
            "_view_module": "@jupyter-widgets/controls",
            "_view_module_version": "1.5.0",
            "_view_name": "HBoxView",
            "box_style": "",
            "children": [
              "IPY_MODEL_b89599be63a84d4da88a8c4c634e6150",
              "IPY_MODEL_6a8db0f5162448799ac747602d9a4c0c",
              "IPY_MODEL_f593b236a46a4453b9ff4b4d077084e3"
            ],
            "layout": "IPY_MODEL_a5e10eb880e04b19b38983062ddb562f"
          }
        },
        "2e12dcb530e34c249f82de91b8bcf7bc": {
          "model_module": "@jupyter-widgets/controls",
          "model_module_version": "1.5.0",
          "model_name": "HTMLModel",
          "state": {
            "_dom_classes": [],
            "_model_module": "@jupyter-widgets/controls",
            "_model_module_version": "1.5.0",
            "_model_name": "HTMLModel",
            "_view_count": null,
            "_view_module": "@jupyter-widgets/controls",
            "_view_module_version": "1.5.0",
            "_view_name": "HTMLView",
            "description": "",
            "description_tooltip": null,
            "layout": "IPY_MODEL_c25e22716de846a18d9716ceb653b5a1",
            "placeholder": "​",
            "style": "IPY_MODEL_3118ab1e613e472586283851fac7b5e2",
            "value": "Map: 100%"
          }
        },
        "30af2adc72634bf798c7d5f42b14d1f9": {
          "model_module": "@jupyter-widgets/controls",
          "model_module_version": "1.5.0",
          "model_name": "ProgressStyleModel",
          "state": {
            "_model_module": "@jupyter-widgets/controls",
            "_model_module_version": "1.5.0",
            "_model_name": "ProgressStyleModel",
            "_view_count": null,
            "_view_module": "@jupyter-widgets/base",
            "_view_module_version": "1.2.0",
            "_view_name": "StyleView",
            "bar_color": null,
            "description_width": ""
          }
        },
        "3118ab1e613e472586283851fac7b5e2": {
          "model_module": "@jupyter-widgets/controls",
          "model_module_version": "1.5.0",
          "model_name": "DescriptionStyleModel",
          "state": {
            "_model_module": "@jupyter-widgets/controls",
            "_model_module_version": "1.5.0",
            "_model_name": "DescriptionStyleModel",
            "_view_count": null,
            "_view_module": "@jupyter-widgets/base",
            "_view_module_version": "1.2.0",
            "_view_name": "StyleView",
            "description_width": ""
          }
        },
        "314e2e5ab30c4cdda8d7bd79c7f43c83": {
          "model_module": "@jupyter-widgets/controls",
          "model_module_version": "1.5.0",
          "model_name": "FloatProgressModel",
          "state": {
            "_dom_classes": [],
            "_model_module": "@jupyter-widgets/controls",
            "_model_module_version": "1.5.0",
            "_model_name": "FloatProgressModel",
            "_view_count": null,
            "_view_module": "@jupyter-widgets/controls",
            "_view_module_version": "1.5.0",
            "_view_name": "ProgressView",
            "bar_style": "success",
            "description": "",
            "description_tooltip": null,
            "layout": "IPY_MODEL_0dc09d8dacf84058b5a125da44bf916f",
            "max": 100177,
            "min": 0,
            "orientation": "horizontal",
            "style": "IPY_MODEL_593814108c3d4286b81839e43cff13fb",
            "value": 100177
          }
        },
        "328dd111c8754bf28e9e2e765e054b24": {
          "model_module": "@jupyter-widgets/base",
          "model_module_version": "1.2.0",
          "model_name": "LayoutModel",
          "state": {
            "_model_module": "@jupyter-widgets/base",
            "_model_module_version": "1.2.0",
            "_model_name": "LayoutModel",
            "_view_count": null,
            "_view_module": "@jupyter-widgets/base",
            "_view_module_version": "1.2.0",
            "_view_name": "LayoutView",
            "align_content": null,
            "align_items": null,
            "align_self": null,
            "border": null,
            "bottom": null,
            "display": null,
            "flex": null,
            "flex_flow": null,
            "grid_area": null,
            "grid_auto_columns": null,
            "grid_auto_flow": null,
            "grid_auto_rows": null,
            "grid_column": null,
            "grid_gap": null,
            "grid_row": null,
            "grid_template_areas": null,
            "grid_template_columns": null,
            "grid_template_rows": null,
            "height": null,
            "justify_content": null,
            "justify_items": null,
            "left": null,
            "margin": null,
            "max_height": null,
            "max_width": null,
            "min_height": null,
            "min_width": null,
            "object_fit": null,
            "object_position": null,
            "order": null,
            "overflow": null,
            "overflow_x": null,
            "overflow_y": null,
            "padding": null,
            "right": null,
            "top": null,
            "visibility": null,
            "width": null
          }
        },
        "32d5201f3731427098d22aedfb3b14ef": {
          "model_module": "@jupyter-widgets/controls",
          "model_module_version": "1.5.0",
          "model_name": "HTMLModel",
          "state": {
            "_dom_classes": [],
            "_model_module": "@jupyter-widgets/controls",
            "_model_module_version": "1.5.0",
            "_model_name": "HTMLModel",
            "_view_count": null,
            "_view_module": "@jupyter-widgets/controls",
            "_view_module_version": "1.5.0",
            "_view_name": "HTMLView",
            "description": "",
            "description_tooltip": null,
            "layout": "IPY_MODEL_ffbbdbf15e694c23bf5893d80042043f",
            "placeholder": "​",
            "style": "IPY_MODEL_0603815fa91746a3aa030c456a8df7ea",
            "value": "Map: 100%"
          }
        },
        "367c6e8b352f49a0bd5eeb9875a4a9a5": {
          "model_module": "@jupyter-widgets/controls",
          "model_module_version": "1.5.0",
          "model_name": "HTMLModel",
          "state": {
            "_dom_classes": [],
            "_model_module": "@jupyter-widgets/controls",
            "_model_module_version": "1.5.0",
            "_model_name": "HTMLModel",
            "_view_count": null,
            "_view_module": "@jupyter-widgets/controls",
            "_view_module_version": "1.5.0",
            "_view_name": "HTMLView",
            "description": "",
            "description_tooltip": null,
            "layout": "IPY_MODEL_cdd6970f3bc047159ff4caaed6668539",
            "placeholder": "​",
            "style": "IPY_MODEL_77560fe53a3c46aa9661761491de3410",
            "value": " 801402/801402 [00:02&lt;00:00, 254835.88 examples/s]"
          }
        },
        "368119c26ac1481db47d9f2309e7d70b": {
          "model_module": "@jupyter-widgets/base",
          "model_module_version": "1.2.0",
          "model_name": "LayoutModel",
          "state": {
            "_model_module": "@jupyter-widgets/base",
            "_model_module_version": "1.2.0",
            "_model_name": "LayoutModel",
            "_view_count": null,
            "_view_module": "@jupyter-widgets/base",
            "_view_module_version": "1.2.0",
            "_view_name": "LayoutView",
            "align_content": null,
            "align_items": null,
            "align_self": null,
            "border": null,
            "bottom": null,
            "display": null,
            "flex": null,
            "flex_flow": null,
            "grid_area": null,
            "grid_auto_columns": null,
            "grid_auto_flow": null,
            "grid_auto_rows": null,
            "grid_column": null,
            "grid_gap": null,
            "grid_row": null,
            "grid_template_areas": null,
            "grid_template_columns": null,
            "grid_template_rows": null,
            "height": null,
            "justify_content": null,
            "justify_items": null,
            "left": null,
            "margin": null,
            "max_height": null,
            "max_width": null,
            "min_height": null,
            "min_width": null,
            "object_fit": null,
            "object_position": null,
            "order": null,
            "overflow": null,
            "overflow_x": null,
            "overflow_y": null,
            "padding": null,
            "right": null,
            "top": null,
            "visibility": null,
            "width": null
          }
        },
        "37333a312f744206970aae7080981733": {
          "model_module": "@jupyter-widgets/controls",
          "model_module_version": "1.5.0",
          "model_name": "ProgressStyleModel",
          "state": {
            "_model_module": "@jupyter-widgets/controls",
            "_model_module_version": "1.5.0",
            "_model_name": "ProgressStyleModel",
            "_view_count": null,
            "_view_module": "@jupyter-widgets/base",
            "_view_module_version": "1.2.0",
            "_view_name": "StyleView",
            "bar_color": null,
            "description_width": ""
          }
        },
        "37361fcd8bf64811b79e915de6fff882": {
          "model_module": "@jupyter-widgets/controls",
          "model_module_version": "1.5.0",
          "model_name": "HBoxModel",
          "state": {
            "_dom_classes": [],
            "_model_module": "@jupyter-widgets/controls",
            "_model_module_version": "1.5.0",
            "_model_name": "HBoxModel",
            "_view_count": null,
            "_view_module": "@jupyter-widgets/controls",
            "_view_module_version": "1.5.0",
            "_view_name": "HBoxView",
            "box_style": "",
            "children": [
              "IPY_MODEL_08d7001ca0af4bafa66c0c30e28c3895",
              "IPY_MODEL_8f50cfe2b77845aa9a0eddced8cc2068",
              "IPY_MODEL_af8107d8fd4c4fd486240649615928ac"
            ],
            "layout": "IPY_MODEL_820acc9460af4d3c8b2137ccf8fea63e"
          }
        },
        "394b93a3adfc41fbb1ed661364f8b020": {
          "model_module": "@jupyter-widgets/base",
          "model_module_version": "1.2.0",
          "model_name": "LayoutModel",
          "state": {
            "_model_module": "@jupyter-widgets/base",
            "_model_module_version": "1.2.0",
            "_model_name": "LayoutModel",
            "_view_count": null,
            "_view_module": "@jupyter-widgets/base",
            "_view_module_version": "1.2.0",
            "_view_name": "LayoutView",
            "align_content": null,
            "align_items": null,
            "align_self": null,
            "border": null,
            "bottom": null,
            "display": null,
            "flex": null,
            "flex_flow": null,
            "grid_area": null,
            "grid_auto_columns": null,
            "grid_auto_flow": null,
            "grid_auto_rows": null,
            "grid_column": null,
            "grid_gap": null,
            "grid_row": null,
            "grid_template_areas": null,
            "grid_template_columns": null,
            "grid_template_rows": null,
            "height": null,
            "justify_content": null,
            "justify_items": null,
            "left": null,
            "margin": null,
            "max_height": null,
            "max_width": null,
            "min_height": null,
            "min_width": null,
            "object_fit": null,
            "object_position": null,
            "order": null,
            "overflow": null,
            "overflow_x": null,
            "overflow_y": null,
            "padding": null,
            "right": null,
            "top": null,
            "visibility": null,
            "width": null
          }
        },
        "3a4891327b3d49479ef70bf3924f87f2": {
          "model_module": "@jupyter-widgets/base",
          "model_module_version": "1.2.0",
          "model_name": "LayoutModel",
          "state": {
            "_model_module": "@jupyter-widgets/base",
            "_model_module_version": "1.2.0",
            "_model_name": "LayoutModel",
            "_view_count": null,
            "_view_module": "@jupyter-widgets/base",
            "_view_module_version": "1.2.0",
            "_view_name": "LayoutView",
            "align_content": null,
            "align_items": null,
            "align_self": null,
            "border": null,
            "bottom": null,
            "display": null,
            "flex": null,
            "flex_flow": null,
            "grid_area": null,
            "grid_auto_columns": null,
            "grid_auto_flow": null,
            "grid_auto_rows": null,
            "grid_column": null,
            "grid_gap": null,
            "grid_row": null,
            "grid_template_areas": null,
            "grid_template_columns": null,
            "grid_template_rows": null,
            "height": null,
            "justify_content": null,
            "justify_items": null,
            "left": null,
            "margin": null,
            "max_height": null,
            "max_width": null,
            "min_height": null,
            "min_width": null,
            "object_fit": null,
            "object_position": null,
            "order": null,
            "overflow": null,
            "overflow_x": null,
            "overflow_y": null,
            "padding": null,
            "right": null,
            "top": null,
            "visibility": null,
            "width": null
          }
        },
        "3b2869d14dd8459f877898eed0ff615a": {
          "model_module": "@jupyter-widgets/controls",
          "model_module_version": "1.5.0",
          "model_name": "HTMLModel",
          "state": {
            "_dom_classes": [],
            "_model_module": "@jupyter-widgets/controls",
            "_model_module_version": "1.5.0",
            "_model_name": "HTMLModel",
            "_view_count": null,
            "_view_module": "@jupyter-widgets/controls",
            "_view_module_version": "1.5.0",
            "_view_name": "HTMLView",
            "description": "",
            "description_tooltip": null,
            "layout": "IPY_MODEL_90d7a11e8b224c49b6d975091356120a",
            "placeholder": "​",
            "style": "IPY_MODEL_9d12785168a74bf890ff1c559a41dd07",
            "value": " 5000/5000 [00:02&lt;00:00, 2307.74 examples/s]"
          }
        },
        "3c14dccb5f5546de9f5435b7db33f28b": {
          "model_module": "@jupyter-widgets/controls",
          "model_module_version": "1.5.0",
          "model_name": "DescriptionStyleModel",
          "state": {
            "_model_module": "@jupyter-widgets/controls",
            "_model_module_version": "1.5.0",
            "_model_name": "DescriptionStyleModel",
            "_view_count": null,
            "_view_module": "@jupyter-widgets/base",
            "_view_module_version": "1.2.0",
            "_view_name": "StyleView",
            "description_width": ""
          }
        },
        "3c510b6f99374b218320ea64155988fa": {
          "model_module": "@jupyter-widgets/controls",
          "model_module_version": "1.5.0",
          "model_name": "FloatProgressModel",
          "state": {
            "_dom_classes": [],
            "_model_module": "@jupyter-widgets/controls",
            "_model_module_version": "1.5.0",
            "_model_name": "FloatProgressModel",
            "_view_count": null,
            "_view_module": "@jupyter-widgets/controls",
            "_view_module_version": "1.5.0",
            "_view_name": "ProgressView",
            "bar_style": "success",
            "description": "",
            "description_tooltip": null,
            "layout": "IPY_MODEL_ef321ce314924da1bd15e5c438c81587",
            "max": 5000,
            "min": 0,
            "orientation": "horizontal",
            "style": "IPY_MODEL_9ff4a1ccb6ad4a9db55668e57b5fce88",
            "value": 5000
          }
        },
        "3c9a04f40e974545b4d1715db95ca9db": {
          "model_module": "@jupyter-widgets/base",
          "model_module_version": "1.2.0",
          "model_name": "LayoutModel",
          "state": {
            "_model_module": "@jupyter-widgets/base",
            "_model_module_version": "1.2.0",
            "_model_name": "LayoutModel",
            "_view_count": null,
            "_view_module": "@jupyter-widgets/base",
            "_view_module_version": "1.2.0",
            "_view_name": "LayoutView",
            "align_content": null,
            "align_items": null,
            "align_self": null,
            "border": null,
            "bottom": null,
            "display": null,
            "flex": null,
            "flex_flow": null,
            "grid_area": null,
            "grid_auto_columns": null,
            "grid_auto_flow": null,
            "grid_auto_rows": null,
            "grid_column": null,
            "grid_gap": null,
            "grid_row": null,
            "grid_template_areas": null,
            "grid_template_columns": null,
            "grid_template_rows": null,
            "height": null,
            "justify_content": null,
            "justify_items": null,
            "left": null,
            "margin": null,
            "max_height": null,
            "max_width": null,
            "min_height": null,
            "min_width": null,
            "object_fit": null,
            "object_position": null,
            "order": null,
            "overflow": null,
            "overflow_x": null,
            "overflow_y": null,
            "padding": null,
            "right": null,
            "top": null,
            "visibility": null,
            "width": null
          }
        },
        "3dcca18389444f369665c796329046d6": {
          "model_module": "@jupyter-widgets/controls",
          "model_module_version": "1.5.0",
          "model_name": "HTMLModel",
          "state": {
            "_dom_classes": [],
            "_model_module": "@jupyter-widgets/controls",
            "_model_module_version": "1.5.0",
            "_model_name": "HTMLModel",
            "_view_count": null,
            "_view_module": "@jupyter-widgets/controls",
            "_view_module_version": "1.5.0",
            "_view_name": "HTMLView",
            "description": "",
            "description_tooltip": null,
            "layout": "IPY_MODEL_41406796ad7b478da6ad7f4752b648ea",
            "placeholder": "​",
            "style": "IPY_MODEL_61e525baed774a2cbce62299f09d3ad6",
            "value": "Generating validation split: 100%"
          }
        },
        "3dccf5a9008449fdb6c535e6ac056665": {
          "model_module": "@jupyter-widgets/controls",
          "model_module_version": "1.5.0",
          "model_name": "HTMLModel",
          "state": {
            "_dom_classes": [],
            "_model_module": "@jupyter-widgets/controls",
            "_model_module_version": "1.5.0",
            "_model_name": "HTMLModel",
            "_view_count": null,
            "_view_module": "@jupyter-widgets/controls",
            "_view_module_version": "1.5.0",
            "_view_name": "HTMLView",
            "description": "",
            "description_tooltip": null,
            "layout": "IPY_MODEL_8f1545e424864912aa366754277b0aff",
            "placeholder": "​",
            "style": "IPY_MODEL_56a446ad6f1348bf8e612bc3bdf1768d",
            "value": " 5000/5000 [00:00&lt;00:00, 6735.11 examples/s]"
          }
        },
        "3dd1e0dd3a7640a1828acb9c991bb2a9": {
          "model_module": "@jupyter-widgets/controls",
          "model_module_version": "1.5.0",
          "model_name": "FloatProgressModel",
          "state": {
            "_dom_classes": [],
            "_model_module": "@jupyter-widgets/controls",
            "_model_module_version": "1.5.0",
            "_model_name": "FloatProgressModel",
            "_view_count": null,
            "_view_module": "@jupyter-widgets/controls",
            "_view_module_version": "1.5.0",
            "_view_name": "ProgressView",
            "bar_style": "success",
            "description": "",
            "description_tooltip": null,
            "layout": "IPY_MODEL_7bdf3e7478ab4ab7a778fab5b308fd36",
            "max": 5000,
            "min": 0,
            "orientation": "horizontal",
            "style": "IPY_MODEL_dc266b914b554db2880509d2fcdcc9a6",
            "value": 5000
          }
        },
        "3deef61755a4408c86db8d1b0295cca4": {
          "model_module": "@jupyter-widgets/base",
          "model_module_version": "1.2.0",
          "model_name": "LayoutModel",
          "state": {
            "_model_module": "@jupyter-widgets/base",
            "_model_module_version": "1.2.0",
            "_model_name": "LayoutModel",
            "_view_count": null,
            "_view_module": "@jupyter-widgets/base",
            "_view_module_version": "1.2.0",
            "_view_name": "LayoutView",
            "align_content": null,
            "align_items": null,
            "align_self": null,
            "border": null,
            "bottom": null,
            "display": null,
            "flex": null,
            "flex_flow": null,
            "grid_area": null,
            "grid_auto_columns": null,
            "grid_auto_flow": null,
            "grid_auto_rows": null,
            "grid_column": null,
            "grid_gap": null,
            "grid_row": null,
            "grid_template_areas": null,
            "grid_template_columns": null,
            "grid_template_rows": null,
            "height": null,
            "justify_content": null,
            "justify_items": null,
            "left": null,
            "margin": null,
            "max_height": null,
            "max_width": null,
            "min_height": null,
            "min_width": null,
            "object_fit": null,
            "object_position": null,
            "order": null,
            "overflow": null,
            "overflow_x": null,
            "overflow_y": null,
            "padding": null,
            "right": null,
            "top": null,
            "visibility": null,
            "width": null
          }
        },
        "41406796ad7b478da6ad7f4752b648ea": {
          "model_module": "@jupyter-widgets/base",
          "model_module_version": "1.2.0",
          "model_name": "LayoutModel",
          "state": {
            "_model_module": "@jupyter-widgets/base",
            "_model_module_version": "1.2.0",
            "_model_name": "LayoutModel",
            "_view_count": null,
            "_view_module": "@jupyter-widgets/base",
            "_view_module_version": "1.2.0",
            "_view_name": "LayoutView",
            "align_content": null,
            "align_items": null,
            "align_self": null,
            "border": null,
            "bottom": null,
            "display": null,
            "flex": null,
            "flex_flow": null,
            "grid_area": null,
            "grid_auto_columns": null,
            "grid_auto_flow": null,
            "grid_auto_rows": null,
            "grid_column": null,
            "grid_gap": null,
            "grid_row": null,
            "grid_template_areas": null,
            "grid_template_columns": null,
            "grid_template_rows": null,
            "height": null,
            "justify_content": null,
            "justify_items": null,
            "left": null,
            "margin": null,
            "max_height": null,
            "max_width": null,
            "min_height": null,
            "min_width": null,
            "object_fit": null,
            "object_position": null,
            "order": null,
            "overflow": null,
            "overflow_x": null,
            "overflow_y": null,
            "padding": null,
            "right": null,
            "top": null,
            "visibility": null,
            "width": null
          }
        },
        "415bbe3551ca483eabe3fab05458c154": {
          "model_module": "@jupyter-widgets/base",
          "model_module_version": "1.2.0",
          "model_name": "LayoutModel",
          "state": {
            "_model_module": "@jupyter-widgets/base",
            "_model_module_version": "1.2.0",
            "_model_name": "LayoutModel",
            "_view_count": null,
            "_view_module": "@jupyter-widgets/base",
            "_view_module_version": "1.2.0",
            "_view_name": "LayoutView",
            "align_content": null,
            "align_items": null,
            "align_self": null,
            "border": null,
            "bottom": null,
            "display": null,
            "flex": null,
            "flex_flow": null,
            "grid_area": null,
            "grid_auto_columns": null,
            "grid_auto_flow": null,
            "grid_auto_rows": null,
            "grid_column": null,
            "grid_gap": null,
            "grid_row": null,
            "grid_template_areas": null,
            "grid_template_columns": null,
            "grid_template_rows": null,
            "height": null,
            "justify_content": null,
            "justify_items": null,
            "left": null,
            "margin": null,
            "max_height": null,
            "max_width": null,
            "min_height": null,
            "min_width": null,
            "object_fit": null,
            "object_position": null,
            "order": null,
            "overflow": null,
            "overflow_x": null,
            "overflow_y": null,
            "padding": null,
            "right": null,
            "top": null,
            "visibility": null,
            "width": null
          }
        },
        "416e51aa26b04f1a97ee8d17949e8823": {
          "model_module": "@jupyter-widgets/controls",
          "model_module_version": "1.5.0",
          "model_name": "HBoxModel",
          "state": {
            "_dom_classes": [],
            "_model_module": "@jupyter-widgets/controls",
            "_model_module_version": "1.5.0",
            "_model_name": "HBoxModel",
            "_view_count": null,
            "_view_module": "@jupyter-widgets/controls",
            "_view_module_version": "1.5.0",
            "_view_name": "HBoxView",
            "box_style": "",
            "children": [
              "IPY_MODEL_1c4f4a32d42a4884bdbd98014de7320c",
              "IPY_MODEL_fac588a418a2485487d8a4f56ff28f36",
              "IPY_MODEL_125b7baaebd341b6b8625fa50ba312a6"
            ],
            "layout": "IPY_MODEL_788110744ec44e3a99d001244cd4cc3f"
          }
        },
        "43130dd1562f4201be07109970e829e2": {
          "model_module": "@jupyter-widgets/controls",
          "model_module_version": "1.5.0",
          "model_name": "HTMLModel",
          "state": {
            "_dom_classes": [],
            "_model_module": "@jupyter-widgets/controls",
            "_model_module_version": "1.5.0",
            "_model_name": "HTMLModel",
            "_view_count": null,
            "_view_module": "@jupyter-widgets/controls",
            "_view_module_version": "1.5.0",
            "_view_name": "HTMLView",
            "description": "",
            "description_tooltip": null,
            "layout": "IPY_MODEL_bb3ecf2ae7374440a01a8f1817976651",
            "placeholder": "​",
            "style": "IPY_MODEL_6efd8a99a31446ca879f0cd200d1ef0b",
            "value": " 801402/801402 [00:13&lt;00:00, 59595.92 examples/s]"
          }
        },
        "4354d1a0d9c141d1801845aad4bdadcf": {
          "model_module": "@jupyter-widgets/controls",
          "model_module_version": "1.5.0",
          "model_name": "HBoxModel",
          "state": {
            "_dom_classes": [],
            "_model_module": "@jupyter-widgets/controls",
            "_model_module_version": "1.5.0",
            "_model_name": "HBoxModel",
            "_view_count": null,
            "_view_module": "@jupyter-widgets/controls",
            "_view_module_version": "1.5.0",
            "_view_name": "HBoxView",
            "box_style": "",
            "children": [
              "IPY_MODEL_ed28a29776104045b21a2842bbfc9aac",
              "IPY_MODEL_7e27318919f748949963d419716c4d22",
              "IPY_MODEL_3dccf5a9008449fdb6c535e6ac056665"
            ],
            "layout": "IPY_MODEL_992f38cea1614d26b1535cf3c11c210f"
          }
        },
        "4732f714f5754d1c8a4d48381ad08478": {
          "model_module": "@jupyter-widgets/controls",
          "model_module_version": "1.5.0",
          "model_name": "FloatProgressModel",
          "state": {
            "_dom_classes": [],
            "_model_module": "@jupyter-widgets/controls",
            "_model_module_version": "1.5.0",
            "_model_name": "FloatProgressModel",
            "_view_count": null,
            "_view_module": "@jupyter-widgets/controls",
            "_view_module_version": "1.5.0",
            "_view_name": "ProgressView",
            "bar_style": "success",
            "description": "",
            "description_tooltip": null,
            "layout": "IPY_MODEL_18df117699984f01bc8a4abd5b3ef970",
            "max": 26590196,
            "min": 0,
            "orientation": "horizontal",
            "style": "IPY_MODEL_820b4e99ba7a4b8b9ebadda1b32667c5",
            "value": 26590196
          }
        },
        "477ef808ec96442d8af9809372a7f9a5": {
          "model_module": "@jupyter-widgets/base",
          "model_module_version": "1.2.0",
          "model_name": "LayoutModel",
          "state": {
            "_model_module": "@jupyter-widgets/base",
            "_model_module_version": "1.2.0",
            "_model_name": "LayoutModel",
            "_view_count": null,
            "_view_module": "@jupyter-widgets/base",
            "_view_module_version": "1.2.0",
            "_view_name": "LayoutView",
            "align_content": null,
            "align_items": null,
            "align_self": null,
            "border": null,
            "bottom": null,
            "display": null,
            "flex": null,
            "flex_flow": null,
            "grid_area": null,
            "grid_auto_columns": null,
            "grid_auto_flow": null,
            "grid_auto_rows": null,
            "grid_column": null,
            "grid_gap": null,
            "grid_row": null,
            "grid_template_areas": null,
            "grid_template_columns": null,
            "grid_template_rows": null,
            "height": null,
            "justify_content": null,
            "justify_items": null,
            "left": null,
            "margin": null,
            "max_height": null,
            "max_width": null,
            "min_height": null,
            "min_width": null,
            "object_fit": null,
            "object_position": null,
            "order": null,
            "overflow": null,
            "overflow_x": null,
            "overflow_y": null,
            "padding": null,
            "right": null,
            "top": null,
            "visibility": null,
            "width": null
          }
        },
        "486d53ca29934720bc525bf57e2fec5e": {
          "model_module": "@jupyter-widgets/controls",
          "model_module_version": "1.5.0",
          "model_name": "DescriptionStyleModel",
          "state": {
            "_model_module": "@jupyter-widgets/controls",
            "_model_module_version": "1.5.0",
            "_model_name": "DescriptionStyleModel",
            "_view_count": null,
            "_view_module": "@jupyter-widgets/base",
            "_view_module_version": "1.2.0",
            "_view_name": "StyleView",
            "description_width": ""
          }
        },
        "4d080e05336e44cea4e26a119492867b": {
          "model_module": "@jupyter-widgets/controls",
          "model_module_version": "1.5.0",
          "model_name": "FloatProgressModel",
          "state": {
            "_dom_classes": [],
            "_model_module": "@jupyter-widgets/controls",
            "_model_module_version": "1.5.0",
            "_model_name": "FloatProgressModel",
            "_view_count": null,
            "_view_module": "@jupyter-widgets/controls",
            "_view_module_version": "1.5.0",
            "_view_name": "ProgressView",
            "bar_style": "success",
            "description": "",
            "description_tooltip": null,
            "layout": "IPY_MODEL_bd08eade14604b7083bdaaf378175a4f",
            "max": 100173,
            "min": 0,
            "orientation": "horizontal",
            "style": "IPY_MODEL_877900b42ad6433eb8732614fe3757c8",
            "value": 100173
          }
        },
        "4e8bb82809614fc1bc3b0bef01d3b80d": {
          "model_module": "@jupyter-widgets/base",
          "model_module_version": "1.2.0",
          "model_name": "LayoutModel",
          "state": {
            "_model_module": "@jupyter-widgets/base",
            "_model_module_version": "1.2.0",
            "_model_name": "LayoutModel",
            "_view_count": null,
            "_view_module": "@jupyter-widgets/base",
            "_view_module_version": "1.2.0",
            "_view_name": "LayoutView",
            "align_content": null,
            "align_items": null,
            "align_self": null,
            "border": null,
            "bottom": null,
            "display": null,
            "flex": null,
            "flex_flow": null,
            "grid_area": null,
            "grid_auto_columns": null,
            "grid_auto_flow": null,
            "grid_auto_rows": null,
            "grid_column": null,
            "grid_gap": null,
            "grid_row": null,
            "grid_template_areas": null,
            "grid_template_columns": null,
            "grid_template_rows": null,
            "height": null,
            "justify_content": null,
            "justify_items": null,
            "left": null,
            "margin": null,
            "max_height": null,
            "max_width": null,
            "min_height": null,
            "min_width": null,
            "object_fit": null,
            "object_position": null,
            "order": null,
            "overflow": null,
            "overflow_x": null,
            "overflow_y": null,
            "padding": null,
            "right": null,
            "top": null,
            "visibility": null,
            "width": null
          }
        },
        "4ea6e51013954eca9841f6fd2de1fc76": {
          "model_module": "@jupyter-widgets/controls",
          "model_module_version": "1.5.0",
          "model_name": "DescriptionStyleModel",
          "state": {
            "_model_module": "@jupyter-widgets/controls",
            "_model_module_version": "1.5.0",
            "_model_name": "DescriptionStyleModel",
            "_view_count": null,
            "_view_module": "@jupyter-widgets/base",
            "_view_module_version": "1.2.0",
            "_view_name": "StyleView",
            "description_width": ""
          }
        },
        "50ddace5be4d432cac73c1c46c218122": {
          "model_module": "@jupyter-widgets/controls",
          "model_module_version": "1.5.0",
          "model_name": "HTMLModel",
          "state": {
            "_dom_classes": [],
            "_model_module": "@jupyter-widgets/controls",
            "_model_module_version": "1.5.0",
            "_model_name": "HTMLModel",
            "_view_count": null,
            "_view_module": "@jupyter-widgets/controls",
            "_view_module_version": "1.5.0",
            "_view_name": "HTMLView",
            "description": "",
            "description_tooltip": null,
            "layout": "IPY_MODEL_f1d76af7143d44a7893758b7683deeca",
            "placeholder": "​",
            "style": "IPY_MODEL_e65a5bb75c684be3b980381f94bf246a",
            "value": " 5000/5000 [00:05&lt;00:00, 296.47 examples/s]"
          }
        },
        "5206d064c1b6498387408ddb46bb00ec": {
          "model_module": "@jupyter-widgets/controls",
          "model_module_version": "1.5.0",
          "model_name": "DescriptionStyleModel",
          "state": {
            "_model_module": "@jupyter-widgets/controls",
            "_model_module_version": "1.5.0",
            "_model_name": "DescriptionStyleModel",
            "_view_count": null,
            "_view_module": "@jupyter-widgets/base",
            "_view_module_version": "1.2.0",
            "_view_name": "StyleView",
            "description_width": ""
          }
        },
        "5383f7fd1d2e4010ad17929048e3d030": {
          "model_module": "@jupyter-widgets/controls",
          "model_module_version": "1.5.0",
          "model_name": "DescriptionStyleModel",
          "state": {
            "_model_module": "@jupyter-widgets/controls",
            "_model_module_version": "1.5.0",
            "_model_name": "DescriptionStyleModel",
            "_view_count": null,
            "_view_module": "@jupyter-widgets/base",
            "_view_module_version": "1.2.0",
            "_view_name": "StyleView",
            "description_width": ""
          }
        },
        "543c6b38dfab46419028d97431d4f027": {
          "model_module": "@jupyter-widgets/base",
          "model_module_version": "1.2.0",
          "model_name": "LayoutModel",
          "state": {
            "_model_module": "@jupyter-widgets/base",
            "_model_module_version": "1.2.0",
            "_model_name": "LayoutModel",
            "_view_count": null,
            "_view_module": "@jupyter-widgets/base",
            "_view_module_version": "1.2.0",
            "_view_name": "LayoutView",
            "align_content": null,
            "align_items": null,
            "align_self": null,
            "border": null,
            "bottom": null,
            "display": null,
            "flex": null,
            "flex_flow": null,
            "grid_area": null,
            "grid_auto_columns": null,
            "grid_auto_flow": null,
            "grid_auto_rows": null,
            "grid_column": null,
            "grid_gap": null,
            "grid_row": null,
            "grid_template_areas": null,
            "grid_template_columns": null,
            "grid_template_rows": null,
            "height": null,
            "justify_content": null,
            "justify_items": null,
            "left": null,
            "margin": null,
            "max_height": null,
            "max_width": null,
            "min_height": null,
            "min_width": null,
            "object_fit": null,
            "object_position": null,
            "order": null,
            "overflow": null,
            "overflow_x": null,
            "overflow_y": null,
            "padding": null,
            "right": null,
            "top": null,
            "visibility": null,
            "width": null
          }
        },
        "546eb83b78db40a48d206457df369f11": {
          "model_module": "@jupyter-widgets/base",
          "model_module_version": "1.2.0",
          "model_name": "LayoutModel",
          "state": {
            "_model_module": "@jupyter-widgets/base",
            "_model_module_version": "1.2.0",
            "_model_name": "LayoutModel",
            "_view_count": null,
            "_view_module": "@jupyter-widgets/base",
            "_view_module_version": "1.2.0",
            "_view_name": "LayoutView",
            "align_content": null,
            "align_items": null,
            "align_self": null,
            "border": null,
            "bottom": null,
            "display": null,
            "flex": null,
            "flex_flow": null,
            "grid_area": null,
            "grid_auto_columns": null,
            "grid_auto_flow": null,
            "grid_auto_rows": null,
            "grid_column": null,
            "grid_gap": null,
            "grid_row": null,
            "grid_template_areas": null,
            "grid_template_columns": null,
            "grid_template_rows": null,
            "height": null,
            "justify_content": null,
            "justify_items": null,
            "left": null,
            "margin": null,
            "max_height": null,
            "max_width": null,
            "min_height": null,
            "min_width": null,
            "object_fit": null,
            "object_position": null,
            "order": null,
            "overflow": null,
            "overflow_x": null,
            "overflow_y": null,
            "padding": null,
            "right": null,
            "top": null,
            "visibility": null,
            "width": null
          }
        },
        "551f3ba90e1f429ab710a44a10015619": {
          "model_module": "@jupyter-widgets/controls",
          "model_module_version": "1.5.0",
          "model_name": "HTMLModel",
          "state": {
            "_dom_classes": [],
            "_model_module": "@jupyter-widgets/controls",
            "_model_module_version": "1.5.0",
            "_model_name": "HTMLModel",
            "_view_count": null,
            "_view_module": "@jupyter-widgets/controls",
            "_view_module_version": "1.5.0",
            "_view_name": "HTMLView",
            "description": "",
            "description_tooltip": null,
            "layout": "IPY_MODEL_328dd111c8754bf28e9e2e765e054b24",
            "placeholder": "​",
            "style": "IPY_MODEL_978295de356744579fc1f58962d9b89c",
            "value": "Generating train split: 100%"
          }
        },
        "56a446ad6f1348bf8e612bc3bdf1768d": {
          "model_module": "@jupyter-widgets/controls",
          "model_module_version": "1.5.0",
          "model_name": "DescriptionStyleModel",
          "state": {
            "_model_module": "@jupyter-widgets/controls",
            "_model_module_version": "1.5.0",
            "_model_name": "DescriptionStyleModel",
            "_view_count": null,
            "_view_module": "@jupyter-widgets/base",
            "_view_module_version": "1.2.0",
            "_view_name": "StyleView",
            "description_width": ""
          }
        },
        "593814108c3d4286b81839e43cff13fb": {
          "model_module": "@jupyter-widgets/controls",
          "model_module_version": "1.5.0",
          "model_name": "ProgressStyleModel",
          "state": {
            "_model_module": "@jupyter-widgets/controls",
            "_model_module_version": "1.5.0",
            "_model_name": "ProgressStyleModel",
            "_view_count": null,
            "_view_module": "@jupyter-widgets/base",
            "_view_module_version": "1.2.0",
            "_view_name": "StyleView",
            "bar_color": null,
            "description_width": ""
          }
        },
        "59d263b54f67449489018c701d90611a": {
          "model_module": "@jupyter-widgets/controls",
          "model_module_version": "1.5.0",
          "model_name": "ProgressStyleModel",
          "state": {
            "_model_module": "@jupyter-widgets/controls",
            "_model_module_version": "1.5.0",
            "_model_name": "ProgressStyleModel",
            "_view_count": null,
            "_view_module": "@jupyter-widgets/base",
            "_view_module_version": "1.2.0",
            "_view_name": "StyleView",
            "bar_color": null,
            "description_width": ""
          }
        },
        "5a160b70964d40ce8645d358529be295": {
          "model_module": "@jupyter-widgets/controls",
          "model_module_version": "1.5.0",
          "model_name": "FloatProgressModel",
          "state": {
            "_dom_classes": [],
            "_model_module": "@jupyter-widgets/controls",
            "_model_module_version": "1.5.0",
            "_model_name": "FloatProgressModel",
            "_view_count": null,
            "_view_module": "@jupyter-widgets/controls",
            "_view_module_version": "1.5.0",
            "_view_name": "ProgressView",
            "bar_style": "success",
            "description": "",
            "description_tooltip": null,
            "layout": "IPY_MODEL_08bdb3fc9d3345b29024e5d9117bb3ce",
            "max": 5000,
            "min": 0,
            "orientation": "horizontal",
            "style": "IPY_MODEL_b9b8cd0dec914ff182345ea83cfe6ae8",
            "value": 5000
          }
        },
        "5cd2223b876d4c18bb1418ab68bb5893": {
          "model_module": "@jupyter-widgets/base",
          "model_module_version": "1.2.0",
          "model_name": "LayoutModel",
          "state": {
            "_model_module": "@jupyter-widgets/base",
            "_model_module_version": "1.2.0",
            "_model_name": "LayoutModel",
            "_view_count": null,
            "_view_module": "@jupyter-widgets/base",
            "_view_module_version": "1.2.0",
            "_view_name": "LayoutView",
            "align_content": null,
            "align_items": null,
            "align_self": null,
            "border": null,
            "bottom": null,
            "display": null,
            "flex": null,
            "flex_flow": null,
            "grid_area": null,
            "grid_auto_columns": null,
            "grid_auto_flow": null,
            "grid_auto_rows": null,
            "grid_column": null,
            "grid_gap": null,
            "grid_row": null,
            "grid_template_areas": null,
            "grid_template_columns": null,
            "grid_template_rows": null,
            "height": null,
            "justify_content": null,
            "justify_items": null,
            "left": null,
            "margin": null,
            "max_height": null,
            "max_width": null,
            "min_height": null,
            "min_width": null,
            "object_fit": null,
            "object_position": null,
            "order": null,
            "overflow": null,
            "overflow_x": null,
            "overflow_y": null,
            "padding": null,
            "right": null,
            "top": null,
            "visibility": null,
            "width": null
          }
        },
        "5db9f96c9c1e47738ef8095c2d2480b1": {
          "model_module": "@jupyter-widgets/controls",
          "model_module_version": "1.5.0",
          "model_name": "DescriptionStyleModel",
          "state": {
            "_model_module": "@jupyter-widgets/controls",
            "_model_module_version": "1.5.0",
            "_model_name": "DescriptionStyleModel",
            "_view_count": null,
            "_view_module": "@jupyter-widgets/base",
            "_view_module_version": "1.2.0",
            "_view_name": "StyleView",
            "description_width": ""
          }
        },
        "5ee884e9b6db49b296a885389d168e92": {
          "model_module": "@jupyter-widgets/controls",
          "model_module_version": "1.5.0",
          "model_name": "ProgressStyleModel",
          "state": {
            "_model_module": "@jupyter-widgets/controls",
            "_model_module_version": "1.5.0",
            "_model_name": "ProgressStyleModel",
            "_view_count": null,
            "_view_module": "@jupyter-widgets/base",
            "_view_module_version": "1.2.0",
            "_view_name": "StyleView",
            "bar_color": null,
            "description_width": ""
          }
        },
        "5f0015f5be1642b0b4f51c35def814cf": {
          "model_module": "@jupyter-widgets/controls",
          "model_module_version": "1.5.0",
          "model_name": "HTMLModel",
          "state": {
            "_dom_classes": [],
            "_model_module": "@jupyter-widgets/controls",
            "_model_module_version": "1.5.0",
            "_model_name": "HTMLModel",
            "_view_count": null,
            "_view_module": "@jupyter-widgets/controls",
            "_view_module_version": "1.5.0",
            "_view_name": "HTMLView",
            "description": "",
            "description_tooltip": null,
            "layout": "IPY_MODEL_788352c3ce984b48856fed1e502bb6a4",
            "placeholder": "​",
            "style": "IPY_MODEL_ecab627244024e94a585046149070e89",
            "value": " 100177/100177 [00:01&lt;00:00, 57247.15 examples/s]"
          }
        },
        "5fcae91654cf4270b6ebc80d8be67c61": {
          "model_module": "@jupyter-widgets/base",
          "model_module_version": "1.2.0",
          "model_name": "LayoutModel",
          "state": {
            "_model_module": "@jupyter-widgets/base",
            "_model_module_version": "1.2.0",
            "_model_name": "LayoutModel",
            "_view_count": null,
            "_view_module": "@jupyter-widgets/base",
            "_view_module_version": "1.2.0",
            "_view_name": "LayoutView",
            "align_content": null,
            "align_items": null,
            "align_self": null,
            "border": null,
            "bottom": null,
            "display": null,
            "flex": null,
            "flex_flow": null,
            "grid_area": null,
            "grid_auto_columns": null,
            "grid_auto_flow": null,
            "grid_auto_rows": null,
            "grid_column": null,
            "grid_gap": null,
            "grid_row": null,
            "grid_template_areas": null,
            "grid_template_columns": null,
            "grid_template_rows": null,
            "height": null,
            "justify_content": null,
            "justify_items": null,
            "left": null,
            "margin": null,
            "max_height": null,
            "max_width": null,
            "min_height": null,
            "min_width": null,
            "object_fit": null,
            "object_position": null,
            "order": null,
            "overflow": null,
            "overflow_x": null,
            "overflow_y": null,
            "padding": null,
            "right": null,
            "top": null,
            "visibility": null,
            "width": null
          }
        },
        "6070020537c94d47a8df6cd15133d608": {
          "model_module": "@jupyter-widgets/controls",
          "model_module_version": "1.5.0",
          "model_name": "HTMLModel",
          "state": {
            "_dom_classes": [],
            "_model_module": "@jupyter-widgets/controls",
            "_model_module_version": "1.5.0",
            "_model_name": "HTMLModel",
            "_view_count": null,
            "_view_module": "@jupyter-widgets/controls",
            "_view_module_version": "1.5.0",
            "_view_name": "HTMLView",
            "description": "",
            "description_tooltip": null,
            "layout": "IPY_MODEL_f63cbad2293746f4a5948f1f99ce346a",
            "placeholder": "​",
            "style": "IPY_MODEL_2489e0a179504dc89ce61870d84b9dec",
            "value": "Generating test split: 100%"
          }
        },
        "60bcda94c1c44e3fb0c6af2c1cf77f2f": {
          "model_module": "@jupyter-widgets/base",
          "model_module_version": "1.2.0",
          "model_name": "LayoutModel",
          "state": {
            "_model_module": "@jupyter-widgets/base",
            "_model_module_version": "1.2.0",
            "_model_name": "LayoutModel",
            "_view_count": null,
            "_view_module": "@jupyter-widgets/base",
            "_view_module_version": "1.2.0",
            "_view_name": "LayoutView",
            "align_content": null,
            "align_items": null,
            "align_self": null,
            "border": null,
            "bottom": null,
            "display": null,
            "flex": null,
            "flex_flow": null,
            "grid_area": null,
            "grid_auto_columns": null,
            "grid_auto_flow": null,
            "grid_auto_rows": null,
            "grid_column": null,
            "grid_gap": null,
            "grid_row": null,
            "grid_template_areas": null,
            "grid_template_columns": null,
            "grid_template_rows": null,
            "height": null,
            "justify_content": null,
            "justify_items": null,
            "left": null,
            "margin": null,
            "max_height": null,
            "max_width": null,
            "min_height": null,
            "min_width": null,
            "object_fit": null,
            "object_position": null,
            "order": null,
            "overflow": null,
            "overflow_x": null,
            "overflow_y": null,
            "padding": null,
            "right": null,
            "top": null,
            "visibility": null,
            "width": null
          }
        },
        "6120cf27260d47bc912892395c7b68de": {
          "model_module": "@jupyter-widgets/controls",
          "model_module_version": "1.5.0",
          "model_name": "DescriptionStyleModel",
          "state": {
            "_model_module": "@jupyter-widgets/controls",
            "_model_module_version": "1.5.0",
            "_model_name": "DescriptionStyleModel",
            "_view_count": null,
            "_view_module": "@jupyter-widgets/base",
            "_view_module_version": "1.2.0",
            "_view_name": "StyleView",
            "description_width": ""
          }
        },
        "61e525baed774a2cbce62299f09d3ad6": {
          "model_module": "@jupyter-widgets/controls",
          "model_module_version": "1.5.0",
          "model_name": "DescriptionStyleModel",
          "state": {
            "_model_module": "@jupyter-widgets/controls",
            "_model_module_version": "1.5.0",
            "_model_name": "DescriptionStyleModel",
            "_view_count": null,
            "_view_module": "@jupyter-widgets/base",
            "_view_module_version": "1.2.0",
            "_view_name": "StyleView",
            "description_width": ""
          }
        },
        "625cfa706a0a4c748b8355ab0564fd03": {
          "model_module": "@jupyter-widgets/controls",
          "model_module_version": "1.5.0",
          "model_name": "HBoxModel",
          "state": {
            "_dom_classes": [],
            "_model_module": "@jupyter-widgets/controls",
            "_model_module_version": "1.5.0",
            "_model_name": "HBoxModel",
            "_view_count": null,
            "_view_module": "@jupyter-widgets/controls",
            "_view_module_version": "1.5.0",
            "_view_name": "HBoxView",
            "box_style": "",
            "children": [
              "IPY_MODEL_134c8b82947d4c11b7d9ae2d4fe54c3d",
              "IPY_MODEL_95cd4de74b804b92abcee99e0ef594db",
              "IPY_MODEL_aa9b130fb94c48ef82d4411ba638d299"
            ],
            "layout": "IPY_MODEL_c8fbd7873c2c4dca96750813ed9cdd30"
          }
        },
        "640e2c17fb53481ab9b3669f4e17464e": {
          "model_module": "@jupyter-widgets/base",
          "model_module_version": "1.2.0",
          "model_name": "LayoutModel",
          "state": {
            "_model_module": "@jupyter-widgets/base",
            "_model_module_version": "1.2.0",
            "_model_name": "LayoutModel",
            "_view_count": null,
            "_view_module": "@jupyter-widgets/base",
            "_view_module_version": "1.2.0",
            "_view_name": "LayoutView",
            "align_content": null,
            "align_items": null,
            "align_self": null,
            "border": null,
            "bottom": null,
            "display": null,
            "flex": null,
            "flex_flow": null,
            "grid_area": null,
            "grid_auto_columns": null,
            "grid_auto_flow": null,
            "grid_auto_rows": null,
            "grid_column": null,
            "grid_gap": null,
            "grid_row": null,
            "grid_template_areas": null,
            "grid_template_columns": null,
            "grid_template_rows": null,
            "height": null,
            "justify_content": null,
            "justify_items": null,
            "left": null,
            "margin": null,
            "max_height": null,
            "max_width": null,
            "min_height": null,
            "min_width": null,
            "object_fit": null,
            "object_position": null,
            "order": null,
            "overflow": null,
            "overflow_x": null,
            "overflow_y": null,
            "padding": null,
            "right": null,
            "top": null,
            "visibility": null,
            "width": null
          }
        },
        "68983fdfdb85463fa3cfd719ec07cc94": {
          "model_module": "@jupyter-widgets/base",
          "model_module_version": "1.2.0",
          "model_name": "LayoutModel",
          "state": {
            "_model_module": "@jupyter-widgets/base",
            "_model_module_version": "1.2.0",
            "_model_name": "LayoutModel",
            "_view_count": null,
            "_view_module": "@jupyter-widgets/base",
            "_view_module_version": "1.2.0",
            "_view_name": "LayoutView",
            "align_content": null,
            "align_items": null,
            "align_self": null,
            "border": null,
            "bottom": null,
            "display": null,
            "flex": null,
            "flex_flow": null,
            "grid_area": null,
            "grid_auto_columns": null,
            "grid_auto_flow": null,
            "grid_auto_rows": null,
            "grid_column": null,
            "grid_gap": null,
            "grid_row": null,
            "grid_template_areas": null,
            "grid_template_columns": null,
            "grid_template_rows": null,
            "height": null,
            "justify_content": null,
            "justify_items": null,
            "left": null,
            "margin": null,
            "max_height": null,
            "max_width": null,
            "min_height": null,
            "min_width": null,
            "object_fit": null,
            "object_position": null,
            "order": null,
            "overflow": null,
            "overflow_x": null,
            "overflow_y": null,
            "padding": null,
            "right": null,
            "top": null,
            "visibility": null,
            "width": null
          }
        },
        "6965e7e55cff433cb60d36ff5947fa05": {
          "model_module": "@jupyter-widgets/controls",
          "model_module_version": "1.5.0",
          "model_name": "ProgressStyleModel",
          "state": {
            "_model_module": "@jupyter-widgets/controls",
            "_model_module_version": "1.5.0",
            "_model_name": "ProgressStyleModel",
            "_view_count": null,
            "_view_module": "@jupyter-widgets/base",
            "_view_module_version": "1.2.0",
            "_view_name": "StyleView",
            "bar_color": null,
            "description_width": ""
          }
        },
        "6a3f68cdd81f428687e8683daba411ef": {
          "model_module": "@jupyter-widgets/base",
          "model_module_version": "1.2.0",
          "model_name": "LayoutModel",
          "state": {
            "_model_module": "@jupyter-widgets/base",
            "_model_module_version": "1.2.0",
            "_model_name": "LayoutModel",
            "_view_count": null,
            "_view_module": "@jupyter-widgets/base",
            "_view_module_version": "1.2.0",
            "_view_name": "LayoutView",
            "align_content": null,
            "align_items": null,
            "align_self": null,
            "border": null,
            "bottom": null,
            "display": null,
            "flex": null,
            "flex_flow": null,
            "grid_area": null,
            "grid_auto_columns": null,
            "grid_auto_flow": null,
            "grid_auto_rows": null,
            "grid_column": null,
            "grid_gap": null,
            "grid_row": null,
            "grid_template_areas": null,
            "grid_template_columns": null,
            "grid_template_rows": null,
            "height": null,
            "justify_content": null,
            "justify_items": null,
            "left": null,
            "margin": null,
            "max_height": null,
            "max_width": null,
            "min_height": null,
            "min_width": null,
            "object_fit": null,
            "object_position": null,
            "order": null,
            "overflow": null,
            "overflow_x": null,
            "overflow_y": null,
            "padding": null,
            "right": null,
            "top": null,
            "visibility": null,
            "width": null
          }
        },
        "6a4615f4f5d84867952d4a6cc76b2fc6": {
          "model_module": "@jupyter-widgets/controls",
          "model_module_version": "1.5.0",
          "model_name": "DescriptionStyleModel",
          "state": {
            "_model_module": "@jupyter-widgets/controls",
            "_model_module_version": "1.5.0",
            "_model_name": "DescriptionStyleModel",
            "_view_count": null,
            "_view_module": "@jupyter-widgets/base",
            "_view_module_version": "1.2.0",
            "_view_name": "StyleView",
            "description_width": ""
          }
        },
        "6a8db0f5162448799ac747602d9a4c0c": {
          "model_module": "@jupyter-widgets/controls",
          "model_module_version": "1.5.0",
          "model_name": "FloatProgressModel",
          "state": {
            "_dom_classes": [],
            "_model_module": "@jupyter-widgets/controls",
            "_model_module_version": "1.5.0",
            "_model_name": "FloatProgressModel",
            "_view_count": null,
            "_view_module": "@jupyter-widgets/controls",
            "_view_module_version": "1.5.0",
            "_view_name": "ProgressView",
            "bar_style": "success",
            "description": "",
            "description_tooltip": null,
            "layout": "IPY_MODEL_91ffab51fd2b4f9b858d6b77fae8123d",
            "max": 26508245,
            "min": 0,
            "orientation": "horizontal",
            "style": "IPY_MODEL_37333a312f744206970aae7080981733",
            "value": 26508245
          }
        },
        "6b31cb623d204ce1b2ce35fdd50f48e0": {
          "model_module": "@jupyter-widgets/controls",
          "model_module_version": "1.5.0",
          "model_name": "DescriptionStyleModel",
          "state": {
            "_model_module": "@jupyter-widgets/controls",
            "_model_module_version": "1.5.0",
            "_model_name": "DescriptionStyleModel",
            "_view_count": null,
            "_view_module": "@jupyter-widgets/base",
            "_view_module_version": "1.2.0",
            "_view_name": "StyleView",
            "description_width": ""
          }
        },
        "6d5c5b4aad424adbb135ab3bbdbb42e6": {
          "model_module": "@jupyter-widgets/base",
          "model_module_version": "1.2.0",
          "model_name": "LayoutModel",
          "state": {
            "_model_module": "@jupyter-widgets/base",
            "_model_module_version": "1.2.0",
            "_model_name": "LayoutModel",
            "_view_count": null,
            "_view_module": "@jupyter-widgets/base",
            "_view_module_version": "1.2.0",
            "_view_name": "LayoutView",
            "align_content": null,
            "align_items": null,
            "align_self": null,
            "border": null,
            "bottom": null,
            "display": null,
            "flex": null,
            "flex_flow": null,
            "grid_area": null,
            "grid_auto_columns": null,
            "grid_auto_flow": null,
            "grid_auto_rows": null,
            "grid_column": null,
            "grid_gap": null,
            "grid_row": null,
            "grid_template_areas": null,
            "grid_template_columns": null,
            "grid_template_rows": null,
            "height": null,
            "justify_content": null,
            "justify_items": null,
            "left": null,
            "margin": null,
            "max_height": null,
            "max_width": null,
            "min_height": null,
            "min_width": null,
            "object_fit": null,
            "object_position": null,
            "order": null,
            "overflow": null,
            "overflow_x": null,
            "overflow_y": null,
            "padding": null,
            "right": null,
            "top": null,
            "visibility": null,
            "width": null
          }
        },
        "6e9a544a5ec24f919a88b2be9591b43b": {
          "model_module": "@jupyter-widgets/base",
          "model_module_version": "1.2.0",
          "model_name": "LayoutModel",
          "state": {
            "_model_module": "@jupyter-widgets/base",
            "_model_module_version": "1.2.0",
            "_model_name": "LayoutModel",
            "_view_count": null,
            "_view_module": "@jupyter-widgets/base",
            "_view_module_version": "1.2.0",
            "_view_name": "LayoutView",
            "align_content": null,
            "align_items": null,
            "align_self": null,
            "border": null,
            "bottom": null,
            "display": null,
            "flex": null,
            "flex_flow": null,
            "grid_area": null,
            "grid_auto_columns": null,
            "grid_auto_flow": null,
            "grid_auto_rows": null,
            "grid_column": null,
            "grid_gap": null,
            "grid_row": null,
            "grid_template_areas": null,
            "grid_template_columns": null,
            "grid_template_rows": null,
            "height": null,
            "justify_content": null,
            "justify_items": null,
            "left": null,
            "margin": null,
            "max_height": null,
            "max_width": null,
            "min_height": null,
            "min_width": null,
            "object_fit": null,
            "object_position": null,
            "order": null,
            "overflow": null,
            "overflow_x": null,
            "overflow_y": null,
            "padding": null,
            "right": null,
            "top": null,
            "visibility": null,
            "width": null
          }
        },
        "6efd8a99a31446ca879f0cd200d1ef0b": {
          "model_module": "@jupyter-widgets/controls",
          "model_module_version": "1.5.0",
          "model_name": "DescriptionStyleModel",
          "state": {
            "_model_module": "@jupyter-widgets/controls",
            "_model_module_version": "1.5.0",
            "_model_name": "DescriptionStyleModel",
            "_view_count": null,
            "_view_module": "@jupyter-widgets/base",
            "_view_module_version": "1.2.0",
            "_view_name": "StyleView",
            "description_width": ""
          }
        },
        "7034933f3f7b4c16b9c3ad5fdc43dfe8": {
          "model_module": "@jupyter-widgets/controls",
          "model_module_version": "1.5.0",
          "model_name": "DescriptionStyleModel",
          "state": {
            "_model_module": "@jupyter-widgets/controls",
            "_model_module_version": "1.5.0",
            "_model_name": "DescriptionStyleModel",
            "_view_count": null,
            "_view_module": "@jupyter-widgets/base",
            "_view_module_version": "1.2.0",
            "_view_name": "StyleView",
            "description_width": ""
          }
        },
        "712ce1ae54424b8aacfa040dae9d0de7": {
          "model_module": "@jupyter-widgets/controls",
          "model_module_version": "1.5.0",
          "model_name": "DescriptionStyleModel",
          "state": {
            "_model_module": "@jupyter-widgets/controls",
            "_model_module_version": "1.5.0",
            "_model_name": "DescriptionStyleModel",
            "_view_count": null,
            "_view_module": "@jupyter-widgets/base",
            "_view_module_version": "1.2.0",
            "_view_name": "StyleView",
            "description_width": ""
          }
        },
        "72229e25f4934ee0b54c9a14f9ed6ca3": {
          "model_module": "@jupyter-widgets/base",
          "model_module_version": "1.2.0",
          "model_name": "LayoutModel",
          "state": {
            "_model_module": "@jupyter-widgets/base",
            "_model_module_version": "1.2.0",
            "_model_name": "LayoutModel",
            "_view_count": null,
            "_view_module": "@jupyter-widgets/base",
            "_view_module_version": "1.2.0",
            "_view_name": "LayoutView",
            "align_content": null,
            "align_items": null,
            "align_self": null,
            "border": null,
            "bottom": null,
            "display": null,
            "flex": null,
            "flex_flow": null,
            "grid_area": null,
            "grid_auto_columns": null,
            "grid_auto_flow": null,
            "grid_auto_rows": null,
            "grid_column": null,
            "grid_gap": null,
            "grid_row": null,
            "grid_template_areas": null,
            "grid_template_columns": null,
            "grid_template_rows": null,
            "height": null,
            "justify_content": null,
            "justify_items": null,
            "left": null,
            "margin": null,
            "max_height": null,
            "max_width": null,
            "min_height": null,
            "min_width": null,
            "object_fit": null,
            "object_position": null,
            "order": null,
            "overflow": null,
            "overflow_x": null,
            "overflow_y": null,
            "padding": null,
            "right": null,
            "top": null,
            "visibility": null,
            "width": null
          }
        },
        "72c19d24164247d792fb11c32876bcfc": {
          "model_module": "@jupyter-widgets/controls",
          "model_module_version": "1.5.0",
          "model_name": "DescriptionStyleModel",
          "state": {
            "_model_module": "@jupyter-widgets/controls",
            "_model_module_version": "1.5.0",
            "_model_name": "DescriptionStyleModel",
            "_view_count": null,
            "_view_module": "@jupyter-widgets/base",
            "_view_module_version": "1.2.0",
            "_view_name": "StyleView",
            "description_width": ""
          }
        },
        "73bfbf24abfa4112bb6dab67659b1413": {
          "model_module": "@jupyter-widgets/base",
          "model_module_version": "1.2.0",
          "model_name": "LayoutModel",
          "state": {
            "_model_module": "@jupyter-widgets/base",
            "_model_module_version": "1.2.0",
            "_model_name": "LayoutModel",
            "_view_count": null,
            "_view_module": "@jupyter-widgets/base",
            "_view_module_version": "1.2.0",
            "_view_name": "LayoutView",
            "align_content": null,
            "align_items": null,
            "align_self": null,
            "border": null,
            "bottom": null,
            "display": null,
            "flex": null,
            "flex_flow": null,
            "grid_area": null,
            "grid_auto_columns": null,
            "grid_auto_flow": null,
            "grid_auto_rows": null,
            "grid_column": null,
            "grid_gap": null,
            "grid_row": null,
            "grid_template_areas": null,
            "grid_template_columns": null,
            "grid_template_rows": null,
            "height": null,
            "justify_content": null,
            "justify_items": null,
            "left": null,
            "margin": null,
            "max_height": null,
            "max_width": null,
            "min_height": null,
            "min_width": null,
            "object_fit": null,
            "object_position": null,
            "order": null,
            "overflow": null,
            "overflow_x": null,
            "overflow_y": null,
            "padding": null,
            "right": null,
            "top": null,
            "visibility": null,
            "width": null
          }
        },
        "759a9117d0964451b0a071d69b3505c9": {
          "model_module": "@jupyter-widgets/controls",
          "model_module_version": "1.5.0",
          "model_name": "DescriptionStyleModel",
          "state": {
            "_model_module": "@jupyter-widgets/controls",
            "_model_module_version": "1.5.0",
            "_model_name": "DescriptionStyleModel",
            "_view_count": null,
            "_view_module": "@jupyter-widgets/base",
            "_view_module_version": "1.2.0",
            "_view_name": "StyleView",
            "description_width": ""
          }
        },
        "77560fe53a3c46aa9661761491de3410": {
          "model_module": "@jupyter-widgets/controls",
          "model_module_version": "1.5.0",
          "model_name": "DescriptionStyleModel",
          "state": {
            "_model_module": "@jupyter-widgets/controls",
            "_model_module_version": "1.5.0",
            "_model_name": "DescriptionStyleModel",
            "_view_count": null,
            "_view_module": "@jupyter-widgets/base",
            "_view_module_version": "1.2.0",
            "_view_name": "StyleView",
            "description_width": ""
          }
        },
        "7833a7e3912541aa9d531e7c4614f9a8": {
          "model_module": "@jupyter-widgets/controls",
          "model_module_version": "1.5.0",
          "model_name": "DescriptionStyleModel",
          "state": {
            "_model_module": "@jupyter-widgets/controls",
            "_model_module_version": "1.5.0",
            "_model_name": "DescriptionStyleModel",
            "_view_count": null,
            "_view_module": "@jupyter-widgets/base",
            "_view_module_version": "1.2.0",
            "_view_name": "StyleView",
            "description_width": ""
          }
        },
        "788110744ec44e3a99d001244cd4cc3f": {
          "model_module": "@jupyter-widgets/base",
          "model_module_version": "1.2.0",
          "model_name": "LayoutModel",
          "state": {
            "_model_module": "@jupyter-widgets/base",
            "_model_module_version": "1.2.0",
            "_model_name": "LayoutModel",
            "_view_count": null,
            "_view_module": "@jupyter-widgets/base",
            "_view_module_version": "1.2.0",
            "_view_name": "LayoutView",
            "align_content": null,
            "align_items": null,
            "align_self": null,
            "border": null,
            "bottom": null,
            "display": null,
            "flex": null,
            "flex_flow": null,
            "grid_area": null,
            "grid_auto_columns": null,
            "grid_auto_flow": null,
            "grid_auto_rows": null,
            "grid_column": null,
            "grid_gap": null,
            "grid_row": null,
            "grid_template_areas": null,
            "grid_template_columns": null,
            "grid_template_rows": null,
            "height": null,
            "justify_content": null,
            "justify_items": null,
            "left": null,
            "margin": null,
            "max_height": null,
            "max_width": null,
            "min_height": null,
            "min_width": null,
            "object_fit": null,
            "object_position": null,
            "order": null,
            "overflow": null,
            "overflow_x": null,
            "overflow_y": null,
            "padding": null,
            "right": null,
            "top": null,
            "visibility": null,
            "width": null
          }
        },
        "788352c3ce984b48856fed1e502bb6a4": {
          "model_module": "@jupyter-widgets/base",
          "model_module_version": "1.2.0",
          "model_name": "LayoutModel",
          "state": {
            "_model_module": "@jupyter-widgets/base",
            "_model_module_version": "1.2.0",
            "_model_name": "LayoutModel",
            "_view_count": null,
            "_view_module": "@jupyter-widgets/base",
            "_view_module_version": "1.2.0",
            "_view_name": "LayoutView",
            "align_content": null,
            "align_items": null,
            "align_self": null,
            "border": null,
            "bottom": null,
            "display": null,
            "flex": null,
            "flex_flow": null,
            "grid_area": null,
            "grid_auto_columns": null,
            "grid_auto_flow": null,
            "grid_auto_rows": null,
            "grid_column": null,
            "grid_gap": null,
            "grid_row": null,
            "grid_template_areas": null,
            "grid_template_columns": null,
            "grid_template_rows": null,
            "height": null,
            "justify_content": null,
            "justify_items": null,
            "left": null,
            "margin": null,
            "max_height": null,
            "max_width": null,
            "min_height": null,
            "min_width": null,
            "object_fit": null,
            "object_position": null,
            "order": null,
            "overflow": null,
            "overflow_x": null,
            "overflow_y": null,
            "padding": null,
            "right": null,
            "top": null,
            "visibility": null,
            "width": null
          }
        },
        "7924009cb68143fa891bf37b239f2a7e": {
          "model_module": "@jupyter-widgets/controls",
          "model_module_version": "1.5.0",
          "model_name": "HTMLModel",
          "state": {
            "_dom_classes": [],
            "_model_module": "@jupyter-widgets/controls",
            "_model_module_version": "1.5.0",
            "_model_name": "HTMLModel",
            "_view_count": null,
            "_view_module": "@jupyter-widgets/controls",
            "_view_module_version": "1.5.0",
            "_view_name": "HTMLView",
            "description": "",
            "description_tooltip": null,
            "layout": "IPY_MODEL_edd4525a1ae34a6fb83ab853c7d1661b",
            "placeholder": "​",
            "style": "IPY_MODEL_13a615f83bb443778a6686a7a9e005e2",
            "value": "Map: 100%"
          }
        },
        "7bdf3e7478ab4ab7a778fab5b308fd36": {
          "model_module": "@jupyter-widgets/base",
          "model_module_version": "1.2.0",
          "model_name": "LayoutModel",
          "state": {
            "_model_module": "@jupyter-widgets/base",
            "_model_module_version": "1.2.0",
            "_model_name": "LayoutModel",
            "_view_count": null,
            "_view_module": "@jupyter-widgets/base",
            "_view_module_version": "1.2.0",
            "_view_name": "LayoutView",
            "align_content": null,
            "align_items": null,
            "align_self": null,
            "border": null,
            "bottom": null,
            "display": null,
            "flex": null,
            "flex_flow": null,
            "grid_area": null,
            "grid_auto_columns": null,
            "grid_auto_flow": null,
            "grid_auto_rows": null,
            "grid_column": null,
            "grid_gap": null,
            "grid_row": null,
            "grid_template_areas": null,
            "grid_template_columns": null,
            "grid_template_rows": null,
            "height": null,
            "justify_content": null,
            "justify_items": null,
            "left": null,
            "margin": null,
            "max_height": null,
            "max_width": null,
            "min_height": null,
            "min_width": null,
            "object_fit": null,
            "object_position": null,
            "order": null,
            "overflow": null,
            "overflow_x": null,
            "overflow_y": null,
            "padding": null,
            "right": null,
            "top": null,
            "visibility": null,
            "width": null
          }
        },
        "7c805063c3ea48e59021138c56c3136f": {
          "model_module": "@jupyter-widgets/base",
          "model_module_version": "1.2.0",
          "model_name": "LayoutModel",
          "state": {
            "_model_module": "@jupyter-widgets/base",
            "_model_module_version": "1.2.0",
            "_model_name": "LayoutModel",
            "_view_count": null,
            "_view_module": "@jupyter-widgets/base",
            "_view_module_version": "1.2.0",
            "_view_name": "LayoutView",
            "align_content": null,
            "align_items": null,
            "align_self": null,
            "border": null,
            "bottom": null,
            "display": null,
            "flex": null,
            "flex_flow": null,
            "grid_area": null,
            "grid_auto_columns": null,
            "grid_auto_flow": null,
            "grid_auto_rows": null,
            "grid_column": null,
            "grid_gap": null,
            "grid_row": null,
            "grid_template_areas": null,
            "grid_template_columns": null,
            "grid_template_rows": null,
            "height": null,
            "justify_content": null,
            "justify_items": null,
            "left": null,
            "margin": null,
            "max_height": null,
            "max_width": null,
            "min_height": null,
            "min_width": null,
            "object_fit": null,
            "object_position": null,
            "order": null,
            "overflow": null,
            "overflow_x": null,
            "overflow_y": null,
            "padding": null,
            "right": null,
            "top": null,
            "visibility": null,
            "width": null
          }
        },
        "7ca61525cfbc451f8526fcd4f6601ab0": {
          "model_module": "@jupyter-widgets/base",
          "model_module_version": "1.2.0",
          "model_name": "LayoutModel",
          "state": {
            "_model_module": "@jupyter-widgets/base",
            "_model_module_version": "1.2.0",
            "_model_name": "LayoutModel",
            "_view_count": null,
            "_view_module": "@jupyter-widgets/base",
            "_view_module_version": "1.2.0",
            "_view_name": "LayoutView",
            "align_content": null,
            "align_items": null,
            "align_self": null,
            "border": null,
            "bottom": null,
            "display": null,
            "flex": null,
            "flex_flow": null,
            "grid_area": null,
            "grid_auto_columns": null,
            "grid_auto_flow": null,
            "grid_auto_rows": null,
            "grid_column": null,
            "grid_gap": null,
            "grid_row": null,
            "grid_template_areas": null,
            "grid_template_columns": null,
            "grid_template_rows": null,
            "height": null,
            "justify_content": null,
            "justify_items": null,
            "left": null,
            "margin": null,
            "max_height": null,
            "max_width": null,
            "min_height": null,
            "min_width": null,
            "object_fit": null,
            "object_position": null,
            "order": null,
            "overflow": null,
            "overflow_x": null,
            "overflow_y": null,
            "padding": null,
            "right": null,
            "top": null,
            "visibility": null,
            "width": null
          }
        },
        "7d0c9ed3d1cd4ea5bc5e06203619898a": {
          "model_module": "@jupyter-widgets/controls",
          "model_module_version": "1.5.0",
          "model_name": "FloatProgressModel",
          "state": {
            "_dom_classes": [],
            "_model_module": "@jupyter-widgets/controls",
            "_model_module_version": "1.5.0",
            "_model_name": "FloatProgressModel",
            "_view_count": null,
            "_view_module": "@jupyter-widgets/controls",
            "_view_module_version": "1.5.0",
            "_view_name": "ProgressView",
            "bar_style": "success",
            "description": "",
            "description_tooltip": null,
            "layout": "IPY_MODEL_2847d00b4368405aacf2dd7cbb541528",
            "max": 801402,
            "min": 0,
            "orientation": "horizontal",
            "style": "IPY_MODEL_9044f4fa5e2c415cb50c6a55cd093fd8",
            "value": 801402
          }
        },
        "7dd026b47e8a4d41bbd2d2d5d48648e8": {
          "model_module": "@jupyter-widgets/controls",
          "model_module_version": "1.5.0",
          "model_name": "HTMLModel",
          "state": {
            "_dom_classes": [],
            "_model_module": "@jupyter-widgets/controls",
            "_model_module_version": "1.5.0",
            "_model_name": "HTMLModel",
            "_view_count": null,
            "_view_module": "@jupyter-widgets/controls",
            "_view_module_version": "1.5.0",
            "_view_name": "HTMLView",
            "description": "",
            "description_tooltip": null,
            "layout": "IPY_MODEL_8c6eeabd9cc44dd9896c865a9dafc394",
            "placeholder": "​",
            "style": "IPY_MODEL_e5cfce3f78d343a59457129633a4a525",
            "value": " 5000/5000 [00:00&lt;00:00, 15732.70 examples/s]"
          }
        },
        "7e27318919f748949963d419716c4d22": {
          "model_module": "@jupyter-widgets/controls",
          "model_module_version": "1.5.0",
          "model_name": "FloatProgressModel",
          "state": {
            "_dom_classes": [],
            "_model_module": "@jupyter-widgets/controls",
            "_model_module_version": "1.5.0",
            "_model_name": "FloatProgressModel",
            "_view_count": null,
            "_view_module": "@jupyter-widgets/controls",
            "_view_module_version": "1.5.0",
            "_view_name": "ProgressView",
            "bar_style": "success",
            "description": "",
            "description_tooltip": null,
            "layout": "IPY_MODEL_dcb5ad035ef04e47b507bbebf03d6638",
            "max": 5000,
            "min": 0,
            "orientation": "horizontal",
            "style": "IPY_MODEL_b19d3cb3463543c1b4b3186f838bcc60",
            "value": 5000
          }
        },
        "7f54e7d044d644cf8ee8982f5b035639": {
          "model_module": "@jupyter-widgets/base",
          "model_module_version": "1.2.0",
          "model_name": "LayoutModel",
          "state": {
            "_model_module": "@jupyter-widgets/base",
            "_model_module_version": "1.2.0",
            "_model_name": "LayoutModel",
            "_view_count": null,
            "_view_module": "@jupyter-widgets/base",
            "_view_module_version": "1.2.0",
            "_view_name": "LayoutView",
            "align_content": null,
            "align_items": null,
            "align_self": null,
            "border": null,
            "bottom": null,
            "display": null,
            "flex": null,
            "flex_flow": null,
            "grid_area": null,
            "grid_auto_columns": null,
            "grid_auto_flow": null,
            "grid_auto_rows": null,
            "grid_column": null,
            "grid_gap": null,
            "grid_row": null,
            "grid_template_areas": null,
            "grid_template_columns": null,
            "grid_template_rows": null,
            "height": null,
            "justify_content": null,
            "justify_items": null,
            "left": null,
            "margin": null,
            "max_height": null,
            "max_width": null,
            "min_height": null,
            "min_width": null,
            "object_fit": null,
            "object_position": null,
            "order": null,
            "overflow": null,
            "overflow_x": null,
            "overflow_y": null,
            "padding": null,
            "right": null,
            "top": null,
            "visibility": null,
            "width": null
          }
        },
        "80a91fe3f91e45059bcc6c5c04d56913": {
          "model_module": "@jupyter-widgets/controls",
          "model_module_version": "1.5.0",
          "model_name": "DescriptionStyleModel",
          "state": {
            "_model_module": "@jupyter-widgets/controls",
            "_model_module_version": "1.5.0",
            "_model_name": "DescriptionStyleModel",
            "_view_count": null,
            "_view_module": "@jupyter-widgets/base",
            "_view_module_version": "1.2.0",
            "_view_name": "StyleView",
            "description_width": ""
          }
        },
        "81233adc9de04a1886f0e9d285cb6949": {
          "model_module": "@jupyter-widgets/controls",
          "model_module_version": "1.5.0",
          "model_name": "HBoxModel",
          "state": {
            "_dom_classes": [],
            "_model_module": "@jupyter-widgets/controls",
            "_model_module_version": "1.5.0",
            "_model_name": "HBoxModel",
            "_view_count": null,
            "_view_module": "@jupyter-widgets/controls",
            "_view_module_version": "1.5.0",
            "_view_name": "HBoxView",
            "box_style": "",
            "children": [
              "IPY_MODEL_2e12dcb530e34c249f82de91b8bcf7bc",
              "IPY_MODEL_8a8c4951aa7b43f6b08c0eae56478de4",
              "IPY_MODEL_c9226d5ae8f4420fa46552eb921e976b"
            ],
            "layout": "IPY_MODEL_6a3f68cdd81f428687e8683daba411ef"
          }
        },
        "820acc9460af4d3c8b2137ccf8fea63e": {
          "model_module": "@jupyter-widgets/base",
          "model_module_version": "1.2.0",
          "model_name": "LayoutModel",
          "state": {
            "_model_module": "@jupyter-widgets/base",
            "_model_module_version": "1.2.0",
            "_model_name": "LayoutModel",
            "_view_count": null,
            "_view_module": "@jupyter-widgets/base",
            "_view_module_version": "1.2.0",
            "_view_name": "LayoutView",
            "align_content": null,
            "align_items": null,
            "align_self": null,
            "border": null,
            "bottom": null,
            "display": null,
            "flex": null,
            "flex_flow": null,
            "grid_area": null,
            "grid_auto_columns": null,
            "grid_auto_flow": null,
            "grid_auto_rows": null,
            "grid_column": null,
            "grid_gap": null,
            "grid_row": null,
            "grid_template_areas": null,
            "grid_template_columns": null,
            "grid_template_rows": null,
            "height": null,
            "justify_content": null,
            "justify_items": null,
            "left": null,
            "margin": null,
            "max_height": null,
            "max_width": null,
            "min_height": null,
            "min_width": null,
            "object_fit": null,
            "object_position": null,
            "order": null,
            "overflow": null,
            "overflow_x": null,
            "overflow_y": null,
            "padding": null,
            "right": null,
            "top": null,
            "visibility": null,
            "width": null
          }
        },
        "820b4e99ba7a4b8b9ebadda1b32667c5": {
          "model_module": "@jupyter-widgets/controls",
          "model_module_version": "1.5.0",
          "model_name": "ProgressStyleModel",
          "state": {
            "_model_module": "@jupyter-widgets/controls",
            "_model_module_version": "1.5.0",
            "_model_name": "ProgressStyleModel",
            "_view_count": null,
            "_view_module": "@jupyter-widgets/base",
            "_view_module_version": "1.2.0",
            "_view_name": "StyleView",
            "bar_color": null,
            "description_width": ""
          }
        },
        "85ddc1c3605047de98e353f56258b35e": {
          "model_module": "@jupyter-widgets/controls",
          "model_module_version": "1.5.0",
          "model_name": "DescriptionStyleModel",
          "state": {
            "_model_module": "@jupyter-widgets/controls",
            "_model_module_version": "1.5.0",
            "_model_name": "DescriptionStyleModel",
            "_view_count": null,
            "_view_module": "@jupyter-widgets/base",
            "_view_module_version": "1.2.0",
            "_view_name": "StyleView",
            "description_width": ""
          }
        },
        "877900b42ad6433eb8732614fe3757c8": {
          "model_module": "@jupyter-widgets/controls",
          "model_module_version": "1.5.0",
          "model_name": "ProgressStyleModel",
          "state": {
            "_model_module": "@jupyter-widgets/controls",
            "_model_module_version": "1.5.0",
            "_model_name": "ProgressStyleModel",
            "_view_count": null,
            "_view_module": "@jupyter-widgets/base",
            "_view_module_version": "1.2.0",
            "_view_name": "StyleView",
            "bar_color": null,
            "description_width": ""
          }
        },
        "889b2ecdad4e40c098d8fad6309b1a5e": {
          "model_module": "@jupyter-widgets/controls",
          "model_module_version": "1.5.0",
          "model_name": "HTMLModel",
          "state": {
            "_dom_classes": [],
            "_model_module": "@jupyter-widgets/controls",
            "_model_module_version": "1.5.0",
            "_model_name": "HTMLModel",
            "_view_count": null,
            "_view_module": "@jupyter-widgets/controls",
            "_view_module_version": "1.5.0",
            "_view_name": "HTMLView",
            "description": "",
            "description_tooltip": null,
            "layout": "IPY_MODEL_a508cb490464406fb02d5323c21d9ba3",
            "placeholder": "​",
            "style": "IPY_MODEL_6a4615f4f5d84867952d4a6cc76b2fc6",
            "value": " 100177/100177 [00:01&lt;00:00, 60516.11 examples/s]"
          }
        },
        "8a429faa697748efa74cfc337e5a5824": {
          "model_module": "@jupyter-widgets/controls",
          "model_module_version": "1.5.0",
          "model_name": "HTMLModel",
          "state": {
            "_dom_classes": [],
            "_model_module": "@jupyter-widgets/controls",
            "_model_module_version": "1.5.0",
            "_model_name": "HTMLModel",
            "_view_count": null,
            "_view_module": "@jupyter-widgets/controls",
            "_view_module_version": "1.5.0",
            "_view_name": "HTMLView",
            "description": "",
            "description_tooltip": null,
            "layout": "IPY_MODEL_94aad668c82a4e11abf432f58abeb452",
            "placeholder": "​",
            "style": "IPY_MODEL_25292873dda1458bbdd339d7c9c74946",
            "value": " 5000/5000 [00:02&lt;00:00, 2160.13 examples/s]"
          }
        },
        "8a89283c35734833be9968c349c0a30c": {
          "model_module": "@jupyter-widgets/controls",
          "model_module_version": "1.5.0",
          "model_name": "HTMLModel",
          "state": {
            "_dom_classes": [],
            "_model_module": "@jupyter-widgets/controls",
            "_model_module_version": "1.5.0",
            "_model_name": "HTMLModel",
            "_view_count": null,
            "_view_module": "@jupyter-widgets/controls",
            "_view_module_version": "1.5.0",
            "_view_name": "HTMLView",
            "description": "",
            "description_tooltip": null,
            "layout": "IPY_MODEL_368119c26ac1481db47d9f2309e7d70b",
            "placeholder": "​",
            "style": "IPY_MODEL_72c19d24164247d792fb11c32876bcfc",
            "value": "Map: 100%"
          }
        },
        "8a8c4951aa7b43f6b08c0eae56478de4": {
          "model_module": "@jupyter-widgets/controls",
          "model_module_version": "1.5.0",
          "model_name": "FloatProgressModel",
          "state": {
            "_dom_classes": [],
            "_model_module": "@jupyter-widgets/controls",
            "_model_module_version": "1.5.0",
            "_model_name": "FloatProgressModel",
            "_view_count": null,
            "_view_module": "@jupyter-widgets/controls",
            "_view_module_version": "1.5.0",
            "_view_name": "ProgressView",
            "bar_style": "success",
            "description": "",
            "description_tooltip": null,
            "layout": "IPY_MODEL_72229e25f4934ee0b54c9a14f9ed6ca3",
            "max": 5000,
            "min": 0,
            "orientation": "horizontal",
            "style": "IPY_MODEL_bc726ff04d5f4c43863f6313e1a50a4b",
            "value": 5000
          }
        },
        "8aa5d6ddf10f439e8f44ce9b151f2803": {
          "model_module": "@jupyter-widgets/controls",
          "model_module_version": "1.5.0",
          "model_name": "FloatProgressModel",
          "state": {
            "_dom_classes": [],
            "_model_module": "@jupyter-widgets/controls",
            "_model_module_version": "1.5.0",
            "_model_name": "FloatProgressModel",
            "_view_count": null,
            "_view_module": "@jupyter-widgets/controls",
            "_view_module_version": "1.5.0",
            "_view_name": "ProgressView",
            "bar_style": "success",
            "description": "",
            "description_tooltip": null,
            "layout": "IPY_MODEL_c9d3f7f656dd486ba21081e1611a2c54",
            "max": 5000,
            "min": 0,
            "orientation": "horizontal",
            "style": "IPY_MODEL_5ee884e9b6db49b296a885389d168e92",
            "value": 5000
          }
        },
        "8c6eeabd9cc44dd9896c865a9dafc394": {
          "model_module": "@jupyter-widgets/base",
          "model_module_version": "1.2.0",
          "model_name": "LayoutModel",
          "state": {
            "_model_module": "@jupyter-widgets/base",
            "_model_module_version": "1.2.0",
            "_model_name": "LayoutModel",
            "_view_count": null,
            "_view_module": "@jupyter-widgets/base",
            "_view_module_version": "1.2.0",
            "_view_name": "LayoutView",
            "align_content": null,
            "align_items": null,
            "align_self": null,
            "border": null,
            "bottom": null,
            "display": null,
            "flex": null,
            "flex_flow": null,
            "grid_area": null,
            "grid_auto_columns": null,
            "grid_auto_flow": null,
            "grid_auto_rows": null,
            "grid_column": null,
            "grid_gap": null,
            "grid_row": null,
            "grid_template_areas": null,
            "grid_template_columns": null,
            "grid_template_rows": null,
            "height": null,
            "justify_content": null,
            "justify_items": null,
            "left": null,
            "margin": null,
            "max_height": null,
            "max_width": null,
            "min_height": null,
            "min_width": null,
            "object_fit": null,
            "object_position": null,
            "order": null,
            "overflow": null,
            "overflow_x": null,
            "overflow_y": null,
            "padding": null,
            "right": null,
            "top": null,
            "visibility": null,
            "width": null
          }
        },
        "8f1545e424864912aa366754277b0aff": {
          "model_module": "@jupyter-widgets/base",
          "model_module_version": "1.2.0",
          "model_name": "LayoutModel",
          "state": {
            "_model_module": "@jupyter-widgets/base",
            "_model_module_version": "1.2.0",
            "_model_name": "LayoutModel",
            "_view_count": null,
            "_view_module": "@jupyter-widgets/base",
            "_view_module_version": "1.2.0",
            "_view_name": "LayoutView",
            "align_content": null,
            "align_items": null,
            "align_self": null,
            "border": null,
            "bottom": null,
            "display": null,
            "flex": null,
            "flex_flow": null,
            "grid_area": null,
            "grid_auto_columns": null,
            "grid_auto_flow": null,
            "grid_auto_rows": null,
            "grid_column": null,
            "grid_gap": null,
            "grid_row": null,
            "grid_template_areas": null,
            "grid_template_columns": null,
            "grid_template_rows": null,
            "height": null,
            "justify_content": null,
            "justify_items": null,
            "left": null,
            "margin": null,
            "max_height": null,
            "max_width": null,
            "min_height": null,
            "min_width": null,
            "object_fit": null,
            "object_position": null,
            "order": null,
            "overflow": null,
            "overflow_x": null,
            "overflow_y": null,
            "padding": null,
            "right": null,
            "top": null,
            "visibility": null,
            "width": null
          }
        },
        "8f50cfe2b77845aa9a0eddced8cc2068": {
          "model_module": "@jupyter-widgets/controls",
          "model_module_version": "1.5.0",
          "model_name": "FloatProgressModel",
          "state": {
            "_dom_classes": [],
            "_model_module": "@jupyter-widgets/controls",
            "_model_module_version": "1.5.0",
            "_model_name": "FloatProgressModel",
            "_view_count": null,
            "_view_module": "@jupyter-widgets/controls",
            "_view_module_version": "1.5.0",
            "_view_name": "ProgressView",
            "bar_style": "success",
            "description": "",
            "description_tooltip": null,
            "layout": "IPY_MODEL_68983fdfdb85463fa3cfd719ec07cc94",
            "max": 5000,
            "min": 0,
            "orientation": "horizontal",
            "style": "IPY_MODEL_fdff2cbeba664fba96d846a5c31908de",
            "value": 5000
          }
        },
        "9044f4fa5e2c415cb50c6a55cd093fd8": {
          "model_module": "@jupyter-widgets/controls",
          "model_module_version": "1.5.0",
          "model_name": "ProgressStyleModel",
          "state": {
            "_model_module": "@jupyter-widgets/controls",
            "_model_module_version": "1.5.0",
            "_model_name": "ProgressStyleModel",
            "_view_count": null,
            "_view_module": "@jupyter-widgets/base",
            "_view_module_version": "1.2.0",
            "_view_name": "StyleView",
            "bar_color": null,
            "description_width": ""
          }
        },
        "90d7a11e8b224c49b6d975091356120a": {
          "model_module": "@jupyter-widgets/base",
          "model_module_version": "1.2.0",
          "model_name": "LayoutModel",
          "state": {
            "_model_module": "@jupyter-widgets/base",
            "_model_module_version": "1.2.0",
            "_model_name": "LayoutModel",
            "_view_count": null,
            "_view_module": "@jupyter-widgets/base",
            "_view_module_version": "1.2.0",
            "_view_name": "LayoutView",
            "align_content": null,
            "align_items": null,
            "align_self": null,
            "border": null,
            "bottom": null,
            "display": null,
            "flex": null,
            "flex_flow": null,
            "grid_area": null,
            "grid_auto_columns": null,
            "grid_auto_flow": null,
            "grid_auto_rows": null,
            "grid_column": null,
            "grid_gap": null,
            "grid_row": null,
            "grid_template_areas": null,
            "grid_template_columns": null,
            "grid_template_rows": null,
            "height": null,
            "justify_content": null,
            "justify_items": null,
            "left": null,
            "margin": null,
            "max_height": null,
            "max_width": null,
            "min_height": null,
            "min_width": null,
            "object_fit": null,
            "object_position": null,
            "order": null,
            "overflow": null,
            "overflow_x": null,
            "overflow_y": null,
            "padding": null,
            "right": null,
            "top": null,
            "visibility": null,
            "width": null
          }
        },
        "91ffab51fd2b4f9b858d6b77fae8123d": {
          "model_module": "@jupyter-widgets/base",
          "model_module_version": "1.2.0",
          "model_name": "LayoutModel",
          "state": {
            "_model_module": "@jupyter-widgets/base",
            "_model_module_version": "1.2.0",
            "_model_name": "LayoutModel",
            "_view_count": null,
            "_view_module": "@jupyter-widgets/base",
            "_view_module_version": "1.2.0",
            "_view_name": "LayoutView",
            "align_content": null,
            "align_items": null,
            "align_self": null,
            "border": null,
            "bottom": null,
            "display": null,
            "flex": null,
            "flex_flow": null,
            "grid_area": null,
            "grid_auto_columns": null,
            "grid_auto_flow": null,
            "grid_auto_rows": null,
            "grid_column": null,
            "grid_gap": null,
            "grid_row": null,
            "grid_template_areas": null,
            "grid_template_columns": null,
            "grid_template_rows": null,
            "height": null,
            "justify_content": null,
            "justify_items": null,
            "left": null,
            "margin": null,
            "max_height": null,
            "max_width": null,
            "min_height": null,
            "min_width": null,
            "object_fit": null,
            "object_position": null,
            "order": null,
            "overflow": null,
            "overflow_x": null,
            "overflow_y": null,
            "padding": null,
            "right": null,
            "top": null,
            "visibility": null,
            "width": null
          }
        },
        "928e440ff8f0472e9fa59f8ec1bb5ff4": {
          "model_module": "@jupyter-widgets/controls",
          "model_module_version": "1.5.0",
          "model_name": "DescriptionStyleModel",
          "state": {
            "_model_module": "@jupyter-widgets/controls",
            "_model_module_version": "1.5.0",
            "_model_name": "DescriptionStyleModel",
            "_view_count": null,
            "_view_module": "@jupyter-widgets/base",
            "_view_module_version": "1.2.0",
            "_view_name": "StyleView",
            "description_width": ""
          }
        },
        "93d840f06e0d4023af658973ff7fffd2": {
          "model_module": "@jupyter-widgets/base",
          "model_module_version": "1.2.0",
          "model_name": "LayoutModel",
          "state": {
            "_model_module": "@jupyter-widgets/base",
            "_model_module_version": "1.2.0",
            "_model_name": "LayoutModel",
            "_view_count": null,
            "_view_module": "@jupyter-widgets/base",
            "_view_module_version": "1.2.0",
            "_view_name": "LayoutView",
            "align_content": null,
            "align_items": null,
            "align_self": null,
            "border": null,
            "bottom": null,
            "display": null,
            "flex": null,
            "flex_flow": null,
            "grid_area": null,
            "grid_auto_columns": null,
            "grid_auto_flow": null,
            "grid_auto_rows": null,
            "grid_column": null,
            "grid_gap": null,
            "grid_row": null,
            "grid_template_areas": null,
            "grid_template_columns": null,
            "grid_template_rows": null,
            "height": null,
            "justify_content": null,
            "justify_items": null,
            "left": null,
            "margin": null,
            "max_height": null,
            "max_width": null,
            "min_height": null,
            "min_width": null,
            "object_fit": null,
            "object_position": null,
            "order": null,
            "overflow": null,
            "overflow_x": null,
            "overflow_y": null,
            "padding": null,
            "right": null,
            "top": null,
            "visibility": null,
            "width": null
          }
        },
        "94aad668c82a4e11abf432f58abeb452": {
          "model_module": "@jupyter-widgets/base",
          "model_module_version": "1.2.0",
          "model_name": "LayoutModel",
          "state": {
            "_model_module": "@jupyter-widgets/base",
            "_model_module_version": "1.2.0",
            "_model_name": "LayoutModel",
            "_view_count": null,
            "_view_module": "@jupyter-widgets/base",
            "_view_module_version": "1.2.0",
            "_view_name": "LayoutView",
            "align_content": null,
            "align_items": null,
            "align_self": null,
            "border": null,
            "bottom": null,
            "display": null,
            "flex": null,
            "flex_flow": null,
            "grid_area": null,
            "grid_auto_columns": null,
            "grid_auto_flow": null,
            "grid_auto_rows": null,
            "grid_column": null,
            "grid_gap": null,
            "grid_row": null,
            "grid_template_areas": null,
            "grid_template_columns": null,
            "grid_template_rows": null,
            "height": null,
            "justify_content": null,
            "justify_items": null,
            "left": null,
            "margin": null,
            "max_height": null,
            "max_width": null,
            "min_height": null,
            "min_width": null,
            "object_fit": null,
            "object_position": null,
            "order": null,
            "overflow": null,
            "overflow_x": null,
            "overflow_y": null,
            "padding": null,
            "right": null,
            "top": null,
            "visibility": null,
            "width": null
          }
        },
        "94e390ee62b1485d85ed9d442006fbca": {
          "model_module": "@jupyter-widgets/controls",
          "model_module_version": "1.5.0",
          "model_name": "HBoxModel",
          "state": {
            "_dom_classes": [],
            "_model_module": "@jupyter-widgets/controls",
            "_model_module_version": "1.5.0",
            "_model_name": "HBoxModel",
            "_view_count": null,
            "_view_module": "@jupyter-widgets/controls",
            "_view_module_version": "1.5.0",
            "_view_name": "HBoxView",
            "box_style": "",
            "children": [
              "IPY_MODEL_b8869524ce154399a83252e358056de7",
              "IPY_MODEL_4d080e05336e44cea4e26a119492867b",
              "IPY_MODEL_ab12dc0c13474f4dac2f782fcee49bce"
            ],
            "layout": "IPY_MODEL_a67432ff40d44606991930761648b021"
          }
        },
        "95cd4de74b804b92abcee99e0ef594db": {
          "model_module": "@jupyter-widgets/controls",
          "model_module_version": "1.5.0",
          "model_name": "FloatProgressModel",
          "state": {
            "_dom_classes": [],
            "_model_module": "@jupyter-widgets/controls",
            "_model_module_version": "1.5.0",
            "_model_name": "FloatProgressModel",
            "_view_count": null,
            "_view_module": "@jupyter-widgets/controls",
            "_view_module_version": "1.5.0",
            "_view_name": "ProgressView",
            "bar_style": "success",
            "description": "",
            "description_tooltip": null,
            "layout": "IPY_MODEL_60bcda94c1c44e3fb0c6af2c1cf77f2f",
            "max": 5000,
            "min": 0,
            "orientation": "horizontal",
            "style": "IPY_MODEL_009bb54e8fde496f91a2531af5598f09",
            "value": 5000
          }
        },
        "96df13b4e5e04c7a8fd86417f57bfe3b": {
          "model_module": "@jupyter-widgets/controls",
          "model_module_version": "1.5.0",
          "model_name": "ProgressStyleModel",
          "state": {
            "_model_module": "@jupyter-widgets/controls",
            "_model_module_version": "1.5.0",
            "_model_name": "ProgressStyleModel",
            "_view_count": null,
            "_view_module": "@jupyter-widgets/base",
            "_view_module_version": "1.2.0",
            "_view_name": "StyleView",
            "bar_color": null,
            "description_width": ""
          }
        },
        "973628ea201447a7b254212f0f953689": {
          "model_module": "@jupyter-widgets/base",
          "model_module_version": "1.2.0",
          "model_name": "LayoutModel",
          "state": {
            "_model_module": "@jupyter-widgets/base",
            "_model_module_version": "1.2.0",
            "_model_name": "LayoutModel",
            "_view_count": null,
            "_view_module": "@jupyter-widgets/base",
            "_view_module_version": "1.2.0",
            "_view_name": "LayoutView",
            "align_content": null,
            "align_items": null,
            "align_self": null,
            "border": null,
            "bottom": null,
            "display": null,
            "flex": null,
            "flex_flow": null,
            "grid_area": null,
            "grid_auto_columns": null,
            "grid_auto_flow": null,
            "grid_auto_rows": null,
            "grid_column": null,
            "grid_gap": null,
            "grid_row": null,
            "grid_template_areas": null,
            "grid_template_columns": null,
            "grid_template_rows": null,
            "height": null,
            "justify_content": null,
            "justify_items": null,
            "left": null,
            "margin": null,
            "max_height": null,
            "max_width": null,
            "min_height": null,
            "min_width": null,
            "object_fit": null,
            "object_position": null,
            "order": null,
            "overflow": null,
            "overflow_x": null,
            "overflow_y": null,
            "padding": null,
            "right": null,
            "top": null,
            "visibility": null,
            "width": null
          }
        },
        "978295de356744579fc1f58962d9b89c": {
          "model_module": "@jupyter-widgets/controls",
          "model_module_version": "1.5.0",
          "model_name": "DescriptionStyleModel",
          "state": {
            "_model_module": "@jupyter-widgets/controls",
            "_model_module_version": "1.5.0",
            "_model_name": "DescriptionStyleModel",
            "_view_count": null,
            "_view_module": "@jupyter-widgets/base",
            "_view_module_version": "1.2.0",
            "_view_name": "StyleView",
            "description_width": ""
          }
        },
        "992f38cea1614d26b1535cf3c11c210f": {
          "model_module": "@jupyter-widgets/base",
          "model_module_version": "1.2.0",
          "model_name": "LayoutModel",
          "state": {
            "_model_module": "@jupyter-widgets/base",
            "_model_module_version": "1.2.0",
            "_model_name": "LayoutModel",
            "_view_count": null,
            "_view_module": "@jupyter-widgets/base",
            "_view_module_version": "1.2.0",
            "_view_name": "LayoutView",
            "align_content": null,
            "align_items": null,
            "align_self": null,
            "border": null,
            "bottom": null,
            "display": null,
            "flex": null,
            "flex_flow": null,
            "grid_area": null,
            "grid_auto_columns": null,
            "grid_auto_flow": null,
            "grid_auto_rows": null,
            "grid_column": null,
            "grid_gap": null,
            "grid_row": null,
            "grid_template_areas": null,
            "grid_template_columns": null,
            "grid_template_rows": null,
            "height": null,
            "justify_content": null,
            "justify_items": null,
            "left": null,
            "margin": null,
            "max_height": null,
            "max_width": null,
            "min_height": null,
            "min_width": null,
            "object_fit": null,
            "object_position": null,
            "order": null,
            "overflow": null,
            "overflow_x": null,
            "overflow_y": null,
            "padding": null,
            "right": null,
            "top": null,
            "visibility": null,
            "width": null
          }
        },
        "9979316ff2734b9a82ddc8a34d145019": {
          "model_module": "@jupyter-widgets/base",
          "model_module_version": "1.2.0",
          "model_name": "LayoutModel",
          "state": {
            "_model_module": "@jupyter-widgets/base",
            "_model_module_version": "1.2.0",
            "_model_name": "LayoutModel",
            "_view_count": null,
            "_view_module": "@jupyter-widgets/base",
            "_view_module_version": "1.2.0",
            "_view_name": "LayoutView",
            "align_content": null,
            "align_items": null,
            "align_self": null,
            "border": null,
            "bottom": null,
            "display": null,
            "flex": null,
            "flex_flow": null,
            "grid_area": null,
            "grid_auto_columns": null,
            "grid_auto_flow": null,
            "grid_auto_rows": null,
            "grid_column": null,
            "grid_gap": null,
            "grid_row": null,
            "grid_template_areas": null,
            "grid_template_columns": null,
            "grid_template_rows": null,
            "height": null,
            "justify_content": null,
            "justify_items": null,
            "left": null,
            "margin": null,
            "max_height": null,
            "max_width": null,
            "min_height": null,
            "min_width": null,
            "object_fit": null,
            "object_position": null,
            "order": null,
            "overflow": null,
            "overflow_x": null,
            "overflow_y": null,
            "padding": null,
            "right": null,
            "top": null,
            "visibility": null,
            "width": null
          }
        },
        "9c296e1954fa4a47b7dede64911cb2e6": {
          "model_module": "@jupyter-widgets/controls",
          "model_module_version": "1.5.0",
          "model_name": "HBoxModel",
          "state": {
            "_dom_classes": [],
            "_model_module": "@jupyter-widgets/controls",
            "_model_module_version": "1.5.0",
            "_model_name": "HBoxModel",
            "_view_count": null,
            "_view_module": "@jupyter-widgets/controls",
            "_view_module_version": "1.5.0",
            "_view_name": "HBoxView",
            "box_style": "",
            "children": [
              "IPY_MODEL_ae656308124c48738af140d56124ce00",
              "IPY_MODEL_8aa5d6ddf10f439e8f44ce9b151f2803",
              "IPY_MODEL_c7993c03645844788a6151969a6b40eb"
            ],
            "layout": "IPY_MODEL_93d840f06e0d4023af658973ff7fffd2"
          }
        },
        "9ca4d1ccbffc49c9a492c53ae554c4b8": {
          "model_module": "@jupyter-widgets/base",
          "model_module_version": "1.2.0",
          "model_name": "LayoutModel",
          "state": {
            "_model_module": "@jupyter-widgets/base",
            "_model_module_version": "1.2.0",
            "_model_name": "LayoutModel",
            "_view_count": null,
            "_view_module": "@jupyter-widgets/base",
            "_view_module_version": "1.2.0",
            "_view_name": "LayoutView",
            "align_content": null,
            "align_items": null,
            "align_self": null,
            "border": null,
            "bottom": null,
            "display": null,
            "flex": null,
            "flex_flow": null,
            "grid_area": null,
            "grid_auto_columns": null,
            "grid_auto_flow": null,
            "grid_auto_rows": null,
            "grid_column": null,
            "grid_gap": null,
            "grid_row": null,
            "grid_template_areas": null,
            "grid_template_columns": null,
            "grid_template_rows": null,
            "height": null,
            "justify_content": null,
            "justify_items": null,
            "left": null,
            "margin": null,
            "max_height": null,
            "max_width": null,
            "min_height": null,
            "min_width": null,
            "object_fit": null,
            "object_position": null,
            "order": null,
            "overflow": null,
            "overflow_x": null,
            "overflow_y": null,
            "padding": null,
            "right": null,
            "top": null,
            "visibility": null,
            "width": null
          }
        },
        "9d12785168a74bf890ff1c559a41dd07": {
          "model_module": "@jupyter-widgets/controls",
          "model_module_version": "1.5.0",
          "model_name": "DescriptionStyleModel",
          "state": {
            "_model_module": "@jupyter-widgets/controls",
            "_model_module_version": "1.5.0",
            "_model_name": "DescriptionStyleModel",
            "_view_count": null,
            "_view_module": "@jupyter-widgets/base",
            "_view_module_version": "1.2.0",
            "_view_name": "StyleView",
            "description_width": ""
          }
        },
        "9dd469e48e7a4a57a14a794b9d74dcb3": {
          "model_module": "@jupyter-widgets/base",
          "model_module_version": "1.2.0",
          "model_name": "LayoutModel",
          "state": {
            "_model_module": "@jupyter-widgets/base",
            "_model_module_version": "1.2.0",
            "_model_name": "LayoutModel",
            "_view_count": null,
            "_view_module": "@jupyter-widgets/base",
            "_view_module_version": "1.2.0",
            "_view_name": "LayoutView",
            "align_content": null,
            "align_items": null,
            "align_self": null,
            "border": null,
            "bottom": null,
            "display": null,
            "flex": null,
            "flex_flow": null,
            "grid_area": null,
            "grid_auto_columns": null,
            "grid_auto_flow": null,
            "grid_auto_rows": null,
            "grid_column": null,
            "grid_gap": null,
            "grid_row": null,
            "grid_template_areas": null,
            "grid_template_columns": null,
            "grid_template_rows": null,
            "height": null,
            "justify_content": null,
            "justify_items": null,
            "left": null,
            "margin": null,
            "max_height": null,
            "max_width": null,
            "min_height": null,
            "min_width": null,
            "object_fit": null,
            "object_position": null,
            "order": null,
            "overflow": null,
            "overflow_x": null,
            "overflow_y": null,
            "padding": null,
            "right": null,
            "top": null,
            "visibility": null,
            "width": null
          }
        },
        "9e9fc0402d164185be46a6917396c9e6": {
          "model_module": "@jupyter-widgets/controls",
          "model_module_version": "1.5.0",
          "model_name": "FloatProgressModel",
          "state": {
            "_dom_classes": [],
            "_model_module": "@jupyter-widgets/controls",
            "_model_module_version": "1.5.0",
            "_model_name": "FloatProgressModel",
            "_view_count": null,
            "_view_module": "@jupyter-widgets/controls",
            "_view_module_version": "1.5.0",
            "_view_name": "ProgressView",
            "bar_style": "success",
            "description": "",
            "description_tooltip": null,
            "layout": "IPY_MODEL_9ca4d1ccbffc49c9a492c53ae554c4b8",
            "max": 5000,
            "min": 0,
            "orientation": "horizontal",
            "style": "IPY_MODEL_050ac3188d3446e6b9ec3c9a003dcfdd",
            "value": 5000
          }
        },
        "9feb9c09671441bf9da2222173ee7dfa": {
          "model_module": "@jupyter-widgets/controls",
          "model_module_version": "1.5.0",
          "model_name": "FloatProgressModel",
          "state": {
            "_dom_classes": [],
            "_model_module": "@jupyter-widgets/controls",
            "_model_module_version": "1.5.0",
            "_model_name": "FloatProgressModel",
            "_view_count": null,
            "_view_module": "@jupyter-widgets/controls",
            "_view_module_version": "1.5.0",
            "_view_name": "ProgressView",
            "bar_style": "success",
            "description": "",
            "description_tooltip": null,
            "layout": "IPY_MODEL_6d5c5b4aad424adbb135ab3bbdbb42e6",
            "max": 100177,
            "min": 0,
            "orientation": "horizontal",
            "style": "IPY_MODEL_f03f296095284460b615ebb5c7ebc1c3",
            "value": 100177
          }
        },
        "9ff4a1ccb6ad4a9db55668e57b5fce88": {
          "model_module": "@jupyter-widgets/controls",
          "model_module_version": "1.5.0",
          "model_name": "ProgressStyleModel",
          "state": {
            "_model_module": "@jupyter-widgets/controls",
            "_model_module_version": "1.5.0",
            "_model_name": "ProgressStyleModel",
            "_view_count": null,
            "_view_module": "@jupyter-widgets/base",
            "_view_module_version": "1.2.0",
            "_view_name": "StyleView",
            "bar_color": null,
            "description_width": ""
          }
        },
        "a00cef3baf404172aaa8a16371154231": {
          "model_module": "@jupyter-widgets/base",
          "model_module_version": "1.2.0",
          "model_name": "LayoutModel",
          "state": {
            "_model_module": "@jupyter-widgets/base",
            "_model_module_version": "1.2.0",
            "_model_name": "LayoutModel",
            "_view_count": null,
            "_view_module": "@jupyter-widgets/base",
            "_view_module_version": "1.2.0",
            "_view_name": "LayoutView",
            "align_content": null,
            "align_items": null,
            "align_self": null,
            "border": null,
            "bottom": null,
            "display": null,
            "flex": null,
            "flex_flow": null,
            "grid_area": null,
            "grid_auto_columns": null,
            "grid_auto_flow": null,
            "grid_auto_rows": null,
            "grid_column": null,
            "grid_gap": null,
            "grid_row": null,
            "grid_template_areas": null,
            "grid_template_columns": null,
            "grid_template_rows": null,
            "height": null,
            "justify_content": null,
            "justify_items": null,
            "left": null,
            "margin": null,
            "max_height": null,
            "max_width": null,
            "min_height": null,
            "min_width": null,
            "object_fit": null,
            "object_position": null,
            "order": null,
            "overflow": null,
            "overflow_x": null,
            "overflow_y": null,
            "padding": null,
            "right": null,
            "top": null,
            "visibility": null,
            "width": null
          }
        },
        "a1dc751c336044fa8bd6c69f87ffa81d": {
          "model_module": "@jupyter-widgets/base",
          "model_module_version": "1.2.0",
          "model_name": "LayoutModel",
          "state": {
            "_model_module": "@jupyter-widgets/base",
            "_model_module_version": "1.2.0",
            "_model_name": "LayoutModel",
            "_view_count": null,
            "_view_module": "@jupyter-widgets/base",
            "_view_module_version": "1.2.0",
            "_view_name": "LayoutView",
            "align_content": null,
            "align_items": null,
            "align_self": null,
            "border": null,
            "bottom": null,
            "display": null,
            "flex": null,
            "flex_flow": null,
            "grid_area": null,
            "grid_auto_columns": null,
            "grid_auto_flow": null,
            "grid_auto_rows": null,
            "grid_column": null,
            "grid_gap": null,
            "grid_row": null,
            "grid_template_areas": null,
            "grid_template_columns": null,
            "grid_template_rows": null,
            "height": null,
            "justify_content": null,
            "justify_items": null,
            "left": null,
            "margin": null,
            "max_height": null,
            "max_width": null,
            "min_height": null,
            "min_width": null,
            "object_fit": null,
            "object_position": null,
            "order": null,
            "overflow": null,
            "overflow_x": null,
            "overflow_y": null,
            "padding": null,
            "right": null,
            "top": null,
            "visibility": null,
            "width": null
          }
        },
        "a3a37990006f4c88b4f2a58dca991113": {
          "model_module": "@jupyter-widgets/controls",
          "model_module_version": "1.5.0",
          "model_name": "HBoxModel",
          "state": {
            "_dom_classes": [],
            "_model_module": "@jupyter-widgets/controls",
            "_model_module_version": "1.5.0",
            "_model_name": "HBoxModel",
            "_view_count": null,
            "_view_module": "@jupyter-widgets/controls",
            "_view_module_version": "1.5.0",
            "_view_name": "HBoxView",
            "box_style": "",
            "children": [
              "IPY_MODEL_b7d320699c434557b0bb7dc3f4a71b9a",
              "IPY_MODEL_d473d713a1ad46bc9fb9661c1658a83a",
              "IPY_MODEL_50ddace5be4d432cac73c1c46c218122"
            ],
            "layout": "IPY_MODEL_a7213e969354445e91d24111baf31636"
          }
        },
        "a508cb490464406fb02d5323c21d9ba3": {
          "model_module": "@jupyter-widgets/base",
          "model_module_version": "1.2.0",
          "model_name": "LayoutModel",
          "state": {
            "_model_module": "@jupyter-widgets/base",
            "_model_module_version": "1.2.0",
            "_model_name": "LayoutModel",
            "_view_count": null,
            "_view_module": "@jupyter-widgets/base",
            "_view_module_version": "1.2.0",
            "_view_name": "LayoutView",
            "align_content": null,
            "align_items": null,
            "align_self": null,
            "border": null,
            "bottom": null,
            "display": null,
            "flex": null,
            "flex_flow": null,
            "grid_area": null,
            "grid_auto_columns": null,
            "grid_auto_flow": null,
            "grid_auto_rows": null,
            "grid_column": null,
            "grid_gap": null,
            "grid_row": null,
            "grid_template_areas": null,
            "grid_template_columns": null,
            "grid_template_rows": null,
            "height": null,
            "justify_content": null,
            "justify_items": null,
            "left": null,
            "margin": null,
            "max_height": null,
            "max_width": null,
            "min_height": null,
            "min_width": null,
            "object_fit": null,
            "object_position": null,
            "order": null,
            "overflow": null,
            "overflow_x": null,
            "overflow_y": null,
            "padding": null,
            "right": null,
            "top": null,
            "visibility": null,
            "width": null
          }
        },
        "a5e10eb880e04b19b38983062ddb562f": {
          "model_module": "@jupyter-widgets/base",
          "model_module_version": "1.2.0",
          "model_name": "LayoutModel",
          "state": {
            "_model_module": "@jupyter-widgets/base",
            "_model_module_version": "1.2.0",
            "_model_name": "LayoutModel",
            "_view_count": null,
            "_view_module": "@jupyter-widgets/base",
            "_view_module_version": "1.2.0",
            "_view_name": "LayoutView",
            "align_content": null,
            "align_items": null,
            "align_self": null,
            "border": null,
            "bottom": null,
            "display": null,
            "flex": null,
            "flex_flow": null,
            "grid_area": null,
            "grid_auto_columns": null,
            "grid_auto_flow": null,
            "grid_auto_rows": null,
            "grid_column": null,
            "grid_gap": null,
            "grid_row": null,
            "grid_template_areas": null,
            "grid_template_columns": null,
            "grid_template_rows": null,
            "height": null,
            "justify_content": null,
            "justify_items": null,
            "left": null,
            "margin": null,
            "max_height": null,
            "max_width": null,
            "min_height": null,
            "min_width": null,
            "object_fit": null,
            "object_position": null,
            "order": null,
            "overflow": null,
            "overflow_x": null,
            "overflow_y": null,
            "padding": null,
            "right": null,
            "top": null,
            "visibility": null,
            "width": null
          }
        },
        "a5e3e6fcfde84cfea6adfb86881faaf0": {
          "model_module": "@jupyter-widgets/base",
          "model_module_version": "1.2.0",
          "model_name": "LayoutModel",
          "state": {
            "_model_module": "@jupyter-widgets/base",
            "_model_module_version": "1.2.0",
            "_model_name": "LayoutModel",
            "_view_count": null,
            "_view_module": "@jupyter-widgets/base",
            "_view_module_version": "1.2.0",
            "_view_name": "LayoutView",
            "align_content": null,
            "align_items": null,
            "align_self": null,
            "border": null,
            "bottom": null,
            "display": null,
            "flex": null,
            "flex_flow": null,
            "grid_area": null,
            "grid_auto_columns": null,
            "grid_auto_flow": null,
            "grid_auto_rows": null,
            "grid_column": null,
            "grid_gap": null,
            "grid_row": null,
            "grid_template_areas": null,
            "grid_template_columns": null,
            "grid_template_rows": null,
            "height": null,
            "justify_content": null,
            "justify_items": null,
            "left": null,
            "margin": null,
            "max_height": null,
            "max_width": null,
            "min_height": null,
            "min_width": null,
            "object_fit": null,
            "object_position": null,
            "order": null,
            "overflow": null,
            "overflow_x": null,
            "overflow_y": null,
            "padding": null,
            "right": null,
            "top": null,
            "visibility": null,
            "width": null
          }
        },
        "a5e4e3deae554d799d985ff63f3e710e": {
          "model_module": "@jupyter-widgets/controls",
          "model_module_version": "1.5.0",
          "model_name": "HTMLModel",
          "state": {
            "_dom_classes": [],
            "_model_module": "@jupyter-widgets/controls",
            "_model_module_version": "1.5.0",
            "_model_name": "HTMLModel",
            "_view_count": null,
            "_view_module": "@jupyter-widgets/controls",
            "_view_module_version": "1.5.0",
            "_view_name": "HTMLView",
            "description": "",
            "description_tooltip": null,
            "layout": "IPY_MODEL_1250b89c8d8b48ada4ba531ba34442cc",
            "placeholder": "​",
            "style": "IPY_MODEL_5db9f96c9c1e47738ef8095c2d2480b1",
            "value": " 26.6M/26.6M [00:02&lt;00:00, 13.2MB/s]"
          }
        },
        "a67432ff40d44606991930761648b021": {
          "model_module": "@jupyter-widgets/base",
          "model_module_version": "1.2.0",
          "model_name": "LayoutModel",
          "state": {
            "_model_module": "@jupyter-widgets/base",
            "_model_module_version": "1.2.0",
            "_model_name": "LayoutModel",
            "_view_count": null,
            "_view_module": "@jupyter-widgets/base",
            "_view_module_version": "1.2.0",
            "_view_name": "LayoutView",
            "align_content": null,
            "align_items": null,
            "align_self": null,
            "border": null,
            "bottom": null,
            "display": null,
            "flex": null,
            "flex_flow": null,
            "grid_area": null,
            "grid_auto_columns": null,
            "grid_auto_flow": null,
            "grid_auto_rows": null,
            "grid_column": null,
            "grid_gap": null,
            "grid_row": null,
            "grid_template_areas": null,
            "grid_template_columns": null,
            "grid_template_rows": null,
            "height": null,
            "justify_content": null,
            "justify_items": null,
            "left": null,
            "margin": null,
            "max_height": null,
            "max_width": null,
            "min_height": null,
            "min_width": null,
            "object_fit": null,
            "object_position": null,
            "order": null,
            "overflow": null,
            "overflow_x": null,
            "overflow_y": null,
            "padding": null,
            "right": null,
            "top": null,
            "visibility": null,
            "width": null
          }
        },
        "a7213e969354445e91d24111baf31636": {
          "model_module": "@jupyter-widgets/base",
          "model_module_version": "1.2.0",
          "model_name": "LayoutModel",
          "state": {
            "_model_module": "@jupyter-widgets/base",
            "_model_module_version": "1.2.0",
            "_model_name": "LayoutModel",
            "_view_count": null,
            "_view_module": "@jupyter-widgets/base",
            "_view_module_version": "1.2.0",
            "_view_name": "LayoutView",
            "align_content": null,
            "align_items": null,
            "align_self": null,
            "border": null,
            "bottom": null,
            "display": null,
            "flex": null,
            "flex_flow": null,
            "grid_area": null,
            "grid_auto_columns": null,
            "grid_auto_flow": null,
            "grid_auto_rows": null,
            "grid_column": null,
            "grid_gap": null,
            "grid_row": null,
            "grid_template_areas": null,
            "grid_template_columns": null,
            "grid_template_rows": null,
            "height": null,
            "justify_content": null,
            "justify_items": null,
            "left": null,
            "margin": null,
            "max_height": null,
            "max_width": null,
            "min_height": null,
            "min_width": null,
            "object_fit": null,
            "object_position": null,
            "order": null,
            "overflow": null,
            "overflow_x": null,
            "overflow_y": null,
            "padding": null,
            "right": null,
            "top": null,
            "visibility": null,
            "width": null
          }
        },
        "a789d98cd99347008a86d7a0aa4e36c0": {
          "model_module": "@jupyter-widgets/base",
          "model_module_version": "1.2.0",
          "model_name": "LayoutModel",
          "state": {
            "_model_module": "@jupyter-widgets/base",
            "_model_module_version": "1.2.0",
            "_model_name": "LayoutModel",
            "_view_count": null,
            "_view_module": "@jupyter-widgets/base",
            "_view_module_version": "1.2.0",
            "_view_name": "LayoutView",
            "align_content": null,
            "align_items": null,
            "align_self": null,
            "border": null,
            "bottom": null,
            "display": null,
            "flex": null,
            "flex_flow": null,
            "grid_area": null,
            "grid_auto_columns": null,
            "grid_auto_flow": null,
            "grid_auto_rows": null,
            "grid_column": null,
            "grid_gap": null,
            "grid_row": null,
            "grid_template_areas": null,
            "grid_template_columns": null,
            "grid_template_rows": null,
            "height": null,
            "justify_content": null,
            "justify_items": null,
            "left": null,
            "margin": null,
            "max_height": null,
            "max_width": null,
            "min_height": null,
            "min_width": null,
            "object_fit": null,
            "object_position": null,
            "order": null,
            "overflow": null,
            "overflow_x": null,
            "overflow_y": null,
            "padding": null,
            "right": null,
            "top": null,
            "visibility": null,
            "width": null
          }
        },
        "a7b07cf0e560421391d76f416a04e840": {
          "model_module": "@jupyter-widgets/controls",
          "model_module_version": "1.5.0",
          "model_name": "HTMLModel",
          "state": {
            "_dom_classes": [],
            "_model_module": "@jupyter-widgets/controls",
            "_model_module_version": "1.5.0",
            "_model_name": "HTMLModel",
            "_view_count": null,
            "_view_module": "@jupyter-widgets/controls",
            "_view_module_version": "1.5.0",
            "_view_name": "HTMLView",
            "description": "",
            "description_tooltip": null,
            "layout": "IPY_MODEL_9dd469e48e7a4a57a14a794b9d74dcb3",
            "placeholder": "​",
            "style": "IPY_MODEL_d6dd327f12f9499392781b0c2b500188",
            "value": " 5000/5000 [00:00&lt;00:00, 6042.52 examples/s]"
          }
        },
        "a7fbbcaa47fd4298a8295c94c85d32f6": {
          "model_module": "@jupyter-widgets/controls",
          "model_module_version": "1.5.0",
          "model_name": "FloatProgressModel",
          "state": {
            "_dom_classes": [],
            "_model_module": "@jupyter-widgets/controls",
            "_model_module_version": "1.5.0",
            "_model_name": "FloatProgressModel",
            "_view_count": null,
            "_view_module": "@jupyter-widgets/controls",
            "_view_module_version": "1.5.0",
            "_view_name": "ProgressView",
            "bar_style": "success",
            "description": "",
            "description_tooltip": null,
            "layout": "IPY_MODEL_7c805063c3ea48e59021138c56c3136f",
            "max": 151890283,
            "min": 0,
            "orientation": "horizontal",
            "style": "IPY_MODEL_fef09160773043268feb8cfd503976a3",
            "value": 151890283
          }
        },
        "aa9b130fb94c48ef82d4411ba638d299": {
          "model_module": "@jupyter-widgets/controls",
          "model_module_version": "1.5.0",
          "model_name": "HTMLModel",
          "state": {
            "_dom_classes": [],
            "_model_module": "@jupyter-widgets/controls",
            "_model_module_version": "1.5.0",
            "_model_name": "HTMLModel",
            "_view_count": null,
            "_view_module": "@jupyter-widgets/controls",
            "_view_module_version": "1.5.0",
            "_view_name": "HTMLView",
            "description": "",
            "description_tooltip": null,
            "layout": "IPY_MODEL_973628ea201447a7b254212f0f953689",
            "placeholder": "​",
            "style": "IPY_MODEL_d6b2bd2607564fcba95afded501b7d9a",
            "value": " 5000/5000 [00:00&lt;00:00, 5354.87 examples/s]"
          }
        },
        "ab12dc0c13474f4dac2f782fcee49bce": {
          "model_module": "@jupyter-widgets/controls",
          "model_module_version": "1.5.0",
          "model_name": "HTMLModel",
          "state": {
            "_dom_classes": [],
            "_model_module": "@jupyter-widgets/controls",
            "_model_module_version": "1.5.0",
            "_model_name": "HTMLModel",
            "_view_count": null,
            "_view_module": "@jupyter-widgets/controls",
            "_view_module_version": "1.5.0",
            "_view_name": "HTMLView",
            "description": "",
            "description_tooltip": null,
            "layout": "IPY_MODEL_c1aa19c2d8ec48b6b5cd3992c5f4a3c2",
            "placeholder": "​",
            "style": "IPY_MODEL_85ddc1c3605047de98e353f56258b35e",
            "value": " 100173/100173 [00:01&lt;00:00, 46390.50 examples/s]"
          }
        },
        "ab34e41392aa40d196c27cf9edd6ff09": {
          "model_module": "@jupyter-widgets/base",
          "model_module_version": "1.2.0",
          "model_name": "LayoutModel",
          "state": {
            "_model_module": "@jupyter-widgets/base",
            "_model_module_version": "1.2.0",
            "_model_name": "LayoutModel",
            "_view_count": null,
            "_view_module": "@jupyter-widgets/base",
            "_view_module_version": "1.2.0",
            "_view_name": "LayoutView",
            "align_content": null,
            "align_items": null,
            "align_self": null,
            "border": null,
            "bottom": null,
            "display": null,
            "flex": null,
            "flex_flow": null,
            "grid_area": null,
            "grid_auto_columns": null,
            "grid_auto_flow": null,
            "grid_auto_rows": null,
            "grid_column": null,
            "grid_gap": null,
            "grid_row": null,
            "grid_template_areas": null,
            "grid_template_columns": null,
            "grid_template_rows": null,
            "height": null,
            "justify_content": null,
            "justify_items": null,
            "left": null,
            "margin": null,
            "max_height": null,
            "max_width": null,
            "min_height": null,
            "min_width": null,
            "object_fit": null,
            "object_position": null,
            "order": null,
            "overflow": null,
            "overflow_x": null,
            "overflow_y": null,
            "padding": null,
            "right": null,
            "top": null,
            "visibility": null,
            "width": null
          }
        },
        "acb49a0005114060be6d8a2e73d0d494": {
          "model_module": "@jupyter-widgets/base",
          "model_module_version": "1.2.0",
          "model_name": "LayoutModel",
          "state": {
            "_model_module": "@jupyter-widgets/base",
            "_model_module_version": "1.2.0",
            "_model_name": "LayoutModel",
            "_view_count": null,
            "_view_module": "@jupyter-widgets/base",
            "_view_module_version": "1.2.0",
            "_view_name": "LayoutView",
            "align_content": null,
            "align_items": null,
            "align_self": null,
            "border": null,
            "bottom": null,
            "display": null,
            "flex": null,
            "flex_flow": null,
            "grid_area": null,
            "grid_auto_columns": null,
            "grid_auto_flow": null,
            "grid_auto_rows": null,
            "grid_column": null,
            "grid_gap": null,
            "grid_row": null,
            "grid_template_areas": null,
            "grid_template_columns": null,
            "grid_template_rows": null,
            "height": null,
            "justify_content": null,
            "justify_items": null,
            "left": null,
            "margin": null,
            "max_height": null,
            "max_width": null,
            "min_height": null,
            "min_width": null,
            "object_fit": null,
            "object_position": null,
            "order": null,
            "overflow": null,
            "overflow_x": null,
            "overflow_y": null,
            "padding": null,
            "right": null,
            "top": null,
            "visibility": null,
            "width": null
          }
        },
        "ae656308124c48738af140d56124ce00": {
          "model_module": "@jupyter-widgets/controls",
          "model_module_version": "1.5.0",
          "model_name": "HTMLModel",
          "state": {
            "_dom_classes": [],
            "_model_module": "@jupyter-widgets/controls",
            "_model_module_version": "1.5.0",
            "_model_name": "HTMLModel",
            "_view_count": null,
            "_view_module": "@jupyter-widgets/controls",
            "_view_module_version": "1.5.0",
            "_view_name": "HTMLView",
            "description": "",
            "description_tooltip": null,
            "layout": "IPY_MODEL_ffba86c118204d4d88755f6b7b7748e7",
            "placeholder": "​",
            "style": "IPY_MODEL_1a6beadf22294732ae175763d063c186",
            "value": "Map: 100%"
          }
        },
        "af8107d8fd4c4fd486240649615928ac": {
          "model_module": "@jupyter-widgets/controls",
          "model_module_version": "1.5.0",
          "model_name": "HTMLModel",
          "state": {
            "_dom_classes": [],
            "_model_module": "@jupyter-widgets/controls",
            "_model_module_version": "1.5.0",
            "_model_name": "HTMLModel",
            "_view_count": null,
            "_view_module": "@jupyter-widgets/controls",
            "_view_module_version": "1.5.0",
            "_view_name": "HTMLView",
            "description": "",
            "description_tooltip": null,
            "layout": "IPY_MODEL_0035dfaa4808422389cdc3f16371aadc",
            "placeholder": "​",
            "style": "IPY_MODEL_712ce1ae54424b8aacfa040dae9d0de7",
            "value": " 5000/5000 [00:07&lt;00:00, 1006.67 examples/s]"
          }
        },
        "aff486e71e2a413ca6c890827a72d2cc": {
          "model_module": "@jupyter-widgets/controls",
          "model_module_version": "1.5.0",
          "model_name": "DescriptionStyleModel",
          "state": {
            "_model_module": "@jupyter-widgets/controls",
            "_model_module_version": "1.5.0",
            "_model_name": "DescriptionStyleModel",
            "_view_count": null,
            "_view_module": "@jupyter-widgets/base",
            "_view_module_version": "1.2.0",
            "_view_name": "StyleView",
            "description_width": ""
          }
        },
        "b10569795a0a44bfbbc76ac749d5b5a6": {
          "model_module": "@jupyter-widgets/controls",
          "model_module_version": "1.5.0",
          "model_name": "HBoxModel",
          "state": {
            "_dom_classes": [],
            "_model_module": "@jupyter-widgets/controls",
            "_model_module_version": "1.5.0",
            "_model_name": "HBoxModel",
            "_view_count": null,
            "_view_module": "@jupyter-widgets/controls",
            "_view_module_version": "1.5.0",
            "_view_name": "HBoxView",
            "box_style": "",
            "children": [
              "IPY_MODEL_7924009cb68143fa891bf37b239f2a7e",
              "IPY_MODEL_3dd1e0dd3a7640a1828acb9c991bb2a9",
              "IPY_MODEL_a7b07cf0e560421391d76f416a04e840"
            ],
            "layout": "IPY_MODEL_543c6b38dfab46419028d97431d4f027"
          }
        },
        "b19d3cb3463543c1b4b3186f838bcc60": {
          "model_module": "@jupyter-widgets/controls",
          "model_module_version": "1.5.0",
          "model_name": "ProgressStyleModel",
          "state": {
            "_model_module": "@jupyter-widgets/controls",
            "_model_module_version": "1.5.0",
            "_model_name": "ProgressStyleModel",
            "_view_count": null,
            "_view_module": "@jupyter-widgets/base",
            "_view_module_version": "1.2.0",
            "_view_name": "StyleView",
            "bar_color": null,
            "description_width": ""
          }
        },
        "b35a05db520e46669303d86d416ae2f9": {
          "model_module": "@jupyter-widgets/controls",
          "model_module_version": "1.5.0",
          "model_name": "DescriptionStyleModel",
          "state": {
            "_model_module": "@jupyter-widgets/controls",
            "_model_module_version": "1.5.0",
            "_model_name": "DescriptionStyleModel",
            "_view_count": null,
            "_view_module": "@jupyter-widgets/base",
            "_view_module_version": "1.2.0",
            "_view_name": "StyleView",
            "description_width": ""
          }
        },
        "b37144eecd1049f9adcbf161574d6d00": {
          "model_module": "@jupyter-widgets/controls",
          "model_module_version": "1.5.0",
          "model_name": "HBoxModel",
          "state": {
            "_dom_classes": [],
            "_model_module": "@jupyter-widgets/controls",
            "_model_module_version": "1.5.0",
            "_model_name": "HBoxModel",
            "_view_count": null,
            "_view_module": "@jupyter-widgets/controls",
            "_view_module_version": "1.5.0",
            "_view_name": "HBoxView",
            "box_style": "",
            "children": [
              "IPY_MODEL_ec4e4e9442774ab2aeaaa8ba9da203b3",
              "IPY_MODEL_314e2e5ab30c4cdda8d7bd79c7f43c83",
              "IPY_MODEL_889b2ecdad4e40c098d8fad6309b1a5e"
            ],
            "layout": "IPY_MODEL_415bbe3551ca483eabe3fab05458c154"
          }
        },
        "b4797da275a14b2a8b8676d6b2133cea": {
          "model_module": "@jupyter-widgets/controls",
          "model_module_version": "1.5.0",
          "model_name": "HBoxModel",
          "state": {
            "_dom_classes": [],
            "_model_module": "@jupyter-widgets/controls",
            "_model_module_version": "1.5.0",
            "_model_name": "HBoxModel",
            "_view_count": null,
            "_view_module": "@jupyter-widgets/controls",
            "_view_module_version": "1.5.0",
            "_view_name": "HBoxView",
            "box_style": "",
            "children": [
              "IPY_MODEL_551f3ba90e1f429ab710a44a10015619",
              "IPY_MODEL_c729d19b04574199bd97a07000db4a83",
              "IPY_MODEL_367c6e8b352f49a0bd5eeb9875a4a9a5"
            ],
            "layout": "IPY_MODEL_394b93a3adfc41fbb1ed661364f8b020"
          }
        },
        "b63ece7d081243c099b6d02f733a6b6a": {
          "model_module": "@jupyter-widgets/base",
          "model_module_version": "1.2.0",
          "model_name": "LayoutModel",
          "state": {
            "_model_module": "@jupyter-widgets/base",
            "_model_module_version": "1.2.0",
            "_model_name": "LayoutModel",
            "_view_count": null,
            "_view_module": "@jupyter-widgets/base",
            "_view_module_version": "1.2.0",
            "_view_name": "LayoutView",
            "align_content": null,
            "align_items": null,
            "align_self": null,
            "border": null,
            "bottom": null,
            "display": null,
            "flex": null,
            "flex_flow": null,
            "grid_area": null,
            "grid_auto_columns": null,
            "grid_auto_flow": null,
            "grid_auto_rows": null,
            "grid_column": null,
            "grid_gap": null,
            "grid_row": null,
            "grid_template_areas": null,
            "grid_template_columns": null,
            "grid_template_rows": null,
            "height": null,
            "justify_content": null,
            "justify_items": null,
            "left": null,
            "margin": null,
            "max_height": null,
            "max_width": null,
            "min_height": null,
            "min_width": null,
            "object_fit": null,
            "object_position": null,
            "order": null,
            "overflow": null,
            "overflow_x": null,
            "overflow_y": null,
            "padding": null,
            "right": null,
            "top": null,
            "visibility": null,
            "width": null
          }
        },
        "b7d320699c434557b0bb7dc3f4a71b9a": {
          "model_module": "@jupyter-widgets/controls",
          "model_module_version": "1.5.0",
          "model_name": "HTMLModel",
          "state": {
            "_dom_classes": [],
            "_model_module": "@jupyter-widgets/controls",
            "_model_module_version": "1.5.0",
            "_model_name": "HTMLModel",
            "_view_count": null,
            "_view_module": "@jupyter-widgets/controls",
            "_view_module_version": "1.5.0",
            "_view_name": "HTMLView",
            "description": "",
            "description_tooltip": null,
            "layout": "IPY_MODEL_210fc4b2b52b48bbb1833e4d742282ce",
            "placeholder": "​",
            "style": "IPY_MODEL_28b9b9c4bd3b4099842b79b49ff3299f",
            "value": "Map: 100%"
          }
        },
        "b8869524ce154399a83252e358056de7": {
          "model_module": "@jupyter-widgets/controls",
          "model_module_version": "1.5.0",
          "model_name": "HTMLModel",
          "state": {
            "_dom_classes": [],
            "_model_module": "@jupyter-widgets/controls",
            "_model_module_version": "1.5.0",
            "_model_name": "HTMLModel",
            "_view_count": null,
            "_view_module": "@jupyter-widgets/controls",
            "_view_module_version": "1.5.0",
            "_view_name": "HTMLView",
            "description": "",
            "description_tooltip": null,
            "layout": "IPY_MODEL_ab34e41392aa40d196c27cf9edd6ff09",
            "placeholder": "​",
            "style": "IPY_MODEL_80a91fe3f91e45059bcc6c5c04d56913",
            "value": "Filter: 100%"
          }
        },
        "b89599be63a84d4da88a8c4c634e6150": {
          "model_module": "@jupyter-widgets/controls",
          "model_module_version": "1.5.0",
          "model_name": "HTMLModel",
          "state": {
            "_dom_classes": [],
            "_model_module": "@jupyter-widgets/controls",
            "_model_module_version": "1.5.0",
            "_model_name": "HTMLModel",
            "_view_count": null,
            "_view_module": "@jupyter-widgets/controls",
            "_view_module_version": "1.5.0",
            "_view_name": "HTMLView",
            "description": "",
            "description_tooltip": null,
            "layout": "IPY_MODEL_1b5f04883e5343dfa81a42b76199316e",
            "placeholder": "​",
            "style": "IPY_MODEL_f32d82e6d4dd4469af477e160208274a",
            "value": "Downloading data: 100%"
          }
        },
        "b9b8cd0dec914ff182345ea83cfe6ae8": {
          "model_module": "@jupyter-widgets/controls",
          "model_module_version": "1.5.0",
          "model_name": "ProgressStyleModel",
          "state": {
            "_model_module": "@jupyter-widgets/controls",
            "_model_module_version": "1.5.0",
            "_model_name": "ProgressStyleModel",
            "_view_count": null,
            "_view_module": "@jupyter-widgets/base",
            "_view_module_version": "1.2.0",
            "_view_name": "StyleView",
            "bar_color": null,
            "description_width": ""
          }
        },
        "bb3ecf2ae7374440a01a8f1817976651": {
          "model_module": "@jupyter-widgets/base",
          "model_module_version": "1.2.0",
          "model_name": "LayoutModel",
          "state": {
            "_model_module": "@jupyter-widgets/base",
            "_model_module_version": "1.2.0",
            "_model_name": "LayoutModel",
            "_view_count": null,
            "_view_module": "@jupyter-widgets/base",
            "_view_module_version": "1.2.0",
            "_view_name": "LayoutView",
            "align_content": null,
            "align_items": null,
            "align_self": null,
            "border": null,
            "bottom": null,
            "display": null,
            "flex": null,
            "flex_flow": null,
            "grid_area": null,
            "grid_auto_columns": null,
            "grid_auto_flow": null,
            "grid_auto_rows": null,
            "grid_column": null,
            "grid_gap": null,
            "grid_row": null,
            "grid_template_areas": null,
            "grid_template_columns": null,
            "grid_template_rows": null,
            "height": null,
            "justify_content": null,
            "justify_items": null,
            "left": null,
            "margin": null,
            "max_height": null,
            "max_width": null,
            "min_height": null,
            "min_width": null,
            "object_fit": null,
            "object_position": null,
            "order": null,
            "overflow": null,
            "overflow_x": null,
            "overflow_y": null,
            "padding": null,
            "right": null,
            "top": null,
            "visibility": null,
            "width": null
          }
        },
        "bc726ff04d5f4c43863f6313e1a50a4b": {
          "model_module": "@jupyter-widgets/controls",
          "model_module_version": "1.5.0",
          "model_name": "ProgressStyleModel",
          "state": {
            "_model_module": "@jupyter-widgets/controls",
            "_model_module_version": "1.5.0",
            "_model_name": "ProgressStyleModel",
            "_view_count": null,
            "_view_module": "@jupyter-widgets/base",
            "_view_module_version": "1.2.0",
            "_view_name": "StyleView",
            "bar_color": null,
            "description_width": ""
          }
        },
        "bd08eade14604b7083bdaaf378175a4f": {
          "model_module": "@jupyter-widgets/base",
          "model_module_version": "1.2.0",
          "model_name": "LayoutModel",
          "state": {
            "_model_module": "@jupyter-widgets/base",
            "_model_module_version": "1.2.0",
            "_model_name": "LayoutModel",
            "_view_count": null,
            "_view_module": "@jupyter-widgets/base",
            "_view_module_version": "1.2.0",
            "_view_name": "LayoutView",
            "align_content": null,
            "align_items": null,
            "align_self": null,
            "border": null,
            "bottom": null,
            "display": null,
            "flex": null,
            "flex_flow": null,
            "grid_area": null,
            "grid_auto_columns": null,
            "grid_auto_flow": null,
            "grid_auto_rows": null,
            "grid_column": null,
            "grid_gap": null,
            "grid_row": null,
            "grid_template_areas": null,
            "grid_template_columns": null,
            "grid_template_rows": null,
            "height": null,
            "justify_content": null,
            "justify_items": null,
            "left": null,
            "margin": null,
            "max_height": null,
            "max_width": null,
            "min_height": null,
            "min_width": null,
            "object_fit": null,
            "object_position": null,
            "order": null,
            "overflow": null,
            "overflow_x": null,
            "overflow_y": null,
            "padding": null,
            "right": null,
            "top": null,
            "visibility": null,
            "width": null
          }
        },
        "c1aa19c2d8ec48b6b5cd3992c5f4a3c2": {
          "model_module": "@jupyter-widgets/base",
          "model_module_version": "1.2.0",
          "model_name": "LayoutModel",
          "state": {
            "_model_module": "@jupyter-widgets/base",
            "_model_module_version": "1.2.0",
            "_model_name": "LayoutModel",
            "_view_count": null,
            "_view_module": "@jupyter-widgets/base",
            "_view_module_version": "1.2.0",
            "_view_name": "LayoutView",
            "align_content": null,
            "align_items": null,
            "align_self": null,
            "border": null,
            "bottom": null,
            "display": null,
            "flex": null,
            "flex_flow": null,
            "grid_area": null,
            "grid_auto_columns": null,
            "grid_auto_flow": null,
            "grid_auto_rows": null,
            "grid_column": null,
            "grid_gap": null,
            "grid_row": null,
            "grid_template_areas": null,
            "grid_template_columns": null,
            "grid_template_rows": null,
            "height": null,
            "justify_content": null,
            "justify_items": null,
            "left": null,
            "margin": null,
            "max_height": null,
            "max_width": null,
            "min_height": null,
            "min_width": null,
            "object_fit": null,
            "object_position": null,
            "order": null,
            "overflow": null,
            "overflow_x": null,
            "overflow_y": null,
            "padding": null,
            "right": null,
            "top": null,
            "visibility": null,
            "width": null
          }
        },
        "c25e22716de846a18d9716ceb653b5a1": {
          "model_module": "@jupyter-widgets/base",
          "model_module_version": "1.2.0",
          "model_name": "LayoutModel",
          "state": {
            "_model_module": "@jupyter-widgets/base",
            "_model_module_version": "1.2.0",
            "_model_name": "LayoutModel",
            "_view_count": null,
            "_view_module": "@jupyter-widgets/base",
            "_view_module_version": "1.2.0",
            "_view_name": "LayoutView",
            "align_content": null,
            "align_items": null,
            "align_self": null,
            "border": null,
            "bottom": null,
            "display": null,
            "flex": null,
            "flex_flow": null,
            "grid_area": null,
            "grid_auto_columns": null,
            "grid_auto_flow": null,
            "grid_auto_rows": null,
            "grid_column": null,
            "grid_gap": null,
            "grid_row": null,
            "grid_template_areas": null,
            "grid_template_columns": null,
            "grid_template_rows": null,
            "height": null,
            "justify_content": null,
            "justify_items": null,
            "left": null,
            "margin": null,
            "max_height": null,
            "max_width": null,
            "min_height": null,
            "min_width": null,
            "object_fit": null,
            "object_position": null,
            "order": null,
            "overflow": null,
            "overflow_x": null,
            "overflow_y": null,
            "padding": null,
            "right": null,
            "top": null,
            "visibility": null,
            "width": null
          }
        },
        "c2cd1b92c9ac47deac05c2a1943991a5": {
          "model_module": "@jupyter-widgets/base",
          "model_module_version": "1.2.0",
          "model_name": "LayoutModel",
          "state": {
            "_model_module": "@jupyter-widgets/base",
            "_model_module_version": "1.2.0",
            "_model_name": "LayoutModel",
            "_view_count": null,
            "_view_module": "@jupyter-widgets/base",
            "_view_module_version": "1.2.0",
            "_view_name": "LayoutView",
            "align_content": null,
            "align_items": null,
            "align_self": null,
            "border": null,
            "bottom": null,
            "display": null,
            "flex": null,
            "flex_flow": null,
            "grid_area": null,
            "grid_auto_columns": null,
            "grid_auto_flow": null,
            "grid_auto_rows": null,
            "grid_column": null,
            "grid_gap": null,
            "grid_row": null,
            "grid_template_areas": null,
            "grid_template_columns": null,
            "grid_template_rows": null,
            "height": null,
            "justify_content": null,
            "justify_items": null,
            "left": null,
            "margin": null,
            "max_height": null,
            "max_width": null,
            "min_height": null,
            "min_width": null,
            "object_fit": null,
            "object_position": null,
            "order": null,
            "overflow": null,
            "overflow_x": null,
            "overflow_y": null,
            "padding": null,
            "right": null,
            "top": null,
            "visibility": null,
            "width": null
          }
        },
        "c4aef137ad5c4ae5b9de7f3f29ce0edc": {
          "model_module": "@jupyter-widgets/base",
          "model_module_version": "1.2.0",
          "model_name": "LayoutModel",
          "state": {
            "_model_module": "@jupyter-widgets/base",
            "_model_module_version": "1.2.0",
            "_model_name": "LayoutModel",
            "_view_count": null,
            "_view_module": "@jupyter-widgets/base",
            "_view_module_version": "1.2.0",
            "_view_name": "LayoutView",
            "align_content": null,
            "align_items": null,
            "align_self": null,
            "border": null,
            "bottom": null,
            "display": null,
            "flex": null,
            "flex_flow": null,
            "grid_area": null,
            "grid_auto_columns": null,
            "grid_auto_flow": null,
            "grid_auto_rows": null,
            "grid_column": null,
            "grid_gap": null,
            "grid_row": null,
            "grid_template_areas": null,
            "grid_template_columns": null,
            "grid_template_rows": null,
            "height": null,
            "justify_content": null,
            "justify_items": null,
            "left": null,
            "margin": null,
            "max_height": null,
            "max_width": null,
            "min_height": null,
            "min_width": null,
            "object_fit": null,
            "object_position": null,
            "order": null,
            "overflow": null,
            "overflow_x": null,
            "overflow_y": null,
            "padding": null,
            "right": null,
            "top": null,
            "visibility": null,
            "width": null
          }
        },
        "c729d19b04574199bd97a07000db4a83": {
          "model_module": "@jupyter-widgets/controls",
          "model_module_version": "1.5.0",
          "model_name": "FloatProgressModel",
          "state": {
            "_dom_classes": [],
            "_model_module": "@jupyter-widgets/controls",
            "_model_module_version": "1.5.0",
            "_model_name": "FloatProgressModel",
            "_view_count": null,
            "_view_module": "@jupyter-widgets/controls",
            "_view_module_version": "1.5.0",
            "_view_name": "ProgressView",
            "bar_style": "success",
            "description": "",
            "description_tooltip": null,
            "layout": "IPY_MODEL_7ca61525cfbc451f8526fcd4f6601ab0",
            "max": 801402,
            "min": 0,
            "orientation": "horizontal",
            "style": "IPY_MODEL_30af2adc72634bf798c7d5f42b14d1f9",
            "value": 801402
          }
        },
        "c7993c03645844788a6151969a6b40eb": {
          "model_module": "@jupyter-widgets/controls",
          "model_module_version": "1.5.0",
          "model_name": "HTMLModel",
          "state": {
            "_dom_classes": [],
            "_model_module": "@jupyter-widgets/controls",
            "_model_module_version": "1.5.0",
            "_model_name": "HTMLModel",
            "_view_count": null,
            "_view_module": "@jupyter-widgets/controls",
            "_view_module_version": "1.5.0",
            "_view_name": "HTMLView",
            "description": "",
            "description_tooltip": null,
            "layout": "IPY_MODEL_c2cd1b92c9ac47deac05c2a1943991a5",
            "placeholder": "​",
            "style": "IPY_MODEL_ff2e7df7f15d4306b6ea89a805e5acf3",
            "value": " 5000/5000 [00:02&lt;00:00, 2115.34 examples/s]"
          }
        },
        "c8fbd7873c2c4dca96750813ed9cdd30": {
          "model_module": "@jupyter-widgets/base",
          "model_module_version": "1.2.0",
          "model_name": "LayoutModel",
          "state": {
            "_model_module": "@jupyter-widgets/base",
            "_model_module_version": "1.2.0",
            "_model_name": "LayoutModel",
            "_view_count": null,
            "_view_module": "@jupyter-widgets/base",
            "_view_module_version": "1.2.0",
            "_view_name": "LayoutView",
            "align_content": null,
            "align_items": null,
            "align_self": null,
            "border": null,
            "bottom": null,
            "display": null,
            "flex": null,
            "flex_flow": null,
            "grid_area": null,
            "grid_auto_columns": null,
            "grid_auto_flow": null,
            "grid_auto_rows": null,
            "grid_column": null,
            "grid_gap": null,
            "grid_row": null,
            "grid_template_areas": null,
            "grid_template_columns": null,
            "grid_template_rows": null,
            "height": null,
            "justify_content": null,
            "justify_items": null,
            "left": null,
            "margin": null,
            "max_height": null,
            "max_width": null,
            "min_height": null,
            "min_width": null,
            "object_fit": null,
            "object_position": null,
            "order": null,
            "overflow": null,
            "overflow_x": null,
            "overflow_y": null,
            "padding": null,
            "right": null,
            "top": null,
            "visibility": null,
            "width": null
          }
        },
        "c9226d5ae8f4420fa46552eb921e976b": {
          "model_module": "@jupyter-widgets/controls",
          "model_module_version": "1.5.0",
          "model_name": "HTMLModel",
          "state": {
            "_dom_classes": [],
            "_model_module": "@jupyter-widgets/controls",
            "_model_module_version": "1.5.0",
            "_model_name": "HTMLModel",
            "_view_count": null,
            "_view_module": "@jupyter-widgets/controls",
            "_view_module_version": "1.5.0",
            "_view_name": "HTMLView",
            "description": "",
            "description_tooltip": null,
            "layout": "IPY_MODEL_477ef808ec96442d8af9809372a7f9a5",
            "placeholder": "​",
            "style": "IPY_MODEL_928e440ff8f0472e9fa59f8ec1bb5ff4",
            "value": " 5000/5000 [00:01&lt;00:00, 2878.81 examples/s]"
          }
        },
        "c9d3f7f656dd486ba21081e1611a2c54": {
          "model_module": "@jupyter-widgets/base",
          "model_module_version": "1.2.0",
          "model_name": "LayoutModel",
          "state": {
            "_model_module": "@jupyter-widgets/base",
            "_model_module_version": "1.2.0",
            "_model_name": "LayoutModel",
            "_view_count": null,
            "_view_module": "@jupyter-widgets/base",
            "_view_module_version": "1.2.0",
            "_view_name": "LayoutView",
            "align_content": null,
            "align_items": null,
            "align_self": null,
            "border": null,
            "bottom": null,
            "display": null,
            "flex": null,
            "flex_flow": null,
            "grid_area": null,
            "grid_auto_columns": null,
            "grid_auto_flow": null,
            "grid_auto_rows": null,
            "grid_column": null,
            "grid_gap": null,
            "grid_row": null,
            "grid_template_areas": null,
            "grid_template_columns": null,
            "grid_template_rows": null,
            "height": null,
            "justify_content": null,
            "justify_items": null,
            "left": null,
            "margin": null,
            "max_height": null,
            "max_width": null,
            "min_height": null,
            "min_width": null,
            "object_fit": null,
            "object_position": null,
            "order": null,
            "overflow": null,
            "overflow_x": null,
            "overflow_y": null,
            "padding": null,
            "right": null,
            "top": null,
            "visibility": null,
            "width": null
          }
        },
        "ca7466f98d424432afbae5a1816dac9a": {
          "model_module": "@jupyter-widgets/controls",
          "model_module_version": "1.5.0",
          "model_name": "HTMLModel",
          "state": {
            "_dom_classes": [],
            "_model_module": "@jupyter-widgets/controls",
            "_model_module_version": "1.5.0",
            "_model_name": "HTMLModel",
            "_view_count": null,
            "_view_module": "@jupyter-widgets/controls",
            "_view_module_version": "1.5.0",
            "_view_name": "HTMLView",
            "description": "",
            "description_tooltip": null,
            "layout": "IPY_MODEL_73bfbf24abfa4112bb6dab67659b1413",
            "placeholder": "​",
            "style": "IPY_MODEL_3c14dccb5f5546de9f5435b7db33f28b",
            "value": "Filter: 100%"
          }
        },
        "cdd6970f3bc047159ff4caaed6668539": {
          "model_module": "@jupyter-widgets/base",
          "model_module_version": "1.2.0",
          "model_name": "LayoutModel",
          "state": {
            "_model_module": "@jupyter-widgets/base",
            "_model_module_version": "1.2.0",
            "_model_name": "LayoutModel",
            "_view_count": null,
            "_view_module": "@jupyter-widgets/base",
            "_view_module_version": "1.2.0",
            "_view_name": "LayoutView",
            "align_content": null,
            "align_items": null,
            "align_self": null,
            "border": null,
            "bottom": null,
            "display": null,
            "flex": null,
            "flex_flow": null,
            "grid_area": null,
            "grid_auto_columns": null,
            "grid_auto_flow": null,
            "grid_auto_rows": null,
            "grid_column": null,
            "grid_gap": null,
            "grid_row": null,
            "grid_template_areas": null,
            "grid_template_columns": null,
            "grid_template_rows": null,
            "height": null,
            "justify_content": null,
            "justify_items": null,
            "left": null,
            "margin": null,
            "max_height": null,
            "max_width": null,
            "min_height": null,
            "min_width": null,
            "object_fit": null,
            "object_position": null,
            "order": null,
            "overflow": null,
            "overflow_x": null,
            "overflow_y": null,
            "padding": null,
            "right": null,
            "top": null,
            "visibility": null,
            "width": null
          }
        },
        "cf94f333606043969dacc6674fd00be9": {
          "model_module": "@jupyter-widgets/controls",
          "model_module_version": "1.5.0",
          "model_name": "HBoxModel",
          "state": {
            "_dom_classes": [],
            "_model_module": "@jupyter-widgets/controls",
            "_model_module_version": "1.5.0",
            "_model_name": "HBoxModel",
            "_view_count": null,
            "_view_module": "@jupyter-widgets/controls",
            "_view_module_version": "1.5.0",
            "_view_name": "HBoxView",
            "box_style": "",
            "children": [
              "IPY_MODEL_24bbc7212db8488baddbca2fa8c915a7",
              "IPY_MODEL_9e9fc0402d164185be46a6917396c9e6",
              "IPY_MODEL_8a429faa697748efa74cfc337e5a5824"
            ],
            "layout": "IPY_MODEL_acb49a0005114060be6d8a2e73d0d494"
          }
        },
        "d473d713a1ad46bc9fb9661c1658a83a": {
          "model_module": "@jupyter-widgets/controls",
          "model_module_version": "1.5.0",
          "model_name": "FloatProgressModel",
          "state": {
            "_dom_classes": [],
            "_model_module": "@jupyter-widgets/controls",
            "_model_module_version": "1.5.0",
            "_model_name": "FloatProgressModel",
            "_view_count": null,
            "_view_module": "@jupyter-widgets/controls",
            "_view_module_version": "1.5.0",
            "_view_name": "ProgressView",
            "bar_style": "success",
            "description": "",
            "description_tooltip": null,
            "layout": "IPY_MODEL_d7c7936c36414568a6ef4beeb064900c",
            "max": 5000,
            "min": 0,
            "orientation": "horizontal",
            "style": "IPY_MODEL_6965e7e55cff433cb60d36ff5947fa05",
            "value": 5000
          }
        },
        "d6b2bd2607564fcba95afded501b7d9a": {
          "model_module": "@jupyter-widgets/controls",
          "model_module_version": "1.5.0",
          "model_name": "DescriptionStyleModel",
          "state": {
            "_model_module": "@jupyter-widgets/controls",
            "_model_module_version": "1.5.0",
            "_model_name": "DescriptionStyleModel",
            "_view_count": null,
            "_view_module": "@jupyter-widgets/base",
            "_view_module_version": "1.2.0",
            "_view_name": "StyleView",
            "description_width": ""
          }
        },
        "d6c4ea2b85f745e1a768218f992c6313": {
          "model_module": "@jupyter-widgets/base",
          "model_module_version": "1.2.0",
          "model_name": "LayoutModel",
          "state": {
            "_model_module": "@jupyter-widgets/base",
            "_model_module_version": "1.2.0",
            "_model_name": "LayoutModel",
            "_view_count": null,
            "_view_module": "@jupyter-widgets/base",
            "_view_module_version": "1.2.0",
            "_view_name": "LayoutView",
            "align_content": null,
            "align_items": null,
            "align_self": null,
            "border": null,
            "bottom": null,
            "display": null,
            "flex": null,
            "flex_flow": null,
            "grid_area": null,
            "grid_auto_columns": null,
            "grid_auto_flow": null,
            "grid_auto_rows": null,
            "grid_column": null,
            "grid_gap": null,
            "grid_row": null,
            "grid_template_areas": null,
            "grid_template_columns": null,
            "grid_template_rows": null,
            "height": null,
            "justify_content": null,
            "justify_items": null,
            "left": null,
            "margin": null,
            "max_height": null,
            "max_width": null,
            "min_height": null,
            "min_width": null,
            "object_fit": null,
            "object_position": null,
            "order": null,
            "overflow": null,
            "overflow_x": null,
            "overflow_y": null,
            "padding": null,
            "right": null,
            "top": null,
            "visibility": null,
            "width": null
          }
        },
        "d6dd327f12f9499392781b0c2b500188": {
          "model_module": "@jupyter-widgets/controls",
          "model_module_version": "1.5.0",
          "model_name": "DescriptionStyleModel",
          "state": {
            "_model_module": "@jupyter-widgets/controls",
            "_model_module_version": "1.5.0",
            "_model_name": "DescriptionStyleModel",
            "_view_count": null,
            "_view_module": "@jupyter-widgets/base",
            "_view_module_version": "1.2.0",
            "_view_name": "StyleView",
            "description_width": ""
          }
        },
        "d7c7936c36414568a6ef4beeb064900c": {
          "model_module": "@jupyter-widgets/base",
          "model_module_version": "1.2.0",
          "model_name": "LayoutModel",
          "state": {
            "_model_module": "@jupyter-widgets/base",
            "_model_module_version": "1.2.0",
            "_model_name": "LayoutModel",
            "_view_count": null,
            "_view_module": "@jupyter-widgets/base",
            "_view_module_version": "1.2.0",
            "_view_name": "LayoutView",
            "align_content": null,
            "align_items": null,
            "align_self": null,
            "border": null,
            "bottom": null,
            "display": null,
            "flex": null,
            "flex_flow": null,
            "grid_area": null,
            "grid_auto_columns": null,
            "grid_auto_flow": null,
            "grid_auto_rows": null,
            "grid_column": null,
            "grid_gap": null,
            "grid_row": null,
            "grid_template_areas": null,
            "grid_template_columns": null,
            "grid_template_rows": null,
            "height": null,
            "justify_content": null,
            "justify_items": null,
            "left": null,
            "margin": null,
            "max_height": null,
            "max_width": null,
            "min_height": null,
            "min_width": null,
            "object_fit": null,
            "object_position": null,
            "order": null,
            "overflow": null,
            "overflow_x": null,
            "overflow_y": null,
            "padding": null,
            "right": null,
            "top": null,
            "visibility": null,
            "width": null
          }
        },
        "d938601390824dfe9a2369bb0116e1db": {
          "model_module": "@jupyter-widgets/controls",
          "model_module_version": "1.5.0",
          "model_name": "HTMLModel",
          "state": {
            "_dom_classes": [],
            "_model_module": "@jupyter-widgets/controls",
            "_model_module_version": "1.5.0",
            "_model_name": "HTMLModel",
            "_view_count": null,
            "_view_module": "@jupyter-widgets/controls",
            "_view_module_version": "1.5.0",
            "_view_name": "HTMLView",
            "description": "",
            "description_tooltip": null,
            "layout": "IPY_MODEL_9979316ff2734b9a82ddc8a34d145019",
            "placeholder": "​",
            "style": "IPY_MODEL_4ea6e51013954eca9841f6fd2de1fc76",
            "value": " 5000/5000 [00:00&lt;00:00, 14832.13 examples/s]"
          }
        },
        "dc266b914b554db2880509d2fcdcc9a6": {
          "model_module": "@jupyter-widgets/controls",
          "model_module_version": "1.5.0",
          "model_name": "ProgressStyleModel",
          "state": {
            "_model_module": "@jupyter-widgets/controls",
            "_model_module_version": "1.5.0",
            "_model_name": "ProgressStyleModel",
            "_view_count": null,
            "_view_module": "@jupyter-widgets/base",
            "_view_module_version": "1.2.0",
            "_view_name": "StyleView",
            "bar_color": null,
            "description_width": ""
          }
        },
        "dcb5ad035ef04e47b507bbebf03d6638": {
          "model_module": "@jupyter-widgets/base",
          "model_module_version": "1.2.0",
          "model_name": "LayoutModel",
          "state": {
            "_model_module": "@jupyter-widgets/base",
            "_model_module_version": "1.2.0",
            "_model_name": "LayoutModel",
            "_view_count": null,
            "_view_module": "@jupyter-widgets/base",
            "_view_module_version": "1.2.0",
            "_view_name": "LayoutView",
            "align_content": null,
            "align_items": null,
            "align_self": null,
            "border": null,
            "bottom": null,
            "display": null,
            "flex": null,
            "flex_flow": null,
            "grid_area": null,
            "grid_auto_columns": null,
            "grid_auto_flow": null,
            "grid_auto_rows": null,
            "grid_column": null,
            "grid_gap": null,
            "grid_row": null,
            "grid_template_areas": null,
            "grid_template_columns": null,
            "grid_template_rows": null,
            "height": null,
            "justify_content": null,
            "justify_items": null,
            "left": null,
            "margin": null,
            "max_height": null,
            "max_width": null,
            "min_height": null,
            "min_width": null,
            "object_fit": null,
            "object_position": null,
            "order": null,
            "overflow": null,
            "overflow_x": null,
            "overflow_y": null,
            "padding": null,
            "right": null,
            "top": null,
            "visibility": null,
            "width": null
          }
        },
        "ddc39ae0b96a429db423e70e88f5476d": {
          "model_module": "@jupyter-widgets/controls",
          "model_module_version": "1.5.0",
          "model_name": "HTMLModel",
          "state": {
            "_dom_classes": [],
            "_model_module": "@jupyter-widgets/controls",
            "_model_module_version": "1.5.0",
            "_model_name": "HTMLModel",
            "_view_count": null,
            "_view_module": "@jupyter-widgets/controls",
            "_view_module_version": "1.5.0",
            "_view_name": "HTMLView",
            "description": "",
            "description_tooltip": null,
            "layout": "IPY_MODEL_5fcae91654cf4270b6ebc80d8be67c61",
            "placeholder": "​",
            "style": "IPY_MODEL_486d53ca29934720bc525bf57e2fec5e",
            "value": "Downloading data: 100%"
          }
        },
        "df73cb283cf540dfb88797bc77d55109": {
          "model_module": "@jupyter-widgets/base",
          "model_module_version": "1.2.0",
          "model_name": "LayoutModel",
          "state": {
            "_model_module": "@jupyter-widgets/base",
            "_model_module_version": "1.2.0",
            "_model_name": "LayoutModel",
            "_view_count": null,
            "_view_module": "@jupyter-widgets/base",
            "_view_module_version": "1.2.0",
            "_view_name": "LayoutView",
            "align_content": null,
            "align_items": null,
            "align_self": null,
            "border": null,
            "bottom": null,
            "display": null,
            "flex": null,
            "flex_flow": null,
            "grid_area": null,
            "grid_auto_columns": null,
            "grid_auto_flow": null,
            "grid_auto_rows": null,
            "grid_column": null,
            "grid_gap": null,
            "grid_row": null,
            "grid_template_areas": null,
            "grid_template_columns": null,
            "grid_template_rows": null,
            "height": null,
            "justify_content": null,
            "justify_items": null,
            "left": null,
            "margin": null,
            "max_height": null,
            "max_width": null,
            "min_height": null,
            "min_width": null,
            "object_fit": null,
            "object_position": null,
            "order": null,
            "overflow": null,
            "overflow_x": null,
            "overflow_y": null,
            "padding": null,
            "right": null,
            "top": null,
            "visibility": null,
            "width": null
          }
        },
        "e47040e654874e98b4b40a59bc4f05ca": {
          "model_module": "@jupyter-widgets/controls",
          "model_module_version": "1.5.0",
          "model_name": "DescriptionStyleModel",
          "state": {
            "_model_module": "@jupyter-widgets/controls",
            "_model_module_version": "1.5.0",
            "_model_name": "DescriptionStyleModel",
            "_view_count": null,
            "_view_module": "@jupyter-widgets/base",
            "_view_module_version": "1.2.0",
            "_view_name": "StyleView",
            "description_width": ""
          }
        },
        "e4e3151557104c87bda41ef0b71113fa": {
          "model_module": "@jupyter-widgets/controls",
          "model_module_version": "1.5.0",
          "model_name": "DescriptionStyleModel",
          "state": {
            "_model_module": "@jupyter-widgets/controls",
            "_model_module_version": "1.5.0",
            "_model_name": "DescriptionStyleModel",
            "_view_count": null,
            "_view_module": "@jupyter-widgets/base",
            "_view_module_version": "1.2.0",
            "_view_name": "StyleView",
            "description_width": ""
          }
        },
        "e569903cd5d24192bd61cd46d407ed17": {
          "model_module": "@jupyter-widgets/controls",
          "model_module_version": "1.5.0",
          "model_name": "FloatProgressModel",
          "state": {
            "_dom_classes": [],
            "_model_module": "@jupyter-widgets/controls",
            "_model_module_version": "1.5.0",
            "_model_name": "FloatProgressModel",
            "_view_count": null,
            "_view_module": "@jupyter-widgets/controls",
            "_view_module_version": "1.5.0",
            "_view_name": "ProgressView",
            "bar_style": "success",
            "description": "",
            "description_tooltip": null,
            "layout": "IPY_MODEL_a1dc751c336044fa8bd6c69f87ffa81d",
            "max": 5000,
            "min": 0,
            "orientation": "horizontal",
            "style": "IPY_MODEL_f25a4da27f094b96a1a80523ddfa4767",
            "value": 5000
          }
        },
        "e5baac0a42cb46088aed6657328ce3d8": {
          "model_module": "@jupyter-widgets/controls",
          "model_module_version": "1.5.0",
          "model_name": "HBoxModel",
          "state": {
            "_dom_classes": [],
            "_model_module": "@jupyter-widgets/controls",
            "_model_module_version": "1.5.0",
            "_model_name": "HBoxModel",
            "_view_count": null,
            "_view_module": "@jupyter-widgets/controls",
            "_view_module_version": "1.5.0",
            "_view_name": "HBoxView",
            "box_style": "",
            "children": [
              "IPY_MODEL_ddc39ae0b96a429db423e70e88f5476d",
              "IPY_MODEL_a7fbbcaa47fd4298a8295c94c85d32f6",
              "IPY_MODEL_1027317300eb4206b641e7fdec134eae"
            ],
            "layout": "IPY_MODEL_6e9a544a5ec24f919a88b2be9591b43b"
          }
        },
        "e5cfce3f78d343a59457129633a4a525": {
          "model_module": "@jupyter-widgets/controls",
          "model_module_version": "1.5.0",
          "model_name": "DescriptionStyleModel",
          "state": {
            "_model_module": "@jupyter-widgets/controls",
            "_model_module_version": "1.5.0",
            "_model_name": "DescriptionStyleModel",
            "_view_count": null,
            "_view_module": "@jupyter-widgets/base",
            "_view_module_version": "1.2.0",
            "_view_name": "StyleView",
            "description_width": ""
          }
        },
        "e65a5bb75c684be3b980381f94bf246a": {
          "model_module": "@jupyter-widgets/controls",
          "model_module_version": "1.5.0",
          "model_name": "DescriptionStyleModel",
          "state": {
            "_model_module": "@jupyter-widgets/controls",
            "_model_module_version": "1.5.0",
            "_model_name": "DescriptionStyleModel",
            "_view_count": null,
            "_view_module": "@jupyter-widgets/base",
            "_view_module_version": "1.2.0",
            "_view_name": "StyleView",
            "description_width": ""
          }
        },
        "e8637ad86a844d1fa258fb0c2545f55a": {
          "model_module": "@jupyter-widgets/controls",
          "model_module_version": "1.5.0",
          "model_name": "HBoxModel",
          "state": {
            "_dom_classes": [],
            "_model_module": "@jupyter-widgets/controls",
            "_model_module_version": "1.5.0",
            "_model_name": "HBoxModel",
            "_view_count": null,
            "_view_module": "@jupyter-widgets/controls",
            "_view_module_version": "1.5.0",
            "_view_name": "HBoxView",
            "box_style": "",
            "children": [
              "IPY_MODEL_3dcca18389444f369665c796329046d6",
              "IPY_MODEL_1b2cf5674d574411867429efc06fa3ce",
              "IPY_MODEL_feb789e211334d0b906fe82d839ab346"
            ],
            "layout": "IPY_MODEL_b63ece7d081243c099b6d02f733a6b6a"
          }
        },
        "ec11dd2a96dd4746ac841d2fc8c03edc": {
          "model_module": "@jupyter-widgets/controls",
          "model_module_version": "1.5.0",
          "model_name": "HBoxModel",
          "state": {
            "_dom_classes": [],
            "_model_module": "@jupyter-widgets/controls",
            "_model_module_version": "1.5.0",
            "_model_name": "HBoxModel",
            "_view_count": null,
            "_view_module": "@jupyter-widgets/controls",
            "_view_module_version": "1.5.0",
            "_view_name": "HBoxView",
            "box_style": "",
            "children": [
              "IPY_MODEL_efe39097cc644894b8b7bb411396ba2b",
              "IPY_MODEL_e569903cd5d24192bd61cd46d407ed17",
              "IPY_MODEL_d938601390824dfe9a2369bb0116e1db"
            ],
            "layout": "IPY_MODEL_a789d98cd99347008a86d7a0aa4e36c0"
          }
        },
        "ec4e4e9442774ab2aeaaa8ba9da203b3": {
          "model_module": "@jupyter-widgets/controls",
          "model_module_version": "1.5.0",
          "model_name": "HTMLModel",
          "state": {
            "_dom_classes": [],
            "_model_module": "@jupyter-widgets/controls",
            "_model_module_version": "1.5.0",
            "_model_name": "HTMLModel",
            "_view_count": null,
            "_view_module": "@jupyter-widgets/controls",
            "_view_module_version": "1.5.0",
            "_view_name": "HTMLView",
            "description": "",
            "description_tooltip": null,
            "layout": "IPY_MODEL_a00cef3baf404172aaa8a16371154231",
            "placeholder": "​",
            "style": "IPY_MODEL_b35a05db520e46669303d86d416ae2f9",
            "value": "Filter: 100%"
          }
        },
        "ecab627244024e94a585046149070e89": {
          "model_module": "@jupyter-widgets/controls",
          "model_module_version": "1.5.0",
          "model_name": "DescriptionStyleModel",
          "state": {
            "_model_module": "@jupyter-widgets/controls",
            "_model_module_version": "1.5.0",
            "_model_name": "DescriptionStyleModel",
            "_view_count": null,
            "_view_module": "@jupyter-widgets/base",
            "_view_module_version": "1.2.0",
            "_view_name": "StyleView",
            "description_width": ""
          }
        },
        "ed28a29776104045b21a2842bbfc9aac": {
          "model_module": "@jupyter-widgets/controls",
          "model_module_version": "1.5.0",
          "model_name": "HTMLModel",
          "state": {
            "_dom_classes": [],
            "_model_module": "@jupyter-widgets/controls",
            "_model_module_version": "1.5.0",
            "_model_name": "HTMLModel",
            "_view_count": null,
            "_view_module": "@jupyter-widgets/controls",
            "_view_module_version": "1.5.0",
            "_view_name": "HTMLView",
            "description": "",
            "description_tooltip": null,
            "layout": "IPY_MODEL_29e1c8269f9344e18c54422bb8ab0531",
            "placeholder": "​",
            "style": "IPY_MODEL_6b31cb623d204ce1b2ce35fdd50f48e0",
            "value": "Map: 100%"
          }
        },
        "edd4525a1ae34a6fb83ab853c7d1661b": {
          "model_module": "@jupyter-widgets/base",
          "model_module_version": "1.2.0",
          "model_name": "LayoutModel",
          "state": {
            "_model_module": "@jupyter-widgets/base",
            "_model_module_version": "1.2.0",
            "_model_name": "LayoutModel",
            "_view_count": null,
            "_view_module": "@jupyter-widgets/base",
            "_view_module_version": "1.2.0",
            "_view_name": "LayoutView",
            "align_content": null,
            "align_items": null,
            "align_self": null,
            "border": null,
            "bottom": null,
            "display": null,
            "flex": null,
            "flex_flow": null,
            "grid_area": null,
            "grid_auto_columns": null,
            "grid_auto_flow": null,
            "grid_auto_rows": null,
            "grid_column": null,
            "grid_gap": null,
            "grid_row": null,
            "grid_template_areas": null,
            "grid_template_columns": null,
            "grid_template_rows": null,
            "height": null,
            "justify_content": null,
            "justify_items": null,
            "left": null,
            "margin": null,
            "max_height": null,
            "max_width": null,
            "min_height": null,
            "min_width": null,
            "object_fit": null,
            "object_position": null,
            "order": null,
            "overflow": null,
            "overflow_x": null,
            "overflow_y": null,
            "padding": null,
            "right": null,
            "top": null,
            "visibility": null,
            "width": null
          }
        },
        "ef1207ed7f5341acb039d44e7ffd3ec9": {
          "model_module": "@jupyter-widgets/controls",
          "model_module_version": "1.5.0",
          "model_name": "HBoxModel",
          "state": {
            "_dom_classes": [],
            "_model_module": "@jupyter-widgets/controls",
            "_model_module_version": "1.5.0",
            "_model_name": "HBoxModel",
            "_view_count": null,
            "_view_module": "@jupyter-widgets/controls",
            "_view_module_version": "1.5.0",
            "_view_name": "HBoxView",
            "box_style": "",
            "children": [
              "IPY_MODEL_ca7466f98d424432afbae5a1816dac9a",
              "IPY_MODEL_7d0c9ed3d1cd4ea5bc5e06203619898a",
              "IPY_MODEL_43130dd1562f4201be07109970e829e2"
            ],
            "layout": "IPY_MODEL_546eb83b78db40a48d206457df369f11"
          }
        },
        "ef321ce314924da1bd15e5c438c81587": {
          "model_module": "@jupyter-widgets/base",
          "model_module_version": "1.2.0",
          "model_name": "LayoutModel",
          "state": {
            "_model_module": "@jupyter-widgets/base",
            "_model_module_version": "1.2.0",
            "_model_name": "LayoutModel",
            "_view_count": null,
            "_view_module": "@jupyter-widgets/base",
            "_view_module_version": "1.2.0",
            "_view_name": "LayoutView",
            "align_content": null,
            "align_items": null,
            "align_self": null,
            "border": null,
            "bottom": null,
            "display": null,
            "flex": null,
            "flex_flow": null,
            "grid_area": null,
            "grid_auto_columns": null,
            "grid_auto_flow": null,
            "grid_auto_rows": null,
            "grid_column": null,
            "grid_gap": null,
            "grid_row": null,
            "grid_template_areas": null,
            "grid_template_columns": null,
            "grid_template_rows": null,
            "height": null,
            "justify_content": null,
            "justify_items": null,
            "left": null,
            "margin": null,
            "max_height": null,
            "max_width": null,
            "min_height": null,
            "min_width": null,
            "object_fit": null,
            "object_position": null,
            "order": null,
            "overflow": null,
            "overflow_x": null,
            "overflow_y": null,
            "padding": null,
            "right": null,
            "top": null,
            "visibility": null,
            "width": null
          }
        },
        "efe39097cc644894b8b7bb411396ba2b": {
          "model_module": "@jupyter-widgets/controls",
          "model_module_version": "1.5.0",
          "model_name": "HTMLModel",
          "state": {
            "_dom_classes": [],
            "_model_module": "@jupyter-widgets/controls",
            "_model_module_version": "1.5.0",
            "_model_name": "HTMLModel",
            "_view_count": null,
            "_view_module": "@jupyter-widgets/controls",
            "_view_module_version": "1.5.0",
            "_view_name": "HTMLView",
            "description": "",
            "description_tooltip": null,
            "layout": "IPY_MODEL_fb5629d282d64f7a8dcc5b8ff33e9725",
            "placeholder": "​",
            "style": "IPY_MODEL_5206d064c1b6498387408ddb46bb00ec",
            "value": "Map: 100%"
          }
        },
        "f03f296095284460b615ebb5c7ebc1c3": {
          "model_module": "@jupyter-widgets/controls",
          "model_module_version": "1.5.0",
          "model_name": "ProgressStyleModel",
          "state": {
            "_model_module": "@jupyter-widgets/controls",
            "_model_module_version": "1.5.0",
            "_model_name": "ProgressStyleModel",
            "_view_count": null,
            "_view_module": "@jupyter-widgets/base",
            "_view_module_version": "1.2.0",
            "_view_name": "StyleView",
            "bar_color": null,
            "description_width": ""
          }
        },
        "f1d76af7143d44a7893758b7683deeca": {
          "model_module": "@jupyter-widgets/base",
          "model_module_version": "1.2.0",
          "model_name": "LayoutModel",
          "state": {
            "_model_module": "@jupyter-widgets/base",
            "_model_module_version": "1.2.0",
            "_model_name": "LayoutModel",
            "_view_count": null,
            "_view_module": "@jupyter-widgets/base",
            "_view_module_version": "1.2.0",
            "_view_name": "LayoutView",
            "align_content": null,
            "align_items": null,
            "align_self": null,
            "border": null,
            "bottom": null,
            "display": null,
            "flex": null,
            "flex_flow": null,
            "grid_area": null,
            "grid_auto_columns": null,
            "grid_auto_flow": null,
            "grid_auto_rows": null,
            "grid_column": null,
            "grid_gap": null,
            "grid_row": null,
            "grid_template_areas": null,
            "grid_template_columns": null,
            "grid_template_rows": null,
            "height": null,
            "justify_content": null,
            "justify_items": null,
            "left": null,
            "margin": null,
            "max_height": null,
            "max_width": null,
            "min_height": null,
            "min_width": null,
            "object_fit": null,
            "object_position": null,
            "order": null,
            "overflow": null,
            "overflow_x": null,
            "overflow_y": null,
            "padding": null,
            "right": null,
            "top": null,
            "visibility": null,
            "width": null
          }
        },
        "f25a4da27f094b96a1a80523ddfa4767": {
          "model_module": "@jupyter-widgets/controls",
          "model_module_version": "1.5.0",
          "model_name": "ProgressStyleModel",
          "state": {
            "_model_module": "@jupyter-widgets/controls",
            "_model_module_version": "1.5.0",
            "_model_name": "ProgressStyleModel",
            "_view_count": null,
            "_view_module": "@jupyter-widgets/base",
            "_view_module_version": "1.2.0",
            "_view_name": "StyleView",
            "bar_color": null,
            "description_width": ""
          }
        },
        "f32d82e6d4dd4469af477e160208274a": {
          "model_module": "@jupyter-widgets/controls",
          "model_module_version": "1.5.0",
          "model_name": "DescriptionStyleModel",
          "state": {
            "_model_module": "@jupyter-widgets/controls",
            "_model_module_version": "1.5.0",
            "_model_name": "DescriptionStyleModel",
            "_view_count": null,
            "_view_module": "@jupyter-widgets/base",
            "_view_module_version": "1.2.0",
            "_view_name": "StyleView",
            "description_width": ""
          }
        },
        "f593b236a46a4453b9ff4b4d077084e3": {
          "model_module": "@jupyter-widgets/controls",
          "model_module_version": "1.5.0",
          "model_name": "HTMLModel",
          "state": {
            "_dom_classes": [],
            "_model_module": "@jupyter-widgets/controls",
            "_model_module_version": "1.5.0",
            "_model_name": "HTMLModel",
            "_view_count": null,
            "_view_module": "@jupyter-widgets/controls",
            "_view_module_version": "1.5.0",
            "_view_name": "HTMLView",
            "description": "",
            "description_tooltip": null,
            "layout": "IPY_MODEL_4e8bb82809614fc1bc3b0bef01d3b80d",
            "placeholder": "​",
            "style": "IPY_MODEL_e47040e654874e98b4b40a59bc4f05ca",
            "value": " 26.5M/26.5M [00:00&lt;00:00, 34.1MB/s]"
          }
        },
        "f63cbad2293746f4a5948f1f99ce346a": {
          "model_module": "@jupyter-widgets/base",
          "model_module_version": "1.2.0",
          "model_name": "LayoutModel",
          "state": {
            "_model_module": "@jupyter-widgets/base",
            "_model_module_version": "1.2.0",
            "_model_name": "LayoutModel",
            "_view_count": null,
            "_view_module": "@jupyter-widgets/base",
            "_view_module_version": "1.2.0",
            "_view_name": "LayoutView",
            "align_content": null,
            "align_items": null,
            "align_self": null,
            "border": null,
            "bottom": null,
            "display": null,
            "flex": null,
            "flex_flow": null,
            "grid_area": null,
            "grid_auto_columns": null,
            "grid_auto_flow": null,
            "grid_auto_rows": null,
            "grid_column": null,
            "grid_gap": null,
            "grid_row": null,
            "grid_template_areas": null,
            "grid_template_columns": null,
            "grid_template_rows": null,
            "height": null,
            "justify_content": null,
            "justify_items": null,
            "left": null,
            "margin": null,
            "max_height": null,
            "max_width": null,
            "min_height": null,
            "min_width": null,
            "object_fit": null,
            "object_position": null,
            "order": null,
            "overflow": null,
            "overflow_x": null,
            "overflow_y": null,
            "padding": null,
            "right": null,
            "top": null,
            "visibility": null,
            "width": null
          }
        },
        "fab2903422f547bb959b3914646d09e2": {
          "model_module": "@jupyter-widgets/controls",
          "model_module_version": "1.5.0",
          "model_name": "HTMLModel",
          "state": {
            "_dom_classes": [],
            "_model_module": "@jupyter-widgets/controls",
            "_model_module_version": "1.5.0",
            "_model_name": "HTMLModel",
            "_view_count": null,
            "_view_module": "@jupyter-widgets/controls",
            "_view_module_version": "1.5.0",
            "_view_name": "HTMLView",
            "description": "",
            "description_tooltip": null,
            "layout": "IPY_MODEL_7f54e7d044d644cf8ee8982f5b035639",
            "placeholder": "​",
            "style": "IPY_MODEL_e4e3151557104c87bda41ef0b71113fa",
            "value": "Downloading data: 100%"
          }
        },
        "fac588a418a2485487d8a4f56ff28f36": {
          "model_module": "@jupyter-widgets/controls",
          "model_module_version": "1.5.0",
          "model_name": "FloatProgressModel",
          "state": {
            "_dom_classes": [],
            "_model_module": "@jupyter-widgets/controls",
            "_model_module_version": "1.5.0",
            "_model_name": "FloatProgressModel",
            "_view_count": null,
            "_view_module": "@jupyter-widgets/controls",
            "_view_module_version": "1.5.0",
            "_view_name": "ProgressView",
            "bar_style": "success",
            "description": "",
            "description_tooltip": null,
            "layout": "IPY_MODEL_3a4891327b3d49479ef70bf3924f87f2",
            "max": 5000,
            "min": 0,
            "orientation": "horizontal",
            "style": "IPY_MODEL_59d263b54f67449489018c701d90611a",
            "value": 5000
          }
        },
        "fb5629d282d64f7a8dcc5b8ff33e9725": {
          "model_module": "@jupyter-widgets/base",
          "model_module_version": "1.2.0",
          "model_name": "LayoutModel",
          "state": {
            "_model_module": "@jupyter-widgets/base",
            "_model_module_version": "1.2.0",
            "_model_name": "LayoutModel",
            "_view_count": null,
            "_view_module": "@jupyter-widgets/base",
            "_view_module_version": "1.2.0",
            "_view_name": "LayoutView",
            "align_content": null,
            "align_items": null,
            "align_self": null,
            "border": null,
            "bottom": null,
            "display": null,
            "flex": null,
            "flex_flow": null,
            "grid_area": null,
            "grid_auto_columns": null,
            "grid_auto_flow": null,
            "grid_auto_rows": null,
            "grid_column": null,
            "grid_gap": null,
            "grid_row": null,
            "grid_template_areas": null,
            "grid_template_columns": null,
            "grid_template_rows": null,
            "height": null,
            "justify_content": null,
            "justify_items": null,
            "left": null,
            "margin": null,
            "max_height": null,
            "max_width": null,
            "min_height": null,
            "min_width": null,
            "object_fit": null,
            "object_position": null,
            "order": null,
            "overflow": null,
            "overflow_x": null,
            "overflow_y": null,
            "padding": null,
            "right": null,
            "top": null,
            "visibility": null,
            "width": null
          }
        },
        "fc8a8f06abff4f679f823ba427cacd07": {
          "model_module": "@jupyter-widgets/controls",
          "model_module_version": "1.5.0",
          "model_name": "HBoxModel",
          "state": {
            "_dom_classes": [],
            "_model_module": "@jupyter-widgets/controls",
            "_model_module_version": "1.5.0",
            "_model_name": "HBoxModel",
            "_view_count": null,
            "_view_module": "@jupyter-widgets/controls",
            "_view_module_version": "1.5.0",
            "_view_name": "HBoxView",
            "box_style": "",
            "children": [
              "IPY_MODEL_6070020537c94d47a8df6cd15133d608",
              "IPY_MODEL_9feb9c09671441bf9da2222173ee7dfa",
              "IPY_MODEL_5f0015f5be1642b0b4f51c35def814cf"
            ],
            "layout": "IPY_MODEL_640e2c17fb53481ab9b3669f4e17464e"
          }
        },
        "fdff2cbeba664fba96d846a5c31908de": {
          "model_module": "@jupyter-widgets/controls",
          "model_module_version": "1.5.0",
          "model_name": "ProgressStyleModel",
          "state": {
            "_model_module": "@jupyter-widgets/controls",
            "_model_module_version": "1.5.0",
            "_model_name": "ProgressStyleModel",
            "_view_count": null,
            "_view_module": "@jupyter-widgets/base",
            "_view_module_version": "1.2.0",
            "_view_name": "StyleView",
            "bar_color": null,
            "description_width": ""
          }
        },
        "feb789e211334d0b906fe82d839ab346": {
          "model_module": "@jupyter-widgets/controls",
          "model_module_version": "1.5.0",
          "model_name": "HTMLModel",
          "state": {
            "_dom_classes": [],
            "_model_module": "@jupyter-widgets/controls",
            "_model_module_version": "1.5.0",
            "_model_name": "HTMLModel",
            "_view_count": null,
            "_view_module": "@jupyter-widgets/controls",
            "_view_module_version": "1.5.0",
            "_view_name": "HTMLView",
            "description": "",
            "description_tooltip": null,
            "layout": "IPY_MODEL_d6c4ea2b85f745e1a768218f992c6313",
            "placeholder": "​",
            "style": "IPY_MODEL_5383f7fd1d2e4010ad17929048e3d030",
            "value": " 100173/100173 [00:00&lt;00:00, 380878.75 examples/s]"
          }
        },
        "fef09160773043268feb8cfd503976a3": {
          "model_module": "@jupyter-widgets/controls",
          "model_module_version": "1.5.0",
          "model_name": "ProgressStyleModel",
          "state": {
            "_model_module": "@jupyter-widgets/controls",
            "_model_module_version": "1.5.0",
            "_model_name": "ProgressStyleModel",
            "_view_count": null,
            "_view_module": "@jupyter-widgets/base",
            "_view_module_version": "1.2.0",
            "_view_name": "StyleView",
            "bar_color": null,
            "description_width": ""
          }
        },
        "ff2e7df7f15d4306b6ea89a805e5acf3": {
          "model_module": "@jupyter-widgets/controls",
          "model_module_version": "1.5.0",
          "model_name": "DescriptionStyleModel",
          "state": {
            "_model_module": "@jupyter-widgets/controls",
            "_model_module_version": "1.5.0",
            "_model_name": "DescriptionStyleModel",
            "_view_count": null,
            "_view_module": "@jupyter-widgets/base",
            "_view_module_version": "1.2.0",
            "_view_name": "StyleView",
            "description_width": ""
          }
        },
        "ffba86c118204d4d88755f6b7b7748e7": {
          "model_module": "@jupyter-widgets/base",
          "model_module_version": "1.2.0",
          "model_name": "LayoutModel",
          "state": {
            "_model_module": "@jupyter-widgets/base",
            "_model_module_version": "1.2.0",
            "_model_name": "LayoutModel",
            "_view_count": null,
            "_view_module": "@jupyter-widgets/base",
            "_view_module_version": "1.2.0",
            "_view_name": "LayoutView",
            "align_content": null,
            "align_items": null,
            "align_self": null,
            "border": null,
            "bottom": null,
            "display": null,
            "flex": null,
            "flex_flow": null,
            "grid_area": null,
            "grid_auto_columns": null,
            "grid_auto_flow": null,
            "grid_auto_rows": null,
            "grid_column": null,
            "grid_gap": null,
            "grid_row": null,
            "grid_template_areas": null,
            "grid_template_columns": null,
            "grid_template_rows": null,
            "height": null,
            "justify_content": null,
            "justify_items": null,
            "left": null,
            "margin": null,
            "max_height": null,
            "max_width": null,
            "min_height": null,
            "min_width": null,
            "object_fit": null,
            "object_position": null,
            "order": null,
            "overflow": null,
            "overflow_x": null,
            "overflow_y": null,
            "padding": null,
            "right": null,
            "top": null,
            "visibility": null,
            "width": null
          }
        },
        "ffbbdbf15e694c23bf5893d80042043f": {
          "model_module": "@jupyter-widgets/base",
          "model_module_version": "1.2.0",
          "model_name": "LayoutModel",
          "state": {
            "_model_module": "@jupyter-widgets/base",
            "_model_module_version": "1.2.0",
            "_model_name": "LayoutModel",
            "_view_count": null,
            "_view_module": "@jupyter-widgets/base",
            "_view_module_version": "1.2.0",
            "_view_name": "LayoutView",
            "align_content": null,
            "align_items": null,
            "align_self": null,
            "border": null,
            "bottom": null,
            "display": null,
            "flex": null,
            "flex_flow": null,
            "grid_area": null,
            "grid_auto_columns": null,
            "grid_auto_flow": null,
            "grid_auto_rows": null,
            "grid_column": null,
            "grid_gap": null,
            "grid_row": null,
            "grid_template_areas": null,
            "grid_template_columns": null,
            "grid_template_rows": null,
            "height": null,
            "justify_content": null,
            "justify_items": null,
            "left": null,
            "margin": null,
            "max_height": null,
            "max_width": null,
            "min_height": null,
            "min_width": null,
            "object_fit": null,
            "object_position": null,
            "order": null,
            "overflow": null,
            "overflow_x": null,
            "overflow_y": null,
            "padding": null,
            "right": null,
            "top": null,
            "visibility": null,
            "width": null
          }
        }
      }
    }
  },
  "nbformat": 4,
  "nbformat_minor": 0
}
